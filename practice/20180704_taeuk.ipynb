{
 "cells": [
  {
   "cell_type": "markdown",
   "metadata": {},
   "source": [
    "Average"
   ]
  },
  {
   "cell_type": "code",
   "execution_count": 3,
   "metadata": {},
   "outputs": [
    {
     "name": "stdout",
     "output_type": "stream",
     "text": [
      "3\n",
      "2\n",
      "1\n",
      "0\n",
      "[3, 2, 1]\n",
      "Average is  2.0\n"
     ]
    }
   ],
   "source": [
    "a = int(input())\n",
    "a_list = []\n",
    "while a != 0:\n",
    "    a_list.append(a)\n",
    "    a = int(input())\n",
    "    if a ==  0:\n",
    "        break\n",
    "print(a_list)\n",
    "if len(a_list) != 0:\n",
    "    print(\"Average is \", sum(a_list)/len(a_list))"
   ]
  },
  {
   "cell_type": "markdown",
   "metadata": {},
   "source": [
    "Temperature Conversion Table"
   ]
  },
  {
   "cell_type": "code",
   "execution_count": 4,
   "metadata": {},
   "outputs": [
    {
     "name": "stdout",
     "output_type": "stream",
     "text": [
      "섭씨\t 화씨\n",
      "0 \t 32.0\n",
      "10 \t 50.0\n",
      "20 \t 68.0\n",
      "30 \t 86.0\n",
      "40 \t 104.0\n",
      "50 \t 122.0\n",
      "60 \t 140.0\n",
      "70 \t 158.0\n",
      "80 \t 176.0\n",
      "90 \t 194.0\n",
      "100 \t 212.0\n"
     ]
    }
   ],
   "source": [
    "print(\"섭씨\\t 화씨\")\n",
    "for i in range(0,101, 10):\n",
    "    print( i, \"\\t\", i*1.8+32)"
   ]
  },
  {
   "cell_type": "markdown",
   "metadata": {},
   "source": [
    "Compute a Grade Point Average"
   ]
  },
  {
   "cell_type": "code",
   "execution_count": 5,
   "metadata": {},
   "outputs": [
    {
     "name": "stdout",
     "output_type": "stream",
     "text": [
      "A+\n",
      "A\n",
      "B+\n",
      "C-\n",
      "F\n",
      " \n",
      "[4, 4, 3.3, 1.7, 0]\n",
      "Average point is  2.6\n"
     ]
    }
   ],
   "source": [
    "a = input()\n",
    "a_list = []\n",
    "while a != ' ':\n",
    "    if a == ' ':\n",
    "        break\n",
    "    point = 0\n",
    "    if 'A' in a:\n",
    "        point = 4\n",
    "    elif 'B' in a:\n",
    "        point = 3\n",
    "    elif 'C' in a:\n",
    "        point = 2\n",
    "    elif 'D' in a:\n",
    "        point = 1\n",
    "    elif 'F' in a:\n",
    "        pass\n",
    "    if '+' in a and 'A' not in a and 'F' not in a:\n",
    "        point += 0.3\n",
    "    if '-' in a and 'D' not in a and 'F' not in a:\n",
    "        point -= 0.3\n",
    "    a_list.append(point)\n",
    "\n",
    "    a = input()\n",
    "\n",
    "print(a_list)\n",
    "print(\"Average point is \", sum(a_list)/len(a_list))"
   ]
  },
  {
   "cell_type": "markdown",
   "metadata": {},
   "source": [
    "Admission Price"
   ]
  },
  {
   "cell_type": "code",
   "execution_count": 6,
   "metadata": {},
   "outputs": [
    {
     "name": "stdout",
     "output_type": "stream",
     "text": [
      "손님의 나이 : 72\n",
      "손님의 나이 : 1\n",
      "손님의 나이 : 11\n",
      "손님의 나이 : 25\n",
      "손님의 나이 :  \n",
      "[18, 0, 14, 23]\n",
      "총 입장료는 $ 55.00입니다.\n"
     ]
    }
   ],
   "source": [
    "a = input(\"손님의 나이 : \")\n",
    "a_list = []\n",
    "while a != ' ':\n",
    "    if a == ' ':\n",
    "        break\n",
    "    a = int(a)\n",
    "    if a<0:\n",
    "        print(\"잘못된 입력입니다. 다시 입력해주세요\")\n",
    "    elif 0<=a<=2:\n",
    "        a_list.append(0)\n",
    "    elif 3<=a<=12:\n",
    "        a_list.append(14)\n",
    "    elif a>=65:\n",
    "        a_list.append(18)\n",
    "    else:\n",
    "        a_list.append(23)\n",
    "    a = input(\"손님의 나이 : \")\n",
    "print(a_list)\n",
    "print(\"총 입장료는 $ %.2f입니다.\" %sum(a_list))\n"
   ]
  },
  {
   "cell_type": "markdown",
   "metadata": {},
   "source": [
    "Is a String a Palindrome"
   ]
  },
  {
   "cell_type": "code",
   "execution_count": 7,
   "metadata": {},
   "outputs": [
    {
     "name": "stdout",
     "output_type": "stream",
     "text": [
      "단어를 입력해주세요 : tomato\n",
      "tomato\n",
      "otamot\n",
      "' tomato ' is not Palindrome\n"
     ]
    }
   ],
   "source": [
    "a = input(\"단어를 입력해주세요 : \")\n",
    "b = \"\"\n",
    "i = len(a)\n",
    "while i>0:\n",
    "    i-=1\n",
    "    b += a[i]\n",
    "print(a)\n",
    "print(b)\n",
    "if a == b :\n",
    "    print(\"'\",a,\"' is Palindrome\")\n",
    "else:\n",
    "    print(\"'\",a,\"' is not Palindrome\")"
   ]
  },
  {
   "cell_type": "markdown",
   "metadata": {},
   "source": [
    "Multiplication Table"
   ]
  },
  {
   "cell_type": "code",
   "execution_count": 8,
   "metadata": {},
   "outputs": [
    {
     "name": "stdout",
     "output_type": "stream",
     "text": [
      " \t1\t2\t3\t4\t5\t6\t7\t8\t9\t10\t\n",
      "\n",
      "1\t1\t2\t3\t4\t5\t6\t7\t8\t9\t10\t\n",
      "\n",
      "2\t2\t4\t6\t8\t10\t12\t14\t16\t18\t20\t\n",
      "\n",
      "3\t3\t6\t9\t12\t15\t18\t21\t24\t27\t30\t\n",
      "\n",
      "4\t4\t8\t12\t16\t20\t24\t28\t32\t36\t40\t\n",
      "\n",
      "5\t5\t10\t15\t20\t25\t30\t35\t40\t45\t50\t\n",
      "\n",
      "6\t6\t12\t18\t24\t30\t36\t42\t48\t54\t60\t\n",
      "\n",
      "7\t7\t14\t21\t28\t35\t42\t49\t56\t63\t70\t\n",
      "\n",
      "8\t8\t16\t24\t32\t40\t48\t56\t64\t72\t80\t\n",
      "\n",
      "9\t9\t18\t27\t36\t45\t54\t63\t72\t81\t90\t\n",
      "\n",
      "10\t10\t20\t30\t40\t50\t60\t70\t80\t90\t100\t\n",
      "\n"
     ]
    }
   ],
   "source": [
    "for i in range(0,11):\n",
    "    for j in range(1,11):\n",
    "        if j == 1:\n",
    "            if i == 0: \n",
    "                print(\" \\t\", end=\"\")\n",
    "            else:\n",
    "                print(\"%d\\t\"%i, end=\"\")\n",
    "        if i == 0:\n",
    "            print(\"%d\\t\"%j, end=\"\")\n",
    "        else:\n",
    "            print(\"%d\\t\"%(i*j), end=\"\")\n",
    "    print(\"\\n\")"
   ]
  },
  {
   "cell_type": "markdown",
   "metadata": {},
   "source": [
    "Greatest Common Divisor"
   ]
  },
  {
   "cell_type": "code",
   "execution_count": 9,
   "metadata": {},
   "outputs": [
    {
     "name": "stdout",
     "output_type": "stream",
     "text": [
      "숫자1 :8\n",
      "숫자2 :12\n",
      "최대공약수는 4이다!!\n"
     ]
    }
   ],
   "source": [
    "m = int(input(\"숫자1 :\"))\n",
    "n = int(input(\"숫자2 :\"))\n",
    "\n",
    "if m>n:\n",
    "    d = n\n",
    "else:\n",
    "    d = m\n",
    "answer = 0\n",
    "i = d\n",
    "while i >= 2//d:\n",
    "    i -= 1\n",
    "    if m % i == 0 and n % i == 0:\n",
    "        answer = i\n",
    "    if answer != 0:\n",
    "        break\n",
    "    \n",
    "print(\"최대공약수는 %d이다!!\"%answer)"
   ]
  },
  {
   "cell_type": "markdown",
   "metadata": {},
   "source": [
    "Binary to Decimal"
   ]
  },
  {
   "cell_type": "code",
   "execution_count": 10,
   "metadata": {},
   "outputs": [
    {
     "name": "stdout",
     "output_type": "stream",
     "text": [
      "1111\n",
      "Binary 1111 is converted to Decimal 15\n"
     ]
    }
   ],
   "source": [
    "a = input()\n",
    "a_len = len(a)\n",
    "decimal = 0\n",
    "for i in range(1,len(a)+1):\n",
    "    decimal += int(a[len(a)-i]) * (2**int(i-1))\n",
    "print(\"Binary\",a,\"is converted to Decimal %d\"%decimal)\n",
    "    \n",
    "    "
   ]
  },
  {
   "cell_type": "markdown",
   "metadata": {},
   "source": [
    "Decimal to Binary"
   ]
  },
  {
   "cell_type": "code",
   "execution_count": 11,
   "metadata": {},
   "outputs": [
    {
     "name": "stdout",
     "output_type": "stream",
     "text": [
      "18\n",
      "Decimal 18 is converted to Binary 10010\n"
     ]
    }
   ],
   "source": [
    "a = int(input())\n",
    "next_num = a\n",
    "binary = \"\"\n",
    "r = 0\n",
    "while next_num // 2 != 1:\n",
    "    r = next_num % 2\n",
    "    next_num = next_num // 2\n",
    "    binary = binary + str(r)\n",
    "binary =str(next_num//2) + str(next_num%2) + binary\n",
    "print(\"Decimal\",a,\"is converted to Binary\",binary)\n",
    "    "
   ]
  }
 ],
 "metadata": {
  "kernelspec": {
   "display_name": "Python 3",
   "language": "python",
   "name": "python3"
  },
  "language_info": {
   "codemirror_mode": {
    "name": "ipython",
    "version": 3
   },
   "file_extension": ".py",
   "mimetype": "text/x-python",
   "name": "python",
   "nbconvert_exporter": "python",
   "pygments_lexer": "ipython3",
   "version": "3.6.3"
  }
 },
 "nbformat": 4,
 "nbformat_minor": 2
}
