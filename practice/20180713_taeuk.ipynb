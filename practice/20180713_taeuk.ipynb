{
 "cells": [
  {
   "cell_type": "markdown",
   "metadata": {},
   "source": [
    "### 대기 공공데이터 받아와서 SQLite로 저장하기"
   ]
  },
  {
   "cell_type": "code",
   "execution_count": 13,
   "metadata": {
    "collapsed": true
   },
   "outputs": [],
   "source": [
    "import sqlite3"
   ]
  },
  {
   "cell_type": "code",
   "execution_count": 1,
   "metadata": {},
   "outputs": [
    {
     "data": {
      "text/plain": [
       "'\\nhttp://openapi.airkorea.or.kr/openapi/services/rest/ArpltnInforInqireSvc/getCtprvnRltmMesureDnsty?\\nserviceKey=DG70F1Dk%2FIJUVnoayuaFbCRKoAhow9pKpax5ofLJmBQG0EOMeos%2B1BiHE%2BE2zdrhQI%2BoiCdWNXHWLLoFzf0uPA%3D%3D\\n&numOfRows=10\\n&pageSize=10\\n&pageNo=1\\n&startPage=1\\n&sidoName=%EB%8C%80%EA%B5%AC\\n&ver=1.3\\n'"
      ]
     },
     "execution_count": 1,
     "metadata": {},
     "output_type": "execute_result"
    }
   ],
   "source": [
    "'''\n",
    "http://openapi.airkorea.or.kr/openapi/services/rest/ArpltnInforInqireSvc/getCtprvnRltmMesureDnsty?\n",
    "serviceKey=DG70F1Dk%2FIJUVnoayuaFbCRKoAhow9pKpax5ofLJmBQG0EOMeos%2B1BiHE%2BE2zdrhQI%2BoiCdWNXHWLLoFzf0uPA%3D%3D\n",
    "&numOfRows=10\n",
    "&pageSize=10\n",
    "&pageNo=1\n",
    "&startPage=1\n",
    "&sidoName=%EB%8C%80%EA%B5%AC\n",
    "&ver=1.3\n",
    "'''"
   ]
  },
  {
   "cell_type": "code",
   "execution_count": 2,
   "metadata": {
    "collapsed": true
   },
   "outputs": [],
   "source": [
    "params = {\n",
    "        \"serviceKey\" : \"DG70F1Dk%2FIJUVnoayuaFbCRKoAhow9pKpax5ofLJmBQG0EOMeos%2B1BiHE%2BE2zdrhQI%2BoiCdWNXHWLLoFzf0uPA%3D%3D\",\n",
    "        \"numOfRows\":10,\n",
    "        \"pageNo\":1,\n",
    "        \"sidoName\":None,\n",
    "        \"ver\":\"1.3\",\n",
    "        \"_returnType\":\"json\"\n",
    "}"
   ]
  },
  {
   "cell_type": "code",
   "execution_count": 3,
   "metadata": {
    "collapsed": true
   },
   "outputs": [],
   "source": [
    "params[\"sidoName\"]=\"대구\""
   ]
  },
  {
   "cell_type": "code",
   "execution_count": 4,
   "metadata": {
    "collapsed": true
   },
   "outputs": [],
   "source": [
    "url = \"http://openapi.airkorea.or.kr/openapi/services/rest/ArpltnInforInqireSvc/getCtprvnRltmMesureDnsty\"\n"
   ]
  },
  {
   "cell_type": "code",
   "execution_count": 5,
   "metadata": {
    "collapsed": true
   },
   "outputs": [],
   "source": [
    "import urllib\n",
    "from urllib import parse\n",
    "import json"
   ]
  },
  {
   "cell_type": "code",
   "execution_count": 6,
   "metadata": {
    "collapsed": true
   },
   "outputs": [],
   "source": [
    "params[\"serviceKey\"] = urllib.parse.unquote(params[\"serviceKey\"])"
   ]
  },
  {
   "cell_type": "code",
   "execution_count": 7,
   "metadata": {},
   "outputs": [
    {
     "data": {
      "text/plain": [
       "'serviceKey=DG70F1Dk%2FIJUVnoayuaFbCRKoAhow9pKpax5ofLJmBQG0EOMeos%2B1BiHE%2BE2zdrhQI%2BoiCdWNXHWLLoFzf0uPA%3D%3D&numOfRows=10&pageNo=1&sidoName=%EB%8C%80%EA%B5%AC&ver=1.3&_returnType=json'"
      ]
     },
     "execution_count": 7,
     "metadata": {},
     "output_type": "execute_result"
    }
   ],
   "source": [
    "paramUrl = parse.urlencode(params)\n",
    "paramUrl"
   ]
  },
  {
   "cell_type": "code",
   "execution_count": 8,
   "metadata": {
    "collapsed": true
   },
   "outputs": [],
   "source": [
    "paramBytes = paramUrl.encode(\"utf-8\")"
   ]
  },
  {
   "cell_type": "code",
   "execution_count": 9,
   "metadata": {
    "collapsed": true
   },
   "outputs": [],
   "source": [
    "req =  urllib.request.Request(url, data = paramBytes)\n",
    "res = urllib.request.urlopen(req)\n",
    "result = res.read()"
   ]
  },
  {
   "cell_type": "code",
   "execution_count": 10,
   "metadata": {
    "collapsed": true
   },
   "outputs": [],
   "source": [
    "resultStr = result.decode(\"utf-8\")"
   ]
  },
  {
   "cell_type": "code",
   "execution_count": 21,
   "metadata": {},
   "outputs": [
    {
     "data": {
      "text/plain": [
       "'json'"
      ]
     },
     "execution_count": 21,
     "metadata": {},
     "output_type": "execute_result"
    }
   ],
   "source": [
    "resultObj = json.loads(resultStr)\n",
    "resultObj['list']"
   ]
  },
  {
   "cell_type": "code",
   "execution_count": 14,
   "metadata": {
    "collapsed": true
   },
   "outputs": [],
   "source": [
    "conn = sqlite3.connect('0713.db') # DB connection"
   ]
  },
  {
   "cell_type": "code",
   "execution_count": 15,
   "metadata": {
    "collapsed": true
   },
   "outputs": [],
   "source": [
    "cur = conn.cursor() # connection에 대한 cursor"
   ]
  },
  {
   "cell_type": "code",
   "execution_count": 22,
   "metadata": {},
   "outputs": [
    {
     "data": {
      "text/plain": [
       "<sqlite3.Cursor at 0x23d974c23b0>"
      ]
     },
     "execution_count": 22,
     "metadata": {},
     "output_type": "execute_result"
    }
   ],
   "source": [
    "cur.executescript(\"\"\"\n",
    "create table Air_condition(\n",
    "    id integer not null primary key autoincrement unique,\n",
    "    _returnType text,\n",
    "    coGrade text,\n",
    "    coValue text,\n",
    "    dataTerm text,\n",
    "    dataTime text,\n",
    "    khaiGrade text,\n",
    "    khaiValue text,\n",
    "    mangName text,\n",
    "    no2Grade text,\n",
    "    no2Value text,\n",
    "    numOfRows text,\n",
    "    o3Grade text,\n",
    "    o3Value text,\n",
    "    pageNo text,\n",
    "    pm10Grade text,\n",
    "    pm10Grade1h text,\n",
    "    pm10Value text,\n",
    "    pm10Value24 text,\n",
    "    pm25Grade text,\n",
    "    pm25Grade1h text,\n",
    "    pm25Value text,\n",
    "    pm25Value24 text,\n",
    "    resultCode text,\n",
    "    resultMsg text,\n",
    "    rnum text,\n",
    "    serviceKey text,\n",
    "    sidoName text,\n",
    "    so2Grade text,\n",
    "    so2Value text,\n",
    "    stationCode text,\n",
    "    stationName text,\n",
    "    totalCount text,\n",
    "    ver text\n",
    "    );\n",
    "\"\"\")"
   ]
  },
  {
   "cell_type": "code",
   "execution_count": 28,
   "metadata": {},
   "outputs": [
    {
     "data": {
      "text/plain": [
       "<sqlite3.Cursor at 0x23d974c23b0>"
      ]
     },
     "execution_count": 28,
     "metadata": {},
     "output_type": "execute_result"
    }
   ],
   "source": [
    "keys = ['_returnType', 'coGrade', 'coValue', 'dataTerm', 'dataTime', 'khaiGrade', 'khaiValue', 'mangName', 'no2Grade', 'no2Value', 'numOfRows', 'o3Grade', 'o3Value', 'pageNo', 'pm10Grade', 'pm10Grade1h', 'pm10Value', 'pm10Value24', 'pm25Grade', 'pm25Grade1h', 'pm25Value', 'pm25Value24', 'resultCode', 'resultMsg', 'rnum', 'serviceKey', 'sidoName', 'so2Grade', 'so2Value', 'stationCode', 'stationName', 'totalCount', 'ver']\n",
    "value_list = []\n",
    "for i in resultObj['list']:\n",
    "    temp_list = []\n",
    "    for j in keys:\n",
    "        temp_list.append(i[j])\n",
    "    value_list.append(temp_list)\n",
    "value_list\n",
    "        \n",
    "cur.executemany(\n",
    "\"insert into Air_condition (_returnType, coGrade, coValue, dataTerm, dataTime, khaiGrade, khaiValue, mangName, no2Grade, no2Value, numOfRows, o3Grade, o3Value, pageNo, pm10Grade, pm10Grade1h, pm10Value, pm10Value24, pm25Grade, pm25Grade1h, pm25Value, pm25Value24, resultCode, resultMsg, rnum, serviceKey, sidoName, so2Grade, so2Value, stationCode, stationName, totalCount, ver) values (?,?,?,?,?,?,?,?,?,?,?,?,?,?,?,?,?,?,?,?,?,?,?,?,?,?,?,?,?,?,?,?,?)\",\n",
    "    (value_list))"
   ]
  },
  {
   "cell_type": "code",
   "execution_count": 29,
   "metadata": {},
   "outputs": [
    {
     "data": {
      "text/plain": [
       "<sqlite3.Cursor at 0x23d974c23b0>"
      ]
     },
     "execution_count": 29,
     "metadata": {},
     "output_type": "execute_result"
    }
   ],
   "source": [
    "cur.execute(\"select * from Air_condition\")"
   ]
  },
  {
   "cell_type": "code",
   "execution_count": 30,
   "metadata": {},
   "outputs": [
    {
     "name": "stdout",
     "output_type": "stream",
     "text": [
      "[(1, 'json', '1', '0.1', '', '2018-07-22 17:00', '1', '50', '도시대기', '1', '0.007', '10', '1', '0.030', '1', '1', '1', '16', '20', '1', '1', '9', '10', '', '', '0', '', '', '1', '0.001', '', '수창동', '', ''), (2, 'json', '1', '0.3', '', '2018-07-22 17:00', '2', '55', '도시대기', '1', '0.002', '10', '2', '0.036', '1', '1', '1', '15', '15', '1', '1', '6', '8', '', '', '0', '', '', '1', '0.002', '', '지산동', '', ''), (3, 'json', '1', '0.3', '', '2018-07-22 17:00', '2', '53', '도시대기', '1', '0.005', '10', '2', '0.033', '1', '1', '1', '14', '17', '1', '1', '12', '14', '', '', '0', '', '', '1', '0.002', '', '서호동', '', ''), (4, 'json', '1', '0.1', '', '2018-07-22 17:00', '2', '57', '도시대기', '1', '0.006', '10', '2', '0.038', '1', '1', '1', '23', '23', '1', '1', '11', '12', '', '', '0', '', '', '1', '0.003', '', '이현동', '', ''), (5, 'json', '1', '0.3', '', '2018-07-22 17:00', '2', '52', '도로변대기', '1', '0.009', '10', '2', '0.032', '1', '1', '1', '24', '29', '1', '1', '13', '13', '', '', '0', '', '', '1', '0.003', '', '평리동', '', ''), (6, 'json', '1', '0.1', '', '2018-07-22 17:00', '2', '58', '도시대기', '1', '0.003', '10', '2', '0.039', '1', '1', '1', '20', '18', '1', '1', '11', '11', '', '', '0', '', '', '1', '0.002', '', '대명동', '', ''), (7, 'json', '1', '0.1', '', '2018-07-22 17:00', '2', '52', '도시대기', '1', '0.005', '10', '2', '0.032', '1', '1', '1', '18', '20', '1', '1', '15', '15', '', '', '0', '', '', '1', '0.003', '', '노원동', '', ''), (8, 'json', '1', '0.2', '', '2018-07-22 17:00', '2', '53', '도시대기', '1', '0.002', '10', '2', '0.033', '1', '1', '1', '14', '18', '1', '1', '11', '11', '', '', '0', '', '', '1', '0.002', '', '신암동', '', ''), (9, 'json', '1', '0.4', '', '2018-07-22 17:00', '1', '40', '도시대기', '1', '0.005', '10', '1', '0.002', '1', '1', '1', '17', '16', '1', '1', '12', '12', '', '', '0', '', '', '1', '0.003', '', '태전동', '', ''), (10, 'json', '1', '0.1', '', '2018-07-22 17:00', '2', '56', '도시대기', '1', '0.003', '10', '2', '0.037', '1', '1', '1', '13', '15', '1', '1', '6', '10', '', '', '0', '', '', '1', '0.002', '', '만촌동', '', '')]\n"
     ]
    }
   ],
   "source": [
    "print(cur.fetchall())"
   ]
  }
 ],
 "metadata": {
  "kernelspec": {
   "display_name": "Python 3",
   "language": "python",
   "name": "python3"
  },
  "language_info": {
   "codemirror_mode": {
    "name": "ipython",
    "version": 3
   },
   "file_extension": ".py",
   "mimetype": "text/x-python",
   "name": "python",
   "nbconvert_exporter": "python",
   "pygments_lexer": "ipython3",
   "version": "3.6.3"
  }
 },
 "nbformat": 4,
 "nbformat_minor": 2
}
