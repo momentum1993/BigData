{
 "cells": [
  {
   "cell_type": "markdown",
   "metadata": {},
   "source": [
    "105 Reverse Order"
   ]
  },
  {
   "cell_type": "code",
   "execution_count": 17,
   "metadata": {},
   "outputs": [
    {
     "name": "stdout",
     "output_type": "stream",
     "text": [
      "3\n",
      "5\n",
      "2\n",
      "0\n",
      "[5, 3, 2]\n"
     ]
    }
   ],
   "source": [
    "a_list = []\n",
    "a = input()\n",
    "while int(a) != 0:\n",
    "    a_list.append(int(a))\n",
    "    a = input()\n",
    "a_list.sort(reverse=True)\n",
    "print(a_list)"
   ]
  },
  {
   "cell_type": "markdown",
   "metadata": {
    "collapsed": true
   },
   "source": [
    "107 Avoiding Duplicates"
   ]
  },
  {
   "cell_type": "code",
   "execution_count": 26,
   "metadata": {},
   "outputs": [
    {
     "name": "stdout",
     "output_type": "stream",
     "text": [
      "first\n",
      "second\n",
      "third\n",
      "second\n",
      "first\n",
      " \n",
      "first\n",
      "second\n",
      "third\n"
     ]
    }
   ],
   "source": [
    "a_list = list()\n",
    "a = input()\n",
    "while a != ' ':\n",
    "    if a in a_list:\n",
    "        pass\n",
    "    else:\n",
    "        a_list.append(a)\n",
    "    a = input()\n",
    "for i in a_list:\n",
    "    print(i)"
   ]
  },
  {
   "cell_type": "markdown",
   "metadata": {},
   "source": [
    "108 Negatives, Zeros and Positives"
   ]
  },
  {
   "cell_type": "code",
   "execution_count": 48,
   "metadata": {
    "scrolled": true
   },
   "outputs": [
    {
     "name": "stdout",
     "output_type": "stream",
     "text": [
      "3\n",
      "-2\n",
      "0\n",
      "5\n",
      "-2\n",
      "5\n",
      "0\n",
      " \n",
      "[-2, -2, 0, 0, 5, 5]\n"
     ]
    }
   ],
   "source": [
    "neg_list = list()\n",
    "zero_list = list()\n",
    "pos_list = list()\n",
    "a_list = []\n",
    "\n",
    "a = int(input())\n",
    "while a != ' ':\n",
    "    a = input()\n",
    "    if (a == ' '):\n",
    "        break;\n",
    "    else:\n",
    "        a = int(a)\n",
    "    if a>0:\n",
    "        pos_list.append(a)\n",
    "    elif a == 0:\n",
    "        zero_list.append(a)\n",
    "    else:\n",
    "        neg_list.append(a)\n",
    "        \n",
    "a_list = neg_list + zero_list + pos_list\n",
    "\n",
    "print(a_list)"
   ]
  },
  {
   "cell_type": "markdown",
   "metadata": {},
   "source": [
    "Perfect Numbers"
   ]
  },
  {
   "cell_type": "code",
   "execution_count": 45,
   "metadata": {},
   "outputs": [
    {
     "name": "stdout",
     "output_type": "stream",
     "text": [
      "숫자를 입력해주세요 : 28\n",
      "It is Perfect Number\n"
     ]
    }
   ],
   "source": [
    "a = input(\"숫자를 입력해주세요 : \")\n",
    "a_list = []\n",
    "for i in range(1, int(a)):\n",
    "    if int(a) % i == 0:\n",
    "        a_list.append(i)\n",
    "a_sum = 0\n",
    "for i in a_list:\n",
    "    a_sum += i\n",
    "\n",
    "if a_sum == int(a):\n",
    "    print(\"It is Perfect Number\")\n",
    "else:\n",
    "    print(\"It is not Perfect Number\")"
   ]
  },
  {
   "cell_type": "markdown",
   "metadata": {},
   "source": [
    "Formatting a List"
   ]
  },
  {
   "cell_type": "code",
   "execution_count": 16,
   "metadata": {},
   "outputs": [
    {
     "name": "stdout",
     "output_type": "stream",
     "text": [
      "orange\n",
      "kiwi\n",
      "lemon\n",
      " \n",
      "orange, kiwi and lemon\n"
     ]
    }
   ],
   "source": [
    "a_list = list()\n",
    "a = input()\n",
    "while a != ' ':\n",
    "    if a in a_list:\n",
    "        pass\n",
    "    else:\n",
    "        a_list.append(a)\n",
    "    a = input()\n",
    "    \n",
    "a_str = \"\"\n",
    "for i in range(0,len(a_list)):\n",
    "    if i > 0:\n",
    "        if i == len(a_list) - 1 :\n",
    "            a_str += ' and '\n",
    "        else:\n",
    "            a_str += ', '\n",
    "    a_str += a_list[i]\n",
    "print(a_str)"
   ]
  },
  {
   "cell_type": "code",
   "execution_count": 8,
   "metadata": {},
   "outputs": [
    {
     "name": "stdout",
     "output_type": "stream",
     "text": [
      "one\n",
      "two\n",
      "three\n",
      " \n",
      "one, two and three\n"
     ]
    }
   ],
   "source": [
    "a_list = list()\n",
    "a = input()\n",
    "while a != ' ':\n",
    "    if a in a_list:\n",
    "        pass\n",
    "    else:\n",
    "        a_list.append(a)\n",
    "    a = input()\n",
    "    \n",
    "a_str = \"\"\n",
    "for i in range(0,len(a_list)):\n",
    "    if i > 0:\n",
    "        if i == len(a_list) - 1 :\n",
    "            a_str += ' and '\n",
    "        else:dd\n",
    "            a_str += ', '\n",
    "    a_str += a_list[i]\n",
    "print(a_str)"
   ]
  },
  {
   "cell_type": "markdown",
   "metadata": {},
   "source": [
    "Random Lottery Numbers"
   ]
  },
  {
   "cell_type": "code",
   "execution_count": 15,
   "metadata": {},
   "outputs": [
    {
     "name": "stdout",
     "output_type": "stream",
     "text": [
      "[14, 29, 33, 37, 39, 47]\n"
     ]
    }
   ],
   "source": [
    "from random import *\n",
    "\n",
    "a_list = []\n",
    "\n",
    "for i in range(6):\n",
    "    a_len = len(a_list)\n",
    "    while a_len == len(a_list):\n",
    "        num = randint(1,49)\n",
    "        if num not in  a_list:\n",
    "            a_list.append(num)    \n",
    "\n",
    "a_list.sort()\n",
    "print(a_list)"
   ]
  },
  {
   "cell_type": "markdown",
   "metadata": {},
   "source": [
    "Unique Characters"
   ]
  },
  {
   "cell_type": "code",
   "execution_count": 26,
   "metadata": {},
   "outputs": [
    {
     "name": "stdout",
     "output_type": "stream",
     "text": [
      "Hello, World!\n",
      "문자 개수 :  10\n"
     ]
    }
   ],
   "source": [
    "a_str = input()\n",
    "a_set = set()\n",
    "for i in a_str:\n",
    "    a_set.add(i)\n",
    "print(\"문자 개수 : \", len(a_set))"
   ]
  },
  {
   "cell_type": "markdown",
   "metadata": {},
   "source": [
    "Anagrams"
   ]
  },
  {
   "cell_type": "code",
   "execution_count": 37,
   "metadata": {},
   "outputs": [
    {
     "name": "stdout",
     "output_type": "stream",
     "text": [
      "단어1 입력 : live\n",
      "단어2 입력 : live\n",
      "Anagram이 아닙니다.\n"
     ]
    }
   ],
   "source": [
    "a = input(\"단어1 입력 : \")\n",
    "b = input(\"단어2 입력 : \")\n",
    "a_dict = {}\n",
    "b_dict = {}\n",
    "\n",
    "Anagram = True\n",
    "for i in a:\n",
    "    if i in a_dict.keys():\n",
    "        a_dict[i] = a_dict[i] + 1\n",
    "    else:\n",
    "        a_dict[i] = 1\n",
    "for i in b:\n",
    "    if i in b_dict.keys():\n",
    "        b_dict[i] = b_dict[i] + 1\n",
    "    else:\n",
    "        b_dict[i] = 1\n",
    "if(a_dict.keys() == b_dict.keys()):\n",
    "    for i in a_dict.keys():\n",
    "        if a_dict[i] !=  b_dict[i] : \n",
    "            Anagram = False\n",
    "if(a == b):\n",
    "    Anagram = False\n",
    "    \n",
    "if(Anagram):\n",
    "    print(\"Anagram입니다.\")\n",
    "else:\n",
    "    print(\"Anagram이 아닙니다.\")\n",
    "    \n",
    " "
   ]
  },
  {
   "cell_type": "code",
   "execution_count": null,
   "metadata": {
    "collapsed": true
   },
   "outputs": [],
   "source": []
  }
 ],
 "metadata": {
  "kernelspec": {
   "display_name": "Python 3",
   "language": "python",
   "name": "python3"
  },
  "language_info": {
   "codemirror_mode": {
    "name": "ipython",
    "version": 3
   },
   "file_extension": ".py",
   "mimetype": "text/x-python",
   "name": "python",
   "nbconvert_exporter": "python",
   "pygments_lexer": "ipython3",
   "version": "3.6.3"
  }
 },
 "nbformat": 4,
 "nbformat_minor": 2
}
