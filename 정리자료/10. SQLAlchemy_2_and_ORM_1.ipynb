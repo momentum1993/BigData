{
 "cells": [
  {
   "cell_type": "markdown",
   "metadata": {},
   "source": [
    "# SQLAlchemy and ORM"
   ]
  },
  {
   "cell_type": "markdown",
   "metadata": {},
   "source": [
    "##  SQLAlchemy"
   ]
  },
  {
   "cell_type": "markdown",
   "metadata": {},
   "source": [
    "### 이전에 만들어 놓은 DB Loading"
   ]
  },
  {
   "cell_type": "code",
   "execution_count": 1,
   "metadata": {
    "collapsed": true
   },
   "outputs": [],
   "source": [
    "from sqlalchemy import create_engine, MetaData"
   ]
  },
  {
   "cell_type": "code",
   "execution_count": 2,
   "metadata": {
    "collapsed": true
   },
   "outputs": [],
   "source": [
    "engine = create_engine(\"sqlite:///mydb.db\", echo=True)\n",
    "# 바로 전 chapter에서 생성해놓은 mydb를 불러온다."
   ]
  },
  {
   "cell_type": "code",
   "execution_count": 3,
   "metadata": {},
   "outputs": [
    {
     "name": "stdout",
     "output_type": "stream",
     "text": [
      "2018-10-08 18:43:30,061 INFO sqlalchemy.engine.base.Engine SELECT CAST('test plain returns' AS VARCHAR(60)) AS anon_1\n",
      "2018-10-08 18:43:30,089 INFO sqlalchemy.engine.base.Engine ()\n",
      "2018-10-08 18:43:30,099 INFO sqlalchemy.engine.base.Engine SELECT CAST('test unicode returns' AS VARCHAR(60)) AS anon_1\n",
      "2018-10-08 18:43:30,103 INFO sqlalchemy.engine.base.Engine ()\n"
     ]
    }
   ],
   "source": [
    "conn = engine.connect() # 엔진에 connection을 준다."
   ]
  },
  {
   "cell_type": "code",
   "execution_count": 4,
   "metadata": {},
   "outputs": [
    {
     "name": "stdout",
     "output_type": "stream",
     "text": [
      "2018-10-08 18:43:30,748 INFO sqlalchemy.engine.base.Engine SELECT name FROM sqlite_master WHERE type='table' ORDER BY name\n",
      "2018-10-08 18:43:30,750 INFO sqlalchemy.engine.base.Engine ()\n",
      "2018-10-08 18:43:30,757 INFO sqlalchemy.engine.base.Engine PRAGMA table_info(\"Album\")\n",
      "2018-10-08 18:43:30,759 INFO sqlalchemy.engine.base.Engine ()\n",
      "2018-10-08 18:43:30,764 INFO sqlalchemy.engine.base.Engine SELECT sql FROM  (SELECT * FROM sqlite_master UNION ALL   SELECT * FROM sqlite_temp_master) WHERE name = 'Album' AND type = 'table'\n",
      "2018-10-08 18:43:30,766 INFO sqlalchemy.engine.base.Engine ()\n",
      "2018-10-08 18:43:30,770 INFO sqlalchemy.engine.base.Engine PRAGMA foreign_key_list(\"Album\")\n",
      "2018-10-08 18:43:30,772 INFO sqlalchemy.engine.base.Engine ()\n",
      "2018-10-08 18:43:30,775 INFO sqlalchemy.engine.base.Engine SELECT sql FROM  (SELECT * FROM sqlite_master UNION ALL   SELECT * FROM sqlite_temp_master) WHERE name = 'Album' AND type = 'table'\n",
      "2018-10-08 18:43:30,776 INFO sqlalchemy.engine.base.Engine ()\n",
      "2018-10-08 18:43:30,786 INFO sqlalchemy.engine.base.Engine PRAGMA table_info(\"Artist\")\n",
      "2018-10-08 18:43:30,788 INFO sqlalchemy.engine.base.Engine ()\n",
      "2018-10-08 18:43:30,791 INFO sqlalchemy.engine.base.Engine SELECT sql FROM  (SELECT * FROM sqlite_master UNION ALL   SELECT * FROM sqlite_temp_master) WHERE name = 'Artist' AND type = 'table'\n",
      "2018-10-08 18:43:30,793 INFO sqlalchemy.engine.base.Engine ()\n",
      "2018-10-08 18:43:30,796 INFO sqlalchemy.engine.base.Engine PRAGMA foreign_key_list(\"Artist\")\n",
      "2018-10-08 18:43:30,798 INFO sqlalchemy.engine.base.Engine ()\n",
      "2018-10-08 18:43:30,801 INFO sqlalchemy.engine.base.Engine SELECT sql FROM  (SELECT * FROM sqlite_master UNION ALL   SELECT * FROM sqlite_temp_master) WHERE name = 'Artist' AND type = 'table'\n",
      "2018-10-08 18:43:30,803 INFO sqlalchemy.engine.base.Engine ()\n",
      "2018-10-08 18:43:30,805 INFO sqlalchemy.engine.base.Engine PRAGMA index_list(\"Artist\")\n",
      "2018-10-08 18:43:30,807 INFO sqlalchemy.engine.base.Engine ()\n",
      "2018-10-08 18:43:30,810 INFO sqlalchemy.engine.base.Engine PRAGMA index_list(\"Artist\")\n",
      "2018-10-08 18:43:30,812 INFO sqlalchemy.engine.base.Engine ()\n",
      "2018-10-08 18:43:30,815 INFO sqlalchemy.engine.base.Engine SELECT sql FROM  (SELECT * FROM sqlite_master UNION ALL   SELECT * FROM sqlite_temp_master) WHERE name = 'Artist' AND type = 'table'\n",
      "2018-10-08 18:43:30,817 INFO sqlalchemy.engine.base.Engine ()\n",
      "2018-10-08 18:43:30,825 INFO sqlalchemy.engine.base.Engine PRAGMA index_list(\"Album\")\n",
      "2018-10-08 18:43:30,826 INFO sqlalchemy.engine.base.Engine ()\n",
      "2018-10-08 18:43:30,829 INFO sqlalchemy.engine.base.Engine PRAGMA index_list(\"Album\")\n",
      "2018-10-08 18:43:30,831 INFO sqlalchemy.engine.base.Engine ()\n",
      "2018-10-08 18:43:30,834 INFO sqlalchemy.engine.base.Engine SELECT sql FROM  (SELECT * FROM sqlite_master UNION ALL   SELECT * FROM sqlite_temp_master) WHERE name = 'Album' AND type = 'table'\n",
      "2018-10-08 18:43:30,836 INFO sqlalchemy.engine.base.Engine ()\n",
      "2018-10-08 18:43:30,840 INFO sqlalchemy.engine.base.Engine PRAGMA table_info(\"Genre\")\n",
      "2018-10-08 18:43:30,843 INFO sqlalchemy.engine.base.Engine ()\n",
      "2018-10-08 18:43:30,848 INFO sqlalchemy.engine.base.Engine SELECT sql FROM  (SELECT * FROM sqlite_master UNION ALL   SELECT * FROM sqlite_temp_master) WHERE name = 'Genre' AND type = 'table'\n",
      "2018-10-08 18:43:30,849 INFO sqlalchemy.engine.base.Engine ()\n",
      "2018-10-08 18:43:30,853 INFO sqlalchemy.engine.base.Engine PRAGMA foreign_key_list(\"Genre\")\n",
      "2018-10-08 18:43:30,854 INFO sqlalchemy.engine.base.Engine ()\n",
      "2018-10-08 18:43:30,857 INFO sqlalchemy.engine.base.Engine SELECT sql FROM  (SELECT * FROM sqlite_master UNION ALL   SELECT * FROM sqlite_temp_master) WHERE name = 'Genre' AND type = 'table'\n",
      "2018-10-08 18:43:30,858 INFO sqlalchemy.engine.base.Engine ()\n",
      "2018-10-08 18:43:30,862 INFO sqlalchemy.engine.base.Engine PRAGMA index_list(\"Genre\")\n",
      "2018-10-08 18:43:30,865 INFO sqlalchemy.engine.base.Engine ()\n",
      "2018-10-08 18:43:30,869 INFO sqlalchemy.engine.base.Engine PRAGMA index_list(\"Genre\")\n",
      "2018-10-08 18:43:30,871 INFO sqlalchemy.engine.base.Engine ()\n",
      "2018-10-08 18:43:30,873 INFO sqlalchemy.engine.base.Engine SELECT sql FROM  (SELECT * FROM sqlite_master UNION ALL   SELECT * FROM sqlite_temp_master) WHERE name = 'Genre' AND type = 'table'\n",
      "2018-10-08 18:43:30,875 INFO sqlalchemy.engine.base.Engine ()\n",
      "2018-10-08 18:43:30,886 INFO sqlalchemy.engine.base.Engine PRAGMA table_info(\"Track\")\n",
      "2018-10-08 18:43:30,888 INFO sqlalchemy.engine.base.Engine ()\n",
      "2018-10-08 18:43:30,893 INFO sqlalchemy.engine.base.Engine SELECT sql FROM  (SELECT * FROM sqlite_master UNION ALL   SELECT * FROM sqlite_temp_master) WHERE name = 'Track' AND type = 'table'\n",
      "2018-10-08 18:43:30,895 INFO sqlalchemy.engine.base.Engine ()\n",
      "2018-10-08 18:43:30,898 INFO sqlalchemy.engine.base.Engine PRAGMA foreign_key_list(\"Track\")\n",
      "2018-10-08 18:43:30,900 INFO sqlalchemy.engine.base.Engine ()\n",
      "2018-10-08 18:43:30,902 INFO sqlalchemy.engine.base.Engine SELECT sql FROM  (SELECT * FROM sqlite_master UNION ALL   SELECT * FROM sqlite_temp_master) WHERE name = 'Track' AND type = 'table'\n",
      "2018-10-08 18:43:30,904 INFO sqlalchemy.engine.base.Engine ()\n",
      "2018-10-08 18:43:30,908 INFO sqlalchemy.engine.base.Engine PRAGMA index_list(\"Track\")\n",
      "2018-10-08 18:43:30,910 INFO sqlalchemy.engine.base.Engine ()\n",
      "2018-10-08 18:43:30,913 INFO sqlalchemy.engine.base.Engine PRAGMA index_list(\"Track\")\n",
      "2018-10-08 18:43:30,915 INFO sqlalchemy.engine.base.Engine ()\n",
      "2018-10-08 18:43:30,918 INFO sqlalchemy.engine.base.Engine SELECT sql FROM  (SELECT * FROM sqlite_master UNION ALL   SELECT * FROM sqlite_temp_master) WHERE name = 'Track' AND type = 'table'\n",
      "2018-10-08 18:43:30,920 INFO sqlalchemy.engine.base.Engine ()\n",
      "2018-10-08 18:43:30,923 INFO sqlalchemy.engine.base.Engine PRAGMA table_info(\"addresses\")\n",
      "2018-10-08 18:43:30,926 INFO sqlalchemy.engine.base.Engine ()\n",
      "2018-10-08 18:43:30,930 INFO sqlalchemy.engine.base.Engine SELECT sql FROM  (SELECT * FROM sqlite_master UNION ALL   SELECT * FROM sqlite_temp_master) WHERE name = 'addresses' AND type = 'table'\n",
      "2018-10-08 18:43:30,933 INFO sqlalchemy.engine.base.Engine ()\n",
      "2018-10-08 18:43:30,936 INFO sqlalchemy.engine.base.Engine PRAGMA foreign_key_list(\"addresses\")\n",
      "2018-10-08 18:43:30,939 INFO sqlalchemy.engine.base.Engine ()\n",
      "2018-10-08 18:43:30,943 INFO sqlalchemy.engine.base.Engine SELECT sql FROM  (SELECT * FROM sqlite_master UNION ALL   SELECT * FROM sqlite_temp_master) WHERE name = 'addresses' AND type = 'table'\n"
     ]
    },
    {
     "name": "stderr",
     "output_type": "stream",
     "text": [
      "D:\\Anaconda3\\lib\\site-packages\\ipykernel_launcher.py:1: SADeprecationWarning: reflect=True is deprecate; please use the reflect() method.\n",
      "  \"\"\"Entry point for launching an IPython kernel.\n"
     ]
    },
    {
     "name": "stdout",
     "output_type": "stream",
     "text": [
      "2018-10-08 18:43:30,945 INFO sqlalchemy.engine.base.Engine ()\n",
      "2018-10-08 18:43:30,950 INFO sqlalchemy.engine.base.Engine PRAGMA table_info(\"users\")\n",
      "2018-10-08 18:43:30,952 INFO sqlalchemy.engine.base.Engine ()\n",
      "2018-10-08 18:43:30,956 INFO sqlalchemy.engine.base.Engine SELECT sql FROM  (SELECT * FROM sqlite_master UNION ALL   SELECT * FROM sqlite_temp_master) WHERE name = 'users' AND type = 'table'\n",
      "2018-10-08 18:43:30,958 INFO sqlalchemy.engine.base.Engine ()\n",
      "2018-10-08 18:43:30,961 INFO sqlalchemy.engine.base.Engine PRAGMA foreign_key_list(\"users\")\n",
      "2018-10-08 18:43:30,963 INFO sqlalchemy.engine.base.Engine ()\n",
      "2018-10-08 18:43:30,966 INFO sqlalchemy.engine.base.Engine SELECT sql FROM  (SELECT * FROM sqlite_master UNION ALL   SELECT * FROM sqlite_temp_master) WHERE name = 'users' AND type = 'table'\n",
      "2018-10-08 18:43:30,969 INFO sqlalchemy.engine.base.Engine ()\n",
      "2018-10-08 18:43:30,972 INFO sqlalchemy.engine.base.Engine PRAGMA index_list(\"users\")\n",
      "2018-10-08 18:43:30,974 INFO sqlalchemy.engine.base.Engine ()\n",
      "2018-10-08 18:43:30,977 INFO sqlalchemy.engine.base.Engine PRAGMA index_list(\"users\")\n",
      "2018-10-08 18:43:30,981 INFO sqlalchemy.engine.base.Engine ()\n",
      "2018-10-08 18:43:30,984 INFO sqlalchemy.engine.base.Engine SELECT sql FROM  (SELECT * FROM sqlite_master UNION ALL   SELECT * FROM sqlite_temp_master) WHERE name = 'users' AND type = 'table'\n",
      "2018-10-08 18:43:30,986 INFO sqlalchemy.engine.base.Engine ()\n",
      "2018-10-08 18:43:30,990 INFO sqlalchemy.engine.base.Engine PRAGMA index_list(\"addresses\")\n",
      "2018-10-08 18:43:30,992 INFO sqlalchemy.engine.base.Engine ()\n",
      "2018-10-08 18:43:30,995 INFO sqlalchemy.engine.base.Engine PRAGMA index_list(\"addresses\")\n",
      "2018-10-08 18:43:30,997 INFO sqlalchemy.engine.base.Engine ()\n",
      "2018-10-08 18:43:31,000 INFO sqlalchemy.engine.base.Engine SELECT sql FROM  (SELECT * FROM sqlite_master UNION ALL   SELECT * FROM sqlite_temp_master) WHERE name = 'addresses' AND type = 'table'\n",
      "2018-10-08 18:43:31,002 INFO sqlalchemy.engine.base.Engine ()\n"
     ]
    }
   ],
   "source": [
    "metadata = MetaData(bind=engine, reflect=True) # metadata 생성\n",
    "#미리 저장해둔 테이블 및 스키마들 가져옴"
   ]
  },
  {
   "cell_type": "code",
   "execution_count": 5,
   "metadata": {},
   "outputs": [
    {
     "name": "stdout",
     "output_type": "stream",
     "text": [
      "2018-10-08 18:43:31,382 INFO sqlalchemy.engine.base.Engine SELECT name FROM sqlite_master WHERE type='table' ORDER BY name\n",
      "2018-10-08 18:43:31,387 INFO sqlalchemy.engine.base.Engine ()\n"
     ]
    }
   ],
   "source": [
    "metadata.reflect(bind=engine) #reflect() 함수를 통해 reflect함.\n",
    "#현재 메타데이터에는 바인딩한 테이블들이 있을 것이다."
   ]
  },
  {
   "cell_type": "code",
   "execution_count": 6,
   "metadata": {},
   "outputs": [
    {
     "name": "stdout",
     "output_type": "stream",
     "text": [
      "Album\n",
      "Artist\n",
      "Genre\n",
      "Track\n",
      "addresses\n",
      "users\n"
     ]
    }
   ],
   "source": [
    "for row in metadata.tables:\n",
    "    print(row) #테이블들을 갖고옴."
   ]
  },
  {
   "cell_type": "code",
   "execution_count": 7,
   "metadata": {
    "collapsed": true
   },
   "outputs": [],
   "source": [
    "album = metadata.tables[\"Album\"] # metadata의 \"Album\" 테이블을 갖고 온다."
   ]
  },
  {
   "cell_type": "code",
   "execution_count": 8,
   "metadata": {
    "scrolled": true
   },
   "outputs": [
    {
     "name": "stdout",
     "output_type": "stream",
     "text": [
      "2018-10-08 18:43:32,930 INFO sqlalchemy.engine.base.Engine SELECT \"Album\".id, \"Album\".title, \"Album\".artist_id \n",
      "FROM \"Album\"\n",
      "2018-10-08 18:43:32,937 INFO sqlalchemy.engine.base.Engine ()\n"
     ]
    }
   ],
   "source": [
    "result = conn.execute(album.select()) #이전에 저장했던 것들을 다시 로딩할 수 있다."
   ]
  },
  {
   "cell_type": "markdown",
   "metadata": {},
   "source": [
    "# ORM"
   ]
  },
  {
   "cell_type": "code",
   "execution_count": 1,
   "metadata": {
    "collapsed": true
   },
   "outputs": [],
   "source": [
    "from sqlalchemy import create_engine"
   ]
  },
  {
   "cell_type": "code",
   "execution_count": 2,
   "metadata": {
    "collapsed": true
   },
   "outputs": [],
   "source": [
    "engine = create_engine(\"sqlite:///orm_test.db\", echo=True)\n",
    "#처음에 무조건 엔진을 먼저 생성해준다."
   ]
  },
  {
   "cell_type": "code",
   "execution_count": 3,
   "metadata": {
    "collapsed": true
   },
   "outputs": [],
   "source": [
    "from sqlalchemy.ext.declarative import declarative_base"
   ]
  },
  {
   "cell_type": "code",
   "execution_count": 4,
   "metadata": {
    "collapsed": true
   },
   "outputs": [],
   "source": [
    "Base = declarative_base() #빈 base를 만든다."
   ]
  },
  {
   "cell_type": "code",
   "execution_count": 5,
   "metadata": {
    "collapsed": true
   },
   "outputs": [],
   "source": [
    "from sqlalchemy import Column, Integer, String, ForeignKey"
   ]
  },
  {
   "cell_type": "code",
   "execution_count": 6,
   "metadata": {
    "collapsed": true
   },
   "outputs": [],
   "source": [
    "class Artist(Base):\n",
    "    __tablename__ = \"artist\"\n",
    "    \n",
    "    id = Column(Integer, primary_key=True)\n",
    "    name = Column(String)\n",
    "    \n",
    "    def __repr__(self):\n",
    "        return \"<T'artist(name='%s')>\" % (self.name)\n",
    "    \n",
    "class Album(Base):\n",
    "    __tablename__ = \"album\"\n",
    "    \n",
    "    id = Column(Integer, primary_key=True)\n",
    "    title = Column(String)\n",
    "    artist_id = Column(Integer, ForeignKey(\"artist.id\"))\n",
    "\n",
    "class Genre(Base):\n",
    "    __tablename__ = \"genre\"\n",
    "    \n",
    "    id = Column(Integer, primary_key=True)\n",
    "    name = Column(String)\n",
    "    \n",
    "class Track(Base):\n",
    "    __tablename__ = \"track\"\n",
    "    \n",
    "    id = Column(Integer, primary_key=True)\n",
    "    title = Column(String)\n",
    "    album_id = Column(Integer, ForeignKey(\"album.id\"))\n",
    "    genre_id = Column(Integer, ForeignKey(\"genre.id\"))"
   ]
  },
  {
   "cell_type": "code",
   "execution_count": 7,
   "metadata": {},
   "outputs": [
    {
     "name": "stdout",
     "output_type": "stream",
     "text": [
      "2018-10-11 16:01:41,637 INFO sqlalchemy.engine.base.Engine SELECT CAST('test plain returns' AS VARCHAR(60)) AS anon_1\n",
      "2018-10-11 16:01:41,672 INFO sqlalchemy.engine.base.Engine ()\n",
      "2018-10-11 16:01:41,682 INFO sqlalchemy.engine.base.Engine SELECT CAST('test unicode returns' AS VARCHAR(60)) AS anon_1\n",
      "2018-10-11 16:01:41,688 INFO sqlalchemy.engine.base.Engine ()\n",
      "2018-10-11 16:01:41,699 INFO sqlalchemy.engine.base.Engine PRAGMA table_info(\"artist\")\n",
      "2018-10-11 16:01:41,703 INFO sqlalchemy.engine.base.Engine ()\n",
      "2018-10-11 16:01:41,710 INFO sqlalchemy.engine.base.Engine PRAGMA table_info(\"album\")\n",
      "2018-10-11 16:01:41,713 INFO sqlalchemy.engine.base.Engine ()\n",
      "2018-10-11 16:01:41,716 INFO sqlalchemy.engine.base.Engine PRAGMA table_info(\"genre\")\n",
      "2018-10-11 16:01:41,718 INFO sqlalchemy.engine.base.Engine ()\n",
      "2018-10-11 16:01:41,721 INFO sqlalchemy.engine.base.Engine PRAGMA table_info(\"track\")\n",
      "2018-10-11 16:01:41,722 INFO sqlalchemy.engine.base.Engine ()\n",
      "2018-10-11 16:01:41,725 INFO sqlalchemy.engine.base.Engine \n",
      "CREATE TABLE artist (\n",
      "\tid INTEGER NOT NULL, \n",
      "\tname VARCHAR, \n",
      "\tPRIMARY KEY (id)\n",
      ")\n",
      "\n",
      "\n",
      "2018-10-11 16:01:41,727 INFO sqlalchemy.engine.base.Engine ()\n",
      "2018-10-11 16:01:41,742 INFO sqlalchemy.engine.base.Engine COMMIT\n",
      "2018-10-11 16:01:41,744 INFO sqlalchemy.engine.base.Engine \n",
      "CREATE TABLE genre (\n",
      "\tid INTEGER NOT NULL, \n",
      "\tname VARCHAR, \n",
      "\tPRIMARY KEY (id)\n",
      ")\n",
      "\n",
      "\n",
      "2018-10-11 16:01:41,746 INFO sqlalchemy.engine.base.Engine ()\n",
      "2018-10-11 16:01:41,757 INFO sqlalchemy.engine.base.Engine COMMIT\n",
      "2018-10-11 16:01:41,761 INFO sqlalchemy.engine.base.Engine \n",
      "CREATE TABLE album (\n",
      "\tid INTEGER NOT NULL, \n",
      "\ttitle VARCHAR, \n",
      "\tartist_id INTEGER, \n",
      "\tPRIMARY KEY (id), \n",
      "\tFOREIGN KEY(artist_id) REFERENCES artist (id)\n",
      ")\n",
      "\n",
      "\n",
      "2018-10-11 16:01:41,765 INFO sqlalchemy.engine.base.Engine ()\n",
      "2018-10-11 16:01:41,777 INFO sqlalchemy.engine.base.Engine COMMIT\n",
      "2018-10-11 16:01:41,780 INFO sqlalchemy.engine.base.Engine \n",
      "CREATE TABLE track (\n",
      "\tid INTEGER NOT NULL, \n",
      "\ttitle VARCHAR, \n",
      "\talbum_id INTEGER, \n",
      "\tgenre_id INTEGER, \n",
      "\tPRIMARY KEY (id), \n",
      "\tFOREIGN KEY(album_id) REFERENCES album (id), \n",
      "\tFOREIGN KEY(genre_id) REFERENCES genre (id)\n",
      ")\n",
      "\n",
      "\n",
      "2018-10-11 16:01:41,782 INFO sqlalchemy.engine.base.Engine ()\n",
      "2018-10-11 16:01:41,792 INFO sqlalchemy.engine.base.Engine COMMIT\n"
     ]
    }
   ],
   "source": [
    "Base.metadata.create_all(engine) # 위에서 정의한 class를 table로서 메타데이터 생성"
   ]
  },
  {
   "cell_type": "code",
   "execution_count": 8,
   "metadata": {
    "collapsed": true
   },
   "outputs": [],
   "source": [
    "artist1 = Artist(name=\"Led Zepplin\")\n",
    "artist2 = Artist(name=\"AC/DC\")"
   ]
  },
  {
   "cell_type": "code",
   "execution_count": 9,
   "metadata": {},
   "outputs": [
    {
     "data": {
      "text/plain": [
       "<T'artist(name='Led Zepplin')>"
      ]
     },
     "execution_count": 9,
     "metadata": {},
     "output_type": "execute_result"
    }
   ],
   "source": [
    "artist1 #가상환경이기 때문에 session을 통해서 넣어줘야한다."
   ]
  },
  {
   "cell_type": "code",
   "execution_count": 10,
   "metadata": {
    "collapsed": true
   },
   "outputs": [],
   "source": [
    "from sqlalchemy.orm import sessionmaker"
   ]
  },
  {
   "cell_type": "code",
   "execution_count": 11,
   "metadata": {
    "collapsed": true
   },
   "outputs": [],
   "source": [
    "Session = sessionmaker(bind=engine) # engine을 binding해서 세션을 만들어 준다."
   ]
  },
  {
   "cell_type": "code",
   "execution_count": 12,
   "metadata": {
    "collapsed": true
   },
   "outputs": [],
   "source": [
    "session = Session() # 세션 객체 생성"
   ]
  },
  {
   "cell_type": "code",
   "execution_count": 13,
   "metadata": {},
   "outputs": [
    {
     "name": "stdout",
     "output_type": "stream",
     "text": [
      "2018-10-11 16:01:45,414 INFO sqlalchemy.engine.base.Engine BEGIN (implicit)\n",
      "2018-10-11 16:01:45,422 INFO sqlalchemy.engine.base.Engine INSERT INTO artist (name) VALUES (?)\n",
      "2018-10-11 16:01:45,427 INFO sqlalchemy.engine.base.Engine ('Led Zepplin',)\n",
      "2018-10-11 16:01:45,439 INFO sqlalchemy.engine.base.Engine INSERT INTO artist (name) VALUES (?)\n",
      "2018-10-11 16:01:45,443 INFO sqlalchemy.engine.base.Engine ('AC/DC',)\n",
      "2018-10-11 16:01:45,450 INFO sqlalchemy.engine.base.Engine COMMIT\n"
     ]
    }
   ],
   "source": [
    "session.add_all([artist1, artist2]) # entity를 세션에 넣어준다.\n",
    "session.commit() # 그리고 세션 내에 있는 데이터를 commit해서 DB를 update해준다."
   ]
  },
  {
   "cell_type": "code",
   "execution_count": 14,
   "metadata": {},
   "outputs": [
    {
     "data": {
      "text/plain": [
       "IdentitySet([])"
      ]
     },
     "execution_count": 14,
     "metadata": {},
     "output_type": "execute_result"
    }
   ],
   "source": [
    "session.dirty # DB와 세션이 싱크가 맞는지 확인하도록 해준다.\n",
    "# 수정 되었지만 아직 commit되지 않은 것을 알려줌.\n",
    "#그래서 현재 commit 해야하는지 확인할 수 있도록 도와준다."
   ]
  },
  {
   "cell_type": "code",
   "execution_count": 15,
   "metadata": {
    "scrolled": true
   },
   "outputs": [
    {
     "data": {
      "text/plain": [
       "IdentitySet([])"
      ]
     },
     "execution_count": 15,
     "metadata": {},
     "output_type": "execute_result"
    }
   ],
   "source": [
    "session.new # 세션 내에서 'new'로 표시된 모든 인스턴스의 집합"
   ]
  },
  {
   "cell_type": "code",
   "execution_count": 16,
   "metadata": {
    "collapsed": true
   },
   "outputs": [],
   "source": [
    "artist1.name = \"xyz\""
   ]
  },
  {
   "cell_type": "code",
   "execution_count": 17,
   "metadata": {
    "scrolled": false
   },
   "outputs": [
    {
     "data": {
      "text/plain": [
       "IdentitySet([<T'artist(name='xyz')>])"
      ]
     },
     "execution_count": 17,
     "metadata": {},
     "output_type": "execute_result"
    }
   ],
   "source": [
    "session.dirty #현재 바뀐 값이 있는데 DB에 반영되지 않았다고 알려준다. -> commit해줘야함"
   ]
  },
  {
   "cell_type": "code",
   "execution_count": 18,
   "metadata": {},
   "outputs": [
    {
     "name": "stdout",
     "output_type": "stream",
     "text": [
      "2018-10-11 16:01:48,367 INFO sqlalchemy.engine.base.Engine BEGIN (implicit)\n",
      "2018-10-11 16:01:48,375 INFO sqlalchemy.engine.base.Engine SELECT artist.id AS artist_id \n",
      "FROM artist \n",
      "WHERE artist.id = ?\n",
      "2018-10-11 16:01:48,380 INFO sqlalchemy.engine.base.Engine (1,)\n",
      "2018-10-11 16:01:48,388 INFO sqlalchemy.engine.base.Engine UPDATE artist SET name=? WHERE artist.id = ?\n",
      "2018-10-11 16:01:48,393 INFO sqlalchemy.engine.base.Engine ('xyz', 1)\n",
      "2018-10-11 16:01:48,400 INFO sqlalchemy.engine.base.Engine COMMIT\n"
     ]
    }
   ],
   "source": [
    "session.commit()"
   ]
  },
  {
   "cell_type": "code",
   "execution_count": 19,
   "metadata": {},
   "outputs": [
    {
     "name": "stdout",
     "output_type": "stream",
     "text": [
      "2018-10-11 16:01:49,192 INFO sqlalchemy.engine.base.Engine BEGIN (implicit)\n",
      "2018-10-11 16:01:49,198 INFO sqlalchemy.engine.base.Engine SELECT artist.id AS artist_id, artist.name AS artist_name \n",
      "FROM artist \n",
      "WHERE artist.id = ?\n",
      "2018-10-11 16:01:49,203 INFO sqlalchemy.engine.base.Engine (1,)\n",
      "2018-10-11 16:01:49,213 INFO sqlalchemy.engine.base.Engine SELECT artist.id AS artist_id, artist.name AS artist_name \n",
      "FROM artist \n",
      "WHERE artist.id = ?\n",
      "2018-10-11 16:01:49,217 INFO sqlalchemy.engine.base.Engine (2,)\n",
      "2018-10-11 16:01:49,227 INFO sqlalchemy.engine.base.Engine INSERT INTO album (title, artist_id) VALUES (?, ?)\n",
      "2018-10-11 16:01:49,231 INFO sqlalchemy.engine.base.Engine ('IV', 1)\n",
      "2018-10-11 16:01:49,239 INFO sqlalchemy.engine.base.Engine INSERT INTO album (title, artist_id) VALUES (?, ?)\n",
      "2018-10-11 16:01:49,243 INFO sqlalchemy.engine.base.Engine ('Who Made Who', 2)\n",
      "2018-10-11 16:01:49,249 INFO sqlalchemy.engine.base.Engine COMMIT\n"
     ]
    }
   ],
   "source": [
    "album = [Album(title=\"IV\", artist_id = artist1.id),\n",
    "        Album(title=\"Who Made Who\", artist_id = artist2.id)]\n",
    "\n",
    "session.add_all(album)\n",
    "session.commit()"
   ]
  },
  {
   "cell_type": "code",
   "execution_count": 20,
   "metadata": {
    "collapsed": true
   },
   "outputs": [],
   "source": [
    "session.add_all([\n",
    "    Album(title=\"1\", artist_id=1),\n",
    "    Album(title=\"2\", artist_id=2),\n",
    "])"
   ]
  },
  {
   "cell_type": "code",
   "execution_count": 21,
   "metadata": {
    "collapsed": true
   },
   "outputs": [],
   "source": [
    "session.add_all([\n",
    "    Genre(name=\"1\"),\n",
    "    Genre(name=\"2\"),\n",
    "])"
   ]
  },
  {
   "cell_type": "code",
   "execution_count": 22,
   "metadata": {
    "collapsed": true
   },
   "outputs": [],
   "source": [
    "session.add_all([\n",
    "    Track(title=\"1-1\", album_id=1, genre_id=1),\n",
    "    Track(title=\"1-2\", album_id=1, genre_id=2),\n",
    "    Track(title=\"2-1\", album_id=2, genre_id=1),\n",
    "    Track(title=\"2-2\", album_id=2, genre_id=2),\n",
    "])\n",
    "\n",
    "# 세션 내에 모든 주어진 collection들을 추가해주는 add_all()"
   ]
  },
  {
   "cell_type": "code",
   "execution_count": 23,
   "metadata": {
    "collapsed": true
   },
   "outputs": [],
   "source": [
    "temp = Track(title=\"3-1\", album_id=3, genre_id=1)"
   ]
  },
  {
   "cell_type": "code",
   "execution_count": 24,
   "metadata": {
    "scrolled": true
   },
   "outputs": [
    {
     "data": {
      "text/plain": [
       "__main__.Track"
      ]
     },
     "execution_count": 24,
     "metadata": {},
     "output_type": "execute_result"
    }
   ],
   "source": [
    "type(temp)"
   ]
  },
  {
   "cell_type": "code",
   "execution_count": 25,
   "metadata": {
    "collapsed": true
   },
   "outputs": [],
   "source": [
    "session.add(temp)"
   ]
  },
  {
   "cell_type": "code",
   "execution_count": 27,
   "metadata": {
    "collapsed": true
   },
   "outputs": [],
   "source": [
    "temp.id"
   ]
  },
  {
   "cell_type": "code",
   "execution_count": 28,
   "metadata": {},
   "outputs": [
    {
     "data": {
      "text/plain": [
       "IdentitySet([<__main__.Album object at 0x000001B6F2473E10>, <__main__.Album object at 0x000001B6F2473780>, <__main__.Genre object at 0x000001B6F2473DD8>, <__main__.Genre object at 0x000001B6F2473BE0>, <__main__.Track object at 0x000001B6F249AB00>, <__main__.Track object at 0x000001B6F249AB70>, <__main__.Track object at 0x000001B6F249ABE0>, <__main__.Track object at 0x000001B6F249AC50>, <__main__.Track object at 0x000001B6F249A2E8>])"
      ]
     },
     "execution_count": 28,
     "metadata": {},
     "output_type": "execute_result"
    }
   ],
   "source": [
    "session.new"
   ]
  },
  {
   "cell_type": "code",
   "execution_count": 29,
   "metadata": {},
   "outputs": [
    {
     "name": "stdout",
     "output_type": "stream",
     "text": [
      "2018-10-11 16:02:22,138 INFO sqlalchemy.engine.base.Engine BEGIN (implicit)\n",
      "2018-10-11 16:02:22,145 INFO sqlalchemy.engine.base.Engine INSERT INTO genre (name) VALUES (?)\n",
      "2018-10-11 16:02:22,149 INFO sqlalchemy.engine.base.Engine ('1',)\n",
      "2018-10-11 16:02:22,160 INFO sqlalchemy.engine.base.Engine INSERT INTO genre (name) VALUES (?)\n",
      "2018-10-11 16:02:22,165 INFO sqlalchemy.engine.base.Engine ('2',)\n",
      "2018-10-11 16:02:22,173 INFO sqlalchemy.engine.base.Engine INSERT INTO album (title, artist_id) VALUES (?, ?)\n",
      "2018-10-11 16:02:22,177 INFO sqlalchemy.engine.base.Engine ('1', 1)\n",
      "2018-10-11 16:02:22,184 INFO sqlalchemy.engine.base.Engine INSERT INTO album (title, artist_id) VALUES (?, ?)\n",
      "2018-10-11 16:02:22,188 INFO sqlalchemy.engine.base.Engine ('2', 2)\n",
      "2018-10-11 16:02:22,197 INFO sqlalchemy.engine.base.Engine INSERT INTO track (title, album_id, genre_id) VALUES (?, ?, ?)\n",
      "2018-10-11 16:02:22,202 INFO sqlalchemy.engine.base.Engine ('1-1', 1, 1)\n",
      "2018-10-11 16:02:22,209 INFO sqlalchemy.engine.base.Engine INSERT INTO track (title, album_id, genre_id) VALUES (?, ?, ?)\n",
      "2018-10-11 16:02:22,214 INFO sqlalchemy.engine.base.Engine ('1-2', 1, 2)\n",
      "2018-10-11 16:02:22,218 INFO sqlalchemy.engine.base.Engine INSERT INTO track (title, album_id, genre_id) VALUES (?, ?, ?)\n",
      "2018-10-11 16:02:22,221 INFO sqlalchemy.engine.base.Engine ('2-1', 2, 1)\n",
      "2018-10-11 16:02:22,225 INFO sqlalchemy.engine.base.Engine INSERT INTO track (title, album_id, genre_id) VALUES (?, ?, ?)\n",
      "2018-10-11 16:02:22,227 INFO sqlalchemy.engine.base.Engine ('2-2', 2, 2)\n",
      "2018-10-11 16:02:22,230 INFO sqlalchemy.engine.base.Engine INSERT INTO track (title, album_id, genre_id) VALUES (?, ?, ?)\n",
      "2018-10-11 16:02:22,233 INFO sqlalchemy.engine.base.Engine ('3-1', 3, 1)\n",
      "2018-10-11 16:02:22,236 INFO sqlalchemy.engine.base.Engine COMMIT\n"
     ]
    }
   ],
   "source": [
    "session.commit() #메모리상에서 물고 있던 데이터를 DB에 적용하는 것임."
   ]
  },
  {
   "cell_type": "code",
   "execution_count": 30,
   "metadata": {},
   "outputs": [
    {
     "name": "stdout",
     "output_type": "stream",
     "text": [
      "2018-10-11 16:02:25,107 INFO sqlalchemy.engine.base.Engine BEGIN (implicit)\n",
      "2018-10-11 16:02:25,113 INFO sqlalchemy.engine.base.Engine SELECT artist.id AS artist_id, artist.name AS artist_name \n",
      "FROM artist\n",
      "2018-10-11 16:02:25,117 INFO sqlalchemy.engine.base.Engine ()\n",
      "1 xyz\n",
      "2 AC/DC\n"
     ]
    }
   ],
   "source": [
    "for row in session.query(Artist): #query 날리는 법\n",
    "    print(row.id, row.name)"
   ]
  },
  {
   "cell_type": "markdown",
   "metadata": {},
   "source": [
    "foreign key 설정해서, instance"
   ]
  }
 ],
 "metadata": {
  "kernelspec": {
   "display_name": "Python 3",
   "language": "python",
   "name": "python3"
  },
  "language_info": {
   "codemirror_mode": {
    "name": "ipython",
    "version": 3
   },
   "file_extension": ".py",
   "mimetype": "text/x-python",
   "name": "python",
   "nbconvert_exporter": "python",
   "pygments_lexer": "ipython3",
   "version": "3.6.3"
  }
 },
 "nbformat": 4,
 "nbformat_minor": 2
}
