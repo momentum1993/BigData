{
 "cells": [
  {
   "cell_type": "code",
   "execution_count": 1,
   "metadata": {},
   "outputs": [
    {
     "name": "stdout",
     "output_type": "stream",
     "text": [
      "Interactive namespace is empty.\n"
     ]
    }
   ],
   "source": [
    "%whos"
   ]
  },
  {
   "cell_type": "code",
   "execution_count": 2,
   "metadata": {
    "collapsed": true
   },
   "outputs": [],
   "source": [
    "from keyword import * # import *를 했기 때문에 keyword 모듈의 모든 걸 가져온다(__all__에 정의된 모든것!!!)\n",
    "# __all__ 을 통해서 import *했을 때 가져오는 모듈들을 제한하고 싶을 때 쓴다."
   ]
  },
  {
   "cell_type": "code",
   "execution_count": 3,
   "metadata": {},
   "outputs": [
    {
     "name": "stdout",
     "output_type": "stream",
     "text": [
      "Variable    Type                          Data/Info\n",
      "---------------------------------------------------\n",
      "iskeyword   builtin_function_or_method    <built-in method __contai<...>ct at 0x000002327AD93BA8>\n",
      "kwlist      list                          n=33\n"
     ]
    }
   ],
   "source": [
    "%whos"
   ]
  },
  {
   "cell_type": "code",
   "execution_count": 4,
   "metadata": {
    "collapsed": true
   },
   "outputs": [],
   "source": [
    "import keyword"
   ]
  },
  {
   "cell_type": "code",
   "execution_count": 5,
   "metadata": {},
   "outputs": [
    {
     "data": {
      "text/plain": [
       "['__all__',\n",
       " '__builtins__',\n",
       " '__cached__',\n",
       " '__doc__',\n",
       " '__file__',\n",
       " '__loader__',\n",
       " '__name__',\n",
       " '__package__',\n",
       " '__spec__',\n",
       " 'iskeyword',\n",
       " 'kwlist',\n",
       " 'main']"
      ]
     },
     "execution_count": 5,
     "metadata": {},
     "output_type": "execute_result"
    }
   ],
   "source": [
    "dir(keyword) # __all__"
   ]
  },
  {
   "cell_type": "code",
   "execution_count": 6,
   "metadata": {},
   "outputs": [
    {
     "data": {
      "text/plain": [
       "['iskeyword', 'kwlist']"
      ]
     },
     "execution_count": 6,
     "metadata": {},
     "output_type": "execute_result"
    }
   ],
   "source": [
    "keyword.__all__"
   ]
  },
  {
   "cell_type": "code",
   "execution_count": 7,
   "metadata": {
    "collapsed": true
   },
   "outputs": [],
   "source": [
    "from keyword import main"
   ]
  },
  {
   "cell_type": "code",
   "execution_count": 8,
   "metadata": {},
   "outputs": [
    {
     "name": "stdout",
     "output_type": "stream",
     "text": [
      "Variable    Type                          Data/Info\n",
      "---------------------------------------------------\n",
      "iskeyword   builtin_function_or_method    <built-in method __contai<...>ct at 0x000002327AD93BA8>\n",
      "keyword     module                        <module 'keyword' from 'D<...>conda3\\\\lib\\\\keyword.py'>\n",
      "kwlist      list                          n=33\n",
      "main        function                      <function main at 0x000002327AEE2598>\n"
     ]
    }
   ],
   "source": [
    "%whos"
   ]
  },
  {
   "cell_type": "code",
   "execution_count": 9,
   "metadata": {
    "collapsed": true
   },
   "outputs": [],
   "source": [
    "from math import *"
   ]
  },
  {
   "cell_type": "code",
   "execution_count": 10,
   "metadata": {},
   "outputs": [
    {
     "name": "stdout",
     "output_type": "stream",
     "text": [
      "Variable    Type                          Data/Info\n",
      "---------------------------------------------------\n",
      "acos        builtin_function_or_method    <built-in function acos>\n",
      "acosh       builtin_function_or_method    <built-in function acosh>\n",
      "asin        builtin_function_or_method    <built-in function asin>\n",
      "asinh       builtin_function_or_method    <built-in function asinh>\n",
      "atan        builtin_function_or_method    <built-in function atan>\n",
      "atan2       builtin_function_or_method    <built-in function atan2>\n",
      "atanh       builtin_function_or_method    <built-in function atanh>\n",
      "ceil        builtin_function_or_method    <built-in function ceil>\n",
      "copysign    builtin_function_or_method    <built-in function copysign>\n",
      "cos         builtin_function_or_method    <built-in function cos>\n",
      "cosh        builtin_function_or_method    <built-in function cosh>\n",
      "degrees     builtin_function_or_method    <built-in function degrees>\n",
      "e           float                         2.718281828459045\n",
      "erf         builtin_function_or_method    <built-in function erf>\n",
      "erfc        builtin_function_or_method    <built-in function erfc>\n",
      "exp         builtin_function_or_method    <built-in function exp>\n",
      "expm1       builtin_function_or_method    <built-in function expm1>\n",
      "fabs        builtin_function_or_method    <built-in function fabs>\n",
      "factorial   builtin_function_or_method    <built-in function factorial>\n",
      "floor       builtin_function_or_method    <built-in function floor>\n",
      "fmod        builtin_function_or_method    <built-in function fmod>\n",
      "frexp       builtin_function_or_method    <built-in function frexp>\n",
      "fsum        builtin_function_or_method    <built-in function fsum>\n",
      "gamma       builtin_function_or_method    <built-in function gamma>\n",
      "gcd         builtin_function_or_method    <built-in function gcd>\n",
      "hypot       builtin_function_or_method    <built-in function hypot>\n",
      "inf         float                         inf\n",
      "isclose     builtin_function_or_method    <built-in function isclose>\n",
      "isfinite    builtin_function_or_method    <built-in function isfinite>\n",
      "isinf       builtin_function_or_method    <built-in function isinf>\n",
      "iskeyword   builtin_function_or_method    <built-in method __contai<...>ct at 0x000002327AD93BA8>\n",
      "isnan       builtin_function_or_method    <built-in function isnan>\n",
      "keyword     module                        <module 'keyword' from 'D<...>conda3\\\\lib\\\\keyword.py'>\n",
      "kwlist      list                          n=33\n",
      "ldexp       builtin_function_or_method    <built-in function ldexp>\n",
      "lgamma      builtin_function_or_method    <built-in function lgamma>\n",
      "log         builtin_function_or_method    <built-in function log>\n",
      "log10       builtin_function_or_method    <built-in function log10>\n",
      "log1p       builtin_function_or_method    <built-in function log1p>\n",
      "log2        builtin_function_or_method    <built-in function log2>\n",
      "main        function                      <function main at 0x000002327AEE2598>\n",
      "modf        builtin_function_or_method    <built-in function modf>\n",
      "nan         float                         nan\n",
      "pi          float                         3.141592653589793\n",
      "pow         builtin_function_or_method    <built-in function pow>\n",
      "radians     builtin_function_or_method    <built-in function radians>\n",
      "sin         builtin_function_or_method    <built-in function sin>\n",
      "sinh        builtin_function_or_method    <built-in function sinh>\n",
      "sqrt        builtin_function_or_method    <built-in function sqrt>\n",
      "tan         builtin_function_or_method    <built-in function tan>\n",
      "tanh        builtin_function_or_method    <built-in function tanh>\n",
      "tau         float                         6.283185307179586\n",
      "trunc       builtin_function_or_method    <built-in function trunc>\n"
     ]
    }
   ],
   "source": [
    "%whos"
   ]
  },
  {
   "cell_type": "code",
   "execution_count": 11,
   "metadata": {
    "collapsed": true
   },
   "outputs": [],
   "source": [
    "import math"
   ]
  },
  {
   "cell_type": "code",
   "execution_count": 12,
   "metadata": {},
   "outputs": [
    {
     "data": {
      "text/plain": [
       "3.141592653589793"
      ]
     },
     "execution_count": 12,
     "metadata": {},
     "output_type": "execute_result"
    }
   ],
   "source": [
    "math.pi"
   ]
  },
  {
   "cell_type": "code",
   "execution_count": 13,
   "metadata": {
    "collapsed": true
   },
   "outputs": [],
   "source": [
    "from numpy import *"
   ]
  },
  {
   "cell_type": "code",
   "execution_count": 14,
   "metadata": {},
   "outputs": [
    {
     "data": {
      "text/plain": [
       "3.141592653589793"
      ]
     },
     "execution_count": 14,
     "metadata": {},
     "output_type": "execute_result"
    }
   ],
   "source": [
    "pi"
   ]
  },
  {
   "cell_type": "code",
   "execution_count": 15,
   "metadata": {
    "collapsed": true
   },
   "outputs": [],
   "source": [
    "from math import *"
   ]
  },
  {
   "cell_type": "code",
   "execution_count": 16,
   "metadata": {
    "scrolled": false
   },
   "outputs": [
    {
     "data": {
      "text/plain": [
       "3.141592653589793"
      ]
     },
     "execution_count": 16,
     "metadata": {},
     "output_type": "execute_result"
    }
   ],
   "source": [
    "pi"
   ]
  },
  {
   "cell_type": "markdown",
   "metadata": {},
   "source": [
    "import * 을 할 경우에 이름이 같은 것과 충돌이 날 수 있다."
   ]
  },
  {
   "cell_type": "markdown",
   "metadata": {},
   "source": [
    "그래서 \"from 모듈 import 서브모듈\"의 방식으로 쓰는 것이 좋다."
   ]
  },
  {
   "cell_type": "markdown",
   "metadata": {},
   "source": [
    "from을 할경우 내 메모리 공간에 들어오는 것이다"
   ]
  },
  {
   "cell_type": "code",
   "execution_count": 17,
   "metadata": {
    "collapsed": true
   },
   "outputs": [],
   "source": [
    "from numpy import pi as np_pi # as 를 통해서 내 마음대로 이름을 바꿀 수 있다."
   ]
  },
  {
   "cell_type": "code",
   "execution_count": 18,
   "metadata": {},
   "outputs": [
    {
     "data": {
      "text/plain": [
       "3.141592653589793"
      ]
     },
     "execution_count": 18,
     "metadata": {},
     "output_type": "execute_result"
    }
   ],
   "source": [
    "np_pi"
   ]
  }
 ],
 "metadata": {
  "kernelspec": {
   "display_name": "Python 3",
   "language": "python",
   "name": "python3"
  },
  "language_info": {
   "codemirror_mode": {
    "name": "ipython",
    "version": 3
   },
   "file_extension": ".py",
   "mimetype": "text/x-python",
   "name": "python",
   "nbconvert_exporter": "python",
   "pygments_lexer": "ipython3",
   "version": "3.6.3"
  }
 },
 "nbformat": 4,
 "nbformat_minor": 2
}
