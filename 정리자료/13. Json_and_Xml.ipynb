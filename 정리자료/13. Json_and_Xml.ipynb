{
 "cells": [
  {
   "cell_type": "markdown",
   "metadata": {},
   "source": [
    "# JSON, XML"
   ]
  },
  {
   "cell_type": "markdown",
   "metadata": {},
   "source": [
    "## Json"
   ]
  },
  {
   "cell_type": "code",
   "execution_count": 1,
   "metadata": {},
   "outputs": [
    {
     "name": "stdout",
     "output_type": "stream",
     "text": [
      "Overwriting test3.html\n"
     ]
    }
   ],
   "source": [
    "%%writefile test3.html\n",
    "\n",
    "<!doctype html>\n",
    "<html lang=\"ko\">\n",
    "    <head>\n",
    "        <style>\n",
    "            * {margin: 0; padding: 0;}\n",
    "            main {width: 800px; margin:0 auto;}\n",
    "            header, footer {background-color: #f1f1f1; text-align:center;}\n",
    "            header > h1, footer > h1 {padding: 20px 20px 20px 20px;}\n",
    "            nav {overflow: hidden; background-color: #333;}\n",
    "            nav li {float:left; display: block; padding:14px 16px;color:#f2f2f2; text-align:center; } \n",
    "            nav li:hover {background-color: #ddd; color:black;}\n",
    "            main > section {float: left; width: 70%;}\n",
    "            main > aside {float: right; width: 240px;}\n",
    "            main > section, main > aside {background-color:#aaa; margin-top: 20px; padding: 10px;}\n",
    "            article, section {background-color: white; padding: 20px; margin: 20px;}\n",
    "            article > section {background-color: #aaa;}\n",
    "            section > p {border: 1px solid #000;}\n",
    "            .clearfix {clear: both; content:\"\"}\n",
    "        </style>\n",
    "        <script>\n",
    "            var  car = {\n",
    "                \"make\" : \"volkswagen\",\n",
    "                \"year\" : 2013,\n",
    "                \"car\" :\n",
    "                {\n",
    "                    \"name\" : \"abc\",\n",
    "                    \"aaaa\" : \"bddr\",\n",
    "                }\n",
    "            };\n",
    "            car.list = [\"a\", \"b\"];\n",
    "            console.log(car)\n",
    "        </script>\n",
    "        # padding: 20; = padding: (북)20px (동)20px (남)20px (서)20px;\n",
    "        # background-color: #333 = #333333\n",
    "        #floating option을 통해서 nav의 li를 왼쪽으로 붙여버림.\n",
    "    </head>\n",
    "    <body>\n",
    "        <main>\n",
    "            <header>\n",
    "                <h1>header</h1>\n",
    "            </header>\n",
    "            <nav>\n",
    "                <ul>\n",
    "                    <li>Home</li>\n",
    "                    <li>News</li>\n",
    "                    <li>Contact</li>\n",
    "                    <li>About</li>\n",
    "                </ul>\n",
    "            </nav>\n",
    "            <aside>\n",
    "                <section>\n",
    "                    <h1>Advertisement</h1>\n",
    "                    <p>Content</p>\n",
    "                </section>\n",
    "                <section>\n",
    "                    <h1>Advertisement</h1>\n",
    "                    <p>Content</p>\n",
    "                </section>\n",
    "            </aside>\n",
    "            <section>\n",
    "                <article>\n",
    "                    <h1>Title</h1>\n",
    "                    <p>Content</p>\n",
    "                </article>\n",
    "                <article>\n",
    "                    <h1>Title</h1>\n",
    "                    <section>\n",
    "                        <h1>Sub Title1</h1>\n",
    "                        <p>Content</p>\n",
    "                    </section>\n",
    "                    <section>\n",
    "                        <h1>Sub Title2</h1>\n",
    "                        <p>Content</p>\n",
    "                    </section>\n",
    "                </article>\n",
    "            </section>\n",
    "            <footer class=\"clearfix\">\n",
    "                <h1>Footer</h1>\n",
    "            </footer>\n",
    "        </main> #header, section, aside, footer는 모두 블락 요소이다.\n",
    "    </body>\n",
    "</html>"
   ]
  },
  {
   "cell_type": "code",
   "execution_count": 2,
   "metadata": {
    "collapsed": true
   },
   "outputs": [],
   "source": [
    "import json # json impor해줌"
   ]
  },
  {
   "cell_type": "code",
   "execution_count": 3,
   "metadata": {},
   "outputs": [
    {
     "data": {
      "text/plain": [
       "['JSONDecodeError',\n",
       " 'JSONDecoder',\n",
       " 'JSONEncoder',\n",
       " '__all__',\n",
       " '__author__',\n",
       " '__builtins__',\n",
       " '__cached__',\n",
       " '__doc__',\n",
       " '__file__',\n",
       " '__loader__',\n",
       " '__name__',\n",
       " '__package__',\n",
       " '__path__',\n",
       " '__spec__',\n",
       " '__version__',\n",
       " '_default_decoder',\n",
       " '_default_encoder',\n",
       " 'codecs',\n",
       " 'decoder',\n",
       " 'detect_encoding',\n",
       " 'dump',\n",
       " 'dumps',\n",
       " 'encoder',\n",
       " 'load',\n",
       " 'loads',\n",
       " 'scanner']"
      ]
     },
     "execution_count": 3,
     "metadata": {},
     "output_type": "execute_result"
    }
   ],
   "source": [
    "dir(json) #인코딩 시 : dump(파일에서 가져올때), dumps(파일 포인터 없음. 메모리에서 갖고 올 때) 디코딩 시 : load, loads"
   ]
  },
  {
   "cell_type": "code",
   "execution_count": 4,
   "metadata": {
    "collapsed": true
   },
   "outputs": [],
   "source": [
    "name = (\"kim\", \"lee\", \"park\")"
   ]
  },
  {
   "cell_type": "code",
   "execution_count": 5,
   "metadata": {},
   "outputs": [
    {
     "data": {
      "text/plain": [
       "tuple"
      ]
     },
     "execution_count": 5,
     "metadata": {},
     "output_type": "execute_result"
    }
   ],
   "source": [
    "type(name)"
   ]
  },
  {
   "cell_type": "code",
   "execution_count": 6,
   "metadata": {
    "collapsed": true
   },
   "outputs": [],
   "source": [
    "age = [28 , 32, 25]"
   ]
  },
  {
   "cell_type": "code",
   "execution_count": 7,
   "metadata": {},
   "outputs": [
    {
     "data": {
      "text/plain": [
       "list"
      ]
     },
     "execution_count": 7,
     "metadata": {},
     "output_type": "execute_result"
    }
   ],
   "source": [
    "type(age)"
   ]
  },
  {
   "cell_type": "code",
   "execution_count": 8,
   "metadata": {
    "collapsed": true
   },
   "outputs": [],
   "source": [
    "person = {\"name\":\"Kim\" ,\"age\":28, \"car\":False}"
   ]
  },
  {
   "cell_type": "code",
   "execution_count": 9,
   "metadata": {},
   "outputs": [
    {
     "data": {
      "text/plain": [
       "dict"
      ]
     },
     "execution_count": 9,
     "metadata": {},
     "output_type": "execute_result"
    }
   ],
   "source": [
    "type(person)"
   ]
  },
  {
   "cell_type": "markdown",
   "metadata": {},
   "source": [
    "dump의 경우 어떠한 객체를 json 형식의 str로 객체를 변환해준다."
   ]
  },
  {
   "cell_type": "code",
   "execution_count": 10,
   "metadata": {
    "collapsed": true
   },
   "outputs": [],
   "source": [
    "nameStr = json.dumps(name) # 위의 name tuple에 대해서 json 문자열으로 변경해주는 역할을 해준다."
   ]
  },
  {
   "cell_type": "code",
   "execution_count": 11,
   "metadata": {},
   "outputs": [
    {
     "data": {
      "text/plain": [
       "str"
      ]
     },
     "execution_count": 11,
     "metadata": {},
     "output_type": "execute_result"
    }
   ],
   "source": [
    "type(nameStr)"
   ]
  },
  {
   "cell_type": "code",
   "execution_count": 12,
   "metadata": {},
   "outputs": [
    {
     "data": {
      "text/plain": [
       "'[\"kim\", \"lee\", \"park\"]'"
      ]
     },
     "execution_count": 12,
     "metadata": {},
     "output_type": "execute_result"
    }
   ],
   "source": [
    "nameStr"
   ]
  },
  {
   "cell_type": "code",
   "execution_count": 13,
   "metadata": {
    "collapsed": true
   },
   "outputs": [],
   "source": [
    "personStr = json.dumps(person, indent=\"    \") # 위의 dict타입 데이터를 json 문자열으로 변경해주는데, \n",
    "# indent flag의 경우 indentation 들여쓰기의 칸 수를 입력할 수 있는 것으로 보기 좋게 출력하기 위해 쓰인다."
   ]
  },
  {
   "cell_type": "code",
   "execution_count": 14,
   "metadata": {},
   "outputs": [
    {
     "name": "stdout",
     "output_type": "stream",
     "text": [
      "{\n",
      "    \"name\": \"Kim\",\n",
      "    \"age\": 28,\n",
      "    \"car\": false\n",
      "}\n"
     ]
    }
   ],
   "source": [
    "print(personStr)"
   ]
  },
  {
   "cell_type": "code",
   "execution_count": 15,
   "metadata": {},
   "outputs": [
    {
     "data": {
      "text/plain": [
       "str"
      ]
     },
     "execution_count": 15,
     "metadata": {},
     "output_type": "execute_result"
    }
   ],
   "source": [
    "type(personStr) #jsondp dump된 것들은 String형이다!!!"
   ]
  },
  {
   "cell_type": "code",
   "execution_count": 16,
   "metadata": {
    "collapsed": true
   },
   "outputs": [],
   "source": [
    "korean = (\"김\", \"이\", \"박\")"
   ]
  },
  {
   "cell_type": "code",
   "execution_count": 17,
   "metadata": {
    "collapsed": true
   },
   "outputs": [],
   "source": [
    "koreanStr = json.dumps(korean) # 위의 해당 tuple을 json str타입으로 dump해준다."
   ]
  },
  {
   "cell_type": "code",
   "execution_count": 18,
   "metadata": {
    "scrolled": true
   },
   "outputs": [
    {
     "name": "stdout",
     "output_type": "stream",
     "text": [
      "[\"\\uae40\", \"\\uc774\", \"\\ubc15\"]\n"
     ]
    }
   ],
   "source": [
    "print(koreanStr) #한글은 유니코드 형태로 출력이 된다."
   ]
  },
  {
   "cell_type": "code",
   "execution_count": 19,
   "metadata": {
    "collapsed": true
   },
   "outputs": [],
   "source": [
    "koreanStr = json.dumps(korean, ensure_ascii=False) #한글 해석하기 위해 옵션을 줌.\n",
    "# ensure_ascii 플래그에 False를 주면 반환값에 대해서 ASCII code가 아닌 문자를 포함할 수 있게 해준다."
   ]
  },
  {
   "cell_type": "code",
   "execution_count": 20,
   "metadata": {
    "scrolled": false
   },
   "outputs": [
    {
     "name": "stdout",
     "output_type": "stream",
     "text": [
      "[\"김\", \"이\", \"박\"]\n"
     ]
    }
   ],
   "source": [
    "print(koreanStr) #그래서 한글 출력됨. "
   ]
  },
  {
   "cell_type": "markdown",
   "metadata": {},
   "source": [
    "json.loads()는 json문서를 포함하는(json형식의 str) str, bytes, bytearray를 python 객체 형식으로 반환해준다."
   ]
  },
  {
   "cell_type": "code",
   "execution_count": 21,
   "metadata": {
    "collapsed": true
   },
   "outputs": [],
   "source": [
    "personObj = json.loads(personStr) #객체 말고 String타입형으로 넣어주면 객체 타입으로 만들어 준다."
   ]
  },
  {
   "cell_type": "code",
   "execution_count": 22,
   "metadata": {},
   "outputs": [
    {
     "data": {
      "text/plain": [
       "dict"
      ]
     },
     "execution_count": 22,
     "metadata": {},
     "output_type": "execute_result"
    }
   ],
   "source": [
    "type(personObj)"
   ]
  },
  {
   "cell_type": "code",
   "execution_count": 23,
   "metadata": {},
   "outputs": [
    {
     "data": {
      "text/plain": [
       "{'age': 28, 'car': False, 'name': 'Kim'}"
      ]
     },
     "execution_count": 23,
     "metadata": {},
     "output_type": "execute_result"
    }
   ],
   "source": [
    "personObj # dictionary형태로 출력됨."
   ]
  },
  {
   "cell_type": "code",
   "execution_count": 24,
   "metadata": {},
   "outputs": [
    {
     "data": {
      "text/plain": [
       "'Kim'"
      ]
     },
     "execution_count": 24,
     "metadata": {},
     "output_type": "execute_result"
    }
   ],
   "source": [
    "personObj[\"name\"]"
   ]
  },
  {
   "cell_type": "code",
   "execution_count": 25,
   "metadata": {},
   "outputs": [
    {
     "data": {
      "text/plain": [
       "True"
      ]
     },
     "execution_count": 25,
     "metadata": {},
     "output_type": "execute_result"
    }
   ],
   "source": [
    "person == personObj"
   ]
  },
  {
   "cell_type": "code",
   "execution_count": 26,
   "metadata": {
    "collapsed": true
   },
   "outputs": [],
   "source": [
    "personObj[\"car\"] = [\"레이\", \"모닝\"]"
   ]
  },
  {
   "cell_type": "code",
   "execution_count": 27,
   "metadata": {},
   "outputs": [
    {
     "data": {
      "text/plain": [
       "{'age': 28, 'car': ['레이', '모닝'], 'name': 'Kim'}"
      ]
     },
     "execution_count": 27,
     "metadata": {},
     "output_type": "execute_result"
    }
   ],
   "source": [
    "personObj"
   ]
  },
  {
   "cell_type": "code",
   "execution_count": 28,
   "metadata": {
    "collapsed": true
   },
   "outputs": [],
   "source": [
    "with open(\"test.json\", \"w\") as fp: #파일에 덤프해서 저장\n",
    "    json.dump(personObj, fp)"
   ]
  },
  {
   "cell_type": "code",
   "execution_count": 29,
   "metadata": {
    "collapsed": true
   },
   "outputs": [],
   "source": [
    "with open(\"test.json\", \"r\") as fp: #파일에서 데이터 불러옴.\n",
    "    loadObj = json.load(fp)"
   ]
  },
  {
   "cell_type": "code",
   "execution_count": 30,
   "metadata": {},
   "outputs": [
    {
     "data": {
      "text/plain": [
       "{'age': 28, 'car': ['레이', '모닝'], 'name': 'Kim'}"
      ]
     },
     "execution_count": 30,
     "metadata": {},
     "output_type": "execute_result"
    }
   ],
   "source": [
    "loadObj  #데이터가 잘 로딩 되었음을 확인할 수 있다."
   ]
  },
  {
   "cell_type": "code",
   "execution_count": 31,
   "metadata": {},
   "outputs": [
    {
     "data": {
      "text/plain": [
       "True"
      ]
     },
     "execution_count": 31,
     "metadata": {},
     "output_type": "execute_result"
    }
   ],
   "source": [
    "personObj == loadObj #json (dict) type으로 로딩됨."
   ]
  },
  {
   "cell_type": "markdown",
   "metadata": {},
   "source": [
    "실제 웹에 request를 받아서 데이터를 가져올 것이다."
   ]
  },
  {
   "cell_type": "code",
   "execution_count": 32,
   "metadata": {
    "collapsed": true
   },
   "outputs": [],
   "source": [
    "import urllib.request\n",
    "# urllib.request는 URLs를 여는데 있어서 extensible(확장성있는) 라이브러리이다."
   ]
  },
  {
   "cell_type": "code",
   "execution_count": 33,
   "metadata": {
    "collapsed": true
   },
   "outputs": [],
   "source": [
    "resp = urllib.request.urlopen(\"https://jsonplaceholder.typicode.com/posts/1\") \n",
    "#해당 주소의 json을 불러옴"
   ]
  },
  {
   "cell_type": "code",
   "execution_count": 34,
   "metadata": {
    "collapsed": true
   },
   "outputs": [],
   "source": [
    "text = resp.read() #개행문자 포함해서 byte단위로 다 받아옴. -> pythom Object로 만들것임."
   ]
  },
  {
   "cell_type": "code",
   "execution_count": 35,
   "metadata": {},
   "outputs": [
    {
     "data": {
      "text/plain": [
       "b'{\\n  \"userId\": 1,\\n  \"id\": 1,\\n  \"title\": \"sunt aut facere repellat provident occaecati excepturi optio reprehenderit\",\\n  \"body\": \"quia et suscipit\\\\nsuscipit recusandae consequuntur expedita et cum\\\\nreprehenderit molestiae ut ut quas totam\\\\nnostrum rerum est autem sunt rem eveniet architecto\"\\n}'"
      ]
     },
     "execution_count": 35,
     "metadata": {},
     "output_type": "execute_result"
    }
   ],
   "source": [
    "text"
   ]
  },
  {
   "cell_type": "code",
   "execution_count": 36,
   "metadata": {},
   "outputs": [
    {
     "data": {
      "text/plain": [
       "bytes"
      ]
     },
     "execution_count": 36,
     "metadata": {},
     "output_type": "execute_result"
    }
   ],
   "source": [
    "type(text) # 위에서 text를 출력한 것을 보면 알겠지만 bytes형식으로 읽어온다."
   ]
  },
  {
   "cell_type": "code",
   "execution_count": 37,
   "metadata": {
    "collapsed": true
   },
   "outputs": [],
   "source": [
    "textStr = text.decode(\"utf-8\") #String형으로 변환 (UTF-8)"
   ]
  },
  {
   "cell_type": "code",
   "execution_count": 38,
   "metadata": {},
   "outputs": [
    {
     "data": {
      "text/plain": [
       "str"
      ]
     },
     "execution_count": 38,
     "metadata": {},
     "output_type": "execute_result"
    }
   ],
   "source": [
    "type(textStr)"
   ]
  },
  {
   "cell_type": "code",
   "execution_count": 39,
   "metadata": {
    "collapsed": true
   },
   "outputs": [],
   "source": [
    "respObj = json.loads(textStr) \n",
    "# json.loads를 통해서 json형식을 포함하는 str형 객체를 dict형으로 변환해줌."
   ]
  },
  {
   "cell_type": "code",
   "execution_count": 40,
   "metadata": {},
   "outputs": [
    {
     "data": {
      "text/plain": [
       "dict"
      ]
     },
     "execution_count": 40,
     "metadata": {},
     "output_type": "execute_result"
    }
   ],
   "source": [
    "type(respObj)"
   ]
  },
  {
   "cell_type": "code",
   "execution_count": 41,
   "metadata": {},
   "outputs": [
    {
     "name": "stdout",
     "output_type": "stream",
     "text": [
      "{'userId': 1, 'id': 1, 'title': 'sunt aut facere repellat provident occaecati excepturi optio reprehenderit', 'body': 'quia et suscipit\\nsuscipit recusandae consequuntur expedita et cum\\nreprehenderit molestiae ut ut quas totam\\nnostrum rerum est autem sunt rem eveniet architecto'}\n"
     ]
    }
   ],
   "source": [
    "print(respObj)"
   ]
  },
  {
   "cell_type": "code",
   "execution_count": 42,
   "metadata": {},
   "outputs": [
    {
     "data": {
      "text/plain": [
       "'sunt aut facere repellat provident occaecati excepturi optio reprehenderit'"
      ]
     },
     "execution_count": 42,
     "metadata": {},
     "output_type": "execute_result"
    }
   ],
   "source": [
    "respObj[\"title\"] #dictionary형태로 title에 대해서 접근 가능"
   ]
  },
  {
   "cell_type": "code",
   "execution_count": 43,
   "metadata": {},
   "outputs": [
    {
     "name": "stdout",
     "output_type": "stream",
     "text": [
      "userId 1\n",
      "<class 'int'>\n",
      "id 1\n",
      "<class 'int'>\n",
      "title sunt aut facere repellat provident occaecati excepturi optio reprehenderit\n",
      "<class 'str'>\n",
      "body quia et suscipit\n",
      "suscipit recusandae consequuntur expedita et cum\n",
      "reprehenderit molestiae ut ut quas totam\n",
      "nostrum rerum est autem sunt rem eveniet architecto\n",
      "<class 'str'>\n"
     ]
    }
   ],
   "source": [
    "for (k,v) in respObj.items(): #key, value값 다 출력\n",
    "    print(k, v)\n",
    "    print(type(v))"
   ]
  },
  {
   "cell_type": "code",
   "execution_count": 1,
   "metadata": {},
   "outputs": [
    {
     "data": {
      "text/plain": [
       "'http://openapi.airkorea.or.kr/openapi/services/rest/ArpltnInforInqireSvc/getCtprvnRltmMesureDnsty?\\n    serviceKey=\"서비스키를 입력해주세요\"\\n    &numOfRows=10\\n    &pageSize=10\\n    &pageNo=1\\n    &startPage=1\\n    &sidoName=%EB%8C%80%EA%B5%AC\\n    &ver=1.3\\n    &_returnType=json'"
      ]
     },
     "execution_count": 1,
     "metadata": {},
     "output_type": "execute_result"
    }
   ],
   "source": [
    "'''http://openapi.airkorea.or.kr/openapi/services/rest/ArpltnInforInqireSvc/getCtprvnRltmMesureDnsty?\n",
    "    serviceKey=\"서비스키를 입력해주세요\"\n",
    "    &numOfRows=10\n",
    "    &pageSize=10\n",
    "    &pageNo=1\n",
    "    &startPage=1\n",
    "    &sidoName=%EB%8C%80%EA%B5%AC\n",
    "    &ver=1.3\n",
    "    &_returnType=json'''"
   ]
  },
  {
   "cell_type": "code",
   "execution_count": 2,
   "metadata": {
    "collapsed": true
   },
   "outputs": [],
   "source": [
    "params = {\n",
    "        \"serviceKey\" : \"서비스키를 입력해주세요\",\n",
    "        \"numOfRows\":10,\n",
    "        \"pageNo\":1,\n",
    "        \"sidoName\":None,\n",
    "        \"searchCondition\":\"DAILY\",\n",
    "        \"ver\":\"1.3\",\n",
    "        \"_returnType\":\"json\"\n",
    "}"
   ]
  },
  {
   "cell_type": "code",
   "execution_count": 3,
   "metadata": {
    "scrolled": true
   },
   "outputs": [
    {
     "data": {
      "text/plain": [
       "{'_returnType': 'json',\n",
       " 'numOfRows': 10,\n",
       " 'pageNo': 1,\n",
       " 'searchCondition': 'DAILY',\n",
       " 'serviceKey': '서비스키를 입력해주세요',\n",
       " 'sidoName': None,\n",
       " 'ver': '1.3'}"
      ]
     },
     "execution_count": 3,
     "metadata": {},
     "output_type": "execute_result"
    }
   ],
   "source": [
    "params # parameter를 dict타입으로 묶어줌."
   ]
  },
  {
   "cell_type": "code",
   "execution_count": 71,
   "metadata": {
    "collapsed": true
   },
   "outputs": [],
   "source": [
    "params[\"sidoName\"]=\"대구\"\n",
    "#서울, 부산, 대구, 인천, 광주 ....."
   ]
  },
  {
   "cell_type": "code",
   "execution_count": 4,
   "metadata": {
    "collapsed": true
   },
   "outputs": [],
   "source": [
    "#url = \"http://openapi.airkorea.or.kr/openapi/services/rest/ArpltnInforInqireSvc/getCtprvnRltmMesureDnsty\"\n",
    "url = \"http://openapi.airkorea.or.kr/openapi/services/rest/ArpltnInforInqireSvc/getCtprvnMesureSidoLIst\"\n"
   ]
  },
  {
   "cell_type": "code",
   "execution_count": 7,
   "metadata": {
    "collapsed": true
   },
   "outputs": [],
   "source": [
    "from urllib import parse \n",
    "# urllib.parse 모듈은 URL에 대한 parameter들을 \n",
    "#url문자 뒤에 변환해서 파싱해 주는 표준 인터페이스를 정의한다."
   ]
  },
  {
   "cell_type": "code",
   "execution_count": 10,
   "metadata": {},
   "outputs": [],
   "source": [
    "params[\"serviceKey\"] = urllib.parse.unquote(params[\"serviceKey\"]) #service Key 자체는 원래 byte타입이다.\n",
    "#byte형을 string형으로 다시 변환해줌 -> 추후에 param전체를 byte형으로 encoding해줄 때 서비스키가 변하지 않도록 하기 위해."
   ]
  },
  {
   "cell_type": "code",
   "execution_count": 11,
   "metadata": {
    "collapsed": true
   },
   "outputs": [],
   "source": [
    "paramUrl = parse.urlencode(params) # param(파라미터)들을 percent-encoded ASCII 텍스트로 인코딩해준다."
   ]
  },
  {
   "cell_type": "code",
   "execution_count": 12,
   "metadata": {},
   "outputs": [
    {
     "data": {
      "text/plain": [
       "'serviceKey=%EC%84%9C%EB%B9%84%EC%8A%A4%ED%82%A4%EB%A5%BC+%EC%9E%85%EB%A0%A5%ED%95%B4%EC%A3%BC%EC%84%B8%EC%9A%94&numOfRows=10&pageNo=1&sidoName=None&searchCondition=DAILY&ver=1.3&_returnType=json'"
      ]
     },
     "execution_count": 12,
     "metadata": {},
     "output_type": "execute_result"
    }
   ],
   "source": [
    "paramUrl"
   ]
  },
  {
   "cell_type": "code",
   "execution_count": 77,
   "metadata": {},
   "outputs": [
    {
     "data": {
      "text/plain": [
       "str"
      ]
     },
     "execution_count": 77,
     "metadata": {},
     "output_type": "execute_result"
    }
   ],
   "source": [
    "type(paramUrl) #string타입이다. -> 하지만 인터넷에서 주고받을 때는 byte타입이 필요함."
   ]
  },
  {
   "cell_type": "code",
   "execution_count": 13,
   "metadata": {
    "collapsed": true
   },
   "outputs": [],
   "source": [
    "paramBytes = paramUrl.encode(\"utf-8\") #byte타입으로 타입 변환 해줌."
   ]
  },
  {
   "cell_type": "code",
   "execution_count": 14,
   "metadata": {
    "scrolled": true
   },
   "outputs": [
    {
     "data": {
      "text/plain": [
       "bytes"
      ]
     },
     "execution_count": 14,
     "metadata": {},
     "output_type": "execute_result"
    }
   ],
   "source": [
    "type(paramBytes)"
   ]
  },
  {
   "cell_type": "code",
   "execution_count": 15,
   "metadata": {},
   "outputs": [
    {
     "name": "stdout",
     "output_type": "stream",
     "text": [
      "b'serviceKey=%EC%84%9C%EB%B9%84%EC%8A%A4%ED%82%A4%EB%A5%BC+%EC%9E%85%EB%A0%A5%ED%95%B4%EC%A3%BC%EC%84%B8%EC%9A%94&numOfRows=10&pageNo=1&sidoName=None&searchCondition=DAILY&ver=1.3&_returnType=json'\n"
     ]
    }
   ],
   "source": [
    "print(paramBytes)"
   ]
  },
  {
   "cell_type": "code",
   "execution_count": 81,
   "metadata": {
    "collapsed": true
   },
   "outputs": [],
   "source": [
    "req = urllib.request.Request(url, data = paramBytes)\n",
    "# 해당 url과 parameter를 넣은 request 객체를 만든다."
   ]
  },
  {
   "cell_type": "code",
   "execution_count": 82,
   "metadata": {
    "collapsed": true
   },
   "outputs": [],
   "source": [
    "res = urllib.request.urlopen(req) # request에 따라 원하는 페이지를 open한다."
   ]
  },
  {
   "cell_type": "code",
   "execution_count": 83,
   "metadata": {
    "collapsed": true
   },
   "outputs": [],
   "source": [
    "result = res.read() # 오픈한 페이지의 내용을 읽는다."
   ]
  },
  {
   "cell_type": "code",
   "execution_count": 84,
   "metadata": {
    "scrolled": true
   },
   "outputs": [
    {
     "data": {
      "text/plain": [
       "b'{\"list\":[{\"_returnType\":\"json\",\"cityName\":\"\\xeb\\x82\\xa8\\xea\\xb5\\xac\",\"cityNameEng\":\"Nam-gu\",\"coValue\":\"0.3\",\"dataGubun\":\"\",\"dataTime\":\"2018-10-13 15:00\",\"districtCode\":\"053\",\"districtNumSeq\":\"001\",\"itemCode\":\"\",\"khaiValue\":\"\",\"no2Value\":\"0.008\",\"numOfRows\":\"10\",\"o3Value\":\"0.043\",\"pageNo\":\"1\",\"pm10Value\":\"12\",\"pm25Value\":\"12\",\"resultCode\":\"\",\"resultMsg\":\"\",\"searchCondition\":\"\",\"serviceKey\":\"\",\"sidoName\":\"\\xeb\\x8c\\x80\\xea\\xb5\\xac\",\"so2Value\":\"0.002\",\"totalCount\":\"\"},{\"_returnType\":\"json\",\"cityName\":\"\\xeb\\x8b\\xac\\xec\\x84\\x9c\\xea\\xb5\\xac\",\"cityNameEng\":\"Dalseo-gu\",\"coValue\":\"0.4\",\"dataGubun\":\"\",\"dataTime\":\"2018-10-13 15:00\",\"districtCode\":\"053\",\"districtNumSeq\":\"002\",\"itemCode\":\"\",\"khaiValue\":\"\",\"no2Value\":\"0.011\",\"numOfRows\":\"10\",\"o3Value\":\"0.037\",\"pageNo\":\"1\",\"pm10Value\":\"13\",\"pm25Value\":\"7\",\"resultCode\":\"\",\"resultMsg\":\"\",\"searchCondition\":\"\",\"serviceKey\":\"\",\"sidoName\":\"\\xeb\\x8c\\x80\\xea\\xb5\\xac\",\"so2Value\":\"0.002\",\"totalCount\":\"\"},{\"_returnType\":\"json\",\"cityName\":\"\\xeb\\x8b\\xac\\xec\\x84\\xb1\\xea\\xb5\\xb0\",\"cityNameEng\":\"Dalseong-gun\",\"coValue\":\"0.3\",\"dataGubun\":\"\",\"dataTime\":\"2018-10-13 15:00\",\"districtCode\":\"053\",\"districtNumSeq\":\"003\",\"itemCode\":\"\",\"khaiValue\":\"\",\"no2Value\":\"0.009\",\"numOfRows\":\"10\",\"o3Value\":\"0.040\",\"pageNo\":\"1\",\"pm10Value\":\"17\",\"pm25Value\":\"8\",\"resultCode\":\"\",\"resultMsg\":\"\",\"searchCondition\":\"\",\"serviceKey\":\"\",\"sidoName\":\"\\xeb\\x8c\\x80\\xea\\xb5\\xac\",\"so2Value\":\"0.001\",\"totalCount\":\"\"},{\"_returnType\":\"json\",\"cityName\":\"\\xeb\\x8f\\x99\\xea\\xb5\\xac\",\"cityNameEng\":\"Dong-gu\",\"coValue\":\"0.3\",\"dataGubun\":\"\",\"dataTime\":\"2018-10-13 15:00\",\"districtCode\":\"053\",\"districtNumSeq\":\"004\",\"itemCode\":\"\",\"khaiValue\":\"\",\"no2Value\":\"0.009\",\"numOfRows\":\"10\",\"o3Value\":\"0.041\",\"pageNo\":\"1\",\"pm10Value\":\"20\",\"pm25Value\":\"5\",\"resultCode\":\"\",\"resultMsg\":\"\",\"searchCondition\":\"\",\"serviceKey\":\"\",\"sidoName\":\"\\xeb\\x8c\\x80\\xea\\xb5\\xac\",\"so2Value\":\"0.002\",\"totalCount\":\"\"},{\"_returnType\":\"json\",\"cityName\":\"\\xeb\\xb6\\x81\\xea\\xb5\\xac\",\"cityNameEng\":\"Buk-gu\",\"coValue\":\"0.3\",\"dataGubun\":\"\",\"dataTime\":\"2018-10-13 15:00\",\"districtCode\":\"053\",\"districtNumSeq\":\"005\",\"itemCode\":\"\",\"khaiValue\":\"\",\"no2Value\":\"0.013\",\"numOfRows\":\"10\",\"o3Value\":\"0.039\",\"pageNo\":\"1\",\"pm10Value\":\"27\",\"pm25Value\":\"10\",\"resultCode\":\"\",\"resultMsg\":\"\",\"searchCondition\":\"\",\"serviceKey\":\"\",\"sidoName\":\"\\xeb\\x8c\\x80\\xea\\xb5\\xac\",\"so2Value\":\"0.002\",\"totalCount\":\"\"},{\"_returnType\":\"json\",\"cityName\":\"\\xec\\x84\\x9c\\xea\\xb5\\xac\",\"cityNameEng\":\"Seo-gu\",\"coValue\":\"0.2\",\"dataGubun\":\"\",\"dataTime\":\"2018-10-13 15:00\",\"districtCode\":\"053\",\"districtNumSeq\":\"006\",\"itemCode\":\"\",\"khaiValue\":\"\",\"no2Value\":\"0.011\",\"numOfRows\":\"10\",\"o3Value\":\"0.037\",\"pageNo\":\"1\",\"pm10Value\":\"15\",\"pm25Value\":\"12\",\"resultCode\":\"\",\"resultMsg\":\"\",\"searchCondition\":\"\",\"serviceKey\":\"\",\"sidoName\":\"\\xeb\\x8c\\x80\\xea\\xb5\\xac\",\"so2Value\":\"0.002\",\"totalCount\":\"\"},{\"_returnType\":\"json\",\"cityName\":\"\\xec\\x88\\x98\\xec\\x84\\xb1\\xea\\xb5\\xac\",\"cityNameEng\":\"Suseong-gu\",\"coValue\":\"0.2\",\"dataGubun\":\"\",\"dataTime\":\"2018-10-13 15:00\",\"districtCode\":\"053\",\"districtNumSeq\":\"007\",\"itemCode\":\"\",\"khaiValue\":\"\",\"no2Value\":\"0.006\",\"numOfRows\":\"10\",\"o3Value\":\"0.044\",\"pageNo\":\"1\",\"pm10Value\":\"17\",\"pm25Value\":\"8\",\"resultCode\":\"\",\"resultMsg\":\"\",\"searchCondition\":\"\",\"serviceKey\":\"\",\"sidoName\":\"\\xeb\\x8c\\x80\\xea\\xb5\\xac\",\"so2Value\":\"0.002\",\"totalCount\":\"\"},{\"_returnType\":\"json\",\"cityName\":\"\\xec\\xa4\\x91\\xea\\xb5\\xac\",\"cityNameEng\":\"Jung-gu\",\"coValue\":\"0.3\",\"dataGubun\":\"\",\"dataTime\":\"2018-10-13 15:00\",\"districtCode\":\"053\",\"districtNumSeq\":\"008\",\"itemCode\":\"\",\"khaiValue\":\"\",\"no2Value\":\"0.014\",\"numOfRows\":\"10\",\"o3Value\":\"0.033\",\"pageNo\":\"1\",\"pm10Value\":\"17\",\"pm25Value\":\"8\",\"resultCode\":\"\",\"resultMsg\":\"\",\"searchCondition\":\"\",\"serviceKey\":\"\",\"sidoName\":\"\\xeb\\x8c\\x80\\xea\\xb5\\xac\",\"so2Value\":\"0.002\",\"totalCount\":\"\"},{\"_returnType\":\"json\",\"cityName\":\"\\xeb\\x82\\xa8\\xea\\xb5\\xac\",\"cityNameEng\":\"Nam-gu\",\"coValue\":\"0.3\",\"dataGubun\":\"\",\"dataTime\":\"2018-10-13 14:00\",\"districtCode\":\"053\",\"districtNumSeq\":\"001\",\"itemCode\":\"\",\"khaiValue\":\"\",\"no2Value\":\"0.009\",\"numOfRows\":\"10\",\"o3Value\":\"0.040\",\"pageNo\":\"1\",\"pm10Value\":\"13\",\"pm25Value\":\"11\",\"resultCode\":\"\",\"resultMsg\":\"\",\"searchCondition\":\"\",\"serviceKey\":\"\",\"sidoName\":\"\\xeb\\x8c\\x80\\xea\\xb5\\xac\",\"so2Value\":\"0.002\",\"totalCount\":\"\"},{\"_returnType\":\"json\",\"cityName\":\"\\xeb\\x8b\\xac\\xec\\x84\\x9c\\xea\\xb5\\xac\",\"cityNameEng\":\"Dalseo-gu\",\"coValue\":\"0.4\",\"dataGubun\":\"\",\"dataTime\":\"2018-10-13 14:00\",\"districtCode\":\"053\",\"districtNumSeq\":\"002\",\"itemCode\":\"\",\"khaiValue\":\"\",\"no2Value\":\"0.011\",\"numOfRows\":\"10\",\"o3Value\":\"0.036\",\"pageNo\":\"1\",\"pm10Value\":\"11\",\"pm25Value\":\"6\",\"resultCode\":\"\",\"resultMsg\":\"\",\"searchCondition\":\"\",\"serviceKey\":\"\",\"sidoName\":\"\\xeb\\x8c\\x80\\xea\\xb5\\xac\",\"so2Value\":\"0.002\",\"totalCount\":\"\"}],\"parm\":{\"_returnType\":\"json\",\"cityName\":\"\",\"cityNameEng\":\"\",\"coValue\":\"\",\"dataGubun\":\"\",\"dataTime\":\"\",\"districtCode\":\"\",\"districtNumSeq\":\"\",\"itemCode\":\"\",\"khaiValue\":\"\",\"no2Value\":\"\",\"numOfRows\":\"10\",\"o3Value\":\"\",\"pageNo\":\"1\",\"pm10Value\":\"\",\"pm25Value\":\"\",\"resultCode\":\"\",\"resultMsg\":\"\",\"searchCondition\":\"DAILY\",\"serviceKey\":\"DG70F1Dk/IJUVnoayuaFbCRKoAhow9pKpax5ofLJmBQG0EOMeos+1BiHE+E2zdrhQI+oiCdWNXHWLLoFzf0uPA==\",\"sidoName\":\"\\xeb\\x8c\\x80\\xea\\xb5\\xac\",\"so2Value\":\"\",\"totalCount\":\"\"},\"CtprvnMesureLIstVo2\":{\"_returnType\":\"json\",\"cityName\":\"\",\"cityNameEng\":\"\",\"coValue\":\"\",\"dataGubun\":\"\",\"dataTime\":\"\",\"districtCode\":\"\",\"districtNumSeq\":\"\",\"itemCode\":\"\",\"khaiValue\":\"\",\"no2Value\":\"\",\"numOfRows\":\"10\",\"o3Value\":\"\",\"pageNo\":\"1\",\"pm10Value\":\"\",\"pm25Value\":\"\",\"resultCode\":\"\",\"resultMsg\":\"\",\"searchCondition\":\"DAILY\",\"serviceKey\":\"DG70F1Dk/IJUVnoayuaFbCRKoAhow9pKpax5ofLJmBQG0EOMeos+1BiHE+E2zdrhQI+oiCdWNXHWLLoFzf0uPA==\",\"sidoName\":\"\\xeb\\x8c\\x80\\xea\\xb5\\xac\",\"so2Value\":\"\",\"totalCount\":\"\"},\"totalCount\":192}'"
      ]
     },
     "execution_count": 84,
     "metadata": {},
     "output_type": "execute_result"
    }
   ],
   "source": [
    "result #현재 서비스키의 경우 이미 byte형인데 byte타입으로 형변환을 해주면서 변형되기 때문에 byte형으로 encoding전에 string형으로 다시 바꿔줌\n",
    "# 변환 전 : DG70F1Dk%2FIJUVnoayuaFbCRKoAhow9pKpax5ofLJmBQG0EOMeos%2B1BiHE%2BE2zdrhQI%2BoiCdWNXHWLLoFzf0uPA%3D%3D\n",
    "# 변환 후 : DG70F1Dk%252FIJUVnoayuaFbCRKoAhow9pKpax5ofLJmBQG0EOMeos%252B1BiHE%252BE2zdrhQI%252BoiCdWNXHWLLoFzf0uPA%253D%253D"
   ]
  },
  {
   "cell_type": "code",
   "execution_count": 85,
   "metadata": {
    "scrolled": true
   },
   "outputs": [
    {
     "data": {
      "text/plain": [
       "bytes"
      ]
     },
     "execution_count": 85,
     "metadata": {},
     "output_type": "execute_result"
    }
   ],
   "source": [
    "type(result)"
   ]
  },
  {
   "cell_type": "code",
   "execution_count": 86,
   "metadata": {
    "collapsed": true
   },
   "outputs": [],
   "source": [
    "resultStr = result.decode(\"utf-8\") # byte타입 객체를 String형으로 디코딩해줌."
   ]
  },
  {
   "cell_type": "code",
   "execution_count": 87,
   "metadata": {},
   "outputs": [
    {
     "data": {
      "text/plain": [
       "str"
      ]
     },
     "execution_count": 87,
     "metadata": {},
     "output_type": "execute_result"
    }
   ],
   "source": [
    "type(resultStr)"
   ]
  },
  {
   "cell_type": "code",
   "execution_count": 88,
   "metadata": {
    "scrolled": true
   },
   "outputs": [
    {
     "data": {
      "text/plain": [
       "'{\"list\":[{\"_returnType\":\"json\",\"cityName\":\"남구\",\"cityNameEng\":\"Nam-gu\",\"coValue\":\"0.3\",\"dataGubun\":\"\",\"dataTime\":\"2018-10-13 15:00\",\"districtCode\":\"053\",\"districtNumSeq\":\"001\",\"itemCode\":\"\",\"khaiValue\":\"\",\"no2Value\":\"0.008\",\"numOfRows\":\"10\",\"o3Value\":\"0.043\",\"pageNo\":\"1\",\"pm10Value\":\"12\",\"pm25Value\":\"12\",\"resultCode\":\"\",\"resultMsg\":\"\",\"searchCondition\":\"\",\"serviceKey\":\"\",\"sidoName\":\"대구\",\"so2Value\":\"0.002\",\"totalCount\":\"\"},{\"_returnType\":\"json\",\"cityName\":\"달서구\",\"cityNameEng\":\"Dalseo-gu\",\"coValue\":\"0.4\",\"dataGubun\":\"\",\"dataTime\":\"2018-10-13 15:00\",\"districtCode\":\"053\",\"districtNumSeq\":\"002\",\"itemCode\":\"\",\"khaiValue\":\"\",\"no2Value\":\"0.011\",\"numOfRows\":\"10\",\"o3Value\":\"0.037\",\"pageNo\":\"1\",\"pm10Value\":\"13\",\"pm25Value\":\"7\",\"resultCode\":\"\",\"resultMsg\":\"\",\"searchCondition\":\"\",\"serviceKey\":\"\",\"sidoName\":\"대구\",\"so2Value\":\"0.002\",\"totalCount\":\"\"},{\"_returnType\":\"json\",\"cityName\":\"달성군\",\"cityNameEng\":\"Dalseong-gun\",\"coValue\":\"0.3\",\"dataGubun\":\"\",\"dataTime\":\"2018-10-13 15:00\",\"districtCode\":\"053\",\"districtNumSeq\":\"003\",\"itemCode\":\"\",\"khaiValue\":\"\",\"no2Value\":\"0.009\",\"numOfRows\":\"10\",\"o3Value\":\"0.040\",\"pageNo\":\"1\",\"pm10Value\":\"17\",\"pm25Value\":\"8\",\"resultCode\":\"\",\"resultMsg\":\"\",\"searchCondition\":\"\",\"serviceKey\":\"\",\"sidoName\":\"대구\",\"so2Value\":\"0.001\",\"totalCount\":\"\"},{\"_returnType\":\"json\",\"cityName\":\"동구\",\"cityNameEng\":\"Dong-gu\",\"coValue\":\"0.3\",\"dataGubun\":\"\",\"dataTime\":\"2018-10-13 15:00\",\"districtCode\":\"053\",\"districtNumSeq\":\"004\",\"itemCode\":\"\",\"khaiValue\":\"\",\"no2Value\":\"0.009\",\"numOfRows\":\"10\",\"o3Value\":\"0.041\",\"pageNo\":\"1\",\"pm10Value\":\"20\",\"pm25Value\":\"5\",\"resultCode\":\"\",\"resultMsg\":\"\",\"searchCondition\":\"\",\"serviceKey\":\"\",\"sidoName\":\"대구\",\"so2Value\":\"0.002\",\"totalCount\":\"\"},{\"_returnType\":\"json\",\"cityName\":\"북구\",\"cityNameEng\":\"Buk-gu\",\"coValue\":\"0.3\",\"dataGubun\":\"\",\"dataTime\":\"2018-10-13 15:00\",\"districtCode\":\"053\",\"districtNumSeq\":\"005\",\"itemCode\":\"\",\"khaiValue\":\"\",\"no2Value\":\"0.013\",\"numOfRows\":\"10\",\"o3Value\":\"0.039\",\"pageNo\":\"1\",\"pm10Value\":\"27\",\"pm25Value\":\"10\",\"resultCode\":\"\",\"resultMsg\":\"\",\"searchCondition\":\"\",\"serviceKey\":\"\",\"sidoName\":\"대구\",\"so2Value\":\"0.002\",\"totalCount\":\"\"},{\"_returnType\":\"json\",\"cityName\":\"서구\",\"cityNameEng\":\"Seo-gu\",\"coValue\":\"0.2\",\"dataGubun\":\"\",\"dataTime\":\"2018-10-13 15:00\",\"districtCode\":\"053\",\"districtNumSeq\":\"006\",\"itemCode\":\"\",\"khaiValue\":\"\",\"no2Value\":\"0.011\",\"numOfRows\":\"10\",\"o3Value\":\"0.037\",\"pageNo\":\"1\",\"pm10Value\":\"15\",\"pm25Value\":\"12\",\"resultCode\":\"\",\"resultMsg\":\"\",\"searchCondition\":\"\",\"serviceKey\":\"\",\"sidoName\":\"대구\",\"so2Value\":\"0.002\",\"totalCount\":\"\"},{\"_returnType\":\"json\",\"cityName\":\"수성구\",\"cityNameEng\":\"Suseong-gu\",\"coValue\":\"0.2\",\"dataGubun\":\"\",\"dataTime\":\"2018-10-13 15:00\",\"districtCode\":\"053\",\"districtNumSeq\":\"007\",\"itemCode\":\"\",\"khaiValue\":\"\",\"no2Value\":\"0.006\",\"numOfRows\":\"10\",\"o3Value\":\"0.044\",\"pageNo\":\"1\",\"pm10Value\":\"17\",\"pm25Value\":\"8\",\"resultCode\":\"\",\"resultMsg\":\"\",\"searchCondition\":\"\",\"serviceKey\":\"\",\"sidoName\":\"대구\",\"so2Value\":\"0.002\",\"totalCount\":\"\"},{\"_returnType\":\"json\",\"cityName\":\"중구\",\"cityNameEng\":\"Jung-gu\",\"coValue\":\"0.3\",\"dataGubun\":\"\",\"dataTime\":\"2018-10-13 15:00\",\"districtCode\":\"053\",\"districtNumSeq\":\"008\",\"itemCode\":\"\",\"khaiValue\":\"\",\"no2Value\":\"0.014\",\"numOfRows\":\"10\",\"o3Value\":\"0.033\",\"pageNo\":\"1\",\"pm10Value\":\"17\",\"pm25Value\":\"8\",\"resultCode\":\"\",\"resultMsg\":\"\",\"searchCondition\":\"\",\"serviceKey\":\"\",\"sidoName\":\"대구\",\"so2Value\":\"0.002\",\"totalCount\":\"\"},{\"_returnType\":\"json\",\"cityName\":\"남구\",\"cityNameEng\":\"Nam-gu\",\"coValue\":\"0.3\",\"dataGubun\":\"\",\"dataTime\":\"2018-10-13 14:00\",\"districtCode\":\"053\",\"districtNumSeq\":\"001\",\"itemCode\":\"\",\"khaiValue\":\"\",\"no2Value\":\"0.009\",\"numOfRows\":\"10\",\"o3Value\":\"0.040\",\"pageNo\":\"1\",\"pm10Value\":\"13\",\"pm25Value\":\"11\",\"resultCode\":\"\",\"resultMsg\":\"\",\"searchCondition\":\"\",\"serviceKey\":\"\",\"sidoName\":\"대구\",\"so2Value\":\"0.002\",\"totalCount\":\"\"},{\"_returnType\":\"json\",\"cityName\":\"달서구\",\"cityNameEng\":\"Dalseo-gu\",\"coValue\":\"0.4\",\"dataGubun\":\"\",\"dataTime\":\"2018-10-13 14:00\",\"districtCode\":\"053\",\"districtNumSeq\":\"002\",\"itemCode\":\"\",\"khaiValue\":\"\",\"no2Value\":\"0.011\",\"numOfRows\":\"10\",\"o3Value\":\"0.036\",\"pageNo\":\"1\",\"pm10Value\":\"11\",\"pm25Value\":\"6\",\"resultCode\":\"\",\"resultMsg\":\"\",\"searchCondition\":\"\",\"serviceKey\":\"\",\"sidoName\":\"대구\",\"so2Value\":\"0.002\",\"totalCount\":\"\"}],\"parm\":{\"_returnType\":\"json\",\"cityName\":\"\",\"cityNameEng\":\"\",\"coValue\":\"\",\"dataGubun\":\"\",\"dataTime\":\"\",\"districtCode\":\"\",\"districtNumSeq\":\"\",\"itemCode\":\"\",\"khaiValue\":\"\",\"no2Value\":\"\",\"numOfRows\":\"10\",\"o3Value\":\"\",\"pageNo\":\"1\",\"pm10Value\":\"\",\"pm25Value\":\"\",\"resultCode\":\"\",\"resultMsg\":\"\",\"searchCondition\":\"DAILY\",\"serviceKey\":\"DG70F1Dk/IJUVnoayuaFbCRKoAhow9pKpax5ofLJmBQG0EOMeos+1BiHE+E2zdrhQI+oiCdWNXHWLLoFzf0uPA==\",\"sidoName\":\"대구\",\"so2Value\":\"\",\"totalCount\":\"\"},\"CtprvnMesureLIstVo2\":{\"_returnType\":\"json\",\"cityName\":\"\",\"cityNameEng\":\"\",\"coValue\":\"\",\"dataGubun\":\"\",\"dataTime\":\"\",\"districtCode\":\"\",\"districtNumSeq\":\"\",\"itemCode\":\"\",\"khaiValue\":\"\",\"no2Value\":\"\",\"numOfRows\":\"10\",\"o3Value\":\"\",\"pageNo\":\"1\",\"pm10Value\":\"\",\"pm25Value\":\"\",\"resultCode\":\"\",\"resultMsg\":\"\",\"searchCondition\":\"DAILY\",\"serviceKey\":\"DG70F1Dk/IJUVnoayuaFbCRKoAhow9pKpax5ofLJmBQG0EOMeos+1BiHE+E2zdrhQI+oiCdWNXHWLLoFzf0uPA==\",\"sidoName\":\"대구\",\"so2Value\":\"\",\"totalCount\":\"\"},\"totalCount\":192}'"
      ]
     },
     "execution_count": 88,
     "metadata": {},
     "output_type": "execute_result"
    }
   ],
   "source": [
    "resultStr"
   ]
  },
  {
   "cell_type": "code",
   "execution_count": 89,
   "metadata": {
    "collapsed": true
   },
   "outputs": [],
   "source": [
    "resultObj = json.loads(resultStr) #메모리에서 json불러와준다. json내용을 python의 dict구조로 리턴해줌."
   ]
  },
  {
   "cell_type": "code",
   "execution_count": 90,
   "metadata": {},
   "outputs": [
    {
     "data": {
      "text/plain": [
       "[{'_returnType': 'json',\n",
       "  'cityName': '남구',\n",
       "  'cityNameEng': 'Nam-gu',\n",
       "  'coValue': '0.3',\n",
       "  'dataGubun': '',\n",
       "  'dataTime': '2018-10-13 15:00',\n",
       "  'districtCode': '053',\n",
       "  'districtNumSeq': '001',\n",
       "  'itemCode': '',\n",
       "  'khaiValue': '',\n",
       "  'no2Value': '0.008',\n",
       "  'numOfRows': '10',\n",
       "  'o3Value': '0.043',\n",
       "  'pageNo': '1',\n",
       "  'pm10Value': '12',\n",
       "  'pm25Value': '12',\n",
       "  'resultCode': '',\n",
       "  'resultMsg': '',\n",
       "  'searchCondition': '',\n",
       "  'serviceKey': '',\n",
       "  'sidoName': '대구',\n",
       "  'so2Value': '0.002',\n",
       "  'totalCount': ''},\n",
       " {'_returnType': 'json',\n",
       "  'cityName': '달서구',\n",
       "  'cityNameEng': 'Dalseo-gu',\n",
       "  'coValue': '0.4',\n",
       "  'dataGubun': '',\n",
       "  'dataTime': '2018-10-13 15:00',\n",
       "  'districtCode': '053',\n",
       "  'districtNumSeq': '002',\n",
       "  'itemCode': '',\n",
       "  'khaiValue': '',\n",
       "  'no2Value': '0.011',\n",
       "  'numOfRows': '10',\n",
       "  'o3Value': '0.037',\n",
       "  'pageNo': '1',\n",
       "  'pm10Value': '13',\n",
       "  'pm25Value': '7',\n",
       "  'resultCode': '',\n",
       "  'resultMsg': '',\n",
       "  'searchCondition': '',\n",
       "  'serviceKey': '',\n",
       "  'sidoName': '대구',\n",
       "  'so2Value': '0.002',\n",
       "  'totalCount': ''},\n",
       " {'_returnType': 'json',\n",
       "  'cityName': '달성군',\n",
       "  'cityNameEng': 'Dalseong-gun',\n",
       "  'coValue': '0.3',\n",
       "  'dataGubun': '',\n",
       "  'dataTime': '2018-10-13 15:00',\n",
       "  'districtCode': '053',\n",
       "  'districtNumSeq': '003',\n",
       "  'itemCode': '',\n",
       "  'khaiValue': '',\n",
       "  'no2Value': '0.009',\n",
       "  'numOfRows': '10',\n",
       "  'o3Value': '0.040',\n",
       "  'pageNo': '1',\n",
       "  'pm10Value': '17',\n",
       "  'pm25Value': '8',\n",
       "  'resultCode': '',\n",
       "  'resultMsg': '',\n",
       "  'searchCondition': '',\n",
       "  'serviceKey': '',\n",
       "  'sidoName': '대구',\n",
       "  'so2Value': '0.001',\n",
       "  'totalCount': ''},\n",
       " {'_returnType': 'json',\n",
       "  'cityName': '동구',\n",
       "  'cityNameEng': 'Dong-gu',\n",
       "  'coValue': '0.3',\n",
       "  'dataGubun': '',\n",
       "  'dataTime': '2018-10-13 15:00',\n",
       "  'districtCode': '053',\n",
       "  'districtNumSeq': '004',\n",
       "  'itemCode': '',\n",
       "  'khaiValue': '',\n",
       "  'no2Value': '0.009',\n",
       "  'numOfRows': '10',\n",
       "  'o3Value': '0.041',\n",
       "  'pageNo': '1',\n",
       "  'pm10Value': '20',\n",
       "  'pm25Value': '5',\n",
       "  'resultCode': '',\n",
       "  'resultMsg': '',\n",
       "  'searchCondition': '',\n",
       "  'serviceKey': '',\n",
       "  'sidoName': '대구',\n",
       "  'so2Value': '0.002',\n",
       "  'totalCount': ''},\n",
       " {'_returnType': 'json',\n",
       "  'cityName': '북구',\n",
       "  'cityNameEng': 'Buk-gu',\n",
       "  'coValue': '0.3',\n",
       "  'dataGubun': '',\n",
       "  'dataTime': '2018-10-13 15:00',\n",
       "  'districtCode': '053',\n",
       "  'districtNumSeq': '005',\n",
       "  'itemCode': '',\n",
       "  'khaiValue': '',\n",
       "  'no2Value': '0.013',\n",
       "  'numOfRows': '10',\n",
       "  'o3Value': '0.039',\n",
       "  'pageNo': '1',\n",
       "  'pm10Value': '27',\n",
       "  'pm25Value': '10',\n",
       "  'resultCode': '',\n",
       "  'resultMsg': '',\n",
       "  'searchCondition': '',\n",
       "  'serviceKey': '',\n",
       "  'sidoName': '대구',\n",
       "  'so2Value': '0.002',\n",
       "  'totalCount': ''},\n",
       " {'_returnType': 'json',\n",
       "  'cityName': '서구',\n",
       "  'cityNameEng': 'Seo-gu',\n",
       "  'coValue': '0.2',\n",
       "  'dataGubun': '',\n",
       "  'dataTime': '2018-10-13 15:00',\n",
       "  'districtCode': '053',\n",
       "  'districtNumSeq': '006',\n",
       "  'itemCode': '',\n",
       "  'khaiValue': '',\n",
       "  'no2Value': '0.011',\n",
       "  'numOfRows': '10',\n",
       "  'o3Value': '0.037',\n",
       "  'pageNo': '1',\n",
       "  'pm10Value': '15',\n",
       "  'pm25Value': '12',\n",
       "  'resultCode': '',\n",
       "  'resultMsg': '',\n",
       "  'searchCondition': '',\n",
       "  'serviceKey': '',\n",
       "  'sidoName': '대구',\n",
       "  'so2Value': '0.002',\n",
       "  'totalCount': ''},\n",
       " {'_returnType': 'json',\n",
       "  'cityName': '수성구',\n",
       "  'cityNameEng': 'Suseong-gu',\n",
       "  'coValue': '0.2',\n",
       "  'dataGubun': '',\n",
       "  'dataTime': '2018-10-13 15:00',\n",
       "  'districtCode': '053',\n",
       "  'districtNumSeq': '007',\n",
       "  'itemCode': '',\n",
       "  'khaiValue': '',\n",
       "  'no2Value': '0.006',\n",
       "  'numOfRows': '10',\n",
       "  'o3Value': '0.044',\n",
       "  'pageNo': '1',\n",
       "  'pm10Value': '17',\n",
       "  'pm25Value': '8',\n",
       "  'resultCode': '',\n",
       "  'resultMsg': '',\n",
       "  'searchCondition': '',\n",
       "  'serviceKey': '',\n",
       "  'sidoName': '대구',\n",
       "  'so2Value': '0.002',\n",
       "  'totalCount': ''},\n",
       " {'_returnType': 'json',\n",
       "  'cityName': '중구',\n",
       "  'cityNameEng': 'Jung-gu',\n",
       "  'coValue': '0.3',\n",
       "  'dataGubun': '',\n",
       "  'dataTime': '2018-10-13 15:00',\n",
       "  'districtCode': '053',\n",
       "  'districtNumSeq': '008',\n",
       "  'itemCode': '',\n",
       "  'khaiValue': '',\n",
       "  'no2Value': '0.014',\n",
       "  'numOfRows': '10',\n",
       "  'o3Value': '0.033',\n",
       "  'pageNo': '1',\n",
       "  'pm10Value': '17',\n",
       "  'pm25Value': '8',\n",
       "  'resultCode': '',\n",
       "  'resultMsg': '',\n",
       "  'searchCondition': '',\n",
       "  'serviceKey': '',\n",
       "  'sidoName': '대구',\n",
       "  'so2Value': '0.002',\n",
       "  'totalCount': ''},\n",
       " {'_returnType': 'json',\n",
       "  'cityName': '남구',\n",
       "  'cityNameEng': 'Nam-gu',\n",
       "  'coValue': '0.3',\n",
       "  'dataGubun': '',\n",
       "  'dataTime': '2018-10-13 14:00',\n",
       "  'districtCode': '053',\n",
       "  'districtNumSeq': '001',\n",
       "  'itemCode': '',\n",
       "  'khaiValue': '',\n",
       "  'no2Value': '0.009',\n",
       "  'numOfRows': '10',\n",
       "  'o3Value': '0.040',\n",
       "  'pageNo': '1',\n",
       "  'pm10Value': '13',\n",
       "  'pm25Value': '11',\n",
       "  'resultCode': '',\n",
       "  'resultMsg': '',\n",
       "  'searchCondition': '',\n",
       "  'serviceKey': '',\n",
       "  'sidoName': '대구',\n",
       "  'so2Value': '0.002',\n",
       "  'totalCount': ''},\n",
       " {'_returnType': 'json',\n",
       "  'cityName': '달서구',\n",
       "  'cityNameEng': 'Dalseo-gu',\n",
       "  'coValue': '0.4',\n",
       "  'dataGubun': '',\n",
       "  'dataTime': '2018-10-13 14:00',\n",
       "  'districtCode': '053',\n",
       "  'districtNumSeq': '002',\n",
       "  'itemCode': '',\n",
       "  'khaiValue': '',\n",
       "  'no2Value': '0.011',\n",
       "  'numOfRows': '10',\n",
       "  'o3Value': '0.036',\n",
       "  'pageNo': '1',\n",
       "  'pm10Value': '11',\n",
       "  'pm25Value': '6',\n",
       "  'resultCode': '',\n",
       "  'resultMsg': '',\n",
       "  'searchCondition': '',\n",
       "  'serviceKey': '',\n",
       "  'sidoName': '대구',\n",
       "  'so2Value': '0.002',\n",
       "  'totalCount': ''}]"
      ]
     },
     "execution_count": 90,
     "metadata": {},
     "output_type": "execute_result"
    }
   ],
   "source": [
    "resultObj[\"list\"]"
   ]
  },
  {
   "cell_type": "code",
   "execution_count": 91,
   "metadata": {
    "scrolled": true
   },
   "outputs": [
    {
     "name": "stdout",
     "output_type": "stream",
     "text": [
      "list [{'_returnType': 'json', 'cityName': '남구', 'cityNameEng': 'Nam-gu', 'coValue': '0.3', 'dataGubun': '', 'dataTime': '2018-10-13 15:00', 'districtCode': '053', 'districtNumSeq': '001', 'itemCode': '', 'khaiValue': '', 'no2Value': '0.008', 'numOfRows': '10', 'o3Value': '0.043', 'pageNo': '1', 'pm10Value': '12', 'pm25Value': '12', 'resultCode': '', 'resultMsg': '', 'searchCondition': '', 'serviceKey': '', 'sidoName': '대구', 'so2Value': '0.002', 'totalCount': ''}, {'_returnType': 'json', 'cityName': '달서구', 'cityNameEng': 'Dalseo-gu', 'coValue': '0.4', 'dataGubun': '', 'dataTime': '2018-10-13 15:00', 'districtCode': '053', 'districtNumSeq': '002', 'itemCode': '', 'khaiValue': '', 'no2Value': '0.011', 'numOfRows': '10', 'o3Value': '0.037', 'pageNo': '1', 'pm10Value': '13', 'pm25Value': '7', 'resultCode': '', 'resultMsg': '', 'searchCondition': '', 'serviceKey': '', 'sidoName': '대구', 'so2Value': '0.002', 'totalCount': ''}, {'_returnType': 'json', 'cityName': '달성군', 'cityNameEng': 'Dalseong-gun', 'coValue': '0.3', 'dataGubun': '', 'dataTime': '2018-10-13 15:00', 'districtCode': '053', 'districtNumSeq': '003', 'itemCode': '', 'khaiValue': '', 'no2Value': '0.009', 'numOfRows': '10', 'o3Value': '0.040', 'pageNo': '1', 'pm10Value': '17', 'pm25Value': '8', 'resultCode': '', 'resultMsg': '', 'searchCondition': '', 'serviceKey': '', 'sidoName': '대구', 'so2Value': '0.001', 'totalCount': ''}, {'_returnType': 'json', 'cityName': '동구', 'cityNameEng': 'Dong-gu', 'coValue': '0.3', 'dataGubun': '', 'dataTime': '2018-10-13 15:00', 'districtCode': '053', 'districtNumSeq': '004', 'itemCode': '', 'khaiValue': '', 'no2Value': '0.009', 'numOfRows': '10', 'o3Value': '0.041', 'pageNo': '1', 'pm10Value': '20', 'pm25Value': '5', 'resultCode': '', 'resultMsg': '', 'searchCondition': '', 'serviceKey': '', 'sidoName': '대구', 'so2Value': '0.002', 'totalCount': ''}, {'_returnType': 'json', 'cityName': '북구', 'cityNameEng': 'Buk-gu', 'coValue': '0.3', 'dataGubun': '', 'dataTime': '2018-10-13 15:00', 'districtCode': '053', 'districtNumSeq': '005', 'itemCode': '', 'khaiValue': '', 'no2Value': '0.013', 'numOfRows': '10', 'o3Value': '0.039', 'pageNo': '1', 'pm10Value': '27', 'pm25Value': '10', 'resultCode': '', 'resultMsg': '', 'searchCondition': '', 'serviceKey': '', 'sidoName': '대구', 'so2Value': '0.002', 'totalCount': ''}, {'_returnType': 'json', 'cityName': '서구', 'cityNameEng': 'Seo-gu', 'coValue': '0.2', 'dataGubun': '', 'dataTime': '2018-10-13 15:00', 'districtCode': '053', 'districtNumSeq': '006', 'itemCode': '', 'khaiValue': '', 'no2Value': '0.011', 'numOfRows': '10', 'o3Value': '0.037', 'pageNo': '1', 'pm10Value': '15', 'pm25Value': '12', 'resultCode': '', 'resultMsg': '', 'searchCondition': '', 'serviceKey': '', 'sidoName': '대구', 'so2Value': '0.002', 'totalCount': ''}, {'_returnType': 'json', 'cityName': '수성구', 'cityNameEng': 'Suseong-gu', 'coValue': '0.2', 'dataGubun': '', 'dataTime': '2018-10-13 15:00', 'districtCode': '053', 'districtNumSeq': '007', 'itemCode': '', 'khaiValue': '', 'no2Value': '0.006', 'numOfRows': '10', 'o3Value': '0.044', 'pageNo': '1', 'pm10Value': '17', 'pm25Value': '8', 'resultCode': '', 'resultMsg': '', 'searchCondition': '', 'serviceKey': '', 'sidoName': '대구', 'so2Value': '0.002', 'totalCount': ''}, {'_returnType': 'json', 'cityName': '중구', 'cityNameEng': 'Jung-gu', 'coValue': '0.3', 'dataGubun': '', 'dataTime': '2018-10-13 15:00', 'districtCode': '053', 'districtNumSeq': '008', 'itemCode': '', 'khaiValue': '', 'no2Value': '0.014', 'numOfRows': '10', 'o3Value': '0.033', 'pageNo': '1', 'pm10Value': '17', 'pm25Value': '8', 'resultCode': '', 'resultMsg': '', 'searchCondition': '', 'serviceKey': '', 'sidoName': '대구', 'so2Value': '0.002', 'totalCount': ''}, {'_returnType': 'json', 'cityName': '남구', 'cityNameEng': 'Nam-gu', 'coValue': '0.3', 'dataGubun': '', 'dataTime': '2018-10-13 14:00', 'districtCode': '053', 'districtNumSeq': '001', 'itemCode': '', 'khaiValue': '', 'no2Value': '0.009', 'numOfRows': '10', 'o3Value': '0.040', 'pageNo': '1', 'pm10Value': '13', 'pm25Value': '11', 'resultCode': '', 'resultMsg': '', 'searchCondition': '', 'serviceKey': '', 'sidoName': '대구', 'so2Value': '0.002', 'totalCount': ''}, {'_returnType': 'json', 'cityName': '달서구', 'cityNameEng': 'Dalseo-gu', 'coValue': '0.4', 'dataGubun': '', 'dataTime': '2018-10-13 14:00', 'districtCode': '053', 'districtNumSeq': '002', 'itemCode': '', 'khaiValue': '', 'no2Value': '0.011', 'numOfRows': '10', 'o3Value': '0.036', 'pageNo': '1', 'pm10Value': '11', 'pm25Value': '6', 'resultCode': '', 'resultMsg': '', 'searchCondition': '', 'serviceKey': '', 'sidoName': '대구', 'so2Value': '0.002', 'totalCount': ''}]\n",
      "parm {'_returnType': 'json', 'cityName': '', 'cityNameEng': '', 'coValue': '', 'dataGubun': '', 'dataTime': '', 'districtCode': '', 'districtNumSeq': '', 'itemCode': '', 'khaiValue': '', 'no2Value': '', 'numOfRows': '10', 'o3Value': '', 'pageNo': '1', 'pm10Value': '', 'pm25Value': '', 'resultCode': '', 'resultMsg': '', 'searchCondition': 'DAILY', 'serviceKey': 'DG70F1Dk/IJUVnoayuaFbCRKoAhow9pKpax5ofLJmBQG0EOMeos+1BiHE+E2zdrhQI+oiCdWNXHWLLoFzf0uPA==', 'sidoName': '대구', 'so2Value': '', 'totalCount': ''}\n",
      "CtprvnMesureLIstVo2 {'_returnType': 'json', 'cityName': '', 'cityNameEng': '', 'coValue': '', 'dataGubun': '', 'dataTime': '', 'districtCode': '', 'districtNumSeq': '', 'itemCode': '', 'khaiValue': '', 'no2Value': '', 'numOfRows': '10', 'o3Value': '', 'pageNo': '1', 'pm10Value': '', 'pm25Value': '', 'resultCode': '', 'resultMsg': '', 'searchCondition': 'DAILY', 'serviceKey': 'DG70F1Dk/IJUVnoayuaFbCRKoAhow9pKpax5ofLJmBQG0EOMeos+1BiHE+E2zdrhQI+oiCdWNXHWLLoFzf0uPA==', 'sidoName': '대구', 'so2Value': '', 'totalCount': ''}\n",
      "totalCount 192\n"
     ]
    }
   ],
   "source": [
    "for (k,v) in resultObj.items(): #dict의 key. value값을 다 출력해줌.\n",
    "    print(k,v)"
   ]
  },
  {
   "cell_type": "markdown",
   "metadata": {},
   "source": [
    "## XML"
   ]
  },
  {
   "cell_type": "code",
   "execution_count": 92,
   "metadata": {
    "collapsed": true
   },
   "outputs": [],
   "source": [
    "from lxml import etree # ElementTree에 대해서 다룰 수 있게 해주는 모듈이다."
   ]
  },
  {
   "cell_type": "code",
   "execution_count": 94,
   "metadata": {},
   "outputs": [
    {
     "data": {
      "text/plain": [
       "['AncestorsIterator',\n",
       " 'AttributeBasedElementClassLookup',\n",
       " 'C14NError',\n",
       " 'CDATA',\n",
       " 'Comment',\n",
       " 'CommentBase',\n",
       " 'CustomElementClassLookup',\n",
       " 'DEBUG',\n",
       " 'DTD',\n",
       " 'DTDError',\n",
       " 'DTDParseError',\n",
       " 'DTDValidateError',\n",
       " 'DocInfo',\n",
       " 'DocumentInvalid',\n",
       " 'ETCompatXMLParser',\n",
       " 'ETXPath',\n",
       " 'Element',\n",
       " 'ElementBase',\n",
       " 'ElementChildIterator',\n",
       " 'ElementClassLookup',\n",
       " 'ElementDefaultClassLookup',\n",
       " 'ElementDepthFirstIterator',\n",
       " 'ElementNamespaceClassLookup',\n",
       " 'ElementTextIterator',\n",
       " 'ElementTree',\n",
       " 'Entity',\n",
       " 'EntityBase',\n",
       " 'Error',\n",
       " 'ErrorDomains',\n",
       " 'ErrorLevels',\n",
       " 'ErrorTypes',\n",
       " 'Extension',\n",
       " 'FallbackElementClassLookup',\n",
       " 'FunctionNamespace',\n",
       " 'HTML',\n",
       " 'HTMLParser',\n",
       " 'HTMLPullParser',\n",
       " 'LIBXML_COMPILED_VERSION',\n",
       " 'LIBXML_VERSION',\n",
       " 'LIBXSLT_COMPILED_VERSION',\n",
       " 'LIBXSLT_VERSION',\n",
       " 'LXML_VERSION',\n",
       " 'LxmlError',\n",
       " 'LxmlRegistryError',\n",
       " 'LxmlSyntaxError',\n",
       " 'NamespaceRegistryError',\n",
       " 'PI',\n",
       " 'PIBase',\n",
       " 'ParseError',\n",
       " 'ParserBasedElementClassLookup',\n",
       " 'ParserError',\n",
       " 'ProcessingInstruction',\n",
       " 'PyErrorLog',\n",
       " 'PythonElementClassLookup',\n",
       " 'QName',\n",
       " 'RelaxNG',\n",
       " 'RelaxNGError',\n",
       " 'RelaxNGErrorTypes',\n",
       " 'RelaxNGParseError',\n",
       " 'RelaxNGValidateError',\n",
       " 'Resolver',\n",
       " 'Schematron',\n",
       " 'SchematronError',\n",
       " 'SchematronParseError',\n",
       " 'SchematronValidateError',\n",
       " 'SerialisationError',\n",
       " 'SiblingsIterator',\n",
       " 'SubElement',\n",
       " 'TreeBuilder',\n",
       " 'XInclude',\n",
       " 'XIncludeError',\n",
       " 'XML',\n",
       " 'XMLDTDID',\n",
       " 'XMLID',\n",
       " 'XMLParser',\n",
       " 'XMLPullParser',\n",
       " 'XMLSchema',\n",
       " 'XMLSchemaError',\n",
       " 'XMLSchemaParseError',\n",
       " 'XMLSchemaValidateError',\n",
       " 'XMLSyntaxError',\n",
       " 'XMLTreeBuilder',\n",
       " 'XPath',\n",
       " 'XPathDocumentEvaluator',\n",
       " 'XPathElementEvaluator',\n",
       " 'XPathError',\n",
       " 'XPathEvalError',\n",
       " 'XPathEvaluator',\n",
       " 'XPathFunctionError',\n",
       " 'XPathResultError',\n",
       " 'XPathSyntaxError',\n",
       " 'XSLT',\n",
       " 'XSLTAccessControl',\n",
       " 'XSLTApplyError',\n",
       " 'XSLTError',\n",
       " 'XSLTExtension',\n",
       " 'XSLTExtensionError',\n",
       " 'XSLTParseError',\n",
       " 'XSLTSaveError',\n",
       " '_Attrib',\n",
       " '_BaseErrorLog',\n",
       " '_Comment',\n",
       " '_Document',\n",
       " '_DomainErrorLog',\n",
       " '_Element',\n",
       " '_ElementIterator',\n",
       " '_ElementMatchIterator',\n",
       " '_ElementStringResult',\n",
       " '_ElementTagMatcher',\n",
       " '_ElementTree',\n",
       " '_ElementUnicodeResult',\n",
       " '_Entity',\n",
       " '_ErrorLog',\n",
       " '_FeedParser',\n",
       " '_IDDict',\n",
       " '_ListErrorLog',\n",
       " '_LogEntry',\n",
       " '_ProcessingInstruction',\n",
       " '_RotatingErrorLog',\n",
       " '_SaxParserTarget',\n",
       " '_TargetParserResult',\n",
       " '_Validator',\n",
       " '_XPathEvaluatorBase',\n",
       " '_XSLTProcessingInstruction',\n",
       " '_XSLTResultTree',\n",
       " '__all__',\n",
       " '__builtins__',\n",
       " '__doc__',\n",
       " '__docformat__',\n",
       " '__file__',\n",
       " '__loader__',\n",
       " '__name__',\n",
       " '__package__',\n",
       " '__pyx_capi__',\n",
       " '__spec__',\n",
       " '__test__',\n",
       " '__version__',\n",
       " 'adopt_external_document',\n",
       " 'cleanup_namespaces',\n",
       " 'clear_error_log',\n",
       " 'dump',\n",
       " 'fromstring',\n",
       " 'fromstringlist',\n",
       " 'get_default_parser',\n",
       " 'htmlfile',\n",
       " 'iselement',\n",
       " 'iterparse',\n",
       " 'iterwalk',\n",
       " 'memory_debugger',\n",
       " 'parse',\n",
       " 'parseid',\n",
       " 'register_namespace',\n",
       " 'set_default_parser',\n",
       " 'set_element_class_lookup',\n",
       " 'strip_attributes',\n",
       " 'strip_elements',\n",
       " 'strip_tags',\n",
       " 'tostring',\n",
       " 'tostringlist',\n",
       " 'tounicode',\n",
       " 'use_global_python_log',\n",
       " 'xmlfile']"
      ]
     },
     "execution_count": 94,
     "metadata": {},
     "output_type": "execute_result"
    }
   ],
   "source": [
    "dir(etree) #Element관련부분, SubElement 관련부분들을 쓸 것이다."
   ]
  },
  {
   "cell_type": "code",
   "execution_count": 95,
   "metadata": {
    "collapsed": true
   },
   "outputs": [],
   "source": [
    "bookstore = etree.Element(\"bookstore\") #bookstore 노드를 만듬"
   ]
  },
  {
   "cell_type": "code",
   "execution_count": 96,
   "metadata": {
    "collapsed": true
   },
   "outputs": [],
   "source": [
    "book1 =  etree.SubElement(bookstore, \"book\") #bookstore에 대한 서브노드 book을 만듬\n",
    "# bookstore의 child node로 book이 들어갔다."
   ]
  },
  {
   "cell_type": "code",
   "execution_count": 97,
   "metadata": {
    "collapsed": true
   },
   "outputs": [],
   "source": [
    "book2 =  etree.SubElement(bookstore, \"book\", attrib={\"category\": \"children\"}) \n",
    "# book 서브 노드에 category attribute를 추가함"
   ]
  },
  {
   "cell_type": "code",
   "execution_count": 98,
   "metadata": {
    "collapsed": true
   },
   "outputs": [],
   "source": [
    "book1.attrib[\"category\"] = \"cooking\" #book1의 category attribute에 cooking을 넣어줌"
   ]
  },
  {
   "cell_type": "code",
   "execution_count": 99,
   "metadata": {},
   "outputs": [
    {
     "name": "stdout",
     "output_type": "stream",
     "text": [
      "<Element bookstore at 0x1e4592fa288>\n"
     ]
    }
   ],
   "source": [
    "print(bookstore) #객체라서 print 안됨."
   ]
  },
  {
   "cell_type": "code",
   "execution_count": 100,
   "metadata": {
    "collapsed": true
   },
   "outputs": [],
   "source": [
    "title1 = etree.Element(\"title\") # title Node를 만들어줌."
   ]
  },
  {
   "cell_type": "code",
   "execution_count": 101,
   "metadata": {
    "scrolled": true
   },
   "outputs": [
    {
     "name": "stdout",
     "output_type": "stream",
     "text": [
      "<bookstore>\n",
      "  <book category=\"cooking\"/>\n",
      "  <book category=\"children\"/>\n",
      "</bookstore>\n"
     ]
    }
   ],
   "source": [
    "#etree.tostring(bookstore, pretty_print = True) \n",
    "#bookstore 객체를 Byte형태로 바꿔줌\n",
    "#pretty_print = True를 통해서 indentation해줌\n",
    "\n",
    "etree.dump(bookstore) # dump는 표준출력 형태로 출력해줌\n",
    "#Writes an element tree or element structure to sys.stdout"
   ]
  },
  {
   "cell_type": "code",
   "execution_count": 102,
   "metadata": {
    "collapsed": true
   },
   "outputs": [],
   "source": [
    "title1.text = \"Harry Potter\" #title1이라는 노드에 Harry Potter라는 text을 넣어줌"
   ]
  },
  {
   "cell_type": "code",
   "execution_count": 103,
   "metadata": {
    "collapsed": true
   },
   "outputs": [],
   "source": [
    "title1.attrib[\"lang\"] = \"en\" #lang이라는 attribute에 en이라는 값을 줌"
   ]
  },
  {
   "cell_type": "code",
   "execution_count": 104,
   "metadata": {},
   "outputs": [
    {
     "name": "stdout",
     "output_type": "stream",
     "text": [
      "<title lang=\"en\">Harry Potter</title>\n"
     ]
    }
   ],
   "source": [
    "etree.dump(title1) # title이라는 이름의 노드에 en 값을 가지는 lang attribute가 있음을 알수 있다.\n",
    "# 그리고 Harry Potter라는 텍스트도 지니고 있음을 알 수 있다."
   ]
  },
  {
   "cell_type": "code",
   "execution_count": 105,
   "metadata": {
    "collapsed": true
   },
   "outputs": [],
   "source": [
    "book2.append(title1) #book2에 title1을 서브노드로 둠"
   ]
  },
  {
   "cell_type": "code",
   "execution_count": 106,
   "metadata": {
    "scrolled": true
   },
   "outputs": [
    {
     "name": "stdout",
     "output_type": "stream",
     "text": [
      "<bookstore>\n",
      "  <book category=\"cooking\"/>\n",
      "  <book category=\"children\">\n",
      "    <title lang=\"en\">Harry Potter</title>\n",
      "  </book>\n",
      "</bookstore>\n"
     ]
    }
   ],
   "source": [
    "etree.dump(bookstore)"
   ]
  },
  {
   "cell_type": "code",
   "execution_count": 89,
   "metadata": {
    "scrolled": true
   },
   "outputs": [
    {
     "data": {
      "text/plain": [
       "<Element title at 0x1fa5ee0f248>"
      ]
     },
     "execution_count": 89,
     "metadata": {},
     "output_type": "execute_result"
    }
   ],
   "source": [
    "etree.SubElement(book1, \"title\", attrib={\"lang\":title1.get(\"lang\")}) \n",
    "#book1에 title이라는 서브노드를 만들 것임\n",
    "#title1의 lang attribute의 값을 가져와서 title이라는 서브노드의 lang attribute에 저장"
   ]
  },
  {
   "cell_type": "code",
   "execution_count": 90,
   "metadata": {
    "scrolled": true
   },
   "outputs": [
    {
     "name": "stdout",
     "output_type": "stream",
     "text": [
      "<bookstore>\n",
      "  <book category=\"cookinig\">\n",
      "    <title lang=\"en\"/>\n",
      "  </book>\n",
      "  <book category=\"children\">\n",
      "    <title lang=\"en\">Harry Potter</title>\n",
      "  </book>\n",
      "</bookstore>\n"
     ]
    }
   ],
   "source": [
    "etree.dump(bookstore)"
   ]
  },
  {
   "cell_type": "code",
   "execution_count": 107,
   "metadata": {},
   "outputs": [
    {
     "data": {
      "text/plain": [
       "lxml.etree._Element"
      ]
     },
     "execution_count": 107,
     "metadata": {},
     "output_type": "execute_result"
    }
   ],
   "source": [
    "type(bookstore)"
   ]
  },
  {
   "cell_type": "code",
   "execution_count": 108,
   "metadata": {
    "collapsed": true
   },
   "outputs": [],
   "source": [
    "xmlByte = etree.tostring(bookstore, xml_declaration=True, encoding='utf-8') \n",
    "#byte타입으로 xml을 변환해줌.  xml버전, 인코딩 버전을 알려줌. encoding utf-8"
   ]
  },
  {
   "cell_type": "code",
   "execution_count": 109,
   "metadata": {},
   "outputs": [
    {
     "data": {
      "text/plain": [
       "bytes"
      ]
     },
     "execution_count": 109,
     "metadata": {},
     "output_type": "execute_result"
    }
   ],
   "source": [
    "type(xmlByte)"
   ]
  },
  {
   "cell_type": "code",
   "execution_count": 110,
   "metadata": {},
   "outputs": [
    {
     "name": "stdout",
     "output_type": "stream",
     "text": [
      "b'<?xml version=\\'1.0\\' encoding=\\'utf-8\\'?>\\n<bookstore><book category=\"cooking\"/><book category=\"children\"><title lang=\"en\">Harry Potter</title></book></bookstore>'\n"
     ]
    }
   ],
   "source": [
    "print(xmlByte) #위에서 xml_declaration을 True로 해주면 xml에 대한 정보를 출력해줌."
   ]
  },
  {
   "cell_type": "code",
   "execution_count": 111,
   "metadata": {
    "collapsed": true
   },
   "outputs": [],
   "source": [
    "temp = etree.fromstring(xmlByte) #xml객체를 불러옴."
   ]
  },
  {
   "cell_type": "code",
   "execution_count": 112,
   "metadata": {},
   "outputs": [
    {
     "data": {
      "text/plain": [
       "lxml.etree._Element"
      ]
     },
     "execution_count": 112,
     "metadata": {},
     "output_type": "execute_result"
    }
   ],
   "source": [
    "type(temp)"
   ]
  },
  {
   "cell_type": "code",
   "execution_count": 113,
   "metadata": {},
   "outputs": [
    {
     "name": "stdout",
     "output_type": "stream",
     "text": [
      "<bookstore>\n",
      "  <book category=\"cooking\"/>\n",
      "  <book category=\"children\">\n",
      "    <title lang=\"en\">Harry Potter</title>\n",
      "  </book>\n",
      "</bookstore>\n"
     ]
    }
   ],
   "source": [
    "etree.dump(temp)"
   ]
  },
  {
   "cell_type": "code",
   "execution_count": 114,
   "metadata": {
    "collapsed": true
   },
   "outputs": [],
   "source": [
    "tree = etree.ElementTree(temp) #xml을 Tree구조로 파싱해줌.\n",
    "# ElementTree객체는 root Node를 포함하는 tree를 감싸주는 객체"
   ]
  },
  {
   "cell_type": "code",
   "execution_count": 115,
   "metadata": {
    "collapsed": true
   },
   "outputs": [],
   "source": [
    "root = tree.getroot() #tree구조의 root를 찾는다."
   ]
  },
  {
   "cell_type": "code",
   "execution_count": 116,
   "metadata": {},
   "outputs": [
    {
     "data": {
      "text/plain": [
       "'bookstore'"
      ]
     },
     "execution_count": 116,
     "metadata": {},
     "output_type": "execute_result"
    }
   ],
   "source": [
    "root.tag #root노드의 이름"
   ]
  },
  {
   "cell_type": "code",
   "execution_count": 117,
   "metadata": {},
   "outputs": [
    {
     "name": "stdout",
     "output_type": "stream",
     "text": [
      "<bookstore>\n",
      "  <book category=\"cooking\"/>\n",
      "  <book category=\"children\">\n",
      "    <title lang=\"en\">Harry Potter</title>\n",
      "  </book>\n",
      "</bookstore>\n"
     ]
    }
   ],
   "source": [
    "etree.dump(root)"
   ]
  },
  {
   "cell_type": "code",
   "execution_count": 118,
   "metadata": {
    "scrolled": true
   },
   "outputs": [
    {
     "data": {
      "text/plain": [
       "'1.0'"
      ]
     },
     "execution_count": 118,
     "metadata": {},
     "output_type": "execute_result"
    }
   ],
   "source": [
    "tree.docinfo.xml_version #xml의 버전"
   ]
  },
  {
   "cell_type": "code",
   "execution_count": 119,
   "metadata": {},
   "outputs": [
    {
     "data": {
      "text/plain": [
       "'utf-8'"
      ]
     },
     "execution_count": 119,
     "metadata": {},
     "output_type": "execute_result"
    }
   ],
   "source": [
    "tree.docinfo.encoding #xml의 인코딩 종류"
   ]
  },
  {
   "cell_type": "code",
   "execution_count": 120,
   "metadata": {},
   "outputs": [
    {
     "name": "stdout",
     "output_type": "stream",
     "text": [
      "None\n"
     ]
    }
   ],
   "source": [
    "print(root.getparent()) #루트의 parent는 없음 -> None"
   ]
  },
  {
   "cell_type": "code",
   "execution_count": 121,
   "metadata": {
    "collapsed": true
   },
   "outputs": [],
   "source": [
    "children = root.getchildren() #루트의 children"
   ]
  },
  {
   "cell_type": "code",
   "execution_count": 122,
   "metadata": {},
   "outputs": [
    {
     "name": "stdout",
     "output_type": "stream",
     "text": [
      "book cooking\n",
      "book children\n"
     ]
    }
   ],
   "source": [
    "for child in children:\n",
    "    print(child.tag, child.get(\"category\")) \n",
    "#자식 노드들의 tag와 category attribute값 출력"
   ]
  },
  {
   "cell_type": "code",
   "execution_count": 16,
   "metadata": {
    "collapsed": true
   },
   "outputs": [],
   "source": [
    "params_xml = {\n",
    "        \"serviceKey\" : \"해당 서비스키를 홈페이지에서 받아서 여기 입력해주세요.\",\n",
    "        \"numOfRows\":10,\n",
    "        \"pageNo\":1,\n",
    "        \"sidoName\":None,\n",
    "        \"searchCondition\":\"DAILY\",\n",
    "        \"ver\":\"1.3\",\n",
    "        \"_returnType\":\"json\"\n",
    "}"
   ]
  },
  {
   "cell_type": "code",
   "execution_count": 17,
   "metadata": {
    "scrolled": true
   },
   "outputs": [
    {
     "data": {
      "text/plain": [
       "{'_returnType': 'json',\n",
       " 'numOfRows': 10,\n",
       " 'pageNo': 1,\n",
       " 'searchCondition': 'DAILY',\n",
       " 'serviceKey': '해당 서비스키를 홈페이지에서 받아서 여기 입력해주세요.',\n",
       " 'sidoName': None,\n",
       " 'ver': '1.3'}"
      ]
     },
     "execution_count": 17,
     "metadata": {},
     "output_type": "execute_result"
    }
   ],
   "source": [
    "params_xml"
   ]
  },
  {
   "cell_type": "code",
   "execution_count": 18,
   "metadata": {},
   "outputs": [
    {
     "data": {
      "text/plain": [
       "'json'"
      ]
     },
     "execution_count": 18,
     "metadata": {},
     "output_type": "execute_result"
    }
   ],
   "source": [
    "params_xml.pop('_returnType')"
   ]
  },
  {
   "cell_type": "code",
   "execution_count": 19,
   "metadata": {},
   "outputs": [
    {
     "data": {
      "text/plain": [
       "{'numOfRows': 10,\n",
       " 'pageNo': 1,\n",
       " 'searchCondition': 'DAILY',\n",
       " 'serviceKey': '해당 서비스키를 홈페이지에서 받아서 여기 입력해주세요.',\n",
       " 'sidoName': None,\n",
       " 'ver': '1.3'}"
      ]
     },
     "execution_count": 19,
     "metadata": {},
     "output_type": "execute_result"
    }
   ],
   "source": [
    "params_xml"
   ]
  },
  {
   "cell_type": "code",
   "execution_count": 20,
   "metadata": {
    "collapsed": true
   },
   "outputs": [],
   "source": [
    "params_xml[\"sidoName\"]=\"대구\"\n",
    "#서울, 부산, 대구, 인천, 광주 ....."
   ]
  },
  {
   "cell_type": "code",
   "execution_count": 21,
   "metadata": {
    "collapsed": true
   },
   "outputs": [],
   "source": [
    "#url = \"http://openapi.airkorea.or.kr/openapi/services/rest/ArpltnInforInqireSvc/getCtprvnRltmMesureDnsty\"\n",
    "url_xml = \"http://openapi.airkorea.or.kr/openapi/services/rest/ArpltnInforInqireSvc/getCtprvnMesureSidoLIst\"\n"
   ]
  },
  {
   "cell_type": "code",
   "execution_count": 22,
   "metadata": {
    "collapsed": true
   },
   "outputs": [],
   "source": [
    "from urllib import parse"
   ]
  },
  {
   "cell_type": "code",
   "execution_count": 23,
   "metadata": {
    "collapsed": true
   },
   "outputs": [],
   "source": [
    "params_xml[\"serviceKey\"] = urllib.parse.unquote(params_xml[\"serviceKey\"]) #service Key 자체는 원래 byte타입이다.\n",
    "#byte형을 string형으로 다시 변환해줌 -> 추후에 param전체를 byte형으로 encoding해줄 때 서비스키가 변하지 않도록 하기 위해."
   ]
  },
  {
   "cell_type": "code",
   "execution_count": 24,
   "metadata": {
    "collapsed": true
   },
   "outputs": [],
   "source": [
    "paramUrl_xml = parse.urlencode(params_xml)"
   ]
  },
  {
   "cell_type": "code",
   "execution_count": 25,
   "metadata": {},
   "outputs": [
    {
     "data": {
      "text/plain": [
       "'serviceKey=%ED%95%B4%EB%8B%B9+%EC%84%9C%EB%B9%84%EC%8A%A4%ED%82%A4%EB%A5%BC+%ED%99%88%ED%8E%98%EC%9D%B4%EC%A7%80%EC%97%90%EC%84%9C+%EB%B0%9B%EC%95%84%EC%84%9C+%EC%97%AC%EA%B8%B0+%EC%9E%85%EB%A0%A5%ED%95%B4%EC%A3%BC%EC%84%B8%EC%9A%94.&numOfRows=10&pageNo=1&sidoName=%EB%8C%80%EA%B5%AC&searchCondition=DAILY&ver=1.3'"
      ]
     },
     "execution_count": 25,
     "metadata": {},
     "output_type": "execute_result"
    }
   ],
   "source": [
    "paramUrl_xml"
   ]
  },
  {
   "cell_type": "code",
   "execution_count": 26,
   "metadata": {},
   "outputs": [
    {
     "data": {
      "text/plain": [
       "str"
      ]
     },
     "execution_count": 26,
     "metadata": {},
     "output_type": "execute_result"
    }
   ],
   "source": [
    "type(paramUrl_xml) #string타입이다. -> 하지만 인터넷에서 주고받을 때는 byte타입이 필요함."
   ]
  },
  {
   "cell_type": "code",
   "execution_count": 27,
   "metadata": {
    "collapsed": true
   },
   "outputs": [],
   "source": [
    "paramBytes_xml = paramUrl_xml.encode(\"utf-8\") #byte타입으로 타입 변환 해줌."
   ]
  },
  {
   "cell_type": "code",
   "execution_count": 28,
   "metadata": {},
   "outputs": [
    {
     "data": {
      "text/plain": [
       "bytes"
      ]
     },
     "execution_count": 28,
     "metadata": {},
     "output_type": "execute_result"
    }
   ],
   "source": [
    "type(paramBytes_xml)"
   ]
  },
  {
   "cell_type": "code",
   "execution_count": 29,
   "metadata": {},
   "outputs": [
    {
     "name": "stdout",
     "output_type": "stream",
     "text": [
      "b'serviceKey=%ED%95%B4%EB%8B%B9+%EC%84%9C%EB%B9%84%EC%8A%A4%ED%82%A4%EB%A5%BC+%ED%99%88%ED%8E%98%EC%9D%B4%EC%A7%80%EC%97%90%EC%84%9C+%EB%B0%9B%EC%95%84%EC%84%9C+%EC%97%AC%EA%B8%B0+%EC%9E%85%EB%A0%A5%ED%95%B4%EC%A3%BC%EC%84%B8%EC%9A%94.&numOfRows=10&pageNo=1&sidoName=%EB%8C%80%EA%B5%AC&searchCondition=DAILY&ver=1.3'\n"
     ]
    }
   ],
   "source": [
    "print(paramBytes_xml)"
   ]
  },
  {
   "cell_type": "code",
   "execution_count": 176,
   "metadata": {
    "collapsed": true
   },
   "outputs": [],
   "source": [
    "req_xml =  urllib.request.Request(url_xml, data = paramBytes_xml)\n",
    "# parameter들을 포함하는 Request객체"
   ]
  },
  {
   "cell_type": "code",
   "execution_count": 177,
   "metadata": {
    "collapsed": true
   },
   "outputs": [],
   "source": [
    "res_xml = urllib.request.urlopen(req_xml) # Request에 맞는 url을 open해준다."
   ]
  },
  {
   "cell_type": "code",
   "execution_count": 178,
   "metadata": {
    "collapsed": true
   },
   "outputs": [],
   "source": [
    "result_xml = res_xml.read()"
   ]
  },
  {
   "cell_type": "code",
   "execution_count": 179,
   "metadata": {
    "scrolled": true
   },
   "outputs": [
    {
     "data": {
      "text/plain": [
       "b'<?xml version=\"1.0\" encoding=\"UTF-8\"?>\\r\\n\\r\\n\\r\\n\\r\\n\\r\\n<response>\\r\\n\\t<header>\\r\\n\\t\\t<resultCode>00</resultCode>\\r\\n\\t\\t<resultMsg>NORMAL SERVICE.</resultMsg>\\r\\n\\t</header>\\r\\n\\t<body>\\r\\n\\t\\t<items>\\r\\n\\t\\t\\t\\r\\n\\t\\t\\t\\t<item>\\r\\n\\t\\t\\t\\t    <dataTime>2018-10-13 16:00</dataTime>\\r\\n\\t\\t\\t\\t    <cityName>\\xeb\\x82\\xa8\\xea\\xb5\\xac</cityName>\\r\\n\\t\\t\\t\\t    <so2Value>0.001</so2Value>\\r\\n\\t\\t\\t\\t    <coValue>0.3</coValue>\\r\\n\\t\\t\\t\\t    <o3Value>0.045</o3Value>\\r\\n\\t\\t\\t\\t    <no2Value>0.007</no2Value>\\r\\n\\t\\t\\t\\t    <pm10Value>20</pm10Value>\\r\\n\\t\\t\\t\\t    <pm25Value>8</pm25Value>\\r\\n\\t\\t\\t\\t</item>\\r\\n\\t\\t\\t\\r\\n\\t\\t\\t\\t<item>\\r\\n\\t\\t\\t\\t    <dataTime>2018-10-13 16:00</dataTime>\\r\\n\\t\\t\\t\\t    <cityName>\\xeb\\x8b\\xac\\xec\\x84\\x9c\\xea\\xb5\\xac</cityName>\\r\\n\\t\\t\\t\\t    <so2Value>0.002</so2Value>\\r\\n\\t\\t\\t\\t    <coValue>0.3</coValue>\\r\\n\\t\\t\\t\\t    <o3Value>0.038</o3Value>\\r\\n\\t\\t\\t\\t    <no2Value>0.012</no2Value>\\r\\n\\t\\t\\t\\t    <pm10Value>16</pm10Value>\\r\\n\\t\\t\\t\\t    <pm25Value>7</pm25Value>\\r\\n\\t\\t\\t\\t</item>\\r\\n\\t\\t\\t\\r\\n\\t\\t\\t\\t<item>\\r\\n\\t\\t\\t\\t    <dataTime>2018-10-13 16:00</dataTime>\\r\\n\\t\\t\\t\\t    <cityName>\\xeb\\x8b\\xac\\xec\\x84\\xb1\\xea\\xb5\\xb0</cityName>\\r\\n\\t\\t\\t\\t    <so2Value>0.001</so2Value>\\r\\n\\t\\t\\t\\t    <coValue>0.3</coValue>\\r\\n\\t\\t\\t\\t    <o3Value>0.043</o3Value>\\r\\n\\t\\t\\t\\t    <no2Value>0.009</no2Value>\\r\\n\\t\\t\\t\\t    <pm10Value>16</pm10Value>\\r\\n\\t\\t\\t\\t    <pm25Value>9</pm25Value>\\r\\n\\t\\t\\t\\t</item>\\r\\n\\t\\t\\t\\r\\n\\t\\t\\t\\t<item>\\r\\n\\t\\t\\t\\t    <dataTime>2018-10-13 16:00</dataTime>\\r\\n\\t\\t\\t\\t    <cityName>\\xeb\\x8f\\x99\\xea\\xb5\\xac</cityName>\\r\\n\\t\\t\\t\\t    <so2Value>0.002</so2Value>\\r\\n\\t\\t\\t\\t    <coValue>0.4</coValue>\\r\\n\\t\\t\\t\\t    <o3Value>0.041</o3Value>\\r\\n\\t\\t\\t\\t    <no2Value>0.010</no2Value>\\r\\n\\t\\t\\t\\t    <pm10Value>21</pm10Value>\\r\\n\\t\\t\\t\\t    <pm25Value>6</pm25Value>\\r\\n\\t\\t\\t\\t</item>\\r\\n\\t\\t\\t\\r\\n\\t\\t\\t\\t<item>\\r\\n\\t\\t\\t\\t    <dataTime>2018-10-13 16:00</dataTime>\\r\\n\\t\\t\\t\\t    <cityName>\\xeb\\xb6\\x81\\xea\\xb5\\xac</cityName>\\r\\n\\t\\t\\t\\t    <so2Value>0.002</so2Value>\\r\\n\\t\\t\\t\\t    <coValue>0.3</coValue>\\r\\n\\t\\t\\t\\t    <o3Value>0.039</o3Value>\\r\\n\\t\\t\\t\\t    <no2Value>0.013</no2Value>\\r\\n\\t\\t\\t\\t    <pm10Value>31</pm10Value>\\r\\n\\t\\t\\t\\t    <pm25Value>10</pm25Value>\\r\\n\\t\\t\\t\\t</item>\\r\\n\\t\\t\\t\\r\\n\\t\\t\\t\\t<item>\\r\\n\\t\\t\\t\\t    <dataTime>2018-10-13 16:00</dataTime>\\r\\n\\t\\t\\t\\t    <cityName>\\xec\\x84\\x9c\\xea\\xb5\\xac</cityName>\\r\\n\\t\\t\\t\\t    <so2Value>0.002</so2Value>\\r\\n\\t\\t\\t\\t    <coValue>0.2</coValue>\\r\\n\\t\\t\\t\\t    <o3Value>0.038</o3Value>\\r\\n\\t\\t\\t\\t    <no2Value>0.011</no2Value>\\r\\n\\t\\t\\t\\t    <pm10Value>15</pm10Value>\\r\\n\\t\\t\\t\\t    <pm25Value>9</pm25Value>\\r\\n\\t\\t\\t\\t</item>\\r\\n\\t\\t\\t\\r\\n\\t\\t\\t\\t<item>\\r\\n\\t\\t\\t\\t    <dataTime>2018-10-13 16:00</dataTime>\\r\\n\\t\\t\\t\\t    <cityName>\\xec\\x88\\x98\\xec\\x84\\xb1\\xea\\xb5\\xac</cityName>\\r\\n\\t\\t\\t\\t    <so2Value>0.001</so2Value>\\r\\n\\t\\t\\t\\t    <coValue>0.3</coValue>\\r\\n\\t\\t\\t\\t    <o3Value>0.045</o3Value>\\r\\n\\t\\t\\t\\t    <no2Value>0.006</no2Value>\\r\\n\\t\\t\\t\\t    <pm10Value>14</pm10Value>\\r\\n\\t\\t\\t\\t    <pm25Value>5</pm25Value>\\r\\n\\t\\t\\t\\t</item>\\r\\n\\t\\t\\t\\r\\n\\t\\t\\t\\t<item>\\r\\n\\t\\t\\t\\t    <dataTime>2018-10-13 16:00</dataTime>\\r\\n\\t\\t\\t\\t    <cityName>\\xec\\xa4\\x91\\xea\\xb5\\xac</cityName>\\r\\n\\t\\t\\t\\t    <so2Value>0.001</so2Value>\\r\\n\\t\\t\\t\\t    <coValue>0.2</coValue>\\r\\n\\t\\t\\t\\t    <o3Value>0.034</o3Value>\\r\\n\\t\\t\\t\\t    <no2Value>0.014</no2Value>\\r\\n\\t\\t\\t\\t    <pm10Value>16</pm10Value>\\r\\n\\t\\t\\t\\t    <pm25Value>7</pm25Value>\\r\\n\\t\\t\\t\\t</item>\\r\\n\\t\\t\\t\\r\\n\\t\\t\\t\\t<item>\\r\\n\\t\\t\\t\\t    <dataTime>2018-10-13 15:00</dataTime>\\r\\n\\t\\t\\t\\t    <cityName>\\xeb\\x82\\xa8\\xea\\xb5\\xac</cityName>\\r\\n\\t\\t\\t\\t    <so2Value>0.002</so2Value>\\r\\n\\t\\t\\t\\t    <coValue>0.3</coValue>\\r\\n\\t\\t\\t\\t    <o3Value>0.043</o3Value>\\r\\n\\t\\t\\t\\t    <no2Value>0.008</no2Value>\\r\\n\\t\\t\\t\\t    <pm10Value>12</pm10Value>\\r\\n\\t\\t\\t\\t    <pm25Value>12</pm25Value>\\r\\n\\t\\t\\t\\t</item>\\r\\n\\t\\t\\t\\r\\n\\t\\t\\t\\t<item>\\r\\n\\t\\t\\t\\t    <dataTime>2018-10-13 15:00</dataTime>\\r\\n\\t\\t\\t\\t    <cityName>\\xeb\\x8b\\xac\\xec\\x84\\x9c\\xea\\xb5\\xac</cityName>\\r\\n\\t\\t\\t\\t    <so2Value>0.002</so2Value>\\r\\n\\t\\t\\t\\t    <coValue>0.4</coValue>\\r\\n\\t\\t\\t\\t    <o3Value>0.037</o3Value>\\r\\n\\t\\t\\t\\t    <no2Value>0.011</no2Value>\\r\\n\\t\\t\\t\\t    <pm10Value>13</pm10Value>\\r\\n\\t\\t\\t\\t    <pm25Value>7</pm25Value>\\r\\n\\t\\t\\t\\t</item>\\r\\n\\t\\t\\t\\r\\n\\t\\t</items>\\r\\n\\t\\t<numOfRows>10</numOfRows>\\r\\n        <pageNo>1</pageNo>\\r\\n        <totalCount>200</totalCount>\\r\\n\\t</body>\\r\\n</response>\\r\\n'"
      ]
     },
     "execution_count": 179,
     "metadata": {},
     "output_type": "execute_result"
    }
   ],
   "source": [
    "result_xml"
   ]
  },
  {
   "cell_type": "code",
   "execution_count": 182,
   "metadata": {
    "collapsed": true
   },
   "outputs": [],
   "source": [
    "apiEle = etree.fromstring(result_xml) # byte형식으로 된 xml을 불러옴"
   ]
  },
  {
   "cell_type": "code",
   "execution_count": 201,
   "metadata": {
    "scrolled": true
   },
   "outputs": [
    {
     "name": "stdout",
     "output_type": "stream",
     "text": [
      "<response>\n",
      "\t<header>\n",
      "\t\t<resultCode>00</resultCode>\n",
      "\t\t<resultMsg>NORMAL SERVICE.</resultMsg>\n",
      "\t</header>\n",
      "\t<body>\n",
      "\t\t<items>\n",
      "\t\t\t\n",
      "\t\t\t\t<item>\n",
      "\t\t\t\t    <dataTime>2018-10-13 16:00</dataTime>\n",
      "\t\t\t\t    <cityName>남구</cityName>\n",
      "\t\t\t\t    <so2Value>0.001</so2Value>\n",
      "\t\t\t\t    <coValue>0.3</coValue>\n",
      "\t\t\t\t    <o3Value>0.045</o3Value>\n",
      "\t\t\t\t    <no2Value>0.007</no2Value>\n",
      "\t\t\t\t    <pm10Value>20</pm10Value>\n",
      "\t\t\t\t    <pm25Value>8</pm25Value>\n",
      "\t\t\t\t</item>\n",
      "\t\t\t\n",
      "\t\t\t\t<item>\n",
      "\t\t\t\t    <dataTime>2018-10-13 16:00</dataTime>\n",
      "\t\t\t\t    <cityName>달서구</cityName>\n",
      "\t\t\t\t    <so2Value>0.002</so2Value>\n",
      "\t\t\t\t    <coValue>0.3</coValue>\n",
      "\t\t\t\t    <o3Value>0.038</o3Value>\n",
      "\t\t\t\t    <no2Value>0.012</no2Value>\n",
      "\t\t\t\t    <pm10Value>16</pm10Value>\n",
      "\t\t\t\t    <pm25Value>7</pm25Value>\n",
      "\t\t\t\t</item>\n",
      "\t\t\t\n",
      "\t\t\t\t<item>\n",
      "\t\t\t\t    <dataTime>2018-10-13 16:00</dataTime>\n",
      "\t\t\t\t    <cityName>달성군</cityName>\n",
      "\t\t\t\t    <so2Value>0.001</so2Value>\n",
      "\t\t\t\t    <coValue>0.3</coValue>\n",
      "\t\t\t\t    <o3Value>0.043</o3Value>\n",
      "\t\t\t\t    <no2Value>0.009</no2Value>\n",
      "\t\t\t\t    <pm10Value>16</pm10Value>\n",
      "\t\t\t\t    <pm25Value>9</pm25Value>\n",
      "\t\t\t\t</item>\n",
      "\t\t\t\n",
      "\t\t\t\t<item>\n",
      "\t\t\t\t    <dataTime>2018-10-13 16:00</dataTime>\n",
      "\t\t\t\t    <cityName>동구</cityName>\n",
      "\t\t\t\t    <so2Value>0.002</so2Value>\n",
      "\t\t\t\t    <coValue>0.4</coValue>\n",
      "\t\t\t\t    <o3Value>0.041</o3Value>\n",
      "\t\t\t\t    <no2Value>0.010</no2Value>\n",
      "\t\t\t\t    <pm10Value>21</pm10Value>\n",
      "\t\t\t\t    <pm25Value>6</pm25Value>\n",
      "\t\t\t\t</item>\n",
      "\t\t\t\n",
      "\t\t\t\t<item>\n",
      "\t\t\t\t    <dataTime>2018-10-13 16:00</dataTime>\n",
      "\t\t\t\t    <cityName>북구</cityName>\n",
      "\t\t\t\t    <so2Value>0.002</so2Value>\n",
      "\t\t\t\t    <coValue>0.3</coValue>\n",
      "\t\t\t\t    <o3Value>0.039</o3Value>\n",
      "\t\t\t\t    <no2Value>0.013</no2Value>\n",
      "\t\t\t\t    <pm10Value>31</pm10Value>\n",
      "\t\t\t\t    <pm25Value>10</pm25Value>\n",
      "\t\t\t\t</item>\n",
      "\t\t\t\n",
      "\t\t\t\t<item>\n",
      "\t\t\t\t    <dataTime>2018-10-13 16:00</dataTime>\n",
      "\t\t\t\t    <cityName>서구</cityName>\n",
      "\t\t\t\t    <so2Value>0.002</so2Value>\n",
      "\t\t\t\t    <coValue>0.2</coValue>\n",
      "\t\t\t\t    <o3Value>0.038</o3Value>\n",
      "\t\t\t\t    <no2Value>0.011</no2Value>\n",
      "\t\t\t\t    <pm10Value>15</pm10Value>\n",
      "\t\t\t\t    <pm25Value>9</pm25Value>\n",
      "\t\t\t\t</item>\n",
      "\t\t\t\n",
      "\t\t\t\t<item>\n",
      "\t\t\t\t    <dataTime>2018-10-13 16:00</dataTime>\n",
      "\t\t\t\t    <cityName>수성구</cityName>\n",
      "\t\t\t\t    <so2Value>0.001</so2Value>\n",
      "\t\t\t\t    <coValue>0.3</coValue>\n",
      "\t\t\t\t    <o3Value>0.045</o3Value>\n",
      "\t\t\t\t    <no2Value>0.006</no2Value>\n",
      "\t\t\t\t    <pm10Value>14</pm10Value>\n",
      "\t\t\t\t    <pm25Value>5</pm25Value>\n",
      "\t\t\t\t</item>\n",
      "\t\t\t\n",
      "\t\t\t\t<item>\n",
      "\t\t\t\t    <dataTime>2018-10-13 16:00</dataTime>\n",
      "\t\t\t\t    <cityName>중구</cityName>\n",
      "\t\t\t\t    <so2Value>0.001</so2Value>\n",
      "\t\t\t\t    <coValue>0.2</coValue>\n",
      "\t\t\t\t    <o3Value>0.034</o3Value>\n",
      "\t\t\t\t    <no2Value>0.014</no2Value>\n",
      "\t\t\t\t    <pm10Value>16</pm10Value>\n",
      "\t\t\t\t    <pm25Value>7</pm25Value>\n",
      "\t\t\t\t</item>\n",
      "\t\t\t\n",
      "\t\t\t\t<item>\n",
      "\t\t\t\t    <dataTime>2018-10-13 15:00</dataTime>\n",
      "\t\t\t\t    <cityName>남구</cityName>\n",
      "\t\t\t\t    <so2Value>0.002</so2Value>\n",
      "\t\t\t\t    <coValue>0.3</coValue>\n",
      "\t\t\t\t    <o3Value>0.043</o3Value>\n",
      "\t\t\t\t    <no2Value>0.008</no2Value>\n",
      "\t\t\t\t    <pm10Value>12</pm10Value>\n",
      "\t\t\t\t    <pm25Value>12</pm25Value>\n",
      "\t\t\t\t</item>\n",
      "\t\t\t\n",
      "\t\t\t\t<item>\n",
      "\t\t\t\t    <dataTime>2018-10-13 15:00</dataTime>\n",
      "\t\t\t\t    <cityName>달서구</cityName>\n",
      "\t\t\t\t    <so2Value>0.002</so2Value>\n",
      "\t\t\t\t    <coValue>0.4</coValue>\n",
      "\t\t\t\t    <o3Value>0.037</o3Value>\n",
      "\t\t\t\t    <no2Value>0.011</no2Value>\n",
      "\t\t\t\t    <pm10Value>13</pm10Value>\n",
      "\t\t\t\t    <pm25Value>7</pm25Value>\n",
      "\t\t\t\t</item>\n",
      "\t\t\t\n",
      "\t\t</items>\n",
      "\t\t<numOfRows>10</numOfRows>\n",
      "        <pageNo>1</pageNo>\n",
      "        <totalCount>200</totalCount>\n",
      "\t</body>\n",
      "</response>\n"
     ]
    }
   ],
   "source": [
    "etree.dump(apiEle)"
   ]
  },
  {
   "cell_type": "code",
   "execution_count": 183,
   "metadata": {
    "collapsed": true
   },
   "outputs": [],
   "source": [
    "apiTree = etree.ElementTree(apiEle) # 해당 xml문서를 tree형태 객체로 만들어줌."
   ]
  },
  {
   "cell_type": "code",
   "execution_count": 203,
   "metadata": {},
   "outputs": [
    {
     "data": {
      "text/plain": [
       "<lxml.etree._ElementTree at 0x1e4593cf088>"
      ]
     },
     "execution_count": 203,
     "metadata": {},
     "output_type": "execute_result"
    }
   ],
   "source": [
    "apiTree"
   ]
  },
  {
   "cell_type": "code",
   "execution_count": 187,
   "metadata": {},
   "outputs": [
    {
     "data": {
      "text/plain": [
       "lxml.etree._ElementTree"
      ]
     },
     "execution_count": 187,
     "metadata": {},
     "output_type": "execute_result"
    }
   ],
   "source": [
    "type(apiTree)"
   ]
  },
  {
   "cell_type": "code",
   "execution_count": 188,
   "metadata": {
    "collapsed": true
   },
   "outputs": [],
   "source": [
    "rootNode = apiTree.getroot()"
   ]
  },
  {
   "cell_type": "code",
   "execution_count": 189,
   "metadata": {},
   "outputs": [
    {
     "name": "stdout",
     "output_type": "stream",
     "text": [
      "response\n"
     ]
    }
   ],
   "source": [
    "print(rootNode.tag)"
   ]
  },
  {
   "cell_type": "code",
   "execution_count": 190,
   "metadata": {
    "collapsed": true
   },
   "outputs": [],
   "source": [
    "nodeList = rootNode.findall(\".//pm10Value\")"
   ]
  },
  {
   "cell_type": "code",
   "execution_count": 192,
   "metadata": {
    "scrolled": true
   },
   "outputs": [
    {
     "data": {
      "text/plain": [
       "[<Element pm10Value at 0x1e4593b0188>,\n",
       " <Element pm10Value at 0x1e4593b01c8>,\n",
       " <Element pm10Value at 0x1e4593b0208>,\n",
       " <Element pm10Value at 0x1e4593b0248>,\n",
       " <Element pm10Value at 0x1e4593b0288>,\n",
       " <Element pm10Value at 0x1e4593b0308>,\n",
       " <Element pm10Value at 0x1e4593b02c8>,\n",
       " <Element pm10Value at 0x1e4593b0348>,\n",
       " <Element pm10Value at 0x1e4593b0388>,\n",
       " <Element pm10Value at 0x1e4593b03c8>]"
      ]
     },
     "execution_count": 192,
     "metadata": {},
     "output_type": "execute_result"
    }
   ],
   "source": [
    "nodeList"
   ]
  },
  {
   "cell_type": "code",
   "execution_count": 193,
   "metadata": {
    "scrolled": true
   },
   "outputs": [
    {
     "data": {
      "text/plain": [
       "list"
      ]
     },
     "execution_count": 193,
     "metadata": {},
     "output_type": "execute_result"
    }
   ],
   "source": [
    "type(nodeList) #리스트 타입"
   ]
  },
  {
   "cell_type": "code",
   "execution_count": 194,
   "metadata": {},
   "outputs": [
    {
     "data": {
      "text/plain": [
       "10"
      ]
     },
     "execution_count": 194,
     "metadata": {},
     "output_type": "execute_result"
    }
   ],
   "source": [
    "len(nodeList) #객체 개수"
   ]
  },
  {
   "cell_type": "code",
   "execution_count": 195,
   "metadata": {},
   "outputs": [
    {
     "name": "stdout",
     "output_type": "stream",
     "text": [
      "<Element item at 0x1e4593bca88>\n",
      "pm10Value 20\n",
      "<Element item at 0x1e4593bca88>\n",
      "pm10Value 16\n",
      "<Element item at 0x1e4593bca88>\n",
      "pm10Value 16\n",
      "<Element item at 0x1e4593bca88>\n",
      "pm10Value 21\n",
      "<Element item at 0x1e4593bca88>\n",
      "pm10Value 31\n",
      "<Element item at 0x1e4593bca88>\n",
      "pm10Value 15\n",
      "<Element item at 0x1e4593bca88>\n",
      "pm10Value 14\n",
      "<Element item at 0x1e4593bca88>\n",
      "pm10Value 16\n",
      "<Element item at 0x1e4593bca88>\n",
      "pm10Value 12\n",
      "<Element item at 0x1e4593bca88>\n",
      "pm10Value 13\n"
     ]
    }
   ],
   "source": [
    "for row in nodeList:\n",
    "    print(row.getparent()) # 해당 노드의 parent node를 리턴. \n",
    "    print(row.tag, row.text) # 해당 노드의 이름과 text를 리턴해준다."
   ]
  },
  {
   "cell_type": "code",
   "execution_count": 205,
   "metadata": {},
   "outputs": [
    {
     "name": "stdout",
     "output_type": "stream",
     "text": [
      "<response>\n",
      "\t<header>\n",
      "\t\t<resultCode>00</resultCode>\n",
      "\t\t<resultMsg>NORMAL SERVICE.</resultMsg>\n",
      "\t</header>\n",
      "\t<body>\n",
      "\t\t<items>\n",
      "\t\t\t\n",
      "\t\t\t\t<item>\n",
      "\t\t\t\t    <dataTime>2018-10-13 16:00</dataTime>\n",
      "\t\t\t\t    <cityName>남구</cityName>\n",
      "\t\t\t\t    <so2Value>0.001</so2Value>\n",
      "\t\t\t\t    <coValue>0.3</coValue>\n",
      "\t\t\t\t    <o3Value>0.045</o3Value>\n",
      "\t\t\t\t    <no2Value>0.007</no2Value>\n",
      "\t\t\t\t    <pm10Value>20</pm10Value>\n",
      "\t\t\t\t    <pm25Value>8</pm25Value>\n",
      "\t\t\t\t</item>\n",
      "\t\t\t\n",
      "\t\t\t\t<item>\n",
      "\t\t\t\t    <dataTime>2018-10-13 16:00</dataTime>\n",
      "\t\t\t\t    <cityName>달서구</cityName>\n",
      "\t\t\t\t    <so2Value>0.002</so2Value>\n",
      "\t\t\t\t    <coValue>0.3</coValue>\n",
      "\t\t\t\t    <o3Value>0.038</o3Value>\n",
      "\t\t\t\t    <no2Value>0.012</no2Value>\n",
      "\t\t\t\t    <pm10Value>16</pm10Value>\n",
      "\t\t\t\t    <pm25Value>7</pm25Value>\n",
      "\t\t\t\t</item>\n",
      "\t\t\t\n",
      "\t\t\t\t<item>\n",
      "\t\t\t\t    <dataTime>2018-10-13 16:00</dataTime>\n",
      "\t\t\t\t    <cityName>달성군</cityName>\n",
      "\t\t\t\t    <so2Value>0.001</so2Value>\n",
      "\t\t\t\t    <coValue>0.3</coValue>\n",
      "\t\t\t\t    <o3Value>0.043</o3Value>\n",
      "\t\t\t\t    <no2Value>0.009</no2Value>\n",
      "\t\t\t\t    <pm10Value>16</pm10Value>\n",
      "\t\t\t\t    <pm25Value>9</pm25Value>\n",
      "\t\t\t\t</item>\n",
      "\t\t\t\n",
      "\t\t\t\t<item>\n",
      "\t\t\t\t    <dataTime>2018-10-13 16:00</dataTime>\n",
      "\t\t\t\t    <cityName>동구</cityName>\n",
      "\t\t\t\t    <so2Value>0.002</so2Value>\n",
      "\t\t\t\t    <coValue>0.4</coValue>\n",
      "\t\t\t\t    <o3Value>0.041</o3Value>\n",
      "\t\t\t\t    <no2Value>0.010</no2Value>\n",
      "\t\t\t\t    <pm10Value>21</pm10Value>\n",
      "\t\t\t\t    <pm25Value>6</pm25Value>\n",
      "\t\t\t\t</item>\n",
      "\t\t\t\n",
      "\t\t\t\t<item>\n",
      "\t\t\t\t    <dataTime>2018-10-13 16:00</dataTime>\n",
      "\t\t\t\t    <cityName>북구</cityName>\n",
      "\t\t\t\t    <so2Value>0.002</so2Value>\n",
      "\t\t\t\t    <coValue>0.3</coValue>\n",
      "\t\t\t\t    <o3Value>0.039</o3Value>\n",
      "\t\t\t\t    <no2Value>0.013</no2Value>\n",
      "\t\t\t\t    <pm10Value>31</pm10Value>\n",
      "\t\t\t\t    <pm25Value>10</pm25Value>\n",
      "\t\t\t\t</item>\n",
      "\t\t\t\n",
      "\t\t\t\t<item>\n",
      "\t\t\t\t    <dataTime>2018-10-13 16:00</dataTime>\n",
      "\t\t\t\t    <cityName>서구</cityName>\n",
      "\t\t\t\t    <so2Value>0.002</so2Value>\n",
      "\t\t\t\t    <coValue>0.2</coValue>\n",
      "\t\t\t\t    <o3Value>0.038</o3Value>\n",
      "\t\t\t\t    <no2Value>0.011</no2Value>\n",
      "\t\t\t\t    <pm10Value>15</pm10Value>\n",
      "\t\t\t\t    <pm25Value>9</pm25Value>\n",
      "\t\t\t\t</item>\n",
      "\t\t\t\n",
      "\t\t\t\t<item>\n",
      "\t\t\t\t    <dataTime>2018-10-13 16:00</dataTime>\n",
      "\t\t\t\t    <cityName>수성구</cityName>\n",
      "\t\t\t\t    <so2Value>0.001</so2Value>\n",
      "\t\t\t\t    <coValue>0.3</coValue>\n",
      "\t\t\t\t    <o3Value>0.045</o3Value>\n",
      "\t\t\t\t    <no2Value>0.006</no2Value>\n",
      "\t\t\t\t    <pm10Value>14</pm10Value>\n",
      "\t\t\t\t    <pm25Value>5</pm25Value>\n",
      "\t\t\t\t</item>\n",
      "\t\t\t\n",
      "\t\t\t\t<item>\n",
      "\t\t\t\t    <dataTime>2018-10-13 16:00</dataTime>\n",
      "\t\t\t\t    <cityName>중구</cityName>\n",
      "\t\t\t\t    <so2Value>0.001</so2Value>\n",
      "\t\t\t\t    <coValue>0.2</coValue>\n",
      "\t\t\t\t    <o3Value>0.034</o3Value>\n",
      "\t\t\t\t    <no2Value>0.014</no2Value>\n",
      "\t\t\t\t    <pm10Value>16</pm10Value>\n",
      "\t\t\t\t    <pm25Value>7</pm25Value>\n",
      "\t\t\t\t</item>\n",
      "\t\t\t\n",
      "\t\t\t\t<item>\n",
      "\t\t\t\t    <dataTime>2018-10-13 15:00</dataTime>\n",
      "\t\t\t\t    <cityName>남구</cityName>\n",
      "\t\t\t\t    <so2Value>0.002</so2Value>\n",
      "\t\t\t\t    <coValue>0.3</coValue>\n",
      "\t\t\t\t    <o3Value>0.043</o3Value>\n",
      "\t\t\t\t    <no2Value>0.008</no2Value>\n",
      "\t\t\t\t    <pm10Value>12</pm10Value>\n",
      "\t\t\t\t    <pm25Value>12</pm25Value>\n",
      "\t\t\t\t</item>\n",
      "\t\t\t\n",
      "\t\t\t\t<item>\n",
      "\t\t\t\t    <dataTime>2018-10-13 15:00</dataTime>\n",
      "\t\t\t\t    <cityName>달서구</cityName>\n",
      "\t\t\t\t    <so2Value>0.002</so2Value>\n",
      "\t\t\t\t    <coValue>0.4</coValue>\n",
      "\t\t\t\t    <o3Value>0.037</o3Value>\n",
      "\t\t\t\t    <no2Value>0.011</no2Value>\n",
      "\t\t\t\t    <pm10Value>13</pm10Value>\n",
      "\t\t\t\t    <pm25Value>7</pm25Value>\n",
      "\t\t\t\t</item>\n",
      "\t\t\t\n",
      "\t\t</items>\n",
      "\t\t<numOfRows>10</numOfRows>\n",
      "        <pageNo>1</pageNo>\n",
      "        <totalCount>200</totalCount>\n",
      "\t</body>\n",
      "</response>\n"
     ]
    }
   ],
   "source": [
    "etree.dump(apiTree.getroot()) # apiTree 자체를 불러서 dump할 경우 되지 않음\n",
    "# 해당 xml문의 root를 얻어와서 dump를 하도록 한다."
   ]
  },
  {
   "cell_type": "code",
   "execution_count": null,
   "metadata": {
    "collapsed": true
   },
   "outputs": [],
   "source": []
  }
 ],
 "metadata": {
  "kernelspec": {
   "display_name": "Python 3",
   "language": "python",
   "name": "python3"
  },
  "language_info": {
   "codemirror_mode": {
    "name": "ipython",
    "version": 3
   },
   "file_extension": ".py",
   "mimetype": "text/x-python",
   "name": "python",
   "nbconvert_exporter": "python",
   "pygments_lexer": "ipython3",
   "version": "3.6.3"
  }
 },
 "nbformat": 4,
 "nbformat_minor": 2
}
