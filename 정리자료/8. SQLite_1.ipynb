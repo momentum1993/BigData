{
 "cells": [
  {
   "cell_type": "markdown",
   "metadata": {},
   "source": [
    "# SQLite"
   ]
  },
  {
   "cell_type": "code",
   "execution_count": 1,
   "metadata": {
    "collapsed": true
   },
   "outputs": [],
   "source": [
    "import sqlite3"
   ]
  },
  {
   "cell_type": "code",
   "execution_count": 2,
   "metadata": {},
   "outputs": [
    {
     "data": {
      "text/plain": [
       "'2.6.0'"
      ]
     },
     "execution_count": 2,
     "metadata": {},
     "output_type": "execute_result"
    }
   ],
   "source": [
    "sqlite3.version # package의 버전"
   ]
  },
  {
   "cell_type": "code",
   "execution_count": 3,
   "metadata": {},
   "outputs": [
    {
     "data": {
      "text/plain": [
       "(2, 6, 0)"
      ]
     },
     "execution_count": 3,
     "metadata": {},
     "output_type": "execute_result"
    }
   ],
   "source": [
    "sqlite3.version_info"
   ]
  },
  {
   "cell_type": "code",
   "execution_count": 4,
   "metadata": {},
   "outputs": [
    {
     "data": {
      "text/plain": [
       "str"
      ]
     },
     "execution_count": 4,
     "metadata": {},
     "output_type": "execute_result"
    }
   ],
   "source": [
    "type(sqlite3.version)"
   ]
  },
  {
   "cell_type": "code",
   "execution_count": 5,
   "metadata": {},
   "outputs": [
    {
     "data": {
      "text/plain": [
       "tuple"
      ]
     },
     "execution_count": 5,
     "metadata": {},
     "output_type": "execute_result"
    }
   ],
   "source": [
    "type(sqlite3.version_info)"
   ]
  },
  {
   "cell_type": "code",
   "execution_count": 6,
   "metadata": {},
   "outputs": [
    {
     "data": {
      "text/plain": [
       "'3.14.2'"
      ]
     },
     "execution_count": 6,
     "metadata": {},
     "output_type": "execute_result"
    }
   ],
   "source": [
    "sqlite3.sqlite_version #런타임 시의 버전"
   ]
  },
  {
   "cell_type": "code",
   "execution_count": 7,
   "metadata": {},
   "outputs": [
    {
     "data": {
      "text/plain": [
       "(3, 14, 2)"
      ]
     },
     "execution_count": 7,
     "metadata": {},
     "output_type": "execute_result"
    }
   ],
   "source": [
    "sqlite3.sqlite_version_info"
   ]
  },
  {
   "cell_type": "code",
   "execution_count": 8,
   "metadata": {
    "collapsed": true
   },
   "outputs": [],
   "source": [
    "conn = sqlite3.connect(':memory:') #DB 커넥션 만들어줌 꼭 필요!!!!"
   ]
  },
  {
   "cell_type": "code",
   "execution_count": 9,
   "metadata": {},
   "outputs": [
    {
     "data": {
      "text/plain": [
       "<sqlite3.Connection at 0x268ea8c92d0>"
      ]
     },
     "execution_count": 9,
     "metadata": {},
     "output_type": "execute_result"
    }
   ],
   "source": [
    "conn"
   ]
  },
  {
   "cell_type": "code",
   "execution_count": 10,
   "metadata": {
    "collapsed": true
   },
   "outputs": [],
   "source": [
    "cur = conn.cursor() # connection에 대해 명령을 주고받는 역할을 하는 cursor 생성"
   ]
  },
  {
   "cell_type": "markdown",
   "metadata": {},
   "source": [
    "SQLite에서는 5가지의 데이터 타입 제공<br>\n",
    "NULL,<br> INTEGER,<br> REAL,<br> TEXT(=앞에서 배운 CLOB(가변형), 그래서 다른 데서 쓸 때는 크기를 명시해주어야 한다. 다만 SQLite에서는 가변형이라서 필요없음.),<br> BLOB (= Byte단위의 큰 데이터. 이미지 같은 것들도 넣을 수 있다)"
   ]
  },
  {
   "cell_type": "code",
   "execution_count": 11,
   "metadata": {},
   "outputs": [
    {
     "data": {
      "text/plain": [
       "<sqlite3.Cursor at 0x268e9806ce0>"
      ]
     },
     "execution_count": 11,
     "metadata": {},
     "output_type": "execute_result"
    }
   ],
   "source": [
    "cur.execute('create table people (name_last, age)') # SQL statement 실행해줌."
   ]
  },
  {
   "cell_type": "code",
   "execution_count": 12,
   "metadata": {
    "collapsed": true
   },
   "outputs": [],
   "source": [
    "who = \"Yeltsin\"\n",
    "age = 72"
   ]
  },
  {
   "cell_type": "code",
   "execution_count": 13,
   "metadata": {},
   "outputs": [
    {
     "data": {
      "text/plain": [
       "'Yeltsin'"
      ]
     },
     "execution_count": 13,
     "metadata": {},
     "output_type": "execute_result"
    }
   ],
   "source": [
    "who"
   ]
  },
  {
   "cell_type": "code",
   "execution_count": 14,
   "metadata": {},
   "outputs": [
    {
     "data": {
      "text/plain": [
       "72"
      ]
     },
     "execution_count": 14,
     "metadata": {},
     "output_type": "execute_result"
    }
   ],
   "source": [
    "age"
   ]
  },
  {
   "cell_type": "code",
   "execution_count": 15,
   "metadata": {},
   "outputs": [
    {
     "data": {
      "text/plain": [
       "<sqlite3.Cursor at 0x268e9806ce0>"
      ]
     },
     "execution_count": 15,
     "metadata": {},
     "output_type": "execute_result"
    }
   ],
   "source": [
    "cur.execute('insert into people values (?, ?)', (who, age)) #insert문"
   ]
  },
  {
   "cell_type": "code",
   "execution_count": 16,
   "metadata": {},
   "outputs": [
    {
     "data": {
      "text/plain": [
       "<sqlite3.Cursor at 0x268e9806ce0>"
      ]
     },
     "execution_count": 16,
     "metadata": {},
     "output_type": "execute_result"
    }
   ],
   "source": [
    "cur.execute(\"select * from people where name_last=:who and age=:age\", {\"who\": who, \"age\": age})"
   ]
  },
  {
   "cell_type": "code",
   "execution_count": 17,
   "metadata": {},
   "outputs": [
    {
     "name": "stdout",
     "output_type": "stream",
     "text": [
      "('Yeltsin', 72)\n"
     ]
    }
   ],
   "source": [
    "print(cur.fetchone()) #fetchone()은 가져온 데이터를 하나 하나씩 출력해줌"
   ]
  },
  {
   "cell_type": "code",
   "execution_count": 18,
   "metadata": {},
   "outputs": [
    {
     "name": "stdout",
     "output_type": "stream",
     "text": [
      "None\n"
     ]
    }
   ],
   "source": [
    "print(cur.fetchone()) #이미 꺼내 버렸으므로 다시 fetchone()을 하면 가져올 값이 없다. while문에 넣을 수 있다."
   ]
  },
  {
   "cell_type": "code",
   "execution_count": 19,
   "metadata": {},
   "outputs": [
    {
     "data": {
      "text/plain": [
       "<sqlite3.Cursor at 0x268e9806ce0>"
      ]
     },
     "execution_count": 19,
     "metadata": {},
     "output_type": "execute_result"
    }
   ],
   "source": [
    "sql = \"insert into people values (?, ?)\"\n",
    "data = [('1', 1), ('2', 2), ('3', 3)] #data를 list형태로 만들어준다.\n",
    "\n",
    "cur.executemany(sql, data) # executemany는 data크기만큼 sql문을 실행해준다."
   ]
  },
  {
   "cell_type": "code",
   "execution_count": 20,
   "metadata": {},
   "outputs": [
    {
     "data": {
      "text/plain": [
       "\"create table person ( first_name text primary_key, last_name text not null );\\ninsert into person values('name', 'kim');\""
      ]
     },
     "execution_count": 20,
     "metadata": {},
     "output_type": "execute_result"
    }
   ],
   "source": [
    "cur.executescript\n",
    "(\"\"\"create table person ( first_name text primary_key, last_name text not null );\n",
    "insert into person values('name', 'kim');\"\"\")\n",
    "#여러 sql문을 한꺼번에 실행해줌. 여기서 select문을 쓸 경우 cursor가 어떤 데이터를 가져와야할지 판단할수 없기 때문에 select문은 여기서 쓰지 않는다."
   ]
  },
  {
   "cell_type": "code",
   "execution_count": 21,
   "metadata": {},
   "outputs": [
    {
     "data": {
      "text/plain": [
       "<sqlite3.Cursor at 0x268e9806ce0>"
      ]
     },
     "execution_count": 21,
     "metadata": {},
     "output_type": "execute_result"
    }
   ],
   "source": [
    "cur.execute(\"select * from people\")"
   ]
  },
  {
   "cell_type": "code",
   "execution_count": 22,
   "metadata": {},
   "outputs": [
    {
     "data": {
      "text/plain": [
       "[('Yeltsin', 72), ('1', 1), ('2', 2), ('3', 3)]"
      ]
     },
     "execution_count": 22,
     "metadata": {},
     "output_type": "execute_result"
    }
   ],
   "source": [
    "cur.fetchall() #가져오는 모든 데이터를 리턴해준다."
   ]
  },
  {
   "cell_type": "code",
   "execution_count": 23,
   "metadata": {
    "collapsed": true
   },
   "outputs": [],
   "source": [
    "conn.close() #connection을 닫기"
   ]
  },
  {
   "cell_type": "code",
   "execution_count": 24,
   "metadata": {
    "collapsed": true
   },
   "outputs": [],
   "source": [
    "conn = sqlite3.connect(\"test.db\") \n",
    "#다른 환경에서 쓸 때 그저 이러한 connection file을 주기만 하면 되기 때문에 굉장히 편하다"
   ]
  },
  {
   "cell_type": "code",
   "execution_count": 25,
   "metadata": {
    "collapsed": true
   },
   "outputs": [],
   "source": [
    "cur = conn.cursor()"
   ]
  },
  {
   "cell_type": "code",
   "execution_count": 26,
   "metadata": {},
   "outputs": [
    {
     "name": "stdout",
     "output_type": "stream",
     "text": [
      "만들어짐 핳\n"
     ]
    }
   ],
   "source": [
    "conn.execute(\n",
    "\"\"\"\n",
    "    create table company (\n",
    "        id int primary key not null,\n",
    "        name text not null,\n",
    "        age int not null,\n",
    "        address char(50),\n",
    "        salary real not null\n",
    "    )\n",
    "\"\"\") # company라는 이름의 table을 생성한다.\n",
    "# id(primary key), name, age, address, salary 라는 attribute를 지닌다.\n",
    "\n",
    "print(\"만들어짐 핳\")"
   ]
  },
  {
   "cell_type": "code",
   "execution_count": 27,
   "metadata": {},
   "outputs": [
    {
     "data": {
      "text/plain": [
       "<sqlite3.Cursor at 0x268ea86cf10>"
      ]
     },
     "execution_count": 27,
     "metadata": {},
     "output_type": "execute_result"
    }
   ],
   "source": [
    "conn.execute(\"drop table company\") #  company라는 이름의 table을 drop시켰다."
   ]
  },
  {
   "cell_type": "code",
   "execution_count": 29,
   "metadata": {},
   "outputs": [
    {
     "data": {
      "text/plain": [
       "<sqlite3.Cursor at 0x268ea86cea0>"
      ]
     },
     "execution_count": 29,
     "metadata": {},
     "output_type": "execute_result"
    }
   ],
   "source": [
    "conn.execute(\n",
    "\"\"\"\n",
    "    create table company (\n",
    "        id int primary key not null,\n",
    "        name text not null,\n",
    "        age int not null,\n",
    "        address char(50),\n",
    "        salary real not null\n",
    "    )\n",
    "\"\"\") # 위에서 company라는 table을 드롭시켰기 때문에 다시 company table을 생성해준다."
   ]
  },
  {
   "cell_type": "code",
   "execution_count": 30,
   "metadata": {},
   "outputs": [
    {
     "name": "stdout",
     "output_type": "stream",
     "text": [
      "제대로 만들어 졌지롱 껄껄\n"
     ]
    }
   ],
   "source": [
    "conn.execute(\"insert into company (id, name, age, address, salary) values (1, 'Paul', 32, 'California', 20000.00)\");\n",
    "conn.execute(\"insert into company (id, name, age, address, salary) values (:id, :name, :age, :address, :salary)\",\n",
    "            {'id':2, 'name':'Allen', 'age':25, 'address':'Texas', 'salary':15000.00});\n",
    "data = [(3, 'Teddy', 23, 'Norway', 200000.00), (4, 'Mark', 25, 'Rich-Mond', 65000.00)]\n",
    "\n",
    "conn.executemany(\"insert into company (id, name, age, address, salary) values (?,?,?,?,?)\" ,data);\n",
    "\n",
    "conn.executescript(\"\"\"\n",
    "insert into company (id, name, age, address, salary) values (5, 'Mark1', 25, 'Rich-Mond', 65000.00);\n",
    "insert into company (id, name, age, address, salary) values (6, 'Mark2', 25, 'Rich-Mond', 65000.00);\n",
    "\"\"\");\n",
    "\n",
    "conn.commit() #commit()의 경우 여러 sql문을 끊어주는 dump역할 해줌. 트랜잭션을 끝내준다.\n",
    "print(\"제대로 만들어 졌지롱 껄껄\")"
   ]
  },
  {
   "cell_type": "markdown",
   "metadata": {},
   "source": [
    "cursor 지정해주지 않고 connection으로 바로 sql문 실행할 수 있다."
   ]
  },
  {
   "cell_type": "code",
   "execution_count": 35,
   "metadata": {
    "collapsed": true
   },
   "outputs": [],
   "source": [
    "temp = conn.execute(\"select * from company\") # company table내에 있는 모든 항목들을 가져온다."
   ]
  },
  {
   "cell_type": "code",
   "execution_count": 32,
   "metadata": {},
   "outputs": [
    {
     "data": {
      "text/plain": [
       "sqlite3.Cursor"
      ]
     },
     "execution_count": 32,
     "metadata": {},
     "output_type": "execute_result"
    }
   ],
   "source": [
    "type(temp) \n",
    "# connection을 바로 실행시에 타입을 보면 cursor가 나온다. cursor를 execute가 가져온 것이다."
   ]
  },
  {
   "cell_type": "code",
   "execution_count": 33,
   "metadata": {},
   "outputs": [
    {
     "name": "stdout",
     "output_type": "stream",
     "text": [
      "(1, 'Paul', 32, 'California', 20000.0)\n",
      "(2, 'Allen', 25, 'Texas', 15000.0)\n",
      "(3, 'Teddy', 23, 'Norway', 200000.0)\n",
      "(4, 'Mark', 25, 'Rich-Mond', 65000.0)\n",
      "(5, 'Mark1', 25, 'Rich-Mond', 65000.0)\n",
      "(6, 'Mark2', 25, 'Rich-Mond', 65000.0)\n"
     ]
    }
   ],
   "source": [
    "for row in temp: #결과적으로 fetch한 결과와 똑같다.\n",
    "    print(row)"
   ]
  },
  {
   "cell_type": "code",
   "execution_count": 36,
   "metadata": {},
   "outputs": [
    {
     "name": "stdout",
     "output_type": "stream",
     "text": [
      "<class 'tuple'> (1, 'Paul', 32, 'California', 20000.0)\n",
      "<class 'tuple'> (2, 'Allen', 25, 'Texas', 15000.0)\n",
      "<class 'tuple'> (3, 'Teddy', 23, 'Norway', 200000.0)\n",
      "<class 'tuple'> (4, 'Mark', 25, 'Rich-Mond', 65000.0)\n",
      "<class 'tuple'> (5, 'Mark1', 25, 'Rich-Mond', 65000.0)\n",
      "<class 'tuple'> (6, 'Mark2', 25, 'Rich-Mond', 65000.0)\n"
     ]
    }
   ],
   "source": [
    "for row in temp: #결과적으로 fetch한 결과와 똑같다.\n",
    "    print(type(row), row)"
   ]
  },
  {
   "cell_type": "code",
   "execution_count": 37,
   "metadata": {},
   "outputs": [
    {
     "data": {
      "text/plain": [
       "<sqlite3.Cursor at 0x268ea967730>"
      ]
     },
     "execution_count": 37,
     "metadata": {},
     "output_type": "execute_result"
    }
   ],
   "source": [
    "cid = 1\n",
    "conn.execute(\"update company set salary=25000.00 where ID = :id\", {\"id\":cid}) #dictionary 형태로 파라미터 줌\n",
    "\n",
    "#update의 경우 기존의 데이터를 변경하는 것이기 때문에 무결성의 원칙에 맞는지 확인 해야한다.\n",
    "#그래서 commit()으로 트랜잭션을 해주어야 DB에 적용이 될 수 있다."
   ]
  },
  {
   "cell_type": "markdown",
   "metadata": {},
   "source": [
    "* 무결성의 원칙\n",
    " : 데이터의 무결성은 데이터의 정확성, 일관성, 유효성이 유지되는 것을 말한다.\n",
    "\n",
    " 1. 개체 무결성 (Entity integrity)  \n",
    " : 모든 테이블이 기본 키(primary key)로 선택된 필드(column)을 가져야 한다. 기본 키로 선택된 필드는 고유한 값을 가져야 하며, Null 값은 허용하지 않는다.  \n",
    "  \n",
    " 2. 참조 무결성 (Referential integrity)  \n",
    " : RDBMS 모델에서 참조 무결성은 참조 관계에 있는 두 테이블의 데이터가 항상 일관된 값을 갖도록 유지되는 것을 말한다.  \n",
    "    \n",
    " 3. 도메인 무결성 (Domain integrity)  \n",
    " : 도메인 무결성은 테이블에 존재하는 필드의 무결성을 보장하기 위한 것으로 필드의 타입, Null값의 허용 등에 대한 사항을 정의하고, 올바르게 데이터가 입력되었는지 확인하는 것이다. 가령 전화번호 필드에 이름이 입력되었다면 도메인 무결성이 깨지는 것이다. DBMS의 기본값 설정, NOT NULL 옵션 등의 제약 사항으로 도메인 무결성을 보장할 수 있다.  \n",
    "   \n",
    " 4. 무결성 규칙 (Integrity rule)  \n",
    " : 데이터베이스에서 무결성 규칙은 데이터의 무결성을 지키기 위한 모든 제약 사항을 말한다. business rule의 경우 DB를 이용하는 각각의 유저에 따라 다르게 적용되지만, 무결성 규칙은 데이터베이스 전체에 공통적으로 적용되는 규칙이다.  "
   ]
  },
  {
   "cell_type": "code",
   "execution_count": 38,
   "metadata": {
    "collapsed": true
   },
   "outputs": [],
   "source": [
    "conn.commit() #트랙잭션을 끝내주면서 DBBrowser for SQLite에서 바뀜을 확인할 수 있다."
   ]
  },
  {
   "cell_type": "code",
   "execution_count": 39,
   "metadata": {},
   "outputs": [
    {
     "data": {
      "text/plain": [
       "<sqlite3.Cursor at 0x268ea967ce0>"
      ]
     },
     "execution_count": 39,
     "metadata": {},
     "output_type": "execute_result"
    }
   ],
   "source": [
    "conn.execute(\"delete from company where id=2\")\n",
    "# company 라는 table에서 id가 2인 item을 삭제해준다."
   ]
  },
  {
   "cell_type": "code",
   "execution_count": 40,
   "metadata": {
    "collapsed": true
   },
   "outputs": [],
   "source": [
    "conn.commit() #update처럼 동일하게 반영하고 싶을 때는 commit을 해주어야 한다.\n",
    "#하지만 과도한 commit()은 오버헤드를 유발한다."
   ]
  },
  {
   "cell_type": "markdown",
   "metadata": {},
   "source": [
    "암묵적으로 commit을 해주지만 명시적으로 commit()을 해주는 것이 좋다"
   ]
  },
  {
   "cell_type": "markdown",
   "metadata": {},
   "source": [
    "cursor를 미리 만들어서 계속 쓰는 방법이 있고,<br>\n",
    "conn.execute()를 저장해서 cursor로 쓰는 방법이 따로 있다."
   ]
  },
  {
   "cell_type": "code",
   "execution_count": 41,
   "metadata": {},
   "outputs": [
    {
     "name": "stdout",
     "output_type": "stream",
     "text": [
      "SQLite Version :  ('3.14.2',)\n"
     ]
    }
   ],
   "source": [
    "import sqlite3 as sql # sqlite3 import\n",
    "\n",
    "con = None\n",
    "\n",
    "try:\n",
    "    con = sql.connect('test.db') # test.db라는 파일로 connection을 만들어준다.\n",
    "    cur = con.cursor() # db를 다룰 커서 생성\n",
    "    cur.execute('select sqlite_version()') # sqlite의 버전을 select해준다.\n",
    "    data = cur.fetchone() # 실행한 sql문의 결과값에 대해서 fetch해준다. 가져온다.\n",
    "    print(\"SQLite Version : \", data) \n",
    "\n",
    "except Exception as e:\n",
    "    print(\"Error: \", e)\n",
    "\n",
    "finally:\n",
    "    if con:\n",
    "        con.close()\n",
    "    "
   ]
  },
  {
   "cell_type": "code",
   "execution_count": 42,
   "metadata": {
    "collapsed": true
   },
   "outputs": [],
   "source": [
    "con = sql.connect('test.db') \n",
    "# 이전에 생성한 test.db파일에 대해서  connection을 만들어준다.\n",
    "\n",
    "cars = [\n",
    "    (1, 'Audi', 53642),\n",
    "    (2, 'Mercedes', 57127),\n",
    "    (3, 'Skoda', 9000),\n",
    "    (4, 'Volvo', 29000),\n",
    "    (5, 'Bentley', 350000),\n",
    "    (6, 'Hummer', 41400),\n",
    "    (7, 'Volkswagen', 21600)\n",
    "] # cars라는 리스트 내에 튜플 형태로 entity들을 만들어 주었다.\n",
    "\n",
    "with con:\n",
    "    cur = con.cursor() # connection에 cursor를 연결해준다.\n",
    "    cur.execute(\"create table Cars(id int primary key, name text not null, price int not null)\")\n",
    "    # id(primary key), name, price라는 Column을 지닌 Cars라는 테이블을 생성해준다.\n",
    "    cur.executemany(\"insert into Cars values(?,?,?)\", cars)\n",
    "    # 해당 테이블에 대해서 entity들을 삽입한다.\n",
    "   "
   ]
  },
  {
   "cell_type": "code",
   "execution_count": 43,
   "metadata": {
    "collapsed": true
   },
   "outputs": [],
   "source": [
    "try:\n",
    "    con = sql.connect('test.db')\n",
    "    cur = con.cursor()\n",
    "    cur.executescript(\"\"\"\n",
    "    drop table if exists Cars;\n",
    "    create table Cars(id int primary key, name text, price int);\n",
    "    insert into Cars values(1, 'Audi', 52642);\n",
    "    insert into Cars values(2, 'Mercedes', 57127);\n",
    "    insert into Cars values(3, 'Skoda', 9000);\n",
    "    insert into Cars values(4, 'Volvo', 29000);\n",
    "    insert into Cars values(5, 'Bentley', 350000);\n",
    "    insert into Cars values(6, 'Citroen', 21000);\n",
    "    insert into Cars values(7, 'Hummer', 41400);\n",
    "    insert into Cars values(8, 'Volkswagen', 21600);\n",
    "    \"\"\") # 문자열으로 한꺼번에 여러 sql문들을 실행해주는 executescript\n",
    "    \n",
    "    con.commit() # 커서에서 실행한 sql문들을 db파일에 적용(commit)해준다.\n",
    "    \n",
    "except Exception as e:# 만약 exception이 뜬다면\n",
    "    if con:\n",
    "        con.rollback()  # rollback()으로 sql문 실행 이전으로 돌려준다.\n",
    "    print(\"Error: \", e)\n",
    "\n",
    "finally:\n",
    "    if con:\n",
    "        con.close() # 마지막으로 db와의 connection을 닫아준다."
   ]
  },
  {
   "cell_type": "code",
   "execution_count": 44,
   "metadata": {},
   "outputs": [
    {
     "name": "stdout",
     "output_type": "stream",
     "text": [
      "The last Id of the inserted row is 4\n"
     ]
    }
   ],
   "source": [
    "con = sql.connect(':memory:') # db에 대해서 connection을 만들어준다.\n",
    "\n",
    "with con: #with scope가 끝나면 con.close()가 자동으로 되는 것이다.\n",
    "    cur = con.cursor() # 커넥션에 대해서 cursor를 생성해준다.\n",
    "    cur.execute(\"create table Friends(Id integer primary key, name text);\")\n",
    "    cur.execute(\"insert into Friends(name) values ('Tom');\")\n",
    "    cur.execute(\"insert into Friends(name) values ('Rebecca');\")\n",
    "    cur.execute(\"insert into Friends(name) values ('Jim');\")\n",
    "    cur.execute(\"insert into Friends(name) values ('Robert');\")\n",
    "    # Friends라는 테이블을 생성하고 entity들을 삽입한다.\n",
    "    \n",
    "    lid  = cur.lastrowid # cursor를 통해 삽입한 마지막 열의 id\n",
    "    print(\"The last Id of the inserted row is\", lid)"
   ]
  },
  {
   "cell_type": "code",
   "execution_count": 45,
   "metadata": {
    "scrolled": true
   },
   "outputs": [
    {
     "name": "stdout",
     "output_type": "stream",
     "text": [
      "1 Audi 52642\n",
      "2 Mercedes 57127\n",
      "3 Skoda 9000\n",
      "4 Volvo 29000\n",
      "5 Bentley 350000\n",
      "6 Citroen 21000\n",
      "7 Hummer 41400\n",
      "8 Volkswagen 21600\n"
     ]
    }
   ],
   "source": [
    "con = sql.connect('test.db')\n",
    "\n",
    "with con:\n",
    "    cur = con.cursor()\n",
    "    cur.execute(\"select * from Cars\") # Cars라는 테이블의 모든 엔트리를 가져온다.\n",
    "    \n",
    "    while True:\n",
    "        row = cur.fetchone() # 가져온 엔트리들 중에 하나를 fetch 해준다.\n",
    "        \n",
    "        if row == None:\n",
    "            break\n",
    "        \n",
    "        print(row[0], row[1], row[2]) # 가져온 entry를 출력해준다."
   ]
  },
  {
   "cell_type": "code",
   "execution_count": 46,
   "metadata": {},
   "outputs": [
    {
     "name": "stdout",
     "output_type": "stream",
     "text": [
      "1 Audi 52642\n",
      "2 Mercedes 57127\n",
      "3 Skoda 9000\n",
      "4 Volvo 29000\n",
      "5 Bentley 350000\n",
      "6 Citroen 21000\n",
      "7 Hummer 41400\n",
      "8 Volkswagen 21600\n"
     ]
    }
   ],
   "source": [
    "con = sql.connect('test.db')\n",
    "\n",
    "with con:\n",
    "    con.row_factory = sql.Row\n",
    "    \n",
    "    cur = con.cursor()\n",
    "    cur.execute(\"select * from Cars\")\n",
    "    \n",
    "    rows = cur.fetchall()\n",
    "    \n",
    "    for row in rows:\n",
    "        print(row[\"Id\"], row[\"Name\"], row[\"Price\"]) #dictionary형식으로 갖고 올 수 있다.\n",
    "        #내부적으로 메소드 오버로딩이 되어 있을 것."
   ]
  },
  {
   "cell_type": "code",
   "execution_count": 51,
   "metadata": {},
   "outputs": [
    {
     "name": "stdout",
     "output_type": "stream",
     "text": [
      "Number of rows updated:  1\n"
     ]
    }
   ],
   "source": [
    "uId = 1\n",
    "uPrice = 62300\n",
    "\n",
    "con = sql.connect('test.db')\n",
    "\n",
    "with con:\n",
    "    cur = con.cursor()\n",
    "    # 여러 column에 대해서 sql문 쓸 수 있는 방법 1 \n",
    "    cur.execute('update Cars set Price = ? where Id = ?', (uPrice, uId))\n",
    "    print(\"Number of rows updated: \", cur.rowcount)"
   ]
  },
  {
   "cell_type": "code",
   "execution_count": 52,
   "metadata": {},
   "outputs": [
    {
     "name": "stdout",
     "output_type": "stream",
     "text": [
      "Volvo 29000\n"
     ]
    }
   ],
   "source": [
    "uId = 4\n",
    "con = sql.connect('test.db')\n",
    "\n",
    "with con:\n",
    "    cur = con.cursor()\n",
    "     # 여러 column에 대해서 sql문 쓸 수 있는 방법 2\n",
    "    cur.execute(\"select Name, Price from Cars where Id=:Id\", {\"Id\": uId})\n",
    "    row = cur.fetchone()\n",
    "    print(row[0], row[1])"
   ]
  }
 ],
 "metadata": {
  "kernelspec": {
   "display_name": "Python 3",
   "language": "python",
   "name": "python3"
  },
  "language_info": {
   "codemirror_mode": {
    "name": "ipython",
    "version": 3
   },
   "file_extension": ".py",
   "mimetype": "text/x-python",
   "name": "python",
   "nbconvert_exporter": "python",
   "pygments_lexer": "ipython3",
   "version": "3.6.3"
  }
 },
 "nbformat": 4,
 "nbformat_minor": 2
}
