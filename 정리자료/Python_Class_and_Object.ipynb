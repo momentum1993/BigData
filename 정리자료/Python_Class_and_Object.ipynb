{
 "cells": [
  {
   "cell_type": "markdown",
   "metadata": {},
   "source": [
    "## Class and Object"
   ]
  },
  {
   "cell_type": "code",
   "execution_count": 2,
   "metadata": {
    "collapsed": true
   },
   "outputs": [],
   "source": [
    "class Parrot:\n",
    "\n",
    "    # class attribute\n",
    "    species = \"bird\"\n",
    "\n",
    "    # instance attribute\n",
    "    def __init__(self, name, age):\n",
    "        self.name = name\n",
    "        self.age = age"
   ]
  },
  {
   "cell_type": "code",
   "execution_count": 3,
   "metadata": {
    "collapsed": true
   },
   "outputs": [],
   "source": [
    "# instantiate the Parrot class\n",
    "blu = Parrot(\"Blu\", 10) #인스턴스화할 때 생성자에서 name, age 2가지를 받는다.\n",
    "woo = Parrot(\"Woo\", 15)"
   ]
  },
  {
   "cell_type": "code",
   "execution_count": 4,
   "metadata": {
    "scrolled": true
   },
   "outputs": [
    {
     "data": {
      "text/plain": [
       "__main__.Parrot"
      ]
     },
     "execution_count": 4,
     "metadata": {},
     "output_type": "execute_result"
    }
   ],
   "source": [
    "type(blu) #__main__ 현재 작업하고 있는 것에서 클래스 이름이 나온다"
   ]
  },
  {
   "cell_type": "code",
   "execution_count": 5,
   "metadata": {},
   "outputs": [
    {
     "data": {
      "text/plain": [
       "type"
      ]
     },
     "execution_count": 5,
     "metadata": {},
     "output_type": "execute_result"
    }
   ],
   "source": [
    "type(Parrot) #type쳐서 type이 나오면 class이다"
   ]
  },
  {
   "cell_type": "code",
   "execution_count": 6,
   "metadata": {},
   "outputs": [
    {
     "data": {
      "text/plain": [
       "['__class__',\n",
       " '__delattr__',\n",
       " '__dict__',\n",
       " '__dir__',\n",
       " '__doc__',\n",
       " '__eq__',\n",
       " '__format__',\n",
       " '__ge__',\n",
       " '__getattribute__',\n",
       " '__gt__',\n",
       " '__hash__',\n",
       " '__init__',\n",
       " '__init_subclass__',\n",
       " '__le__',\n",
       " '__lt__',\n",
       " '__module__',\n",
       " '__ne__',\n",
       " '__new__',\n",
       " '__reduce__',\n",
       " '__reduce_ex__',\n",
       " '__repr__',\n",
       " '__setattr__',\n",
       " '__sizeof__',\n",
       " '__str__',\n",
       " '__subclasshook__',\n",
       " '__weakref__',\n",
       " 'age',\n",
       " 'name',\n",
       " 'species']"
      ]
     },
     "execution_count": 6,
     "metadata": {},
     "output_type": "execute_result"
    }
   ],
   "source": [
    "dir(blu)"
   ]
  },
  {
   "cell_type": "code",
   "execution_count": 7,
   "metadata": {
    "scrolled": true
   },
   "outputs": [
    {
     "data": {
      "text/plain": [
       "{'age': 10, 'name': 'Blu'}"
      ]
     },
     "execution_count": 7,
     "metadata": {},
     "output_type": "execute_result"
    }
   ],
   "source": [
    "vars(blu) # attribute 중에 species 가 안 나온다. \n",
    "\n",
    "#age, name의 경우 인스턴스 attribute이다 \n",
    "#species의 경우 클래스 attribute이다"
   ]
  },
  {
   "cell_type": "markdown",
   "metadata": {},
   "source": [
    "age, name의 경우 선언시에 self를 붙여서 만든 **instance attribute**이다  \n",
    "species의 경우 **class attribute**이다"
   ]
  },
  {
   "cell_type": "code",
   "execution_count": 8,
   "metadata": {},
   "outputs": [
    {
     "data": {
      "text/plain": [
       "{'age': 10, 'name': 'Blu'}"
      ]
     },
     "execution_count": 8,
     "metadata": {},
     "output_type": "execute_result"
    }
   ],
   "source": [
    "blu.__dict__ #여기도 instance attribute만 나온다"
   ]
  },
  {
   "cell_type": "code",
   "execution_count": 9,
   "metadata": {
    "collapsed": true
   },
   "outputs": [],
   "source": [
    "blu.species = 'bird2'"
   ]
  },
  {
   "cell_type": "code",
   "execution_count": 11,
   "metadata": {},
   "outputs": [
    {
     "data": {
      "text/plain": [
       "{'age': 10, 'name': 'Blu', 'species': 'bird2'}"
      ]
     },
     "execution_count": 11,
     "metadata": {},
     "output_type": "execute_result"
    }
   ],
   "source": [
    "blu.__dict__ # 재할당을 할 경우에 다시 species가 나온다"
   ]
  },
  {
   "cell_type": "code",
   "execution_count": 12,
   "metadata": {
    "scrolled": true
   },
   "outputs": [
    {
     "data": {
      "text/plain": [
       "['__class__',\n",
       " '__delattr__',\n",
       " '__dict__',\n",
       " '__dir__',\n",
       " '__doc__',\n",
       " '__eq__',\n",
       " '__format__',\n",
       " '__ge__',\n",
       " '__getattribute__',\n",
       " '__gt__',\n",
       " '__hash__',\n",
       " '__init__',\n",
       " '__init_subclass__',\n",
       " '__le__',\n",
       " '__lt__',\n",
       " '__module__',\n",
       " '__ne__',\n",
       " '__new__',\n",
       " '__reduce__',\n",
       " '__reduce_ex__',\n",
       " '__repr__',\n",
       " '__setattr__',\n",
       " '__sizeof__',\n",
       " '__str__',\n",
       " '__subclasshook__',\n",
       " '__weakref__',\n",
       " 'age',\n",
       " 'name',\n",
       " 'species']"
      ]
     },
     "execution_count": 12,
     "metadata": {},
     "output_type": "execute_result"
    }
   ],
   "source": [
    "dir(woo)"
   ]
  },
  {
   "cell_type": "code",
   "execution_count": 13,
   "metadata": {},
   "outputs": [
    {
     "data": {
      "text/plain": [
       "'bird'"
      ]
     },
     "execution_count": 13,
     "metadata": {},
     "output_type": "execute_result"
    }
   ],
   "source": [
    "woo.species\n",
    "# class attribute는 생성될 때 자신이 갖고 있는 것이다. \n",
    "# class attribute는 Java에서의 static과 비슷함"
   ]
  },
  {
   "cell_type": "markdown",
   "metadata": {},
   "source": [
    "__Attribute__는 __Class attribute__와 __Instance attribute__로 나뉜다"
   ]
  },
  {
   "cell_type": "code",
   "execution_count": 14,
   "metadata": {},
   "outputs": [
    {
     "data": {
      "text/plain": [
       "{'age': 15, 'name': 'Woo'}"
      ]
     },
     "execution_count": 14,
     "metadata": {},
     "output_type": "execute_result"
    }
   ],
   "source": [
    "vars(woo)"
   ]
  },
  {
   "cell_type": "code",
   "execution_count": 15,
   "metadata": {
    "scrolled": true
   },
   "outputs": [
    {
     "data": {
      "text/plain": [
       "'bird2'"
      ]
     },
     "execution_count": 15,
     "metadata": {},
     "output_type": "execute_result"
    }
   ],
   "source": [
    "blu.species #재할당되면서 class attribute가 instance attribute로 바뀜"
   ]
  },
  {
   "cell_type": "code",
   "execution_count": 16,
   "metadata": {},
   "outputs": [
    {
     "data": {
      "text/plain": [
       "'bird'"
      ]
     },
     "execution_count": 16,
     "metadata": {},
     "output_type": "execute_result"
    }
   ],
   "source": [
    "woo.species"
   ]
  },
  {
   "cell_type": "code",
   "execution_count": 17,
   "metadata": {
    "scrolled": true
   },
   "outputs": [
    {
     "ename": "AttributeError",
     "evalue": "type object 'Parrot' has no attribute 'name'",
     "output_type": "error",
     "traceback": [
      "\u001b[1;31m---------------------------------------------------------------------------\u001b[0m",
      "\u001b[1;31mAttributeError\u001b[0m                            Traceback (most recent call last)",
      "\u001b[1;32m<ipython-input-17-501e6f91afe0>\u001b[0m in \u001b[0;36m<module>\u001b[1;34m()\u001b[0m\n\u001b[1;32m----> 1\u001b[1;33m \u001b[0mParrot\u001b[0m\u001b[1;33m.\u001b[0m\u001b[0mname\u001b[0m \u001b[1;31m#instance attrbute\u001b[0m\u001b[1;33m\u001b[0m\u001b[0m\n\u001b[0m\u001b[0;32m      2\u001b[0m \u001b[1;31m#instance가 생성되어야 사용할 수 있다.\u001b[0m\u001b[1;33m\u001b[0m\u001b[1;33m\u001b[0m\u001b[0m\n",
      "\u001b[1;31mAttributeError\u001b[0m: type object 'Parrot' has no attribute 'name'"
     ]
    }
   ],
   "source": [
    "Parrot.name #instance attrbute\n",
    "# instance가 생성되어야 사용할 수 있다.\n",
    "# 객체가 아닌 클래스에 대해서 name을 불러오기 때문에 에러가 뜰 것이다."
   ]
  },
  {
   "cell_type": "markdown",
   "metadata": {},
   "source": [
    "파이썬에서의 Class는 Object일 수도 있다."
   ]
  },
  {
   "cell_type": "code",
   "execution_count": 21,
   "metadata": {},
   "outputs": [
    {
     "name": "stdout",
     "output_type": "stream",
     "text": [
      "Blu is a bird\n",
      "Woo is also a bird\n",
      "Blu is 10 years old\n",
      "Woo is 15 years old\n"
     ]
    }
   ],
   "source": [
    "# access the class attributes\n",
    "print(\"Blu is a {}\".format(blu.__class__.species)) # {} 부분을 뒤의 .format의 형태로 print해주는 것이다\n",
    "print(\"Woo is also a {}\".format(woo.__class__.species))\n",
    "\n",
    "# access the instance attributes\n",
    "print(\"{} is {} years old\".format( blu.name, blu.age))\n",
    "print(\"{} is {} years old\".format( woo.name, woo.age))\n",
    "\n",
    "## Methods"
   ]
  },
  {
   "cell_type": "markdown",
   "metadata": {},
   "source": [
    "Blu객체의 species를 재할당해서 species를 bird2"
   ]
  },
  {
   "cell_type": "code",
   "execution_count": 51,
   "metadata": {
    "collapsed": true
   },
   "outputs": [],
   "source": [
    "조보아 = Parrot('조보아', 30)\n",
    "# 현재 name = '조보아', age = 30을 가지는 Parrot type instance 조보아를 생성했다."
   ]
  },
  {
   "cell_type": "code",
   "execution_count": 24,
   "metadata": {},
   "outputs": [
    {
     "data": {
      "text/plain": [
       "{'age': 30, 'name': '조보아'}"
      ]
     },
     "execution_count": 24,
     "metadata": {},
     "output_type": "execute_result"
    }
   ],
   "source": [
    "vars(조보아) # 현재 instance attribute를 보여준다."
   ]
  },
  {
   "cell_type": "code",
   "execution_count": 25,
   "metadata": {
    "scrolled": true
   },
   "outputs": [
    {
     "data": {
      "text/plain": [
       "'bird'"
      ]
     },
     "execution_count": 25,
     "metadata": {},
     "output_type": "execute_result"
    }
   ],
   "source": [
    "조보아.species # 현재 class attribute인 species를 보여준다."
   ]
  },
  {
   "cell_type": "code",
   "execution_count": 26,
   "metadata": {
    "collapsed": true
   },
   "outputs": [],
   "source": [
    "조보아.species = 'bird2' # 이렇게 임의로 class attribute를 재할당하게 되면\n",
    "# 이제 조보아.species는 instance attribute가 된다."
   ]
  },
  {
   "cell_type": "code",
   "execution_count": 28,
   "metadata": {},
   "outputs": [
    {
     "data": {
      "text/plain": [
       "'bird2'"
      ]
     },
     "execution_count": 28,
     "metadata": {},
     "output_type": "execute_result"
    }
   ],
   "source": [
    "조보아.species #여기의 species는 instance attrbute가 된다.\n",
    "#(다만 class attribute는 남아있다.) ->  instance attribute가 우선 순위를 가짐"
   ]
  },
  {
   "cell_type": "code",
   "execution_count": 30,
   "metadata": {},
   "outputs": [
    {
     "data": {
      "text/plain": [
       "'bird'"
      ]
     },
     "execution_count": 30,
     "metadata": {},
     "output_type": "execute_result"
    }
   ],
   "source": [
    "조보아.__class__.species #여기는 class attribute에 대해 명시해서 가져옴"
   ]
  },
  {
   "cell_type": "markdown",
   "metadata": {},
   "source": [
    "**Instance attribute**는 self.를 붙여서 선언하면 된다."
   ]
  },
  {
   "cell_type": "code",
   "execution_count": 31,
   "metadata": {},
   "outputs": [
    {
     "data": {
      "text/plain": [
       "__main__.Parrot"
      ]
     },
     "execution_count": 31,
     "metadata": {},
     "output_type": "execute_result"
    }
   ],
   "source": [
    "조보아.__class__ #instance의 타입을 쳤을 때랑 똑같이 출력된다"
   ]
  },
  {
   "cell_type": "markdown",
   "metadata": {
    "collapsed": true
   },
   "source": [
    "# Methods"
   ]
  },
  {
   "cell_type": "code",
   "execution_count": 32,
   "metadata": {},
   "outputs": [
    {
     "name": "stdout",
     "output_type": "stream",
     "text": [
      "Blu sings 'Happy'\n",
      "Blu is now dancing\n"
     ]
    }
   ],
   "source": [
    "class Parrot:\n",
    "    \n",
    "    # instance attributes\n",
    "    def __init__(self, name, age):\n",
    "        self.name = name\n",
    "        self.age = age\n",
    "    \n",
    "    # instance method\n",
    "    def sing(self, song):\n",
    "        return \"{} sings {}\".format(self.name, song)\n",
    "\n",
    "    def dance(self):\n",
    "        return \"{} is now dancing\".format(self.name)\n",
    "\n",
    "# instantiate the object\n",
    "blu = Parrot(\"Blu\", 10) # Parrot instance 생성\n",
    "\n",
    "# call our instance methods\n",
    "print(blu.sing(\"'Happy'\")) # instance method들을 호출한다.\n",
    "print(blu.dance())"
   ]
  },
  {
   "cell_type": "code",
   "execution_count": 49,
   "metadata": {},
   "outputs": [
    {
     "name": "stdout",
     "output_type": "stream",
     "text": [
      "Blu sings 'Happy'\n",
      "Blu is now dancing\n"
     ]
    }
   ],
   "source": [
    "class Parrot:\n",
    "    \n",
    "    # instance attributes\n",
    "    def __init__(me, name, age): #self 대신 딴거 넣어도 상관없다.\n",
    "        me.name = name\n",
    "        me.age = age\n",
    "    # 여기서 일부러 self를 me로 바꾸어보았다.\n",
    "    \n",
    "    # instance method\n",
    "    def sing(me, song):\n",
    "        return \"{} sings {}\".format(me.name, song)\n",
    "\n",
    "    def dance(me):\n",
    "        return \"{} is now dancing\".format(me.name)\n",
    "\n",
    "# instantiate the object\n",
    "blu = Parrot(\"Blu\", 10)\n",
    "\n",
    "# call our instance methods\n",
    "print(blu.sing(\"'Happy'\"))\n",
    "print(blu.dance())"
   ]
  },
  {
   "cell_type": "markdown",
   "metadata": {},
   "source": [
    "클래스 Method의 첫번째 인자는 자기자신을 가리키는 것이다"
   ]
  },
  {
   "cell_type": "code",
   "execution_count": 54,
   "metadata": {
    "scrolled": true
   },
   "outputs": [
    {
     "data": {
      "text/plain": [
       "'조보아 sings 노래'"
      ]
     },
     "execution_count": 54,
     "metadata": {},
     "output_type": "execute_result"
    }
   ],
   "source": [
    "Parrot.sing(조보아,'노래')\n",
    "조보아.sing('노래')"
   ]
  },
  {
   "cell_type": "code",
   "execution_count": 56,
   "metadata": {},
   "outputs": [
    {
     "name": "stdout",
     "output_type": "stream",
     "text": [
      "Blu sings 'Happy'\n",
      "Blu is now dancing\n"
     ]
    }
   ],
   "source": [
    "class Parrot:\n",
    "    \n",
    "    # instance attributes\n",
    "    def __init__(self, name, age):\n",
    "        self.name = name\n",
    "        self.age = age\n",
    "    \n",
    "    # instance method\n",
    "    def sing(self, song):\n",
    "        return \"{} sings {}\".format(self.name, song)\n",
    "\n",
    "    def dance(self):\n",
    "        return \"{} is now dancing\".format(self.name)\n",
    "\n",
    "# instantiate the object\n",
    "blu = Parrot(\"Blu\", 10)\n",
    "\n",
    "# call our instance methods\n",
    "print(blu.sing(\"'Happy'\"))\n",
    "print(blu.dance())"
   ]
  },
  {
   "cell_type": "markdown",
   "metadata": {},
   "source": [
    "Class.dance(instance)   \n",
    "instance.dance()"
   ]
  },
  {
   "cell_type": "code",
   "execution_count": 57,
   "metadata": {
    "scrolled": true
   },
   "outputs": [
    {
     "data": {
      "text/plain": [
       "'조보아 is now dancing'"
      ]
     },
     "execution_count": 57,
     "metadata": {},
     "output_type": "execute_result"
    }
   ],
   "source": [
    "조보아.dance()"
   ]
  },
  {
   "cell_type": "code",
   "execution_count": 58,
   "metadata": {
    "collapsed": true
   },
   "outputs": [],
   "source": [
    "앵무새 = Parrot(\"짹짹이\", 15) # instantiate"
   ]
  },
  {
   "cell_type": "code",
   "execution_count": 62,
   "metadata": {
    "scrolled": true
   },
   "outputs": [
    {
     "data": {
      "text/plain": [
       "'짹짹이 sings 서시'"
      ]
     },
     "execution_count": 62,
     "metadata": {},
     "output_type": "execute_result"
    }
   ],
   "source": [
    "앵무새.sing(\"서시\") # instance method call"
   ]
  },
  {
   "cell_type": "code",
   "execution_count": 63,
   "metadata": {},
   "outputs": [
    {
     "data": {
      "text/plain": [
       "'짹짹이 sings 서시'"
      ]
     },
     "execution_count": 63,
     "metadata": {},
     "output_type": "execute_result"
    }
   ],
   "source": [
    "Parrot.sing(앵무새,\"서시\")"
   ]
  },
  {
   "cell_type": "code",
   "execution_count": 64,
   "metadata": {
    "collapsed": true
   },
   "outputs": [],
   "source": [
    "class Parrot:\n",
    "    \n",
    "    # instance attributes\n",
    "    def __init__(self, name, age):\n",
    "        self.name = name\n",
    "        self.age = age\n",
    "    \n",
    "    # instance method\n",
    "    def sing(self, song):\n",
    "        return \"{} sings {}\".format(self.name, song)\n",
    "\n",
    "    def dance(self):\n",
    "        return \"{} is now dancing\".format(self.name)\n",
    "    \n",
    "    @classmethod #decoration (=Java의 annotation)\n",
    "    def dance2(cls): #클래스 메소드의 정의\n",
    "        return \" is now dancing2\""
   ]
  },
  {
   "cell_type": "code",
   "execution_count": 65,
   "metadata": {
    "collapsed": true
   },
   "outputs": [],
   "source": [
    "a = Parrot('sun', 42)"
   ]
  },
  {
   "cell_type": "code",
   "execution_count": 66,
   "metadata": {},
   "outputs": [
    {
     "data": {
      "text/plain": [
       "'sun is now dancing'"
      ]
     },
     "execution_count": 66,
     "metadata": {},
     "output_type": "execute_result"
    }
   ],
   "source": [
    "Parrot.dance(a)\n",
    "a.dance()"
   ]
  },
  {
   "cell_type": "code",
   "execution_count": 67,
   "metadata": {},
   "outputs": [
    {
     "data": {
      "text/plain": [
       "' is now dancing2'"
      ]
     },
     "execution_count": 67,
     "metadata": {},
     "output_type": "execute_result"
    }
   ],
   "source": [
    "Parrot.dance2() #클래스 메소드는 클래스 이름을 대고 실행을 해야한다!!!"
   ]
  },
  {
   "cell_type": "code",
   "execution_count": 68,
   "metadata": {},
   "outputs": [
    {
     "data": {
      "text/plain": [
       "' is now dancing2'"
      ]
     },
     "execution_count": 68,
     "metadata": {},
     "output_type": "execute_result"
    }
   ],
   "source": [
    "a.__class__.dance2() # 위와 같은 방식이다"
   ]
  },
  {
   "cell_type": "markdown",
   "metadata": {},
   "source": [
    "python은 2가지의 attribute로 나뉜다 : class attribute, instance attribute"
   ]
  },
  {
   "cell_type": "markdown",
   "metadata": {},
   "source": [
    "instance attribute는 첫번째 인자가 자기 자신을 가리킨다.  \n",
    "instance.\\__class\\__는 클래스와 같다"
   ]
  },
  {
   "cell_type": "markdown",
   "metadata": {},
   "source": [
    "## Inheritance"
   ]
  },
  {
   "cell_type": "markdown",
   "metadata": {},
   "source": [
    "자바는 단일상속, C++은 다중 상속"
   ]
  },
  {
   "cell_type": "markdown",
   "metadata": {},
   "source": [
    "파이썬의 경우 다중 상속!"
   ]
  },
  {
   "cell_type": "markdown",
   "metadata": {},
   "source": [
    "파이썬은 antipattern을 지원해준다."
   ]
  },
  {
   "cell_type": "markdown",
   "metadata": {},
   "source": [
    "자바의 경우 interface를 통해 다중 상속을 지원한다."
   ]
  },
  {
   "cell_type": "code",
   "execution_count": 86,
   "metadata": {
    "collapsed": true
   },
   "outputs": [],
   "source": [
    "# parent class\n",
    "class Bird: #Java처럼 Object를 기본적으로 상속 받는다 # 파이썬에서도 추상클래스를 지원해준다.\n",
    "#파이썬에서는 클래스가 mutable이기 때문에 자바와 달리 attribute가 없는 상태로 정의 가능\n",
    "    def __init__(self): \n",
    "        print(\"Bird is ready\")\n",
    "\n",
    "    def whoisThis(self):\n",
    "        print(\"Bird\")\n",
    "\n",
    "    def swim(self):\n",
    "        print(\"Swim faster\")\n",
    "\n",
    "# child class\n",
    "class Penguin(Bird): # Bird를 상속받은 Penguin 클래스\n",
    "    pass\n",
    "#     def __init__(self):\n",
    "#         # call super() function\n",
    "#         super().__init__()\n",
    "#         print(\"Penguin is ready\")\n",
    "\n",
    "#     def whoisThis(self):\n",
    "#         print(\"Penguin\")\n",
    "\n",
    "#     def run(self):\n",
    "#         print(\"Run faster\")"
   ]
  },
  {
   "cell_type": "code",
   "execution_count": 71,
   "metadata": {
    "scrolled": true
   },
   "outputs": [
    {
     "name": "stdout",
     "output_type": "stream",
     "text": [
      "Bird is ready\n",
      "Bird\n",
      "Swim faster\n"
     ]
    },
    {
     "ename": "AttributeError",
     "evalue": "'Penguin' object has no attribute 'run'",
     "output_type": "error",
     "traceback": [
      "\u001b[1;31m---------------------------------------------------------------------------\u001b[0m",
      "\u001b[1;31mAttributeError\u001b[0m                            Traceback (most recent call last)",
      "\u001b[1;32m<ipython-input-71-f447bd67fffe>\u001b[0m in \u001b[0;36m<module>\u001b[1;34m()\u001b[0m\n\u001b[0;32m      2\u001b[0m \u001b[0mpeggy\u001b[0m\u001b[1;33m.\u001b[0m\u001b[0mwhoisThis\u001b[0m\u001b[1;33m(\u001b[0m\u001b[1;33m)\u001b[0m\u001b[1;33m\u001b[0m\u001b[0m\n\u001b[0;32m      3\u001b[0m \u001b[0mpeggy\u001b[0m\u001b[1;33m.\u001b[0m\u001b[0mswim\u001b[0m\u001b[1;33m(\u001b[0m\u001b[1;33m)\u001b[0m\u001b[1;33m\u001b[0m\u001b[0m\n\u001b[1;32m----> 4\u001b[1;33m \u001b[0mpeggy\u001b[0m\u001b[1;33m.\u001b[0m\u001b[0mrun\u001b[0m\u001b[1;33m(\u001b[0m\u001b[1;33m)\u001b[0m\u001b[1;33m\u001b[0m\u001b[0m\n\u001b[0m",
      "\u001b[1;31mAttributeError\u001b[0m: 'Penguin' object has no attribute 'run'"
     ]
    }
   ],
   "source": [
    "peggy = Penguin()\n",
    "peggy.whoisThis()\n",
    "peggy.swim()\n",
    "peggy.run()"
   ]
  },
  {
   "cell_type": "code",
   "execution_count": 72,
   "metadata": {
    "scrolled": true
   },
   "outputs": [
    {
     "data": {
      "text/plain": [
       "['__class__',\n",
       " '__delattr__',\n",
       " '__dict__',\n",
       " '__dir__',\n",
       " '__doc__',\n",
       " '__eq__',\n",
       " '__format__',\n",
       " '__ge__',\n",
       " '__getattribute__',\n",
       " '__gt__',\n",
       " '__hash__',\n",
       " '__init__',\n",
       " '__init_subclass__',\n",
       " '__le__',\n",
       " '__lt__',\n",
       " '__module__',\n",
       " '__ne__',\n",
       " '__new__',\n",
       " '__reduce__',\n",
       " '__reduce_ex__',\n",
       " '__repr__',\n",
       " '__setattr__',\n",
       " '__sizeof__',\n",
       " '__str__',\n",
       " '__subclasshook__',\n",
       " '__weakref__',\n",
       " 'swim',\n",
       " 'whoisThis']"
      ]
     },
     "execution_count": 72,
     "metadata": {},
     "output_type": "execute_result"
    }
   ],
   "source": [
    "dir(Penguin) #Bird를 상속받은 Penguin은 Bird상의 swim()과 whoisThis()를 갖고 있다."
   ]
  },
  {
   "cell_type": "markdown",
   "metadata": {},
   "source": [
    "상속을 통해서 부모의 함수를 오버라이딩이 가능하다"
   ]
  },
  {
   "cell_type": "code",
   "execution_count": 73,
   "metadata": {},
   "outputs": [
    {
     "name": "stdout",
     "output_type": "stream",
     "text": [
      "Bird is ready\n",
      "Bird\n",
      "Swim faster\n"
     ]
    }
   ],
   "source": [
    "peggy = Penguin()\n",
    "peggy.whoisThis()\n",
    "peggy.swim()\n",
    "# peggy.run()"
   ]
  },
  {
   "cell_type": "code",
   "execution_count": 74,
   "metadata": {
    "collapsed": true
   },
   "outputs": [],
   "source": [
    "class Penguin(Bird): # Bird를 상속받은 Penguin 클래스\n",
    "    def swim(self): # Bird클래스에 있던 swim instance method를 오버라이딩해줌.\n",
    "        print(\"I can't swim\")"
   ]
  },
  {
   "cell_type": "code",
   "execution_count": 75,
   "metadata": {},
   "outputs": [
    {
     "name": "stdout",
     "output_type": "stream",
     "text": [
      "Bird is ready\n",
      "Bird\n",
      "I can't swim\n"
     ]
    }
   ],
   "source": [
    "peggy = Penguin()\n",
    "peggy.whoisThis()\n",
    "peggy.swim() # Penguin클래스에서 오버라이딩 해주었기 때문에 바뀐대로 출력해준다.\n",
    "# peggy.run()"
   ]
  },
  {
   "cell_type": "code",
   "execution_count": 76,
   "metadata": {
    "collapsed": true
   },
   "outputs": [],
   "source": [
    "class Penguin(Bird): # Bird를 상속받은 Penguin 클래스\n",
    "    def swim(self): # Bird클래스의 swim메소드를 오버라이딩 \n",
    "        print(\"I can't swim\")\n",
    "    def run(self): # Bird클래스에는 없던 run() 메소드를 추가했다.\n",
    "        print(\"Run faster\")"
   ]
  },
  {
   "cell_type": "code",
   "execution_count": 77,
   "metadata": {
    "scrolled": false
   },
   "outputs": [
    {
     "data": {
      "text/plain": [
       "['__class__',\n",
       " '__delattr__',\n",
       " '__dict__',\n",
       " '__dir__',\n",
       " '__doc__',\n",
       " '__eq__',\n",
       " '__format__',\n",
       " '__ge__',\n",
       " '__getattribute__',\n",
       " '__gt__',\n",
       " '__hash__',\n",
       " '__init__',\n",
       " '__init_subclass__',\n",
       " '__le__',\n",
       " '__lt__',\n",
       " '__module__',\n",
       " '__ne__',\n",
       " '__new__',\n",
       " '__reduce__',\n",
       " '__reduce_ex__',\n",
       " '__repr__',\n",
       " '__setattr__',\n",
       " '__sizeof__',\n",
       " '__str__',\n",
       " '__subclasshook__',\n",
       " '__weakref__',\n",
       " 'run',\n",
       " 'swim',\n",
       " 'whoisThis']"
      ]
     },
     "execution_count": 77,
     "metadata": {},
     "output_type": "execute_result"
    }
   ],
   "source": [
    "dir(Penguin)"
   ]
  },
  {
   "cell_type": "code",
   "execution_count": 80,
   "metadata": {
    "collapsed": true
   },
   "outputs": [],
   "source": [
    "class Penguin(Bird): # Bird를 상속받은 Penguin 클래스\n",
    "    def __init__(self):\n",
    "        # call super() function\n",
    "        super().__init__() # 부모 클래스 super()\n",
    "        print(\"Penguin is ready\")\n",
    "\n",
    "    def whoisThis(self): # Bird클래스의 whoisThis를 오버라이딩 해줌.\n",
    "        print(\"Penguin\")\n",
    "\n",
    "    def run(self): # 원래 없던 run()메소드를 추가해줌.\n",
    "        print(\"Run faster\")"
   ]
  },
  {
   "cell_type": "code",
   "execution_count": 81,
   "metadata": {
    "scrolled": true
   },
   "outputs": [
    {
     "name": "stdout",
     "output_type": "stream",
     "text": [
      "Bird is ready\n",
      "Penguin is ready\n",
      "Penguin\n",
      "Swim faster\n"
     ]
    }
   ],
   "source": [
    "peggy = Penguin() # super().__init__()으로 인해서 부모 클래스의 생성자에 있는 것을 출력 먼저 해주고 Penguin is ready를 출력해줌\n",
    "peggy.whoisThis()\n",
    "peggy.swim()\n",
    "# peggy.run()"
   ]
  },
  {
   "cell_type": "code",
   "execution_count": 94,
   "metadata": {
    "collapsed": true
   },
   "outputs": [],
   "source": [
    "class Penguin(Bird): # Bird를 상속받은 Penguin 클래스\n",
    "    def __init__(self):\n",
    "        # call super() function\n",
    "        super(Bird).__init__() # 부모 클래스 super()\n",
    "        # super() -> same as super(__class__, <first argument>)\n",
    "        # super(type) -> unbound(매여있지않은) super object\n",
    "        # super(type, obj) -> bound super object; requires isinstance(obj, type)\n",
    "        # super(type, type2) -> bound super object; requires issubclass(type2, type)\n",
    "        \n",
    "        #다중상속기능을 제공하기때문에 여러 타입을 받을 수 있게 했다.\n",
    "        print(\"Penguin is ready\")\n",
    "        \n",
    "\n",
    "#     def whoisThis(self):\n",
    "#         print(\"Penguin\")\n",
    "\n",
    "    def run(self):\n",
    "        print(\"Run faster\")"
   ]
  },
  {
   "cell_type": "code",
   "execution_count": 95,
   "metadata": {
    "scrolled": true
   },
   "outputs": [
    {
     "name": "stdout",
     "output_type": "stream",
     "text": [
      "Penguin is ready\n",
      "Bird\n",
      "Swim faster\n"
     ]
    }
   ],
   "source": [
    "peggy = Penguin()\n",
    "peggy.whoisThis()\n",
    "peggy.swim()\n",
    "# peggy.run()"
   ]
  },
  {
   "cell_type": "markdown",
   "metadata": {},
   "source": [
    "super()는 기본적으로 슈퍼클래스를 가져오지만 자기 자신의 클래스를 가져올 수도 있다."
   ]
  },
  {
   "cell_type": "markdown",
   "metadata": {},
   "source": [
    "다중상속시에 클래스.__mro__ 확인 해볼것.. 다이아몬드 상속.."
   ]
  },
  {
   "cell_type": "code",
   "execution_count": 97,
   "metadata": {},
   "outputs": [
    {
     "data": {
      "text/plain": [
       "(__main__.Penguin, __main__.Bird, object)"
      ]
     },
     "execution_count": 97,
     "metadata": {},
     "output_type": "execute_result"
    }
   ],
   "source": [
    "Penguin.__mro__"
   ]
  },
  {
   "cell_type": "markdown",
   "metadata": {},
   "source": [
    "## Encapsulation"
   ]
  },
  {
   "cell_type": "markdown",
   "metadata": {},
   "source": [
    "내부 영역을 외부 영역에서 쓰지 못하도록 캡슐화 해주는 것."
   ]
  },
  {
   "cell_type": "markdown",
   "metadata": {},
   "source": [
    "Python에서는 mutable 지원을 해주기 때문에 python에서는 큰 기능이 없다"
   ]
  },
  {
   "cell_type": "code",
   "execution_count": 106,
   "metadata": {},
   "outputs": [
    {
     "name": "stdout",
     "output_type": "stream",
     "text": [
      "Selling Price: 900\n",
      "{'_Computer__maxprice': 900}\n",
      "Selling Price: 900\n",
      "{'_Computer__maxprice': 900, '__maxprice': 1000}\n",
      "Selling Price: 1000\n",
      "{'_Computer__maxprice': 1000, '__maxprice': 1000}\n"
     ]
    }
   ],
   "source": [
    "class Computer:\n",
    "\n",
    "    def __init__(self):\n",
    "        self.__maxprice = 900\n",
    "\n",
    "    def sell(self):\n",
    "        print(\"Selling Price: {}\".format(self.__maxprice))\n",
    "\n",
    "    def setMaxPrice(self, price):\n",
    "        self.__maxprice = price\n",
    "\n",
    "c = Computer()\n",
    "c.sell()\n",
    "print(vars(c))\n",
    "\n",
    "# change the price\n",
    "c.__maxprice = 1000 # __을 하면 private으로 접근지정을 해주지만 접근도 되며 값을 바꿀 수도 있다.\n",
    "c.sell()\n",
    "\n",
    "print(vars(c))\n",
    "\n",
    "# using setter function\n",
    "c.setMaxPrice(1000)\n",
    "c.sell()\n",
    "print(vars(c))"
   ]
  },
  {
   "cell_type": "code",
   "execution_count": 107,
   "metadata": {
    "scrolled": true
   },
   "outputs": [
    {
     "data": {
      "text/plain": [
       "{'_Computer__maxprice': 1000, '__maxprice': 1000}"
      ]
     },
     "execution_count": 107,
     "metadata": {},
     "output_type": "execute_result"
    }
   ],
   "source": [
    "vars(c)"
   ]
  },
  {
   "cell_type": "code",
   "execution_count": 108,
   "metadata": {},
   "outputs": [
    {
     "data": {
      "text/plain": [
       "['Bird',\n",
       " 'Computer',\n",
       " 'In',\n",
       " 'Out',\n",
       " 'Parrot',\n",
       " 'Penguin',\n",
       " '_',\n",
       " '_10',\n",
       " '_101',\n",
       " '_104',\n",
       " '_107',\n",
       " '_11',\n",
       " '_12',\n",
       " '_13',\n",
       " '_14',\n",
       " '_15',\n",
       " '_16',\n",
       " '_23',\n",
       " '_24',\n",
       " '_25',\n",
       " '_27',\n",
       " '_28',\n",
       " '_30',\n",
       " '_31',\n",
       " '_37',\n",
       " '_4',\n",
       " '_5',\n",
       " '_52',\n",
       " '_53',\n",
       " '_54',\n",
       " '_57',\n",
       " '_59',\n",
       " '_6',\n",
       " '_60',\n",
       " '_62',\n",
       " '_63',\n",
       " '_66',\n",
       " '_67',\n",
       " '_68',\n",
       " '_69',\n",
       " '_7',\n",
       " '_72',\n",
       " '_77',\n",
       " '_8',\n",
       " '_97',\n",
       " '__',\n",
       " '___',\n",
       " '__builtin__',\n",
       " '__builtins__',\n",
       " '__doc__',\n",
       " '__loader__',\n",
       " '__name__',\n",
       " '__package__',\n",
       " '__spec__',\n",
       " '_dh',\n",
       " '_i',\n",
       " '_i1',\n",
       " '_i10',\n",
       " '_i100',\n",
       " '_i101',\n",
       " '_i102',\n",
       " '_i103',\n",
       " '_i104',\n",
       " '_i105',\n",
       " '_i106',\n",
       " '_i107',\n",
       " '_i108',\n",
       " '_i11',\n",
       " '_i12',\n",
       " '_i13',\n",
       " '_i14',\n",
       " '_i15',\n",
       " '_i16',\n",
       " '_i17',\n",
       " '_i18',\n",
       " '_i19',\n",
       " '_i2',\n",
       " '_i20',\n",
       " '_i21',\n",
       " '_i22',\n",
       " '_i23',\n",
       " '_i24',\n",
       " '_i25',\n",
       " '_i26',\n",
       " '_i27',\n",
       " '_i28',\n",
       " '_i29',\n",
       " '_i3',\n",
       " '_i30',\n",
       " '_i31',\n",
       " '_i32',\n",
       " '_i33',\n",
       " '_i34',\n",
       " '_i35',\n",
       " '_i36',\n",
       " '_i37',\n",
       " '_i38',\n",
       " '_i39',\n",
       " '_i4',\n",
       " '_i40',\n",
       " '_i41',\n",
       " '_i42',\n",
       " '_i43',\n",
       " '_i44',\n",
       " '_i45',\n",
       " '_i46',\n",
       " '_i47',\n",
       " '_i48',\n",
       " '_i49',\n",
       " '_i5',\n",
       " '_i50',\n",
       " '_i51',\n",
       " '_i52',\n",
       " '_i53',\n",
       " '_i54',\n",
       " '_i55',\n",
       " '_i56',\n",
       " '_i57',\n",
       " '_i58',\n",
       " '_i59',\n",
       " '_i6',\n",
       " '_i60',\n",
       " '_i61',\n",
       " '_i62',\n",
       " '_i63',\n",
       " '_i64',\n",
       " '_i65',\n",
       " '_i66',\n",
       " '_i67',\n",
       " '_i68',\n",
       " '_i69',\n",
       " '_i7',\n",
       " '_i70',\n",
       " '_i71',\n",
       " '_i72',\n",
       " '_i73',\n",
       " '_i74',\n",
       " '_i75',\n",
       " '_i76',\n",
       " '_i77',\n",
       " '_i78',\n",
       " '_i79',\n",
       " '_i8',\n",
       " '_i80',\n",
       " '_i81',\n",
       " '_i82',\n",
       " '_i83',\n",
       " '_i84',\n",
       " '_i85',\n",
       " '_i86',\n",
       " '_i87',\n",
       " '_i88',\n",
       " '_i89',\n",
       " '_i9',\n",
       " '_i90',\n",
       " '_i91',\n",
       " '_i92',\n",
       " '_i93',\n",
       " '_i94',\n",
       " '_i95',\n",
       " '_i96',\n",
       " '_i97',\n",
       " '_i98',\n",
       " '_i99',\n",
       " '_ih',\n",
       " '_ii',\n",
       " '_iii',\n",
       " '_oh',\n",
       " 'a',\n",
       " 'blu',\n",
       " 'c',\n",
       " 'exit',\n",
       " 'get_ipython',\n",
       " 'peggy',\n",
       " 'quit',\n",
       " 'woo',\n",
       " '앵무새',\n",
       " '조보아']"
      ]
     },
     "execution_count": 108,
     "metadata": {},
     "output_type": "execute_result"
    }
   ],
   "source": [
    "dir() #dir에 인자를 안넣을 경우 현재 namespace 내에 저장된 모든 것들을 보여준다. (ipython계열에서만...) "
   ]
  },
  {
   "cell_type": "code",
   "execution_count": 109,
   "metadata": {},
   "outputs": [
    {
     "data": {
      "text/plain": [
       "{'Bird': __main__.Bird,\n",
       " 'Computer': __main__.Computer,\n",
       " 'In': ['',\n",
       "  'blu.__dict__ #여기도 instance attribute만 나온다',\n",
       "  'class Parrot:\\n\\n    # class attribute\\n    species = \"bird\"\\n\\n    # instance attribute\\n    def __init__(self, name, age):\\n        self.name = name\\n        self.age = age',\n",
       "  '# instantiate the Parrot class\\nblu = Parrot(\"Blu\", 10) #인스턴스화할 때 생성자에서 name, age 2가지를 받는다.\\nwoo = Parrot(\"Woo\", 15)',\n",
       "  'type(blu) #__main__ 현재 작업하고 있는 것에서 클래스 이름이 나온다',\n",
       "  'type(Parrot) #type쳐서 type이 나오면 class이다',\n",
       "  'dir(blu)',\n",
       "  'vars(blu) # attribute 중에 species 가 안 나온다. \\n\\n#age, name의 경우 인스턴스 attribute이다 \\n#species의 경우 클래스 attribute이다',\n",
       "  'blu.__dict__ #여기도 instance attribute만 나온다',\n",
       "  \"blu.species = 'bird2'\",\n",
       "  'blu.__dict__ # 재할당시에 다시 species가 나온다',\n",
       "  'blu.__dict__ # 재할당을 할 경우에 다시 species가 나온다',\n",
       "  'dir(woo)',\n",
       "  'woo.species\\n# instance attribute는 생성될 때 자신이 갖고 있는 것이다. \\n# class attribute는 Java에서의 static과 비슷함',\n",
       "  'vars(woo)',\n",
       "  'blu.species #재할당되면서 class attribute가 instance attribute로 바뀜',\n",
       "  'woo.species',\n",
       "  'Parrot.name #instance attrbute\\n#instance가 생성되어야 사용할 수 있다.',\n",
       "  'print(\"Blu is a {}\".format(blu.species)) # {} 부분을 뒤의 .format의 형태로 print해주는 것이다',\n",
       "  'print(\"Blu is a {}\".format(blu.__class__.species)) # {} 부분을 뒤의 .format의 형태로 print해주는 것이다',\n",
       "  'print(\"Blu is a {}\".format(blu.__class__)) # {} 부분을 뒤의 .format의 형태로 print해주는 것이다',\n",
       "  '# access the class attributes\\nprint(\"Blu is a {}\".format(blu.__class__.species)) # {} 부분을 뒤의 .format의 형태로 print해주는 것이다\\nprint(\"Woo is also a {}\".format(woo.__class__.species))\\n\\n# access the instance attributes\\nprint(\"{} is {} years old\".format( blu.name, blu.age))\\nprint(\"{} is {} years old\".format( woo.name, woo.age))\\n\\n## Methods',\n",
       "  \"조보아 = Parrot('조보아', 30)\",\n",
       "  'vars(조보아)',\n",
       "  'vars(조보아)',\n",
       "  '조보아.species',\n",
       "  \"조보아.species = 'bird2'\",\n",
       "  '조보아.species #여기의 species는 instance attrbute가 된다.(다만 class attribute는 남아있다.) ->  instance attribute가 우선 순위를 가짐',\n",
       "  '조보아.species #여기의 species는 instance attrbute가 된다.(다만 class attribute는 남아있다.) ->  instance attribute가 우선 순위를 가짐',\n",
       "  '문근영.__class__.species #여기는 class attribute에 대해 명시해서 가져옴',\n",
       "  '조보아.__class__.species #여기는 class attribute에 대해 명시해서 가져옴',\n",
       "  '조보아.__class__ #instance의 타입을 쳤을 때랑 똑같이 출력된다',\n",
       "  'class Parrot:\\n    \\n    # instance attributes\\n    def __init__(self, name, age):\\n        self.name = name\\n        self.age = age\\n    \\n    # instance method\\n    def sing(self, song):\\n        return \"{} sings {}\".format(self.name, song)\\n\\n    def dance(self):\\n        return \"{} is now dancing\".format(self.name)\\n\\n# instantiate the object\\nblu = Parrot(\"Blu\", 10)\\n\\n# call our instance methods\\nprint(blu.sing(\"\\'Happy\\'\"))\\nprint(blu.dance())',\n",
       "  'class Parrot:\\n    \\n    # instance attributes\\n    def __init__(me, name, age): #self 대신 딴거 넣어도 상관없다.\\n        me.name = name\\n        me.age = age\\n    \\n    # instance method\\n    def sing(me, song):\\n        return \"{} sings {}\".format(me.name, song)\\n\\n    def dance(me):\\n        return \"{} is now dancing\".format(me.name)\\n\\n# instantiate the object\\nblu = Parrot(\"Blu\", 10)\\n\\n# call our instance methods\\nprint(blu.sing(\"\\'Happy\\'\"))\\nprint(blu.dance())',\n",
       "  \"Parrot.sing(조보아,'노래')\\n조보아.sing('노래')\",\n",
       "  'class Parrot:\\n    \\n    # instance attributes\\n    def __init__(me, name, age): #self 대신 딴거 넣어도 상관없다.\\n        me.name = name\\n        me.age = age\\n    # 여기서 일부러 self를 me로 바꾸어보았다.\\n    \\n    # instance method\\n    def sing(me, song):\\n        return \"{} sings {}\".format(me.name, song)\\n\\n    def dance(me):\\n        return \"{} is now dancing\".format(me.name)\\n\\n# instantiate the object\\nblu = Parrot(\"Blu\", 10)\\n\\n# call our instance methods\\nprint(blu.sing(\"\\'Happy\\'\"))\\nprint(blu.dance())',\n",
       "  \"Parrot.sing(조보아,'노래')\\n조보아.sing('노래')\",\n",
       "  \"Parrot.sing(조보아,'노래')\\n#조보아.sing('노래')\",\n",
       "  \"Parrot.sing(조보아,'노래')\\n조보아.sing('노래')\",\n",
       "  \"Parrot.sing(보아,'노래')\\n보아.sing('노래')\",\n",
       "  \"조보아 = Parrot.sing(조보아,'노래')\\n조보아.sing('노래')\",\n",
       "  'class Parrot:\\n    \\n    # instance attributes\\n    def __init__(self, name, age):\\n        self.name = name\\n        self.age = age\\n    \\n    # instance method\\n    def sing(self, song):\\n        return \"{} sings {}\".format(self.name, song)\\n\\n    def dance(self):\\n        return \"{} is now dancing\".format(self.name)\\n\\n# instantiate the object\\nblu = Parrot(\"Blu\", 10)\\n\\n# call our instance methods\\nprint(blu.sing(\"\\'Happy\\'\"))\\nprint(blu.dance())',\n",
       "  'class Parrot:\\n    \\n    # instance attributes\\n    def __init__(me, name, age): #self 대신 딴거 넣어도 상관없다.\\n        me.name = name\\n        me.age = age\\n    # 여기서 일부러 self를 me로 바꾸어보았다.\\n    \\n    # instance method\\n    def sing(me, song):\\n        return \"{} sings {}\".format(me.name, song)\\n\\n    def dance(me):\\n        return \"{} is now dancing\".format(me.name)\\n\\n# instantiate the object\\nblu = Parrot(\"Blu\", 10)\\n\\n# call our instance methods\\nprint(blu.sing(\"\\'Happy\\'\"))\\nprint(blu.dance())',\n",
       "  \"Parrot.sing(조보아,'노래')\\n조보아.sing('노래')\",\n",
       "  \"Parrot.sing(조보아,'노래')\\n조보아.sing('노래')\",\n",
       "  \"Parrot.sing(보아,'노래')\\n보아.sing('노래')\",\n",
       "  \"Parrot.sing(보아,'노래')\\n# 보아.sing('노래')\",\n",
       "  \"Parrot.sing(조보아,'노래')\\n# 보아.sing('노래')\",\n",
       "  \"Parrot.sing(조보아,'노래')\\n조보아.sing('노래')\",\n",
       "  'class Parrot:\\n    \\n    # instance attributes\\n    def __init__(me, name, age): #self 대신 딴거 넣어도 상관없다.\\n        me.name = name\\n        me.age = age\\n    # 여기서 일부러 self를 me로 바꾸어보았다.\\n    \\n    # instance method\\n    def sing(me, song):\\n        return \"{} sings {}\".format(me.name, song)\\n\\n    def dance(me):\\n        return \"{} is now dancing\".format(me.name)\\n\\n# instantiate the object\\nblu = Parrot(\"Blu\", 10)\\n\\n# call our instance methods\\nprint(blu.sing(\"\\'Happy\\'\"))\\nprint(blu.dance())',\n",
       "  \"Parrot.sing(조보아,'노래')\\n조보아.sing('노래')\",\n",
       "  \"조보아 = Parrot('조보아', 30)\\n# 현재 name = '조보아', age = 30을 가지는 Parrot type instance 조보아를 생성했다.\",\n",
       "  \"Parrot.sing(조보아,'노래')\\n조보아.sing('노래')\",\n",
       "  \"Parrot.sing(조보아,'노래')\\n# 조보아.sing('노래')\",\n",
       "  \"Parrot.sing(조보아,'노래')\\n조보아.sing('노래')\",\n",
       "  'class Parrot:\\n    \\n    # instance attributes\\n    def __init__(self, name, age):\\n        self.name = name\\n        self.age = age\\n    \\n    # instance method\\n    def sing(self, song):\\n        return \"{} sings {}\".format(self.name, song)\\n\\n    def dance(self):\\n        return \"{} is now dancing\".format(self.name)\\n\\n# instantiate the object\\nblu = Parrot(\"Blu\", 10)\\n\\n# call our instance methods\\nprint(blu.sing(\"\\'Happy\\'\"))\\nprint(blu.dance())',\n",
       "  'class Parrot:\\n    \\n    # instance attributes\\n    def __init__(self, name, age):\\n        self.name = name\\n        self.age = age\\n    \\n    # instance method\\n    def sing(self, song):\\n        return \"{} sings {}\".format(self.name, song)\\n\\n    def dance(self):\\n        return \"{} is now dancing\".format(self.name)\\n\\n# instantiate the object\\nblu = Parrot(\"Blu\", 10)\\n\\n# call our instance methods\\nprint(blu.sing(\"\\'Happy\\'\"))\\nprint(blu.dance())',\n",
       "  '조보아.dance()',\n",
       "  '앵무새 = Parrot(\"짹짹이\", 15)',\n",
       "  '앵무새.sing(\"서시\")',\n",
       "  'Parrot.sing(앵무새,\"서시\")',\n",
       "  'class Parrot:\\n    \\n    # instance attributes\\n    def __init__(self, name, age):\\n        self.name = name\\n        self.age = age\\n    \\n    # instance method\\n    def sing(self, song):\\n        return \"{} sings {}\".format(self.name, song)\\n\\n    def dance(self):\\n        return \"{} is now dancing\".format(self.name)\\n    \\n    @classmethod #decoration (=Java의 annotation)\\n    def dance2(cls): #클래스 메소드의 정의\\n        return \" is now dancing2\"',\n",
       "  '앵무새.sing(\"서시\") # instance method call',\n",
       "  'Parrot.sing(앵무새,\"서시\")',\n",
       "  'class Parrot:\\n    \\n    # instance attributes\\n    def __init__(self, name, age):\\n        self.name = name\\n        self.age = age\\n    \\n    # instance method\\n    def sing(self, song):\\n        return \"{} sings {}\".format(self.name, song)\\n\\n    def dance(self):\\n        return \"{} is now dancing\".format(self.name)\\n    \\n    @classmethod #decoration (=Java의 annotation)\\n    def dance2(cls): #클래스 메소드의 정의\\n        return \" is now dancing2\"',\n",
       "  \"a = Parrot('sun', 42)\",\n",
       "  'Parrot.dance(a)\\na.dance()',\n",
       "  'Parrot.dance2() #클래스 메소드는 클래스 이름을 대고 실행을 해야한다!!!',\n",
       "  'a.__class__.dance2() # 위와 같은 방식이다',\n",
       "  'a.dance2()',\n",
       "  '# parent class\\nclass Bird: #Java처럼 Object를 기본적으로 상속 받는다 # 파이썬에서도 추상클래스를 지원해준다.\\n#파이썬에서는 클래스가 mutable이기 때문에 자바와 달리 attribute가 없는 상태로 정의 가능\\n    def __init__(self): \\n        print(\"Bird is ready\")\\n\\n    def whoisThis(self):\\n        print(\"Bird\")\\n\\n    def swim(self):\\n        print(\"Swim faster\")\\n\\n# child class\\nclass Penguin(Bird): # Bird를 상속받은 Penguin 클래스\\n    pass\\n#     def __init__(self):\\n#         # call super() function\\n#         super().__init__()\\n#         print(\"Penguin is ready\")\\n\\n#     def whoisThis(self):\\n#         print(\"Penguin\")\\n\\n#     def run(self):\\n#         print(\"Run faster\")',\n",
       "  'peggy = Penguin()\\npeggy.whoisThis()\\npeggy.swim()\\npeggy.run()',\n",
       "  'dir(Penguin) #Bird를 상속받은 Penguin은 Bird상의 swim()과 whoisThis()를 갖고 있다.',\n",
       "  'peggy = Penguin()\\npeggy.whoisThis()\\npeggy.swim()\\n# peggy.run()',\n",
       "  'class Penguin(Bird): # Bird를 상속받은 Penguin 클래스\\n    def swim(self):\\n        print(\"I can\\'t swim\")',\n",
       "  'peggy = Penguin()\\npeggy.whoisThis()\\npeggy.swim()\\n# peggy.run()',\n",
       "  'class Penguin(Bird): # Bird를 상속받은 Penguin 클래스\\n    def swim(self):\\n        print(\"I can\\'t swim\")\\n    def run(self):\\n        print(\"Run faster\")',\n",
       "  'dir(Penguin)',\n",
       "  'class Penguin(Bird): # Bird를 상속받은 Penguin 클래스\\n    def __init__(self):\\n        # call super() function\\n        super().__init__() # 부모 클래스 super()\\n        print(\"Penguin is ready\")\\n\\n    def whoisThis(self): # Bird클래스의 whoisThis를 오버라이딩 해줌.\\n        print(\"Penguin\")\\n\\n    def run(self): # 원래 없던 run()메소드를 추가해줌.\\n        print(\"Run faster\")',\n",
       "  'peggy = Penguin() # super().__init__()으로 인해서 부모 클래스의 생성자에 있는 것을 출력 먼저 해주고 Penguin is ready를 출력해줌\\npeggy.whoisThis()\\npeggy.swim()\\n# peggy.run()',\n",
       "  'class Penguin(Bird): # Bird를 상속받은 Penguin 클래스\\n    def __init__(self):\\n        # call super() function\\n        super().__init__() # 부모 클래스 super()\\n        print(\"Penguin is ready\")\\n\\n    def whoisThis(self): # Bird클래스의 whoisThis를 오버라이딩 해줌.\\n        print(\"Penguin\")\\n\\n    def run(self): # 원래 없던 run()메소드를 추가해줌.\\n        print(\"Run faster\")',\n",
       "  'peggy = Penguin() # super().__init__()으로 인해서 부모 클래스의 생성자에 있는 것을 출력 먼저 해주고 Penguin is ready를 출력해줌\\npeggy.whoisThis()\\npeggy.swim()\\n# peggy.run()',\n",
       "  'class Penguin(Bird): # Bird를 상속받은 Penguin 클래스\\n    def __init__(self):\\n        # call super() function\\n        super(Bird).__init__() # 부모 클래스 super()\\n        # super() -> same as super(__class__, <first argument>)\\n        # super(type) -> unbound super object\\n        # super(type, obj) -> bound super object; requires isinstance(obj, type)\\n        # super(type, type2) -> bound super object; requires issubclass(type2, type)\\n        \\n        #다중상속기능을 제공하기때문에 여러 타입을 받을 수 있게 했다.\\n        print(\"Penguin is ready\")\\n        \\n\\n#     def whoisThis(self):\\n#         print(\"Penguin\")\\n\\n    def run(self):\\n        print(\"Run faster\")',\n",
       "  'peggy = Penguin() # super().__init__()으로 인해서 부모 클래스의 생성자에 있는 것을 출력 먼저 해주고 Penguin is ready를 출력해줌\\npeggy.whoisThis()\\npeggy.swim()\\n# peggy.run()',\n",
       "  'class Penguin(Bird): # Bird를 상속받은 Penguin 클래스\\n    def __init__(self):\\n        # call super() function\\n        super(Bird).__init__() # 부모 클래스 super()\\n        # super() -> same as super(__class__, <first argument>)\\n        # super(type) -> unbound super object\\n        # super(type, obj) -> bound super object; requires isinstance(obj, type)\\n        # super(type, type2) -> bound super object; requires issubclass(type2, type)\\n        \\n        #다중상속기능을 제공하기때문에 여러 타입을 받을 수 있게 했다.\\n        print(\"Penguin is ready\")\\n        \\n\\n#     def whoisThis(self):\\n#         print(\"Penguin\")\\n\\n    def run(self):\\n        print(\"Run faster\")',\n",
       "  'peggy = Penguin() # super().__init__()으로 인해서 부모 클래스의 생성자에 있는 것을 출력 먼저 해주고 Penguin is ready를 출력해줌\\npeggy.whoisThis()\\npeggy.swim()\\n# peggy.run()',\n",
       "  '# parent class\\nclass Bird: #Java처럼 Object를 기본적으로 상속 받는다 # 파이썬에서도 추상클래스를 지원해준다.\\n#파이썬에서는 클래스가 mutable이기 때문에 자바와 달리 attribute가 없는 상태로 정의 가능\\n    def __init__(self): \\n        print(\"Bird is ready\")\\n\\n    def whoisThis(self):\\n        print(\"Bird\")\\n\\n    def swim(self):\\n        print(\"Swim faster\")\\n\\n# child class\\nclass Penguin(Bird): # Bird를 상속받은 Penguin 클래스\\n    pass\\n#     def __init__(self):\\n#         # call super() function\\n#         super().__init__()\\n#         print(\"Penguin is ready\")\\n\\n#     def whoisThis(self):\\n#         print(\"Penguin\")\\n\\n#     def run(self):\\n#         print(\"Run faster\")',\n",
       "  'class Penguin(Bird): # Bird를 상속받은 Penguin 클래스\\n    def __init__(self):\\n        # call super() function\\n        super(Bird).__init__() # 부모 클래스 super()\\n        # super() -> same as super(__class__, <first argument>)\\n        # super(type) -> unbound super object\\n        # super(type, obj) -> bound super object; requires isinstance(obj, type)\\n        # super(type, type2) -> bound super object; requires issubclass(type2, type)\\n        \\n        #다중상속기능을 제공하기때문에 여러 타입을 받을 수 있게 했다.\\n        print(\"Penguin is ready\")\\n        \\n\\n#     def whoisThis(self):\\n#         print(\"Penguin\")\\n\\n    def run(self):\\n        print(\"Run faster\")',\n",
       "  'peggy = Penguin() # super().__init__()으로 인해서 부모 클래스의 생성자에 있는 것을 출력 먼저 해주고 Penguin is ready를 출력해줌\\npeggy.whoisThis()\\npeggy.swim()\\n# peggy.run()',\n",
       "  'class Penguin(Bird): # Bird를 상속받은 Penguin 클래스\\n    def __init__(self):\\n        # call super() function\\n        super().__init__() # 부모 클래스 super()\\n        # super() -> same as super(__class__, <first argument>)\\n        # super(type) -> unbound super object\\n        # super(type, obj) -> bound super object; requires isinstance(obj, type)\\n        # super(type, type2) -> bound super object; requires issubclass(type2, type)\\n        \\n        #다중상속기능을 제공하기때문에 여러 타입을 받을 수 있게 했다.\\n        print(\"Penguin is ready\")\\n        \\n\\n#     def whoisThis(self):\\n#         print(\"Penguin\")\\n\\n    def run(self):\\n        print(\"Run faster\")',\n",
       "  'peggy = Penguin() # super().__init__()으로 인해서 부모 클래스의 생성자에 있는 것을 출력 먼저 해주고 Penguin is ready를 출력해줌\\npeggy.whoisThis()\\npeggy.swim()\\n# peggy.run()',\n",
       "  'class Penguin(Bird): # Bird를 상속받은 Penguin 클래스\\n    def __init__(self):\\n        # call super() function\\n        super(Bird).__init__() # 부모 클래스 super()\\n        # super() -> same as super(__class__, <first argument>)\\n        # super(type) -> unbound super object\\n        # super(type, obj) -> bound super object; requires isinstance(obj, type)\\n        # super(type, type2) -> bound super object; requires issubclass(type2, type)\\n        \\n        #다중상속기능을 제공하기때문에 여러 타입을 받을 수 있게 했다.\\n        print(\"Penguin is ready\")\\n        \\n\\n#     def whoisThis(self):\\n#         print(\"Penguin\")\\n\\n    def run(self):\\n        print(\"Run faster\")',\n",
       "  'peggy = Penguin() # super().__init__()으로 인해서 부모 클래스의 생성자에 있는 것을 출력 먼저 해주고 Penguin is ready를 출력해줌\\npeggy.whoisThis()\\npeggy.swim()\\n# peggy.run()',\n",
       "  'peggy = Penguin() # super().__init__()으로 인해서 부모 클래스의 생성자에 있는 것을 출력 먼저 해주고 Penguin is ready를 출력해줌\\npeggy.whoisThis()\\npeggy.swim()\\n# peggy.run()',\n",
       "  'class Penguin(Bird): # Bird를 상속받은 Penguin 클래스\\n    def __init__(self):\\n        # call super() function\\n        super(Bird).__init__() # 부모 클래스 super()\\n        # super() -> same as super(__class__, <first argument>)\\n        # super(type) -> unbound(매여있지않은) super object\\n        # super(type, obj) -> bound super object; requires isinstance(obj, type)\\n        # super(type, type2) -> bound super object; requires issubclass(type2, type)\\n        \\n        #다중상속기능을 제공하기때문에 여러 타입을 받을 수 있게 했다.\\n        print(\"Penguin is ready\")\\n        \\n\\n#     def whoisThis(self):\\n#         print(\"Penguin\")\\n\\n    def run(self):\\n        print(\"Run faster\")',\n",
       "  'peggy = Penguin() # super().__init__()으로 인해서 부모 클래스의 생성자에 있는 것을 출력 먼저 해주고 Penguin is ready를 출력해줌\\npeggy.whoisThis()\\npeggy.swim()\\n# peggy.run()',\n",
       "  '# Penguin.__mro__',\n",
       "  'Penguin.__mro__',\n",
       "  'class Computer:\\n\\n    def __init__(self):\\n        self.__maxprice = 900\\n\\n    def sell(self):\\n        print(\"Selling Price: {}\".format(self.__maxprice))\\n\\n    def setMaxPrice(self, price):\\n        self.__maxprice = price\\n\\nc = Computer()\\nc.sell()\\n\\n# change the price\\nc.__maxprice = 1000 # __을 하면 private으로 접근지정을 해주지만 접근도 되며 값을 바꿀 수도 있다.\\nc.sell()\\n\\n# using setter function\\nc.setMaxPrice(1000)\\nc.sell()',\n",
       "  'class Computer:\\n\\n    def __init__(self):\\n        self.__maxprice = 900\\n\\n    def sell(self):\\n        print(\"Selling Price: {}\".format(self.__maxprice))\\n\\n    def setMaxPrice(self, price):\\n        self.__maxprice = price\\n\\nc = Computer()\\nc.sell()\\n\\n# change the price\\nc.__maxprice = 1000 # __을 하면 private으로 접근지정을 해주지만 접근도 되며 값을 바꿀 수도 있다.\\nc.sell()\\n\\n# using setter function\\nc.setMaxPrice(1000)\\nc.sell()',\n",
       "  'class Computer:\\n\\n    def __init__(self):\\n        self.__maxprice = 900\\n\\n    def sell(self):\\n        print(\"Selling Price: {}\".format(self.__maxprice))\\n\\n    def setMaxPrice(self, price):\\n        self.__maxprice = price\\n\\nc = Computer()\\nc.sell()\\n\\n# change the price\\nc.__maxprice = 1000 # __을 하면 private으로 접근지정을 해주지만 접근도 되며 값을 바꿀 수도 있다.\\nc.sell()\\n\\n# using setter function\\n# c.setMaxPrice(1000)\\n# c.sell()',\n",
       "  'class Computer:\\n\\n    def __init__(self):\\n        self.__maxprice = 900\\n\\n    def sell(self):\\n        print(\"Selling Price: {}\".format(self.__maxprice))\\n\\n    def setMaxPrice(self, price):\\n        self.__maxprice = price\\n\\nc = Computer()\\nc.sell()\\n\\n# change the price\\nc.__maxprice = 1000 # __을 하면 private으로 접근지정을 해주지만 접근도 되며 값을 바꿀 수도 있다.\\nc.__maxprice\\n\\n# using setter function\\n# c.setMaxPrice(1000)\\n# c.sell()',\n",
       "  'class Computer:\\n\\n    def __init__(self):\\n        self.__maxprice = 900\\n\\n    def sell(self):\\n        print(\"Selling Price: {}\".format(self.__maxprice))\\n\\n    def setMaxPrice(self, price):\\n        self.__maxprice = price\\n\\nc = Computer()\\nc.sell()\\n\\n# change the price\\nc.__maxprice = 1000 # __을 하면 private으로 접근지정을 해주지만 접근도 되며 값을 바꿀 수도 있다.\\nc.sell()\\n\\n# using setter function\\n# c.setMaxPrice(1000)\\n# c.sell()',\n",
       "  'class Computer:\\n\\n    def __init__(self):\\n        self.__maxprice = 900\\n\\n    def sell(self):\\n        print(\"Selling Price: {}\".format(self.__maxprice))\\n\\n    def setMaxPrice(self, price):\\n        self.__maxprice = price\\n\\nc = Computer()\\nc.sell()\\n\\n# change the price\\nc.__maxprice = 1000 # __을 하면 private으로 접근지정을 해주지만 접근도 되며 값을 바꿀 수도 있다.\\nc.sell()\\n\\n# using setter function\\nc.setMaxPrice(1000)\\nc.sell()',\n",
       "  'vars(c)',\n",
       "  'class Computer:\\n\\n    def __init__(self):\\n        self.__maxprice = 900\\n\\n    def sell(self):\\n        print(\"Selling Price: {}\".format(self.__maxprice))\\n\\n    def setMaxPrice(self, price):\\n        self.__maxprice = price\\n\\nc = Computer()\\nc.sell()\\n\\n# change the price\\nc.__maxprice = 1000 # __을 하면 private으로 접근지정을 해주지만 접근도 되며 값을 바꿀 수도 있다.\\nc.sell()\\n\\nprint(vars(c))\\n# using setter function\\nc.setMaxPrice(1000)\\nc.sell()',\n",
       "  'class Computer:\\n\\n    def __init__(self):\\n        self.__maxprice = 900\\n\\n    def sell(self):\\n        print(\"Selling Price: {}\".format(self.__maxprice))\\n\\n    def setMaxPrice(self, price):\\n        self.__maxprice = price\\n\\nc = Computer()\\nc.sell()\\nprint(vars(c))\\n\\n# change the price\\nc.__maxprice = 1000 # __을 하면 private으로 접근지정을 해주지만 접근도 되며 값을 바꿀 수도 있다.\\nc.sell()\\n\\nprint(vars(c))\\n\\n# using setter function\\nc.setMaxPrice(1000)\\nc.sell()\\nprint(vars(c))',\n",
       "  'vars(c)',\n",
       "  'dir() #dir에 인자를 안넣을 경우 현재 namespace 내에 저장된 모든 것들을 보여준다. (ipython계열에서만...) ',\n",
       "  'locals() #local 영역에 선언된 값들을 리턴'],\n",
       " 'Out': {4: __main__.Parrot,\n",
       "  5: type,\n",
       "  6: ['__class__',\n",
       "   '__delattr__',\n",
       "   '__dict__',\n",
       "   '__dir__',\n",
       "   '__doc__',\n",
       "   '__eq__',\n",
       "   '__format__',\n",
       "   '__ge__',\n",
       "   '__getattribute__',\n",
       "   '__gt__',\n",
       "   '__hash__',\n",
       "   '__init__',\n",
       "   '__init_subclass__',\n",
       "   '__le__',\n",
       "   '__lt__',\n",
       "   '__module__',\n",
       "   '__ne__',\n",
       "   '__new__',\n",
       "   '__reduce__',\n",
       "   '__reduce_ex__',\n",
       "   '__repr__',\n",
       "   '__setattr__',\n",
       "   '__sizeof__',\n",
       "   '__str__',\n",
       "   '__subclasshook__',\n",
       "   '__weakref__',\n",
       "   'age',\n",
       "   'name',\n",
       "   'species'],\n",
       "  7: {'age': 10, 'name': 'Blu', 'species': 'bird2'},\n",
       "  8: {'age': 10, 'name': 'Blu', 'species': 'bird2'},\n",
       "  10: {'age': 10, 'name': 'Blu', 'species': 'bird2'},\n",
       "  11: {'age': 10, 'name': 'Blu', 'species': 'bird2'},\n",
       "  12: ['__class__',\n",
       "   '__delattr__',\n",
       "   '__dict__',\n",
       "   '__dir__',\n",
       "   '__doc__',\n",
       "   '__eq__',\n",
       "   '__format__',\n",
       "   '__ge__',\n",
       "   '__getattribute__',\n",
       "   '__gt__',\n",
       "   '__hash__',\n",
       "   '__init__',\n",
       "   '__init_subclass__',\n",
       "   '__le__',\n",
       "   '__lt__',\n",
       "   '__module__',\n",
       "   '__ne__',\n",
       "   '__new__',\n",
       "   '__reduce__',\n",
       "   '__reduce_ex__',\n",
       "   '__repr__',\n",
       "   '__setattr__',\n",
       "   '__sizeof__',\n",
       "   '__str__',\n",
       "   '__subclasshook__',\n",
       "   '__weakref__',\n",
       "   'age',\n",
       "   'name',\n",
       "   'species'],\n",
       "  13: 'bird',\n",
       "  14: {'age': 15, 'name': 'Woo'},\n",
       "  15: 'bird2',\n",
       "  16: 'bird',\n",
       "  23: {'age': 30, 'name': '조보아', 'species': 'bird2'},\n",
       "  24: {'age': 30, 'name': '조보아', 'species': 'bird2'},\n",
       "  25: 'bird',\n",
       "  27: 'bird2',\n",
       "  28: 'bird2',\n",
       "  30: 'bird',\n",
       "  31: __main__.Parrot,\n",
       "  37: '조보아 sings 노래',\n",
       "  52: '조보아 sings 노래',\n",
       "  53: '조보아 sings 노래',\n",
       "  54: '조보아 sings 노래',\n",
       "  57: '조보아 is now dancing',\n",
       "  59: '짹짹이 sings 서시',\n",
       "  60: '짹짹이 sings 서시',\n",
       "  62: '짹짹이 sings 서시',\n",
       "  63: '짹짹이 sings 서시',\n",
       "  66: 'sun is now dancing',\n",
       "  67: ' is now dancing2',\n",
       "  68: ' is now dancing2',\n",
       "  69: ' is now dancing2',\n",
       "  72: ['__class__',\n",
       "   '__delattr__',\n",
       "   '__dict__',\n",
       "   '__dir__',\n",
       "   '__doc__',\n",
       "   '__eq__',\n",
       "   '__format__',\n",
       "   '__ge__',\n",
       "   '__getattribute__',\n",
       "   '__gt__',\n",
       "   '__hash__',\n",
       "   '__init__',\n",
       "   '__init_subclass__',\n",
       "   '__le__',\n",
       "   '__lt__',\n",
       "   '__module__',\n",
       "   '__ne__',\n",
       "   '__new__',\n",
       "   '__reduce__',\n",
       "   '__reduce_ex__',\n",
       "   '__repr__',\n",
       "   '__setattr__',\n",
       "   '__sizeof__',\n",
       "   '__str__',\n",
       "   '__subclasshook__',\n",
       "   '__weakref__',\n",
       "   'swim',\n",
       "   'whoisThis'],\n",
       "  77: ['__class__',\n",
       "   '__delattr__',\n",
       "   '__dict__',\n",
       "   '__dir__',\n",
       "   '__doc__',\n",
       "   '__eq__',\n",
       "   '__format__',\n",
       "   '__ge__',\n",
       "   '__getattribute__',\n",
       "   '__gt__',\n",
       "   '__hash__',\n",
       "   '__init__',\n",
       "   '__init_subclass__',\n",
       "   '__le__',\n",
       "   '__lt__',\n",
       "   '__module__',\n",
       "   '__ne__',\n",
       "   '__new__',\n",
       "   '__reduce__',\n",
       "   '__reduce_ex__',\n",
       "   '__repr__',\n",
       "   '__setattr__',\n",
       "   '__sizeof__',\n",
       "   '__str__',\n",
       "   '__subclasshook__',\n",
       "   '__weakref__',\n",
       "   'run',\n",
       "   'swim',\n",
       "   'whoisThis'],\n",
       "  97: (__main__.Penguin, __main__.Bird, object),\n",
       "  101: 1000,\n",
       "  104: {'_Computer__maxprice': 1000, '__maxprice': 1000},\n",
       "  107: {'_Computer__maxprice': 1000, '__maxprice': 1000},\n",
       "  108: ['Bird',\n",
       "   'Computer',\n",
       "   'In',\n",
       "   'Out',\n",
       "   'Parrot',\n",
       "   'Penguin',\n",
       "   '_',\n",
       "   '_10',\n",
       "   '_101',\n",
       "   '_104',\n",
       "   '_107',\n",
       "   '_11',\n",
       "   '_12',\n",
       "   '_13',\n",
       "   '_14',\n",
       "   '_15',\n",
       "   '_16',\n",
       "   '_23',\n",
       "   '_24',\n",
       "   '_25',\n",
       "   '_27',\n",
       "   '_28',\n",
       "   '_30',\n",
       "   '_31',\n",
       "   '_37',\n",
       "   '_4',\n",
       "   '_5',\n",
       "   '_52',\n",
       "   '_53',\n",
       "   '_54',\n",
       "   '_57',\n",
       "   '_59',\n",
       "   '_6',\n",
       "   '_60',\n",
       "   '_62',\n",
       "   '_63',\n",
       "   '_66',\n",
       "   '_67',\n",
       "   '_68',\n",
       "   '_69',\n",
       "   '_7',\n",
       "   '_72',\n",
       "   '_77',\n",
       "   '_8',\n",
       "   '_97',\n",
       "   '__',\n",
       "   '___',\n",
       "   '__builtin__',\n",
       "   '__builtins__',\n",
       "   '__doc__',\n",
       "   '__loader__',\n",
       "   '__name__',\n",
       "   '__package__',\n",
       "   '__spec__',\n",
       "   '_dh',\n",
       "   '_i',\n",
       "   '_i1',\n",
       "   '_i10',\n",
       "   '_i100',\n",
       "   '_i101',\n",
       "   '_i102',\n",
       "   '_i103',\n",
       "   '_i104',\n",
       "   '_i105',\n",
       "   '_i106',\n",
       "   '_i107',\n",
       "   '_i108',\n",
       "   '_i11',\n",
       "   '_i12',\n",
       "   '_i13',\n",
       "   '_i14',\n",
       "   '_i15',\n",
       "   '_i16',\n",
       "   '_i17',\n",
       "   '_i18',\n",
       "   '_i19',\n",
       "   '_i2',\n",
       "   '_i20',\n",
       "   '_i21',\n",
       "   '_i22',\n",
       "   '_i23',\n",
       "   '_i24',\n",
       "   '_i25',\n",
       "   '_i26',\n",
       "   '_i27',\n",
       "   '_i28',\n",
       "   '_i29',\n",
       "   '_i3',\n",
       "   '_i30',\n",
       "   '_i31',\n",
       "   '_i32',\n",
       "   '_i33',\n",
       "   '_i34',\n",
       "   '_i35',\n",
       "   '_i36',\n",
       "   '_i37',\n",
       "   '_i38',\n",
       "   '_i39',\n",
       "   '_i4',\n",
       "   '_i40',\n",
       "   '_i41',\n",
       "   '_i42',\n",
       "   '_i43',\n",
       "   '_i44',\n",
       "   '_i45',\n",
       "   '_i46',\n",
       "   '_i47',\n",
       "   '_i48',\n",
       "   '_i49',\n",
       "   '_i5',\n",
       "   '_i50',\n",
       "   '_i51',\n",
       "   '_i52',\n",
       "   '_i53',\n",
       "   '_i54',\n",
       "   '_i55',\n",
       "   '_i56',\n",
       "   '_i57',\n",
       "   '_i58',\n",
       "   '_i59',\n",
       "   '_i6',\n",
       "   '_i60',\n",
       "   '_i61',\n",
       "   '_i62',\n",
       "   '_i63',\n",
       "   '_i64',\n",
       "   '_i65',\n",
       "   '_i66',\n",
       "   '_i67',\n",
       "   '_i68',\n",
       "   '_i69',\n",
       "   '_i7',\n",
       "   '_i70',\n",
       "   '_i71',\n",
       "   '_i72',\n",
       "   '_i73',\n",
       "   '_i74',\n",
       "   '_i75',\n",
       "   '_i76',\n",
       "   '_i77',\n",
       "   '_i78',\n",
       "   '_i79',\n",
       "   '_i8',\n",
       "   '_i80',\n",
       "   '_i81',\n",
       "   '_i82',\n",
       "   '_i83',\n",
       "   '_i84',\n",
       "   '_i85',\n",
       "   '_i86',\n",
       "   '_i87',\n",
       "   '_i88',\n",
       "   '_i89',\n",
       "   '_i9',\n",
       "   '_i90',\n",
       "   '_i91',\n",
       "   '_i92',\n",
       "   '_i93',\n",
       "   '_i94',\n",
       "   '_i95',\n",
       "   '_i96',\n",
       "   '_i97',\n",
       "   '_i98',\n",
       "   '_i99',\n",
       "   '_ih',\n",
       "   '_ii',\n",
       "   '_iii',\n",
       "   '_oh',\n",
       "   'a',\n",
       "   'blu',\n",
       "   'c',\n",
       "   'exit',\n",
       "   'get_ipython',\n",
       "   'peggy',\n",
       "   'quit',\n",
       "   'woo',\n",
       "   '앵무새',\n",
       "   '조보아']},\n",
       " 'Parrot': __main__.Parrot,\n",
       " 'Penguin': __main__.Penguin,\n",
       " '_': ['Bird',\n",
       "  'Computer',\n",
       "  'In',\n",
       "  'Out',\n",
       "  'Parrot',\n",
       "  'Penguin',\n",
       "  '_',\n",
       "  '_10',\n",
       "  '_101',\n",
       "  '_104',\n",
       "  '_107',\n",
       "  '_11',\n",
       "  '_12',\n",
       "  '_13',\n",
       "  '_14',\n",
       "  '_15',\n",
       "  '_16',\n",
       "  '_23',\n",
       "  '_24',\n",
       "  '_25',\n",
       "  '_27',\n",
       "  '_28',\n",
       "  '_30',\n",
       "  '_31',\n",
       "  '_37',\n",
       "  '_4',\n",
       "  '_5',\n",
       "  '_52',\n",
       "  '_53',\n",
       "  '_54',\n",
       "  '_57',\n",
       "  '_59',\n",
       "  '_6',\n",
       "  '_60',\n",
       "  '_62',\n",
       "  '_63',\n",
       "  '_66',\n",
       "  '_67',\n",
       "  '_68',\n",
       "  '_69',\n",
       "  '_7',\n",
       "  '_72',\n",
       "  '_77',\n",
       "  '_8',\n",
       "  '_97',\n",
       "  '__',\n",
       "  '___',\n",
       "  '__builtin__',\n",
       "  '__builtins__',\n",
       "  '__doc__',\n",
       "  '__loader__',\n",
       "  '__name__',\n",
       "  '__package__',\n",
       "  '__spec__',\n",
       "  '_dh',\n",
       "  '_i',\n",
       "  '_i1',\n",
       "  '_i10',\n",
       "  '_i100',\n",
       "  '_i101',\n",
       "  '_i102',\n",
       "  '_i103',\n",
       "  '_i104',\n",
       "  '_i105',\n",
       "  '_i106',\n",
       "  '_i107',\n",
       "  '_i108',\n",
       "  '_i11',\n",
       "  '_i12',\n",
       "  '_i13',\n",
       "  '_i14',\n",
       "  '_i15',\n",
       "  '_i16',\n",
       "  '_i17',\n",
       "  '_i18',\n",
       "  '_i19',\n",
       "  '_i2',\n",
       "  '_i20',\n",
       "  '_i21',\n",
       "  '_i22',\n",
       "  '_i23',\n",
       "  '_i24',\n",
       "  '_i25',\n",
       "  '_i26',\n",
       "  '_i27',\n",
       "  '_i28',\n",
       "  '_i29',\n",
       "  '_i3',\n",
       "  '_i30',\n",
       "  '_i31',\n",
       "  '_i32',\n",
       "  '_i33',\n",
       "  '_i34',\n",
       "  '_i35',\n",
       "  '_i36',\n",
       "  '_i37',\n",
       "  '_i38',\n",
       "  '_i39',\n",
       "  '_i4',\n",
       "  '_i40',\n",
       "  '_i41',\n",
       "  '_i42',\n",
       "  '_i43',\n",
       "  '_i44',\n",
       "  '_i45',\n",
       "  '_i46',\n",
       "  '_i47',\n",
       "  '_i48',\n",
       "  '_i49',\n",
       "  '_i5',\n",
       "  '_i50',\n",
       "  '_i51',\n",
       "  '_i52',\n",
       "  '_i53',\n",
       "  '_i54',\n",
       "  '_i55',\n",
       "  '_i56',\n",
       "  '_i57',\n",
       "  '_i58',\n",
       "  '_i59',\n",
       "  '_i6',\n",
       "  '_i60',\n",
       "  '_i61',\n",
       "  '_i62',\n",
       "  '_i63',\n",
       "  '_i64',\n",
       "  '_i65',\n",
       "  '_i66',\n",
       "  '_i67',\n",
       "  '_i68',\n",
       "  '_i69',\n",
       "  '_i7',\n",
       "  '_i70',\n",
       "  '_i71',\n",
       "  '_i72',\n",
       "  '_i73',\n",
       "  '_i74',\n",
       "  '_i75',\n",
       "  '_i76',\n",
       "  '_i77',\n",
       "  '_i78',\n",
       "  '_i79',\n",
       "  '_i8',\n",
       "  '_i80',\n",
       "  '_i81',\n",
       "  '_i82',\n",
       "  '_i83',\n",
       "  '_i84',\n",
       "  '_i85',\n",
       "  '_i86',\n",
       "  '_i87',\n",
       "  '_i88',\n",
       "  '_i89',\n",
       "  '_i9',\n",
       "  '_i90',\n",
       "  '_i91',\n",
       "  '_i92',\n",
       "  '_i93',\n",
       "  '_i94',\n",
       "  '_i95',\n",
       "  '_i96',\n",
       "  '_i97',\n",
       "  '_i98',\n",
       "  '_i99',\n",
       "  '_ih',\n",
       "  '_ii',\n",
       "  '_iii',\n",
       "  '_oh',\n",
       "  'a',\n",
       "  'blu',\n",
       "  'c',\n",
       "  'exit',\n",
       "  'get_ipython',\n",
       "  'peggy',\n",
       "  'quit',\n",
       "  'woo',\n",
       "  '앵무새',\n",
       "  '조보아'],\n",
       " '_10': {'age': 10, 'name': 'Blu', 'species': 'bird2'},\n",
       " '_101': 1000,\n",
       " '_104': {'_Computer__maxprice': 1000, '__maxprice': 1000},\n",
       " '_107': {'_Computer__maxprice': 1000, '__maxprice': 1000},\n",
       " '_108': ['Bird',\n",
       "  'Computer',\n",
       "  'In',\n",
       "  'Out',\n",
       "  'Parrot',\n",
       "  'Penguin',\n",
       "  '_',\n",
       "  '_10',\n",
       "  '_101',\n",
       "  '_104',\n",
       "  '_107',\n",
       "  '_11',\n",
       "  '_12',\n",
       "  '_13',\n",
       "  '_14',\n",
       "  '_15',\n",
       "  '_16',\n",
       "  '_23',\n",
       "  '_24',\n",
       "  '_25',\n",
       "  '_27',\n",
       "  '_28',\n",
       "  '_30',\n",
       "  '_31',\n",
       "  '_37',\n",
       "  '_4',\n",
       "  '_5',\n",
       "  '_52',\n",
       "  '_53',\n",
       "  '_54',\n",
       "  '_57',\n",
       "  '_59',\n",
       "  '_6',\n",
       "  '_60',\n",
       "  '_62',\n",
       "  '_63',\n",
       "  '_66',\n",
       "  '_67',\n",
       "  '_68',\n",
       "  '_69',\n",
       "  '_7',\n",
       "  '_72',\n",
       "  '_77',\n",
       "  '_8',\n",
       "  '_97',\n",
       "  '__',\n",
       "  '___',\n",
       "  '__builtin__',\n",
       "  '__builtins__',\n",
       "  '__doc__',\n",
       "  '__loader__',\n",
       "  '__name__',\n",
       "  '__package__',\n",
       "  '__spec__',\n",
       "  '_dh',\n",
       "  '_i',\n",
       "  '_i1',\n",
       "  '_i10',\n",
       "  '_i100',\n",
       "  '_i101',\n",
       "  '_i102',\n",
       "  '_i103',\n",
       "  '_i104',\n",
       "  '_i105',\n",
       "  '_i106',\n",
       "  '_i107',\n",
       "  '_i108',\n",
       "  '_i11',\n",
       "  '_i12',\n",
       "  '_i13',\n",
       "  '_i14',\n",
       "  '_i15',\n",
       "  '_i16',\n",
       "  '_i17',\n",
       "  '_i18',\n",
       "  '_i19',\n",
       "  '_i2',\n",
       "  '_i20',\n",
       "  '_i21',\n",
       "  '_i22',\n",
       "  '_i23',\n",
       "  '_i24',\n",
       "  '_i25',\n",
       "  '_i26',\n",
       "  '_i27',\n",
       "  '_i28',\n",
       "  '_i29',\n",
       "  '_i3',\n",
       "  '_i30',\n",
       "  '_i31',\n",
       "  '_i32',\n",
       "  '_i33',\n",
       "  '_i34',\n",
       "  '_i35',\n",
       "  '_i36',\n",
       "  '_i37',\n",
       "  '_i38',\n",
       "  '_i39',\n",
       "  '_i4',\n",
       "  '_i40',\n",
       "  '_i41',\n",
       "  '_i42',\n",
       "  '_i43',\n",
       "  '_i44',\n",
       "  '_i45',\n",
       "  '_i46',\n",
       "  '_i47',\n",
       "  '_i48',\n",
       "  '_i49',\n",
       "  '_i5',\n",
       "  '_i50',\n",
       "  '_i51',\n",
       "  '_i52',\n",
       "  '_i53',\n",
       "  '_i54',\n",
       "  '_i55',\n",
       "  '_i56',\n",
       "  '_i57',\n",
       "  '_i58',\n",
       "  '_i59',\n",
       "  '_i6',\n",
       "  '_i60',\n",
       "  '_i61',\n",
       "  '_i62',\n",
       "  '_i63',\n",
       "  '_i64',\n",
       "  '_i65',\n",
       "  '_i66',\n",
       "  '_i67',\n",
       "  '_i68',\n",
       "  '_i69',\n",
       "  '_i7',\n",
       "  '_i70',\n",
       "  '_i71',\n",
       "  '_i72',\n",
       "  '_i73',\n",
       "  '_i74',\n",
       "  '_i75',\n",
       "  '_i76',\n",
       "  '_i77',\n",
       "  '_i78',\n",
       "  '_i79',\n",
       "  '_i8',\n",
       "  '_i80',\n",
       "  '_i81',\n",
       "  '_i82',\n",
       "  '_i83',\n",
       "  '_i84',\n",
       "  '_i85',\n",
       "  '_i86',\n",
       "  '_i87',\n",
       "  '_i88',\n",
       "  '_i89',\n",
       "  '_i9',\n",
       "  '_i90',\n",
       "  '_i91',\n",
       "  '_i92',\n",
       "  '_i93',\n",
       "  '_i94',\n",
       "  '_i95',\n",
       "  '_i96',\n",
       "  '_i97',\n",
       "  '_i98',\n",
       "  '_i99',\n",
       "  '_ih',\n",
       "  '_ii',\n",
       "  '_iii',\n",
       "  '_oh',\n",
       "  'a',\n",
       "  'blu',\n",
       "  'c',\n",
       "  'exit',\n",
       "  'get_ipython',\n",
       "  'peggy',\n",
       "  'quit',\n",
       "  'woo',\n",
       "  '앵무새',\n",
       "  '조보아'],\n",
       " '_11': {'age': 10, 'name': 'Blu', 'species': 'bird2'},\n",
       " '_12': ['__class__',\n",
       "  '__delattr__',\n",
       "  '__dict__',\n",
       "  '__dir__',\n",
       "  '__doc__',\n",
       "  '__eq__',\n",
       "  '__format__',\n",
       "  '__ge__',\n",
       "  '__getattribute__',\n",
       "  '__gt__',\n",
       "  '__hash__',\n",
       "  '__init__',\n",
       "  '__init_subclass__',\n",
       "  '__le__',\n",
       "  '__lt__',\n",
       "  '__module__',\n",
       "  '__ne__',\n",
       "  '__new__',\n",
       "  '__reduce__',\n",
       "  '__reduce_ex__',\n",
       "  '__repr__',\n",
       "  '__setattr__',\n",
       "  '__sizeof__',\n",
       "  '__str__',\n",
       "  '__subclasshook__',\n",
       "  '__weakref__',\n",
       "  'age',\n",
       "  'name',\n",
       "  'species'],\n",
       " '_13': 'bird',\n",
       " '_14': {'age': 15, 'name': 'Woo'},\n",
       " '_15': 'bird2',\n",
       " '_16': 'bird',\n",
       " '_23': {'age': 30, 'name': '조보아', 'species': 'bird2'},\n",
       " '_24': {'age': 30, 'name': '조보아', 'species': 'bird2'},\n",
       " '_25': 'bird',\n",
       " '_27': 'bird2',\n",
       " '_28': 'bird2',\n",
       " '_30': 'bird',\n",
       " '_31': __main__.Parrot,\n",
       " '_37': '조보아 sings 노래',\n",
       " '_4': __main__.Parrot,\n",
       " '_5': type,\n",
       " '_52': '조보아 sings 노래',\n",
       " '_53': '조보아 sings 노래',\n",
       " '_54': '조보아 sings 노래',\n",
       " '_57': '조보아 is now dancing',\n",
       " '_59': '짹짹이 sings 서시',\n",
       " '_6': ['__class__',\n",
       "  '__delattr__',\n",
       "  '__dict__',\n",
       "  '__dir__',\n",
       "  '__doc__',\n",
       "  '__eq__',\n",
       "  '__format__',\n",
       "  '__ge__',\n",
       "  '__getattribute__',\n",
       "  '__gt__',\n",
       "  '__hash__',\n",
       "  '__init__',\n",
       "  '__init_subclass__',\n",
       "  '__le__',\n",
       "  '__lt__',\n",
       "  '__module__',\n",
       "  '__ne__',\n",
       "  '__new__',\n",
       "  '__reduce__',\n",
       "  '__reduce_ex__',\n",
       "  '__repr__',\n",
       "  '__setattr__',\n",
       "  '__sizeof__',\n",
       "  '__str__',\n",
       "  '__subclasshook__',\n",
       "  '__weakref__',\n",
       "  'age',\n",
       "  'name',\n",
       "  'species'],\n",
       " '_60': '짹짹이 sings 서시',\n",
       " '_62': '짹짹이 sings 서시',\n",
       " '_63': '짹짹이 sings 서시',\n",
       " '_66': 'sun is now dancing',\n",
       " '_67': ' is now dancing2',\n",
       " '_68': ' is now dancing2',\n",
       " '_69': ' is now dancing2',\n",
       " '_7': {'age': 10, 'name': 'Blu', 'species': 'bird2'},\n",
       " '_72': ['__class__',\n",
       "  '__delattr__',\n",
       "  '__dict__',\n",
       "  '__dir__',\n",
       "  '__doc__',\n",
       "  '__eq__',\n",
       "  '__format__',\n",
       "  '__ge__',\n",
       "  '__getattribute__',\n",
       "  '__gt__',\n",
       "  '__hash__',\n",
       "  '__init__',\n",
       "  '__init_subclass__',\n",
       "  '__le__',\n",
       "  '__lt__',\n",
       "  '__module__',\n",
       "  '__ne__',\n",
       "  '__new__',\n",
       "  '__reduce__',\n",
       "  '__reduce_ex__',\n",
       "  '__repr__',\n",
       "  '__setattr__',\n",
       "  '__sizeof__',\n",
       "  '__str__',\n",
       "  '__subclasshook__',\n",
       "  '__weakref__',\n",
       "  'swim',\n",
       "  'whoisThis'],\n",
       " '_77': ['__class__',\n",
       "  '__delattr__',\n",
       "  '__dict__',\n",
       "  '__dir__',\n",
       "  '__doc__',\n",
       "  '__eq__',\n",
       "  '__format__',\n",
       "  '__ge__',\n",
       "  '__getattribute__',\n",
       "  '__gt__',\n",
       "  '__hash__',\n",
       "  '__init__',\n",
       "  '__init_subclass__',\n",
       "  '__le__',\n",
       "  '__lt__',\n",
       "  '__module__',\n",
       "  '__ne__',\n",
       "  '__new__',\n",
       "  '__reduce__',\n",
       "  '__reduce_ex__',\n",
       "  '__repr__',\n",
       "  '__setattr__',\n",
       "  '__sizeof__',\n",
       "  '__str__',\n",
       "  '__subclasshook__',\n",
       "  '__weakref__',\n",
       "  'run',\n",
       "  'swim',\n",
       "  'whoisThis'],\n",
       " '_8': {'age': 10, 'name': 'Blu', 'species': 'bird2'},\n",
       " '_97': (__main__.Penguin, __main__.Bird, object),\n",
       " '__': {'_Computer__maxprice': 1000, '__maxprice': 1000},\n",
       " '___': {'_Computer__maxprice': 1000, '__maxprice': 1000},\n",
       " '__builtin__': <module 'builtins' (built-in)>,\n",
       " '__builtins__': <module 'builtins' (built-in)>,\n",
       " '__doc__': 'Automatically created module for IPython interactive environment',\n",
       " '__loader__': None,\n",
       " '__name__': '__main__',\n",
       " '__package__': None,\n",
       " '__spec__': None,\n",
       " '_dh': ['D:\\\\Study\\\\BigData\\\\JupyterNotebook\\\\Study'],\n",
       " '_i': 'dir() #dir에 인자를 안넣을 경우 현재 namespace 내에 저장된 모든 것들을 보여준다. (ipython계열에서만...) ',\n",
       " '_i1': 'blu.__dict__ #여기도 instance attribute만 나온다',\n",
       " '_i10': 'blu.__dict__ # 재할당시에 다시 species가 나온다',\n",
       " '_i100': 'class Computer:\\n\\n    def __init__(self):\\n        self.__maxprice = 900\\n\\n    def sell(self):\\n        print(\"Selling Price: {}\".format(self.__maxprice))\\n\\n    def setMaxPrice(self, price):\\n        self.__maxprice = price\\n\\nc = Computer()\\nc.sell()\\n\\n# change the price\\nc.__maxprice = 1000 # __을 하면 private으로 접근지정을 해주지만 접근도 되며 값을 바꿀 수도 있다.\\nc.sell()\\n\\n# using setter function\\n# c.setMaxPrice(1000)\\n# c.sell()',\n",
       " '_i101': 'class Computer:\\n\\n    def __init__(self):\\n        self.__maxprice = 900\\n\\n    def sell(self):\\n        print(\"Selling Price: {}\".format(self.__maxprice))\\n\\n    def setMaxPrice(self, price):\\n        self.__maxprice = price\\n\\nc = Computer()\\nc.sell()\\n\\n# change the price\\nc.__maxprice = 1000 # __을 하면 private으로 접근지정을 해주지만 접근도 되며 값을 바꿀 수도 있다.\\nc.__maxprice\\n\\n# using setter function\\n# c.setMaxPrice(1000)\\n# c.sell()',\n",
       " '_i102': 'class Computer:\\n\\n    def __init__(self):\\n        self.__maxprice = 900\\n\\n    def sell(self):\\n        print(\"Selling Price: {}\".format(self.__maxprice))\\n\\n    def setMaxPrice(self, price):\\n        self.__maxprice = price\\n\\nc = Computer()\\nc.sell()\\n\\n# change the price\\nc.__maxprice = 1000 # __을 하면 private으로 접근지정을 해주지만 접근도 되며 값을 바꿀 수도 있다.\\nc.sell()\\n\\n# using setter function\\n# c.setMaxPrice(1000)\\n# c.sell()',\n",
       " '_i103': 'class Computer:\\n\\n    def __init__(self):\\n        self.__maxprice = 900\\n\\n    def sell(self):\\n        print(\"Selling Price: {}\".format(self.__maxprice))\\n\\n    def setMaxPrice(self, price):\\n        self.__maxprice = price\\n\\nc = Computer()\\nc.sell()\\n\\n# change the price\\nc.__maxprice = 1000 # __을 하면 private으로 접근지정을 해주지만 접근도 되며 값을 바꿀 수도 있다.\\nc.sell()\\n\\n# using setter function\\nc.setMaxPrice(1000)\\nc.sell()',\n",
       " '_i104': 'vars(c)',\n",
       " '_i105': 'class Computer:\\n\\n    def __init__(self):\\n        self.__maxprice = 900\\n\\n    def sell(self):\\n        print(\"Selling Price: {}\".format(self.__maxprice))\\n\\n    def setMaxPrice(self, price):\\n        self.__maxprice = price\\n\\nc = Computer()\\nc.sell()\\n\\n# change the price\\nc.__maxprice = 1000 # __을 하면 private으로 접근지정을 해주지만 접근도 되며 값을 바꿀 수도 있다.\\nc.sell()\\n\\nprint(vars(c))\\n# using setter function\\nc.setMaxPrice(1000)\\nc.sell()',\n",
       " '_i106': 'class Computer:\\n\\n    def __init__(self):\\n        self.__maxprice = 900\\n\\n    def sell(self):\\n        print(\"Selling Price: {}\".format(self.__maxprice))\\n\\n    def setMaxPrice(self, price):\\n        self.__maxprice = price\\n\\nc = Computer()\\nc.sell()\\nprint(vars(c))\\n\\n# change the price\\nc.__maxprice = 1000 # __을 하면 private으로 접근지정을 해주지만 접근도 되며 값을 바꿀 수도 있다.\\nc.sell()\\n\\nprint(vars(c))\\n\\n# using setter function\\nc.setMaxPrice(1000)\\nc.sell()\\nprint(vars(c))',\n",
       " '_i107': 'vars(c)',\n",
       " '_i108': 'dir() #dir에 인자를 안넣을 경우 현재 namespace 내에 저장된 모든 것들을 보여준다. (ipython계열에서만...) ',\n",
       " '_i109': 'locals() #local 영역에 선언된 값들을 리턴',\n",
       " '_i11': 'blu.__dict__ # 재할당을 할 경우에 다시 species가 나온다',\n",
       " '_i12': 'dir(woo)',\n",
       " '_i13': 'woo.species\\n# instance attribute는 생성될 때 자신이 갖고 있는 것이다. \\n# class attribute는 Java에서의 static과 비슷함',\n",
       " '_i14': 'vars(woo)',\n",
       " '_i15': 'blu.species #재할당되면서 class attribute가 instance attribute로 바뀜',\n",
       " '_i16': 'woo.species',\n",
       " '_i17': 'Parrot.name #instance attrbute\\n#instance가 생성되어야 사용할 수 있다.',\n",
       " '_i18': 'print(\"Blu is a {}\".format(blu.species)) # {} 부분을 뒤의 .format의 형태로 print해주는 것이다',\n",
       " '_i19': 'print(\"Blu is a {}\".format(blu.__class__.species)) # {} 부분을 뒤의 .format의 형태로 print해주는 것이다',\n",
       " '_i2': 'class Parrot:\\n\\n    # class attribute\\n    species = \"bird\"\\n\\n    # instance attribute\\n    def __init__(self, name, age):\\n        self.name = name\\n        self.age = age',\n",
       " '_i20': 'print(\"Blu is a {}\".format(blu.__class__)) # {} 부분을 뒤의 .format의 형태로 print해주는 것이다',\n",
       " '_i21': '# access the class attributes\\nprint(\"Blu is a {}\".format(blu.__class__.species)) # {} 부분을 뒤의 .format의 형태로 print해주는 것이다\\nprint(\"Woo is also a {}\".format(woo.__class__.species))\\n\\n# access the instance attributes\\nprint(\"{} is {} years old\".format( blu.name, blu.age))\\nprint(\"{} is {} years old\".format( woo.name, woo.age))\\n\\n## Methods',\n",
       " '_i22': \"조보아 = Parrot('조보아', 30)\",\n",
       " '_i23': 'vars(조보아)',\n",
       " '_i24': 'vars(조보아)',\n",
       " '_i25': '조보아.species',\n",
       " '_i26': \"조보아.species = 'bird2'\",\n",
       " '_i27': '조보아.species #여기의 species는 instance attrbute가 된다.(다만 class attribute는 남아있다.) ->  instance attribute가 우선 순위를 가짐',\n",
       " '_i28': '조보아.species #여기의 species는 instance attrbute가 된다.(다만 class attribute는 남아있다.) ->  instance attribute가 우선 순위를 가짐',\n",
       " '_i29': '문근영.__class__.species #여기는 class attribute에 대해 명시해서 가져옴',\n",
       " '_i3': '# instantiate the Parrot class\\nblu = Parrot(\"Blu\", 10) #인스턴스화할 때 생성자에서 name, age 2가지를 받는다.\\nwoo = Parrot(\"Woo\", 15)',\n",
       " '_i30': '조보아.__class__.species #여기는 class attribute에 대해 명시해서 가져옴',\n",
       " '_i31': '조보아.__class__ #instance의 타입을 쳤을 때랑 똑같이 출력된다',\n",
       " '_i32': 'class Parrot:\\n    \\n    # instance attributes\\n    def __init__(self, name, age):\\n        self.name = name\\n        self.age = age\\n    \\n    # instance method\\n    def sing(self, song):\\n        return \"{} sings {}\".format(self.name, song)\\n\\n    def dance(self):\\n        return \"{} is now dancing\".format(self.name)\\n\\n# instantiate the object\\nblu = Parrot(\"Blu\", 10)\\n\\n# call our instance methods\\nprint(blu.sing(\"\\'Happy\\'\"))\\nprint(blu.dance())',\n",
       " '_i33': 'class Parrot:\\n    \\n    # instance attributes\\n    def __init__(me, name, age): #self 대신 딴거 넣어도 상관없다.\\n        me.name = name\\n        me.age = age\\n    \\n    # instance method\\n    def sing(me, song):\\n        return \"{} sings {}\".format(me.name, song)\\n\\n    def dance(me):\\n        return \"{} is now dancing\".format(me.name)\\n\\n# instantiate the object\\nblu = Parrot(\"Blu\", 10)\\n\\n# call our instance methods\\nprint(blu.sing(\"\\'Happy\\'\"))\\nprint(blu.dance())',\n",
       " '_i34': \"Parrot.sing(조보아,'노래')\\n조보아.sing('노래')\",\n",
       " '_i35': 'class Parrot:\\n    \\n    # instance attributes\\n    def __init__(me, name, age): #self 대신 딴거 넣어도 상관없다.\\n        me.name = name\\n        me.age = age\\n    # 여기서 일부러 self를 me로 바꾸어보았다.\\n    \\n    # instance method\\n    def sing(me, song):\\n        return \"{} sings {}\".format(me.name, song)\\n\\n    def dance(me):\\n        return \"{} is now dancing\".format(me.name)\\n\\n# instantiate the object\\nblu = Parrot(\"Blu\", 10)\\n\\n# call our instance methods\\nprint(blu.sing(\"\\'Happy\\'\"))\\nprint(blu.dance())',\n",
       " '_i36': \"Parrot.sing(조보아,'노래')\\n조보아.sing('노래')\",\n",
       " '_i37': \"Parrot.sing(조보아,'노래')\\n#조보아.sing('노래')\",\n",
       " '_i38': \"Parrot.sing(조보아,'노래')\\n조보아.sing('노래')\",\n",
       " '_i39': \"Parrot.sing(보아,'노래')\\n보아.sing('노래')\",\n",
       " '_i4': 'type(blu) #__main__ 현재 작업하고 있는 것에서 클래스 이름이 나온다',\n",
       " '_i40': \"조보아 = Parrot.sing(조보아,'노래')\\n조보아.sing('노래')\",\n",
       " '_i41': 'class Parrot:\\n    \\n    # instance attributes\\n    def __init__(self, name, age):\\n        self.name = name\\n        self.age = age\\n    \\n    # instance method\\n    def sing(self, song):\\n        return \"{} sings {}\".format(self.name, song)\\n\\n    def dance(self):\\n        return \"{} is now dancing\".format(self.name)\\n\\n# instantiate the object\\nblu = Parrot(\"Blu\", 10)\\n\\n# call our instance methods\\nprint(blu.sing(\"\\'Happy\\'\"))\\nprint(blu.dance())',\n",
       " '_i42': 'class Parrot:\\n    \\n    # instance attributes\\n    def __init__(me, name, age): #self 대신 딴거 넣어도 상관없다.\\n        me.name = name\\n        me.age = age\\n    # 여기서 일부러 self를 me로 바꾸어보았다.\\n    \\n    # instance method\\n    def sing(me, song):\\n        return \"{} sings {}\".format(me.name, song)\\n\\n    def dance(me):\\n        return \"{} is now dancing\".format(me.name)\\n\\n# instantiate the object\\nblu = Parrot(\"Blu\", 10)\\n\\n# call our instance methods\\nprint(blu.sing(\"\\'Happy\\'\"))\\nprint(blu.dance())',\n",
       " '_i43': \"Parrot.sing(조보아,'노래')\\n조보아.sing('노래')\",\n",
       " '_i44': \"Parrot.sing(조보아,'노래')\\n조보아.sing('노래')\",\n",
       " '_i45': \"Parrot.sing(보아,'노래')\\n보아.sing('노래')\",\n",
       " '_i46': \"Parrot.sing(보아,'노래')\\n# 보아.sing('노래')\",\n",
       " '_i47': \"Parrot.sing(조보아,'노래')\\n# 보아.sing('노래')\",\n",
       " '_i48': \"Parrot.sing(조보아,'노래')\\n조보아.sing('노래')\",\n",
       " '_i49': 'class Parrot:\\n    \\n    # instance attributes\\n    def __init__(me, name, age): #self 대신 딴거 넣어도 상관없다.\\n        me.name = name\\n        me.age = age\\n    # 여기서 일부러 self를 me로 바꾸어보았다.\\n    \\n    # instance method\\n    def sing(me, song):\\n        return \"{} sings {}\".format(me.name, song)\\n\\n    def dance(me):\\n        return \"{} is now dancing\".format(me.name)\\n\\n# instantiate the object\\nblu = Parrot(\"Blu\", 10)\\n\\n# call our instance methods\\nprint(blu.sing(\"\\'Happy\\'\"))\\nprint(blu.dance())',\n",
       " '_i5': 'type(Parrot) #type쳐서 type이 나오면 class이다',\n",
       " '_i50': \"Parrot.sing(조보아,'노래')\\n조보아.sing('노래')\",\n",
       " '_i51': \"조보아 = Parrot('조보아', 30)\\n# 현재 name = '조보아', age = 30을 가지는 Parrot type instance 조보아를 생성했다.\",\n",
       " '_i52': \"Parrot.sing(조보아,'노래')\\n조보아.sing('노래')\",\n",
       " '_i53': \"Parrot.sing(조보아,'노래')\\n# 조보아.sing('노래')\",\n",
       " '_i54': \"Parrot.sing(조보아,'노래')\\n조보아.sing('노래')\",\n",
       " '_i55': 'class Parrot:\\n    \\n    # instance attributes\\n    def __init__(self, name, age):\\n        self.name = name\\n        self.age = age\\n    \\n    # instance method\\n    def sing(self, song):\\n        return \"{} sings {}\".format(self.name, song)\\n\\n    def dance(self):\\n        return \"{} is now dancing\".format(self.name)\\n\\n# instantiate the object\\nblu = Parrot(\"Blu\", 10)\\n\\n# call our instance methods\\nprint(blu.sing(\"\\'Happy\\'\"))\\nprint(blu.dance())',\n",
       " '_i56': 'class Parrot:\\n    \\n    # instance attributes\\n    def __init__(self, name, age):\\n        self.name = name\\n        self.age = age\\n    \\n    # instance method\\n    def sing(self, song):\\n        return \"{} sings {}\".format(self.name, song)\\n\\n    def dance(self):\\n        return \"{} is now dancing\".format(self.name)\\n\\n# instantiate the object\\nblu = Parrot(\"Blu\", 10)\\n\\n# call our instance methods\\nprint(blu.sing(\"\\'Happy\\'\"))\\nprint(blu.dance())',\n",
       " '_i57': '조보아.dance()',\n",
       " '_i58': '앵무새 = Parrot(\"짹짹이\", 15)',\n",
       " '_i59': '앵무새.sing(\"서시\")',\n",
       " '_i6': 'dir(blu)',\n",
       " '_i60': 'Parrot.sing(앵무새,\"서시\")',\n",
       " '_i61': 'class Parrot:\\n    \\n    # instance attributes\\n    def __init__(self, name, age):\\n        self.name = name\\n        self.age = age\\n    \\n    # instance method\\n    def sing(self, song):\\n        return \"{} sings {}\".format(self.name, song)\\n\\n    def dance(self):\\n        return \"{} is now dancing\".format(self.name)\\n    \\n    @classmethod #decoration (=Java의 annotation)\\n    def dance2(cls): #클래스 메소드의 정의\\n        return \" is now dancing2\"',\n",
       " '_i62': '앵무새.sing(\"서시\") # instance method call',\n",
       " '_i63': 'Parrot.sing(앵무새,\"서시\")',\n",
       " '_i64': 'class Parrot:\\n    \\n    # instance attributes\\n    def __init__(self, name, age):\\n        self.name = name\\n        self.age = age\\n    \\n    # instance method\\n    def sing(self, song):\\n        return \"{} sings {}\".format(self.name, song)\\n\\n    def dance(self):\\n        return \"{} is now dancing\".format(self.name)\\n    \\n    @classmethod #decoration (=Java의 annotation)\\n    def dance2(cls): #클래스 메소드의 정의\\n        return \" is now dancing2\"',\n",
       " '_i65': \"a = Parrot('sun', 42)\",\n",
       " '_i66': 'Parrot.dance(a)\\na.dance()',\n",
       " '_i67': 'Parrot.dance2() #클래스 메소드는 클래스 이름을 대고 실행을 해야한다!!!',\n",
       " '_i68': 'a.__class__.dance2() # 위와 같은 방식이다',\n",
       " '_i69': 'a.dance2()',\n",
       " '_i7': 'vars(blu) # attribute 중에 species 가 안 나온다. \\n\\n#age, name의 경우 인스턴스 attribute이다 \\n#species의 경우 클래스 attribute이다',\n",
       " '_i70': '# parent class\\nclass Bird: #Java처럼 Object를 기본적으로 상속 받는다 # 파이썬에서도 추상클래스를 지원해준다.\\n#파이썬에서는 클래스가 mutable이기 때문에 자바와 달리 attribute가 없는 상태로 정의 가능\\n    def __init__(self): \\n        print(\"Bird is ready\")\\n\\n    def whoisThis(self):\\n        print(\"Bird\")\\n\\n    def swim(self):\\n        print(\"Swim faster\")\\n\\n# child class\\nclass Penguin(Bird): # Bird를 상속받은 Penguin 클래스\\n    pass\\n#     def __init__(self):\\n#         # call super() function\\n#         super().__init__()\\n#         print(\"Penguin is ready\")\\n\\n#     def whoisThis(self):\\n#         print(\"Penguin\")\\n\\n#     def run(self):\\n#         print(\"Run faster\")',\n",
       " '_i71': 'peggy = Penguin()\\npeggy.whoisThis()\\npeggy.swim()\\npeggy.run()',\n",
       " '_i72': 'dir(Penguin) #Bird를 상속받은 Penguin은 Bird상의 swim()과 whoisThis()를 갖고 있다.',\n",
       " '_i73': 'peggy = Penguin()\\npeggy.whoisThis()\\npeggy.swim()\\n# peggy.run()',\n",
       " '_i74': 'class Penguin(Bird): # Bird를 상속받은 Penguin 클래스\\n    def swim(self):\\n        print(\"I can\\'t swim\")',\n",
       " '_i75': 'peggy = Penguin()\\npeggy.whoisThis()\\npeggy.swim()\\n# peggy.run()',\n",
       " '_i76': 'class Penguin(Bird): # Bird를 상속받은 Penguin 클래스\\n    def swim(self):\\n        print(\"I can\\'t swim\")\\n    def run(self):\\n        print(\"Run faster\")',\n",
       " '_i77': 'dir(Penguin)',\n",
       " '_i78': 'class Penguin(Bird): # Bird를 상속받은 Penguin 클래스\\n    def __init__(self):\\n        # call super() function\\n        super().__init__() # 부모 클래스 super()\\n        print(\"Penguin is ready\")\\n\\n    def whoisThis(self): # Bird클래스의 whoisThis를 오버라이딩 해줌.\\n        print(\"Penguin\")\\n\\n    def run(self): # 원래 없던 run()메소드를 추가해줌.\\n        print(\"Run faster\")',\n",
       " '_i79': 'peggy = Penguin() # super().__init__()으로 인해서 부모 클래스의 생성자에 있는 것을 출력 먼저 해주고 Penguin is ready를 출력해줌\\npeggy.whoisThis()\\npeggy.swim()\\n# peggy.run()',\n",
       " '_i8': 'blu.__dict__ #여기도 instance attribute만 나온다',\n",
       " '_i80': 'class Penguin(Bird): # Bird를 상속받은 Penguin 클래스\\n    def __init__(self):\\n        # call super() function\\n        super().__init__() # 부모 클래스 super()\\n        print(\"Penguin is ready\")\\n\\n    def whoisThis(self): # Bird클래스의 whoisThis를 오버라이딩 해줌.\\n        print(\"Penguin\")\\n\\n    def run(self): # 원래 없던 run()메소드를 추가해줌.\\n        print(\"Run faster\")',\n",
       " '_i81': 'peggy = Penguin() # super().__init__()으로 인해서 부모 클래스의 생성자에 있는 것을 출력 먼저 해주고 Penguin is ready를 출력해줌\\npeggy.whoisThis()\\npeggy.swim()\\n# peggy.run()',\n",
       " '_i82': 'class Penguin(Bird): # Bird를 상속받은 Penguin 클래스\\n    def __init__(self):\\n        # call super() function\\n        super(Bird).__init__() # 부모 클래스 super()\\n        # super() -> same as super(__class__, <first argument>)\\n        # super(type) -> unbound super object\\n        # super(type, obj) -> bound super object; requires isinstance(obj, type)\\n        # super(type, type2) -> bound super object; requires issubclass(type2, type)\\n        \\n        #다중상속기능을 제공하기때문에 여러 타입을 받을 수 있게 했다.\\n        print(\"Penguin is ready\")\\n        \\n\\n#     def whoisThis(self):\\n#         print(\"Penguin\")\\n\\n    def run(self):\\n        print(\"Run faster\")',\n",
       " '_i83': 'peggy = Penguin() # super().__init__()으로 인해서 부모 클래스의 생성자에 있는 것을 출력 먼저 해주고 Penguin is ready를 출력해줌\\npeggy.whoisThis()\\npeggy.swim()\\n# peggy.run()',\n",
       " '_i84': 'class Penguin(Bird): # Bird를 상속받은 Penguin 클래스\\n    def __init__(self):\\n        # call super() function\\n        super(Bird).__init__() # 부모 클래스 super()\\n        # super() -> same as super(__class__, <first argument>)\\n        # super(type) -> unbound super object\\n        # super(type, obj) -> bound super object; requires isinstance(obj, type)\\n        # super(type, type2) -> bound super object; requires issubclass(type2, type)\\n        \\n        #다중상속기능을 제공하기때문에 여러 타입을 받을 수 있게 했다.\\n        print(\"Penguin is ready\")\\n        \\n\\n#     def whoisThis(self):\\n#         print(\"Penguin\")\\n\\n    def run(self):\\n        print(\"Run faster\")',\n",
       " '_i85': 'peggy = Penguin() # super().__init__()으로 인해서 부모 클래스의 생성자에 있는 것을 출력 먼저 해주고 Penguin is ready를 출력해줌\\npeggy.whoisThis()\\npeggy.swim()\\n# peggy.run()',\n",
       " '_i86': '# parent class\\nclass Bird: #Java처럼 Object를 기본적으로 상속 받는다 # 파이썬에서도 추상클래스를 지원해준다.\\n#파이썬에서는 클래스가 mutable이기 때문에 자바와 달리 attribute가 없는 상태로 정의 가능\\n    def __init__(self): \\n        print(\"Bird is ready\")\\n\\n    def whoisThis(self):\\n        print(\"Bird\")\\n\\n    def swim(self):\\n        print(\"Swim faster\")\\n\\n# child class\\nclass Penguin(Bird): # Bird를 상속받은 Penguin 클래스\\n    pass\\n#     def __init__(self):\\n#         # call super() function\\n#         super().__init__()\\n#         print(\"Penguin is ready\")\\n\\n#     def whoisThis(self):\\n#         print(\"Penguin\")\\n\\n#     def run(self):\\n#         print(\"Run faster\")',\n",
       " '_i87': 'class Penguin(Bird): # Bird를 상속받은 Penguin 클래스\\n    def __init__(self):\\n        # call super() function\\n        super(Bird).__init__() # 부모 클래스 super()\\n        # super() -> same as super(__class__, <first argument>)\\n        # super(type) -> unbound super object\\n        # super(type, obj) -> bound super object; requires isinstance(obj, type)\\n        # super(type, type2) -> bound super object; requires issubclass(type2, type)\\n        \\n        #다중상속기능을 제공하기때문에 여러 타입을 받을 수 있게 했다.\\n        print(\"Penguin is ready\")\\n        \\n\\n#     def whoisThis(self):\\n#         print(\"Penguin\")\\n\\n    def run(self):\\n        print(\"Run faster\")',\n",
       " '_i88': 'peggy = Penguin() # super().__init__()으로 인해서 부모 클래스의 생성자에 있는 것을 출력 먼저 해주고 Penguin is ready를 출력해줌\\npeggy.whoisThis()\\npeggy.swim()\\n# peggy.run()',\n",
       " '_i89': 'class Penguin(Bird): # Bird를 상속받은 Penguin 클래스\\n    def __init__(self):\\n        # call super() function\\n        super().__init__() # 부모 클래스 super()\\n        # super() -> same as super(__class__, <first argument>)\\n        # super(type) -> unbound super object\\n        # super(type, obj) -> bound super object; requires isinstance(obj, type)\\n        # super(type, type2) -> bound super object; requires issubclass(type2, type)\\n        \\n        #다중상속기능을 제공하기때문에 여러 타입을 받을 수 있게 했다.\\n        print(\"Penguin is ready\")\\n        \\n\\n#     def whoisThis(self):\\n#         print(\"Penguin\")\\n\\n    def run(self):\\n        print(\"Run faster\")',\n",
       " '_i9': \"blu.species = 'bird2'\",\n",
       " '_i90': 'peggy = Penguin() # super().__init__()으로 인해서 부모 클래스의 생성자에 있는 것을 출력 먼저 해주고 Penguin is ready를 출력해줌\\npeggy.whoisThis()\\npeggy.swim()\\n# peggy.run()',\n",
       " '_i91': 'class Penguin(Bird): # Bird를 상속받은 Penguin 클래스\\n    def __init__(self):\\n        # call super() function\\n        super(Bird).__init__() # 부모 클래스 super()\\n        # super() -> same as super(__class__, <first argument>)\\n        # super(type) -> unbound super object\\n        # super(type, obj) -> bound super object; requires isinstance(obj, type)\\n        # super(type, type2) -> bound super object; requires issubclass(type2, type)\\n        \\n        #다중상속기능을 제공하기때문에 여러 타입을 받을 수 있게 했다.\\n        print(\"Penguin is ready\")\\n        \\n\\n#     def whoisThis(self):\\n#         print(\"Penguin\")\\n\\n    def run(self):\\n        print(\"Run faster\")',\n",
       " '_i92': 'peggy = Penguin() # super().__init__()으로 인해서 부모 클래스의 생성자에 있는 것을 출력 먼저 해주고 Penguin is ready를 출력해줌\\npeggy.whoisThis()\\npeggy.swim()\\n# peggy.run()',\n",
       " '_i93': 'peggy = Penguin() # super().__init__()으로 인해서 부모 클래스의 생성자에 있는 것을 출력 먼저 해주고 Penguin is ready를 출력해줌\\npeggy.whoisThis()\\npeggy.swim()\\n# peggy.run()',\n",
       " '_i94': 'class Penguin(Bird): # Bird를 상속받은 Penguin 클래스\\n    def __init__(self):\\n        # call super() function\\n        super(Bird).__init__() # 부모 클래스 super()\\n        # super() -> same as super(__class__, <first argument>)\\n        # super(type) -> unbound(매여있지않은) super object\\n        # super(type, obj) -> bound super object; requires isinstance(obj, type)\\n        # super(type, type2) -> bound super object; requires issubclass(type2, type)\\n        \\n        #다중상속기능을 제공하기때문에 여러 타입을 받을 수 있게 했다.\\n        print(\"Penguin is ready\")\\n        \\n\\n#     def whoisThis(self):\\n#         print(\"Penguin\")\\n\\n    def run(self):\\n        print(\"Run faster\")',\n",
       " '_i95': 'peggy = Penguin() # super().__init__()으로 인해서 부모 클래스의 생성자에 있는 것을 출력 먼저 해주고 Penguin is ready를 출력해줌\\npeggy.whoisThis()\\npeggy.swim()\\n# peggy.run()',\n",
       " '_i96': '# Penguin.__mro__',\n",
       " '_i97': 'Penguin.__mro__',\n",
       " '_i98': 'class Computer:\\n\\n    def __init__(self):\\n        self.__maxprice = 900\\n\\n    def sell(self):\\n        print(\"Selling Price: {}\".format(self.__maxprice))\\n\\n    def setMaxPrice(self, price):\\n        self.__maxprice = price\\n\\nc = Computer()\\nc.sell()\\n\\n# change the price\\nc.__maxprice = 1000 # __을 하면 private으로 접근지정을 해주지만 접근도 되며 값을 바꿀 수도 있다.\\nc.sell()\\n\\n# using setter function\\nc.setMaxPrice(1000)\\nc.sell()',\n",
       " '_i99': 'class Computer:\\n\\n    def __init__(self):\\n        self.__maxprice = 900\\n\\n    def sell(self):\\n        print(\"Selling Price: {}\".format(self.__maxprice))\\n\\n    def setMaxPrice(self, price):\\n        self.__maxprice = price\\n\\nc = Computer()\\nc.sell()\\n\\n# change the price\\nc.__maxprice = 1000 # __을 하면 private으로 접근지정을 해주지만 접근도 되며 값을 바꿀 수도 있다.\\nc.sell()\\n\\n# using setter function\\nc.setMaxPrice(1000)\\nc.sell()',\n",
       " '_ih': ['',\n",
       "  'blu.__dict__ #여기도 instance attribute만 나온다',\n",
       "  'class Parrot:\\n\\n    # class attribute\\n    species = \"bird\"\\n\\n    # instance attribute\\n    def __init__(self, name, age):\\n        self.name = name\\n        self.age = age',\n",
       "  '# instantiate the Parrot class\\nblu = Parrot(\"Blu\", 10) #인스턴스화할 때 생성자에서 name, age 2가지를 받는다.\\nwoo = Parrot(\"Woo\", 15)',\n",
       "  'type(blu) #__main__ 현재 작업하고 있는 것에서 클래스 이름이 나온다',\n",
       "  'type(Parrot) #type쳐서 type이 나오면 class이다',\n",
       "  'dir(blu)',\n",
       "  'vars(blu) # attribute 중에 species 가 안 나온다. \\n\\n#age, name의 경우 인스턴스 attribute이다 \\n#species의 경우 클래스 attribute이다',\n",
       "  'blu.__dict__ #여기도 instance attribute만 나온다',\n",
       "  \"blu.species = 'bird2'\",\n",
       "  'blu.__dict__ # 재할당시에 다시 species가 나온다',\n",
       "  'blu.__dict__ # 재할당을 할 경우에 다시 species가 나온다',\n",
       "  'dir(woo)',\n",
       "  'woo.species\\n# instance attribute는 생성될 때 자신이 갖고 있는 것이다. \\n# class attribute는 Java에서의 static과 비슷함',\n",
       "  'vars(woo)',\n",
       "  'blu.species #재할당되면서 class attribute가 instance attribute로 바뀜',\n",
       "  'woo.species',\n",
       "  'Parrot.name #instance attrbute\\n#instance가 생성되어야 사용할 수 있다.',\n",
       "  'print(\"Blu is a {}\".format(blu.species)) # {} 부분을 뒤의 .format의 형태로 print해주는 것이다',\n",
       "  'print(\"Blu is a {}\".format(blu.__class__.species)) # {} 부분을 뒤의 .format의 형태로 print해주는 것이다',\n",
       "  'print(\"Blu is a {}\".format(blu.__class__)) # {} 부분을 뒤의 .format의 형태로 print해주는 것이다',\n",
       "  '# access the class attributes\\nprint(\"Blu is a {}\".format(blu.__class__.species)) # {} 부분을 뒤의 .format의 형태로 print해주는 것이다\\nprint(\"Woo is also a {}\".format(woo.__class__.species))\\n\\n# access the instance attributes\\nprint(\"{} is {} years old\".format( blu.name, blu.age))\\nprint(\"{} is {} years old\".format( woo.name, woo.age))\\n\\n## Methods',\n",
       "  \"조보아 = Parrot('조보아', 30)\",\n",
       "  'vars(조보아)',\n",
       "  'vars(조보아)',\n",
       "  '조보아.species',\n",
       "  \"조보아.species = 'bird2'\",\n",
       "  '조보아.species #여기의 species는 instance attrbute가 된다.(다만 class attribute는 남아있다.) ->  instance attribute가 우선 순위를 가짐',\n",
       "  '조보아.species #여기의 species는 instance attrbute가 된다.(다만 class attribute는 남아있다.) ->  instance attribute가 우선 순위를 가짐',\n",
       "  '문근영.__class__.species #여기는 class attribute에 대해 명시해서 가져옴',\n",
       "  '조보아.__class__.species #여기는 class attribute에 대해 명시해서 가져옴',\n",
       "  '조보아.__class__ #instance의 타입을 쳤을 때랑 똑같이 출력된다',\n",
       "  'class Parrot:\\n    \\n    # instance attributes\\n    def __init__(self, name, age):\\n        self.name = name\\n        self.age = age\\n    \\n    # instance method\\n    def sing(self, song):\\n        return \"{} sings {}\".format(self.name, song)\\n\\n    def dance(self):\\n        return \"{} is now dancing\".format(self.name)\\n\\n# instantiate the object\\nblu = Parrot(\"Blu\", 10)\\n\\n# call our instance methods\\nprint(blu.sing(\"\\'Happy\\'\"))\\nprint(blu.dance())',\n",
       "  'class Parrot:\\n    \\n    # instance attributes\\n    def __init__(me, name, age): #self 대신 딴거 넣어도 상관없다.\\n        me.name = name\\n        me.age = age\\n    \\n    # instance method\\n    def sing(me, song):\\n        return \"{} sings {}\".format(me.name, song)\\n\\n    def dance(me):\\n        return \"{} is now dancing\".format(me.name)\\n\\n# instantiate the object\\nblu = Parrot(\"Blu\", 10)\\n\\n# call our instance methods\\nprint(blu.sing(\"\\'Happy\\'\"))\\nprint(blu.dance())',\n",
       "  \"Parrot.sing(조보아,'노래')\\n조보아.sing('노래')\",\n",
       "  'class Parrot:\\n    \\n    # instance attributes\\n    def __init__(me, name, age): #self 대신 딴거 넣어도 상관없다.\\n        me.name = name\\n        me.age = age\\n    # 여기서 일부러 self를 me로 바꾸어보았다.\\n    \\n    # instance method\\n    def sing(me, song):\\n        return \"{} sings {}\".format(me.name, song)\\n\\n    def dance(me):\\n        return \"{} is now dancing\".format(me.name)\\n\\n# instantiate the object\\nblu = Parrot(\"Blu\", 10)\\n\\n# call our instance methods\\nprint(blu.sing(\"\\'Happy\\'\"))\\nprint(blu.dance())',\n",
       "  \"Parrot.sing(조보아,'노래')\\n조보아.sing('노래')\",\n",
       "  \"Parrot.sing(조보아,'노래')\\n#조보아.sing('노래')\",\n",
       "  \"Parrot.sing(조보아,'노래')\\n조보아.sing('노래')\",\n",
       "  \"Parrot.sing(보아,'노래')\\n보아.sing('노래')\",\n",
       "  \"조보아 = Parrot.sing(조보아,'노래')\\n조보아.sing('노래')\",\n",
       "  'class Parrot:\\n    \\n    # instance attributes\\n    def __init__(self, name, age):\\n        self.name = name\\n        self.age = age\\n    \\n    # instance method\\n    def sing(self, song):\\n        return \"{} sings {}\".format(self.name, song)\\n\\n    def dance(self):\\n        return \"{} is now dancing\".format(self.name)\\n\\n# instantiate the object\\nblu = Parrot(\"Blu\", 10)\\n\\n# call our instance methods\\nprint(blu.sing(\"\\'Happy\\'\"))\\nprint(blu.dance())',\n",
       "  'class Parrot:\\n    \\n    # instance attributes\\n    def __init__(me, name, age): #self 대신 딴거 넣어도 상관없다.\\n        me.name = name\\n        me.age = age\\n    # 여기서 일부러 self를 me로 바꾸어보았다.\\n    \\n    # instance method\\n    def sing(me, song):\\n        return \"{} sings {}\".format(me.name, song)\\n\\n    def dance(me):\\n        return \"{} is now dancing\".format(me.name)\\n\\n# instantiate the object\\nblu = Parrot(\"Blu\", 10)\\n\\n# call our instance methods\\nprint(blu.sing(\"\\'Happy\\'\"))\\nprint(blu.dance())',\n",
       "  \"Parrot.sing(조보아,'노래')\\n조보아.sing('노래')\",\n",
       "  \"Parrot.sing(조보아,'노래')\\n조보아.sing('노래')\",\n",
       "  \"Parrot.sing(보아,'노래')\\n보아.sing('노래')\",\n",
       "  \"Parrot.sing(보아,'노래')\\n# 보아.sing('노래')\",\n",
       "  \"Parrot.sing(조보아,'노래')\\n# 보아.sing('노래')\",\n",
       "  \"Parrot.sing(조보아,'노래')\\n조보아.sing('노래')\",\n",
       "  'class Parrot:\\n    \\n    # instance attributes\\n    def __init__(me, name, age): #self 대신 딴거 넣어도 상관없다.\\n        me.name = name\\n        me.age = age\\n    # 여기서 일부러 self를 me로 바꾸어보았다.\\n    \\n    # instance method\\n    def sing(me, song):\\n        return \"{} sings {}\".format(me.name, song)\\n\\n    def dance(me):\\n        return \"{} is now dancing\".format(me.name)\\n\\n# instantiate the object\\nblu = Parrot(\"Blu\", 10)\\n\\n# call our instance methods\\nprint(blu.sing(\"\\'Happy\\'\"))\\nprint(blu.dance())',\n",
       "  \"Parrot.sing(조보아,'노래')\\n조보아.sing('노래')\",\n",
       "  \"조보아 = Parrot('조보아', 30)\\n# 현재 name = '조보아', age = 30을 가지는 Parrot type instance 조보아를 생성했다.\",\n",
       "  \"Parrot.sing(조보아,'노래')\\n조보아.sing('노래')\",\n",
       "  \"Parrot.sing(조보아,'노래')\\n# 조보아.sing('노래')\",\n",
       "  \"Parrot.sing(조보아,'노래')\\n조보아.sing('노래')\",\n",
       "  'class Parrot:\\n    \\n    # instance attributes\\n    def __init__(self, name, age):\\n        self.name = name\\n        self.age = age\\n    \\n    # instance method\\n    def sing(self, song):\\n        return \"{} sings {}\".format(self.name, song)\\n\\n    def dance(self):\\n        return \"{} is now dancing\".format(self.name)\\n\\n# instantiate the object\\nblu = Parrot(\"Blu\", 10)\\n\\n# call our instance methods\\nprint(blu.sing(\"\\'Happy\\'\"))\\nprint(blu.dance())',\n",
       "  'class Parrot:\\n    \\n    # instance attributes\\n    def __init__(self, name, age):\\n        self.name = name\\n        self.age = age\\n    \\n    # instance method\\n    def sing(self, song):\\n        return \"{} sings {}\".format(self.name, song)\\n\\n    def dance(self):\\n        return \"{} is now dancing\".format(self.name)\\n\\n# instantiate the object\\nblu = Parrot(\"Blu\", 10)\\n\\n# call our instance methods\\nprint(blu.sing(\"\\'Happy\\'\"))\\nprint(blu.dance())',\n",
       "  '조보아.dance()',\n",
       "  '앵무새 = Parrot(\"짹짹이\", 15)',\n",
       "  '앵무새.sing(\"서시\")',\n",
       "  'Parrot.sing(앵무새,\"서시\")',\n",
       "  'class Parrot:\\n    \\n    # instance attributes\\n    def __init__(self, name, age):\\n        self.name = name\\n        self.age = age\\n    \\n    # instance method\\n    def sing(self, song):\\n        return \"{} sings {}\".format(self.name, song)\\n\\n    def dance(self):\\n        return \"{} is now dancing\".format(self.name)\\n    \\n    @classmethod #decoration (=Java의 annotation)\\n    def dance2(cls): #클래스 메소드의 정의\\n        return \" is now dancing2\"',\n",
       "  '앵무새.sing(\"서시\") # instance method call',\n",
       "  'Parrot.sing(앵무새,\"서시\")',\n",
       "  'class Parrot:\\n    \\n    # instance attributes\\n    def __init__(self, name, age):\\n        self.name = name\\n        self.age = age\\n    \\n    # instance method\\n    def sing(self, song):\\n        return \"{} sings {}\".format(self.name, song)\\n\\n    def dance(self):\\n        return \"{} is now dancing\".format(self.name)\\n    \\n    @classmethod #decoration (=Java의 annotation)\\n    def dance2(cls): #클래스 메소드의 정의\\n        return \" is now dancing2\"',\n",
       "  \"a = Parrot('sun', 42)\",\n",
       "  'Parrot.dance(a)\\na.dance()',\n",
       "  'Parrot.dance2() #클래스 메소드는 클래스 이름을 대고 실행을 해야한다!!!',\n",
       "  'a.__class__.dance2() # 위와 같은 방식이다',\n",
       "  'a.dance2()',\n",
       "  '# parent class\\nclass Bird: #Java처럼 Object를 기본적으로 상속 받는다 # 파이썬에서도 추상클래스를 지원해준다.\\n#파이썬에서는 클래스가 mutable이기 때문에 자바와 달리 attribute가 없는 상태로 정의 가능\\n    def __init__(self): \\n        print(\"Bird is ready\")\\n\\n    def whoisThis(self):\\n        print(\"Bird\")\\n\\n    def swim(self):\\n        print(\"Swim faster\")\\n\\n# child class\\nclass Penguin(Bird): # Bird를 상속받은 Penguin 클래스\\n    pass\\n#     def __init__(self):\\n#         # call super() function\\n#         super().__init__()\\n#         print(\"Penguin is ready\")\\n\\n#     def whoisThis(self):\\n#         print(\"Penguin\")\\n\\n#     def run(self):\\n#         print(\"Run faster\")',\n",
       "  'peggy = Penguin()\\npeggy.whoisThis()\\npeggy.swim()\\npeggy.run()',\n",
       "  'dir(Penguin) #Bird를 상속받은 Penguin은 Bird상의 swim()과 whoisThis()를 갖고 있다.',\n",
       "  'peggy = Penguin()\\npeggy.whoisThis()\\npeggy.swim()\\n# peggy.run()',\n",
       "  'class Penguin(Bird): # Bird를 상속받은 Penguin 클래스\\n    def swim(self):\\n        print(\"I can\\'t swim\")',\n",
       "  'peggy = Penguin()\\npeggy.whoisThis()\\npeggy.swim()\\n# peggy.run()',\n",
       "  'class Penguin(Bird): # Bird를 상속받은 Penguin 클래스\\n    def swim(self):\\n        print(\"I can\\'t swim\")\\n    def run(self):\\n        print(\"Run faster\")',\n",
       "  'dir(Penguin)',\n",
       "  'class Penguin(Bird): # Bird를 상속받은 Penguin 클래스\\n    def __init__(self):\\n        # call super() function\\n        super().__init__() # 부모 클래스 super()\\n        print(\"Penguin is ready\")\\n\\n    def whoisThis(self): # Bird클래스의 whoisThis를 오버라이딩 해줌.\\n        print(\"Penguin\")\\n\\n    def run(self): # 원래 없던 run()메소드를 추가해줌.\\n        print(\"Run faster\")',\n",
       "  'peggy = Penguin() # super().__init__()으로 인해서 부모 클래스의 생성자에 있는 것을 출력 먼저 해주고 Penguin is ready를 출력해줌\\npeggy.whoisThis()\\npeggy.swim()\\n# peggy.run()',\n",
       "  'class Penguin(Bird): # Bird를 상속받은 Penguin 클래스\\n    def __init__(self):\\n        # call super() function\\n        super().__init__() # 부모 클래스 super()\\n        print(\"Penguin is ready\")\\n\\n    def whoisThis(self): # Bird클래스의 whoisThis를 오버라이딩 해줌.\\n        print(\"Penguin\")\\n\\n    def run(self): # 원래 없던 run()메소드를 추가해줌.\\n        print(\"Run faster\")',\n",
       "  'peggy = Penguin() # super().__init__()으로 인해서 부모 클래스의 생성자에 있는 것을 출력 먼저 해주고 Penguin is ready를 출력해줌\\npeggy.whoisThis()\\npeggy.swim()\\n# peggy.run()',\n",
       "  'class Penguin(Bird): # Bird를 상속받은 Penguin 클래스\\n    def __init__(self):\\n        # call super() function\\n        super(Bird).__init__() # 부모 클래스 super()\\n        # super() -> same as super(__class__, <first argument>)\\n        # super(type) -> unbound super object\\n        # super(type, obj) -> bound super object; requires isinstance(obj, type)\\n        # super(type, type2) -> bound super object; requires issubclass(type2, type)\\n        \\n        #다중상속기능을 제공하기때문에 여러 타입을 받을 수 있게 했다.\\n        print(\"Penguin is ready\")\\n        \\n\\n#     def whoisThis(self):\\n#         print(\"Penguin\")\\n\\n    def run(self):\\n        print(\"Run faster\")',\n",
       "  'peggy = Penguin() # super().__init__()으로 인해서 부모 클래스의 생성자에 있는 것을 출력 먼저 해주고 Penguin is ready를 출력해줌\\npeggy.whoisThis()\\npeggy.swim()\\n# peggy.run()',\n",
       "  'class Penguin(Bird): # Bird를 상속받은 Penguin 클래스\\n    def __init__(self):\\n        # call super() function\\n        super(Bird).__init__() # 부모 클래스 super()\\n        # super() -> same as super(__class__, <first argument>)\\n        # super(type) -> unbound super object\\n        # super(type, obj) -> bound super object; requires isinstance(obj, type)\\n        # super(type, type2) -> bound super object; requires issubclass(type2, type)\\n        \\n        #다중상속기능을 제공하기때문에 여러 타입을 받을 수 있게 했다.\\n        print(\"Penguin is ready\")\\n        \\n\\n#     def whoisThis(self):\\n#         print(\"Penguin\")\\n\\n    def run(self):\\n        print(\"Run faster\")',\n",
       "  'peggy = Penguin() # super().__init__()으로 인해서 부모 클래스의 생성자에 있는 것을 출력 먼저 해주고 Penguin is ready를 출력해줌\\npeggy.whoisThis()\\npeggy.swim()\\n# peggy.run()',\n",
       "  '# parent class\\nclass Bird: #Java처럼 Object를 기본적으로 상속 받는다 # 파이썬에서도 추상클래스를 지원해준다.\\n#파이썬에서는 클래스가 mutable이기 때문에 자바와 달리 attribute가 없는 상태로 정의 가능\\n    def __init__(self): \\n        print(\"Bird is ready\")\\n\\n    def whoisThis(self):\\n        print(\"Bird\")\\n\\n    def swim(self):\\n        print(\"Swim faster\")\\n\\n# child class\\nclass Penguin(Bird): # Bird를 상속받은 Penguin 클래스\\n    pass\\n#     def __init__(self):\\n#         # call super() function\\n#         super().__init__()\\n#         print(\"Penguin is ready\")\\n\\n#     def whoisThis(self):\\n#         print(\"Penguin\")\\n\\n#     def run(self):\\n#         print(\"Run faster\")',\n",
       "  'class Penguin(Bird): # Bird를 상속받은 Penguin 클래스\\n    def __init__(self):\\n        # call super() function\\n        super(Bird).__init__() # 부모 클래스 super()\\n        # super() -> same as super(__class__, <first argument>)\\n        # super(type) -> unbound super object\\n        # super(type, obj) -> bound super object; requires isinstance(obj, type)\\n        # super(type, type2) -> bound super object; requires issubclass(type2, type)\\n        \\n        #다중상속기능을 제공하기때문에 여러 타입을 받을 수 있게 했다.\\n        print(\"Penguin is ready\")\\n        \\n\\n#     def whoisThis(self):\\n#         print(\"Penguin\")\\n\\n    def run(self):\\n        print(\"Run faster\")',\n",
       "  'peggy = Penguin() # super().__init__()으로 인해서 부모 클래스의 생성자에 있는 것을 출력 먼저 해주고 Penguin is ready를 출력해줌\\npeggy.whoisThis()\\npeggy.swim()\\n# peggy.run()',\n",
       "  'class Penguin(Bird): # Bird를 상속받은 Penguin 클래스\\n    def __init__(self):\\n        # call super() function\\n        super().__init__() # 부모 클래스 super()\\n        # super() -> same as super(__class__, <first argument>)\\n        # super(type) -> unbound super object\\n        # super(type, obj) -> bound super object; requires isinstance(obj, type)\\n        # super(type, type2) -> bound super object; requires issubclass(type2, type)\\n        \\n        #다중상속기능을 제공하기때문에 여러 타입을 받을 수 있게 했다.\\n        print(\"Penguin is ready\")\\n        \\n\\n#     def whoisThis(self):\\n#         print(\"Penguin\")\\n\\n    def run(self):\\n        print(\"Run faster\")',\n",
       "  'peggy = Penguin() # super().__init__()으로 인해서 부모 클래스의 생성자에 있는 것을 출력 먼저 해주고 Penguin is ready를 출력해줌\\npeggy.whoisThis()\\npeggy.swim()\\n# peggy.run()',\n",
       "  'class Penguin(Bird): # Bird를 상속받은 Penguin 클래스\\n    def __init__(self):\\n        # call super() function\\n        super(Bird).__init__() # 부모 클래스 super()\\n        # super() -> same as super(__class__, <first argument>)\\n        # super(type) -> unbound super object\\n        # super(type, obj) -> bound super object; requires isinstance(obj, type)\\n        # super(type, type2) -> bound super object; requires issubclass(type2, type)\\n        \\n        #다중상속기능을 제공하기때문에 여러 타입을 받을 수 있게 했다.\\n        print(\"Penguin is ready\")\\n        \\n\\n#     def whoisThis(self):\\n#         print(\"Penguin\")\\n\\n    def run(self):\\n        print(\"Run faster\")',\n",
       "  'peggy = Penguin() # super().__init__()으로 인해서 부모 클래스의 생성자에 있는 것을 출력 먼저 해주고 Penguin is ready를 출력해줌\\npeggy.whoisThis()\\npeggy.swim()\\n# peggy.run()',\n",
       "  'peggy = Penguin() # super().__init__()으로 인해서 부모 클래스의 생성자에 있는 것을 출력 먼저 해주고 Penguin is ready를 출력해줌\\npeggy.whoisThis()\\npeggy.swim()\\n# peggy.run()',\n",
       "  'class Penguin(Bird): # Bird를 상속받은 Penguin 클래스\\n    def __init__(self):\\n        # call super() function\\n        super(Bird).__init__() # 부모 클래스 super()\\n        # super() -> same as super(__class__, <first argument>)\\n        # super(type) -> unbound(매여있지않은) super object\\n        # super(type, obj) -> bound super object; requires isinstance(obj, type)\\n        # super(type, type2) -> bound super object; requires issubclass(type2, type)\\n        \\n        #다중상속기능을 제공하기때문에 여러 타입을 받을 수 있게 했다.\\n        print(\"Penguin is ready\")\\n        \\n\\n#     def whoisThis(self):\\n#         print(\"Penguin\")\\n\\n    def run(self):\\n        print(\"Run faster\")',\n",
       "  'peggy = Penguin() # super().__init__()으로 인해서 부모 클래스의 생성자에 있는 것을 출력 먼저 해주고 Penguin is ready를 출력해줌\\npeggy.whoisThis()\\npeggy.swim()\\n# peggy.run()',\n",
       "  '# Penguin.__mro__',\n",
       "  'Penguin.__mro__',\n",
       "  'class Computer:\\n\\n    def __init__(self):\\n        self.__maxprice = 900\\n\\n    def sell(self):\\n        print(\"Selling Price: {}\".format(self.__maxprice))\\n\\n    def setMaxPrice(self, price):\\n        self.__maxprice = price\\n\\nc = Computer()\\nc.sell()\\n\\n# change the price\\nc.__maxprice = 1000 # __을 하면 private으로 접근지정을 해주지만 접근도 되며 값을 바꿀 수도 있다.\\nc.sell()\\n\\n# using setter function\\nc.setMaxPrice(1000)\\nc.sell()',\n",
       "  'class Computer:\\n\\n    def __init__(self):\\n        self.__maxprice = 900\\n\\n    def sell(self):\\n        print(\"Selling Price: {}\".format(self.__maxprice))\\n\\n    def setMaxPrice(self, price):\\n        self.__maxprice = price\\n\\nc = Computer()\\nc.sell()\\n\\n# change the price\\nc.__maxprice = 1000 # __을 하면 private으로 접근지정을 해주지만 접근도 되며 값을 바꿀 수도 있다.\\nc.sell()\\n\\n# using setter function\\nc.setMaxPrice(1000)\\nc.sell()',\n",
       "  'class Computer:\\n\\n    def __init__(self):\\n        self.__maxprice = 900\\n\\n    def sell(self):\\n        print(\"Selling Price: {}\".format(self.__maxprice))\\n\\n    def setMaxPrice(self, price):\\n        self.__maxprice = price\\n\\nc = Computer()\\nc.sell()\\n\\n# change the price\\nc.__maxprice = 1000 # __을 하면 private으로 접근지정을 해주지만 접근도 되며 값을 바꿀 수도 있다.\\nc.sell()\\n\\n# using setter function\\n# c.setMaxPrice(1000)\\n# c.sell()',\n",
       "  'class Computer:\\n\\n    def __init__(self):\\n        self.__maxprice = 900\\n\\n    def sell(self):\\n        print(\"Selling Price: {}\".format(self.__maxprice))\\n\\n    def setMaxPrice(self, price):\\n        self.__maxprice = price\\n\\nc = Computer()\\nc.sell()\\n\\n# change the price\\nc.__maxprice = 1000 # __을 하면 private으로 접근지정을 해주지만 접근도 되며 값을 바꿀 수도 있다.\\nc.__maxprice\\n\\n# using setter function\\n# c.setMaxPrice(1000)\\n# c.sell()',\n",
       "  'class Computer:\\n\\n    def __init__(self):\\n        self.__maxprice = 900\\n\\n    def sell(self):\\n        print(\"Selling Price: {}\".format(self.__maxprice))\\n\\n    def setMaxPrice(self, price):\\n        self.__maxprice = price\\n\\nc = Computer()\\nc.sell()\\n\\n# change the price\\nc.__maxprice = 1000 # __을 하면 private으로 접근지정을 해주지만 접근도 되며 값을 바꿀 수도 있다.\\nc.sell()\\n\\n# using setter function\\n# c.setMaxPrice(1000)\\n# c.sell()',\n",
       "  'class Computer:\\n\\n    def __init__(self):\\n        self.__maxprice = 900\\n\\n    def sell(self):\\n        print(\"Selling Price: {}\".format(self.__maxprice))\\n\\n    def setMaxPrice(self, price):\\n        self.__maxprice = price\\n\\nc = Computer()\\nc.sell()\\n\\n# change the price\\nc.__maxprice = 1000 # __을 하면 private으로 접근지정을 해주지만 접근도 되며 값을 바꿀 수도 있다.\\nc.sell()\\n\\n# using setter function\\nc.setMaxPrice(1000)\\nc.sell()',\n",
       "  'vars(c)',\n",
       "  'class Computer:\\n\\n    def __init__(self):\\n        self.__maxprice = 900\\n\\n    def sell(self):\\n        print(\"Selling Price: {}\".format(self.__maxprice))\\n\\n    def setMaxPrice(self, price):\\n        self.__maxprice = price\\n\\nc = Computer()\\nc.sell()\\n\\n# change the price\\nc.__maxprice = 1000 # __을 하면 private으로 접근지정을 해주지만 접근도 되며 값을 바꿀 수도 있다.\\nc.sell()\\n\\nprint(vars(c))\\n# using setter function\\nc.setMaxPrice(1000)\\nc.sell()',\n",
       "  'class Computer:\\n\\n    def __init__(self):\\n        self.__maxprice = 900\\n\\n    def sell(self):\\n        print(\"Selling Price: {}\".format(self.__maxprice))\\n\\n    def setMaxPrice(self, price):\\n        self.__maxprice = price\\n\\nc = Computer()\\nc.sell()\\nprint(vars(c))\\n\\n# change the price\\nc.__maxprice = 1000 # __을 하면 private으로 접근지정을 해주지만 접근도 되며 값을 바꿀 수도 있다.\\nc.sell()\\n\\nprint(vars(c))\\n\\n# using setter function\\nc.setMaxPrice(1000)\\nc.sell()\\nprint(vars(c))',\n",
       "  'vars(c)',\n",
       "  'dir() #dir에 인자를 안넣을 경우 현재 namespace 내에 저장된 모든 것들을 보여준다. (ipython계열에서만...) ',\n",
       "  'locals() #local 영역에 선언된 값들을 리턴'],\n",
       " '_ii': 'vars(c)',\n",
       " '_iii': 'class Computer:\\n\\n    def __init__(self):\\n        self.__maxprice = 900\\n\\n    def sell(self):\\n        print(\"Selling Price: {}\".format(self.__maxprice))\\n\\n    def setMaxPrice(self, price):\\n        self.__maxprice = price\\n\\nc = Computer()\\nc.sell()\\nprint(vars(c))\\n\\n# change the price\\nc.__maxprice = 1000 # __을 하면 private으로 접근지정을 해주지만 접근도 되며 값을 바꿀 수도 있다.\\nc.sell()\\n\\nprint(vars(c))\\n\\n# using setter function\\nc.setMaxPrice(1000)\\nc.sell()\\nprint(vars(c))',\n",
       " '_oh': {4: __main__.Parrot,\n",
       "  5: type,\n",
       "  6: ['__class__',\n",
       "   '__delattr__',\n",
       "   '__dict__',\n",
       "   '__dir__',\n",
       "   '__doc__',\n",
       "   '__eq__',\n",
       "   '__format__',\n",
       "   '__ge__',\n",
       "   '__getattribute__',\n",
       "   '__gt__',\n",
       "   '__hash__',\n",
       "   '__init__',\n",
       "   '__init_subclass__',\n",
       "   '__le__',\n",
       "   '__lt__',\n",
       "   '__module__',\n",
       "   '__ne__',\n",
       "   '__new__',\n",
       "   '__reduce__',\n",
       "   '__reduce_ex__',\n",
       "   '__repr__',\n",
       "   '__setattr__',\n",
       "   '__sizeof__',\n",
       "   '__str__',\n",
       "   '__subclasshook__',\n",
       "   '__weakref__',\n",
       "   'age',\n",
       "   'name',\n",
       "   'species'],\n",
       "  7: {'age': 10, 'name': 'Blu', 'species': 'bird2'},\n",
       "  8: {'age': 10, 'name': 'Blu', 'species': 'bird2'},\n",
       "  10: {'age': 10, 'name': 'Blu', 'species': 'bird2'},\n",
       "  11: {'age': 10, 'name': 'Blu', 'species': 'bird2'},\n",
       "  12: ['__class__',\n",
       "   '__delattr__',\n",
       "   '__dict__',\n",
       "   '__dir__',\n",
       "   '__doc__',\n",
       "   '__eq__',\n",
       "   '__format__',\n",
       "   '__ge__',\n",
       "   '__getattribute__',\n",
       "   '__gt__',\n",
       "   '__hash__',\n",
       "   '__init__',\n",
       "   '__init_subclass__',\n",
       "   '__le__',\n",
       "   '__lt__',\n",
       "   '__module__',\n",
       "   '__ne__',\n",
       "   '__new__',\n",
       "   '__reduce__',\n",
       "   '__reduce_ex__',\n",
       "   '__repr__',\n",
       "   '__setattr__',\n",
       "   '__sizeof__',\n",
       "   '__str__',\n",
       "   '__subclasshook__',\n",
       "   '__weakref__',\n",
       "   'age',\n",
       "   'name',\n",
       "   'species'],\n",
       "  13: 'bird',\n",
       "  14: {'age': 15, 'name': 'Woo'},\n",
       "  15: 'bird2',\n",
       "  16: 'bird',\n",
       "  23: {'age': 30, 'name': '조보아', 'species': 'bird2'},\n",
       "  24: {'age': 30, 'name': '조보아', 'species': 'bird2'},\n",
       "  25: 'bird',\n",
       "  27: 'bird2',\n",
       "  28: 'bird2',\n",
       "  30: 'bird',\n",
       "  31: __main__.Parrot,\n",
       "  37: '조보아 sings 노래',\n",
       "  52: '조보아 sings 노래',\n",
       "  53: '조보아 sings 노래',\n",
       "  54: '조보아 sings 노래',\n",
       "  57: '조보아 is now dancing',\n",
       "  59: '짹짹이 sings 서시',\n",
       "  60: '짹짹이 sings 서시',\n",
       "  62: '짹짹이 sings 서시',\n",
       "  63: '짹짹이 sings 서시',\n",
       "  66: 'sun is now dancing',\n",
       "  67: ' is now dancing2',\n",
       "  68: ' is now dancing2',\n",
       "  69: ' is now dancing2',\n",
       "  72: ['__class__',\n",
       "   '__delattr__',\n",
       "   '__dict__',\n",
       "   '__dir__',\n",
       "   '__doc__',\n",
       "   '__eq__',\n",
       "   '__format__',\n",
       "   '__ge__',\n",
       "   '__getattribute__',\n",
       "   '__gt__',\n",
       "   '__hash__',\n",
       "   '__init__',\n",
       "   '__init_subclass__',\n",
       "   '__le__',\n",
       "   '__lt__',\n",
       "   '__module__',\n",
       "   '__ne__',\n",
       "   '__new__',\n",
       "   '__reduce__',\n",
       "   '__reduce_ex__',\n",
       "   '__repr__',\n",
       "   '__setattr__',\n",
       "   '__sizeof__',\n",
       "   '__str__',\n",
       "   '__subclasshook__',\n",
       "   '__weakref__',\n",
       "   'swim',\n",
       "   'whoisThis'],\n",
       "  77: ['__class__',\n",
       "   '__delattr__',\n",
       "   '__dict__',\n",
       "   '__dir__',\n",
       "   '__doc__',\n",
       "   '__eq__',\n",
       "   '__format__',\n",
       "   '__ge__',\n",
       "   '__getattribute__',\n",
       "   '__gt__',\n",
       "   '__hash__',\n",
       "   '__init__',\n",
       "   '__init_subclass__',\n",
       "   '__le__',\n",
       "   '__lt__',\n",
       "   '__module__',\n",
       "   '__ne__',\n",
       "   '__new__',\n",
       "   '__reduce__',\n",
       "   '__reduce_ex__',\n",
       "   '__repr__',\n",
       "   '__setattr__',\n",
       "   '__sizeof__',\n",
       "   '__str__',\n",
       "   '__subclasshook__',\n",
       "   '__weakref__',\n",
       "   'run',\n",
       "   'swim',\n",
       "   'whoisThis'],\n",
       "  97: (__main__.Penguin, __main__.Bird, object),\n",
       "  101: 1000,\n",
       "  104: {'_Computer__maxprice': 1000, '__maxprice': 1000},\n",
       "  107: {'_Computer__maxprice': 1000, '__maxprice': 1000},\n",
       "  108: ['Bird',\n",
       "   'Computer',\n",
       "   'In',\n",
       "   'Out',\n",
       "   'Parrot',\n",
       "   'Penguin',\n",
       "   '_',\n",
       "   '_10',\n",
       "   '_101',\n",
       "   '_104',\n",
       "   '_107',\n",
       "   '_11',\n",
       "   '_12',\n",
       "   '_13',\n",
       "   '_14',\n",
       "   '_15',\n",
       "   '_16',\n",
       "   '_23',\n",
       "   '_24',\n",
       "   '_25',\n",
       "   '_27',\n",
       "   '_28',\n",
       "   '_30',\n",
       "   '_31',\n",
       "   '_37',\n",
       "   '_4',\n",
       "   '_5',\n",
       "   '_52',\n",
       "   '_53',\n",
       "   '_54',\n",
       "   '_57',\n",
       "   '_59',\n",
       "   '_6',\n",
       "   '_60',\n",
       "   '_62',\n",
       "   '_63',\n",
       "   '_66',\n",
       "   '_67',\n",
       "   '_68',\n",
       "   '_69',\n",
       "   '_7',\n",
       "   '_72',\n",
       "   '_77',\n",
       "   '_8',\n",
       "   '_97',\n",
       "   '__',\n",
       "   '___',\n",
       "   '__builtin__',\n",
       "   '__builtins__',\n",
       "   '__doc__',\n",
       "   '__loader__',\n",
       "   '__name__',\n",
       "   '__package__',\n",
       "   '__spec__',\n",
       "   '_dh',\n",
       "   '_i',\n",
       "   '_i1',\n",
       "   '_i10',\n",
       "   '_i100',\n",
       "   '_i101',\n",
       "   '_i102',\n",
       "   '_i103',\n",
       "   '_i104',\n",
       "   '_i105',\n",
       "   '_i106',\n",
       "   '_i107',\n",
       "   '_i108',\n",
       "   '_i11',\n",
       "   '_i12',\n",
       "   '_i13',\n",
       "   '_i14',\n",
       "   '_i15',\n",
       "   '_i16',\n",
       "   '_i17',\n",
       "   '_i18',\n",
       "   '_i19',\n",
       "   '_i2',\n",
       "   '_i20',\n",
       "   '_i21',\n",
       "   '_i22',\n",
       "   '_i23',\n",
       "   '_i24',\n",
       "   '_i25',\n",
       "   '_i26',\n",
       "   '_i27',\n",
       "   '_i28',\n",
       "   '_i29',\n",
       "   '_i3',\n",
       "   '_i30',\n",
       "   '_i31',\n",
       "   '_i32',\n",
       "   '_i33',\n",
       "   '_i34',\n",
       "   '_i35',\n",
       "   '_i36',\n",
       "   '_i37',\n",
       "   '_i38',\n",
       "   '_i39',\n",
       "   '_i4',\n",
       "   '_i40',\n",
       "   '_i41',\n",
       "   '_i42',\n",
       "   '_i43',\n",
       "   '_i44',\n",
       "   '_i45',\n",
       "   '_i46',\n",
       "   '_i47',\n",
       "   '_i48',\n",
       "   '_i49',\n",
       "   '_i5',\n",
       "   '_i50',\n",
       "   '_i51',\n",
       "   '_i52',\n",
       "   '_i53',\n",
       "   '_i54',\n",
       "   '_i55',\n",
       "   '_i56',\n",
       "   '_i57',\n",
       "   '_i58',\n",
       "   '_i59',\n",
       "   '_i6',\n",
       "   '_i60',\n",
       "   '_i61',\n",
       "   '_i62',\n",
       "   '_i63',\n",
       "   '_i64',\n",
       "   '_i65',\n",
       "   '_i66',\n",
       "   '_i67',\n",
       "   '_i68',\n",
       "   '_i69',\n",
       "   '_i7',\n",
       "   '_i70',\n",
       "   '_i71',\n",
       "   '_i72',\n",
       "   '_i73',\n",
       "   '_i74',\n",
       "   '_i75',\n",
       "   '_i76',\n",
       "   '_i77',\n",
       "   '_i78',\n",
       "   '_i79',\n",
       "   '_i8',\n",
       "   '_i80',\n",
       "   '_i81',\n",
       "   '_i82',\n",
       "   '_i83',\n",
       "   '_i84',\n",
       "   '_i85',\n",
       "   '_i86',\n",
       "   '_i87',\n",
       "   '_i88',\n",
       "   '_i89',\n",
       "   '_i9',\n",
       "   '_i90',\n",
       "   '_i91',\n",
       "   '_i92',\n",
       "   '_i93',\n",
       "   '_i94',\n",
       "   '_i95',\n",
       "   '_i96',\n",
       "   '_i97',\n",
       "   '_i98',\n",
       "   '_i99',\n",
       "   '_ih',\n",
       "   '_ii',\n",
       "   '_iii',\n",
       "   '_oh',\n",
       "   'a',\n",
       "   'blu',\n",
       "   'c',\n",
       "   'exit',\n",
       "   'get_ipython',\n",
       "   'peggy',\n",
       "   'quit',\n",
       "   'woo',\n",
       "   '앵무새',\n",
       "   '조보아']},\n",
       " 'a': <__main__.Parrot at 0x291b44f1320>,\n",
       " 'blu': <__main__.Parrot at 0x291b4494908>,\n",
       " 'c': <__main__.Computer at 0x291b4571c18>,\n",
       " 'exit': <IPython.core.autocall.ZMQExitAutocall at 0x291b3321390>,\n",
       " 'get_ipython': <bound method InteractiveShell.get_ipython of <ipykernel.zmqshell.ZMQInteractiveShell object at 0x00000291B32C2AC8>>,\n",
       " 'peggy': <__main__.Penguin at 0x291b44f1860>,\n",
       " 'quit': <IPython.core.autocall.ZMQExitAutocall at 0x291b3321390>,\n",
       " 'woo': <__main__.Parrot at 0x291b445d080>,\n",
       " '앵무새': <__main__.Parrot at 0x291b4487a20>,\n",
       " '조보아': <__main__.Parrot at 0x291b44878d0>}"
      ]
     },
     "execution_count": 109,
     "metadata": {},
     "output_type": "execute_result"
    }
   ],
   "source": [
    "locals() #local 영역에 선언된 값들을 리턴"
   ]
  },
  {
   "cell_type": "code",
   "execution_count": 110,
   "metadata": {},
   "outputs": [
    {
     "data": {
      "text/plain": [
       "{'Bird': __main__.Bird,\n",
       " 'Computer': __main__.Computer,\n",
       " 'In': ['',\n",
       "  'blu.__dict__ #여기도 instance attribute만 나온다',\n",
       "  'class Parrot:\\n\\n    # class attribute\\n    species = \"bird\"\\n\\n    # instance attribute\\n    def __init__(self, name, age):\\n        self.name = name\\n        self.age = age',\n",
       "  '# instantiate the Parrot class\\nblu = Parrot(\"Blu\", 10) #인스턴스화할 때 생성자에서 name, age 2가지를 받는다.\\nwoo = Parrot(\"Woo\", 15)',\n",
       "  'type(blu) #__main__ 현재 작업하고 있는 것에서 클래스 이름이 나온다',\n",
       "  'type(Parrot) #type쳐서 type이 나오면 class이다',\n",
       "  'dir(blu)',\n",
       "  'vars(blu) # attribute 중에 species 가 안 나온다. \\n\\n#age, name의 경우 인스턴스 attribute이다 \\n#species의 경우 클래스 attribute이다',\n",
       "  'blu.__dict__ #여기도 instance attribute만 나온다',\n",
       "  \"blu.species = 'bird2'\",\n",
       "  'blu.__dict__ # 재할당시에 다시 species가 나온다',\n",
       "  'blu.__dict__ # 재할당을 할 경우에 다시 species가 나온다',\n",
       "  'dir(woo)',\n",
       "  'woo.species\\n# instance attribute는 생성될 때 자신이 갖고 있는 것이다. \\n# class attribute는 Java에서의 static과 비슷함',\n",
       "  'vars(woo)',\n",
       "  'blu.species #재할당되면서 class attribute가 instance attribute로 바뀜',\n",
       "  'woo.species',\n",
       "  'Parrot.name #instance attrbute\\n#instance가 생성되어야 사용할 수 있다.',\n",
       "  'print(\"Blu is a {}\".format(blu.species)) # {} 부분을 뒤의 .format의 형태로 print해주는 것이다',\n",
       "  'print(\"Blu is a {}\".format(blu.__class__.species)) # {} 부분을 뒤의 .format의 형태로 print해주는 것이다',\n",
       "  'print(\"Blu is a {}\".format(blu.__class__)) # {} 부분을 뒤의 .format의 형태로 print해주는 것이다',\n",
       "  '# access the class attributes\\nprint(\"Blu is a {}\".format(blu.__class__.species)) # {} 부분을 뒤의 .format의 형태로 print해주는 것이다\\nprint(\"Woo is also a {}\".format(woo.__class__.species))\\n\\n# access the instance attributes\\nprint(\"{} is {} years old\".format( blu.name, blu.age))\\nprint(\"{} is {} years old\".format( woo.name, woo.age))\\n\\n## Methods',\n",
       "  \"조보아 = Parrot('조보아', 30)\",\n",
       "  'vars(조보아)',\n",
       "  'vars(조보아)',\n",
       "  '조보아.species',\n",
       "  \"조보아.species = 'bird2'\",\n",
       "  '조보아.species #여기의 species는 instance attrbute가 된다.(다만 class attribute는 남아있다.) ->  instance attribute가 우선 순위를 가짐',\n",
       "  '조보아.species #여기의 species는 instance attrbute가 된다.(다만 class attribute는 남아있다.) ->  instance attribute가 우선 순위를 가짐',\n",
       "  '문근영.__class__.species #여기는 class attribute에 대해 명시해서 가져옴',\n",
       "  '조보아.__class__.species #여기는 class attribute에 대해 명시해서 가져옴',\n",
       "  '조보아.__class__ #instance의 타입을 쳤을 때랑 똑같이 출력된다',\n",
       "  'class Parrot:\\n    \\n    # instance attributes\\n    def __init__(self, name, age):\\n        self.name = name\\n        self.age = age\\n    \\n    # instance method\\n    def sing(self, song):\\n        return \"{} sings {}\".format(self.name, song)\\n\\n    def dance(self):\\n        return \"{} is now dancing\".format(self.name)\\n\\n# instantiate the object\\nblu = Parrot(\"Blu\", 10)\\n\\n# call our instance methods\\nprint(blu.sing(\"\\'Happy\\'\"))\\nprint(blu.dance())',\n",
       "  'class Parrot:\\n    \\n    # instance attributes\\n    def __init__(me, name, age): #self 대신 딴거 넣어도 상관없다.\\n        me.name = name\\n        me.age = age\\n    \\n    # instance method\\n    def sing(me, song):\\n        return \"{} sings {}\".format(me.name, song)\\n\\n    def dance(me):\\n        return \"{} is now dancing\".format(me.name)\\n\\n# instantiate the object\\nblu = Parrot(\"Blu\", 10)\\n\\n# call our instance methods\\nprint(blu.sing(\"\\'Happy\\'\"))\\nprint(blu.dance())',\n",
       "  \"Parrot.sing(조보아,'노래')\\n조보아.sing('노래')\",\n",
       "  'class Parrot:\\n    \\n    # instance attributes\\n    def __init__(me, name, age): #self 대신 딴거 넣어도 상관없다.\\n        me.name = name\\n        me.age = age\\n    # 여기서 일부러 self를 me로 바꾸어보았다.\\n    \\n    # instance method\\n    def sing(me, song):\\n        return \"{} sings {}\".format(me.name, song)\\n\\n    def dance(me):\\n        return \"{} is now dancing\".format(me.name)\\n\\n# instantiate the object\\nblu = Parrot(\"Blu\", 10)\\n\\n# call our instance methods\\nprint(blu.sing(\"\\'Happy\\'\"))\\nprint(blu.dance())',\n",
       "  \"Parrot.sing(조보아,'노래')\\n조보아.sing('노래')\",\n",
       "  \"Parrot.sing(조보아,'노래')\\n#조보아.sing('노래')\",\n",
       "  \"Parrot.sing(조보아,'노래')\\n조보아.sing('노래')\",\n",
       "  \"Parrot.sing(보아,'노래')\\n보아.sing('노래')\",\n",
       "  \"조보아 = Parrot.sing(조보아,'노래')\\n조보아.sing('노래')\",\n",
       "  'class Parrot:\\n    \\n    # instance attributes\\n    def __init__(self, name, age):\\n        self.name = name\\n        self.age = age\\n    \\n    # instance method\\n    def sing(self, song):\\n        return \"{} sings {}\".format(self.name, song)\\n\\n    def dance(self):\\n        return \"{} is now dancing\".format(self.name)\\n\\n# instantiate the object\\nblu = Parrot(\"Blu\", 10)\\n\\n# call our instance methods\\nprint(blu.sing(\"\\'Happy\\'\"))\\nprint(blu.dance())',\n",
       "  'class Parrot:\\n    \\n    # instance attributes\\n    def __init__(me, name, age): #self 대신 딴거 넣어도 상관없다.\\n        me.name = name\\n        me.age = age\\n    # 여기서 일부러 self를 me로 바꾸어보았다.\\n    \\n    # instance method\\n    def sing(me, song):\\n        return \"{} sings {}\".format(me.name, song)\\n\\n    def dance(me):\\n        return \"{} is now dancing\".format(me.name)\\n\\n# instantiate the object\\nblu = Parrot(\"Blu\", 10)\\n\\n# call our instance methods\\nprint(blu.sing(\"\\'Happy\\'\"))\\nprint(blu.dance())',\n",
       "  \"Parrot.sing(조보아,'노래')\\n조보아.sing('노래')\",\n",
       "  \"Parrot.sing(조보아,'노래')\\n조보아.sing('노래')\",\n",
       "  \"Parrot.sing(보아,'노래')\\n보아.sing('노래')\",\n",
       "  \"Parrot.sing(보아,'노래')\\n# 보아.sing('노래')\",\n",
       "  \"Parrot.sing(조보아,'노래')\\n# 보아.sing('노래')\",\n",
       "  \"Parrot.sing(조보아,'노래')\\n조보아.sing('노래')\",\n",
       "  'class Parrot:\\n    \\n    # instance attributes\\n    def __init__(me, name, age): #self 대신 딴거 넣어도 상관없다.\\n        me.name = name\\n        me.age = age\\n    # 여기서 일부러 self를 me로 바꾸어보았다.\\n    \\n    # instance method\\n    def sing(me, song):\\n        return \"{} sings {}\".format(me.name, song)\\n\\n    def dance(me):\\n        return \"{} is now dancing\".format(me.name)\\n\\n# instantiate the object\\nblu = Parrot(\"Blu\", 10)\\n\\n# call our instance methods\\nprint(blu.sing(\"\\'Happy\\'\"))\\nprint(blu.dance())',\n",
       "  \"Parrot.sing(조보아,'노래')\\n조보아.sing('노래')\",\n",
       "  \"조보아 = Parrot('조보아', 30)\\n# 현재 name = '조보아', age = 30을 가지는 Parrot type instance 조보아를 생성했다.\",\n",
       "  \"Parrot.sing(조보아,'노래')\\n조보아.sing('노래')\",\n",
       "  \"Parrot.sing(조보아,'노래')\\n# 조보아.sing('노래')\",\n",
       "  \"Parrot.sing(조보아,'노래')\\n조보아.sing('노래')\",\n",
       "  'class Parrot:\\n    \\n    # instance attributes\\n    def __init__(self, name, age):\\n        self.name = name\\n        self.age = age\\n    \\n    # instance method\\n    def sing(self, song):\\n        return \"{} sings {}\".format(self.name, song)\\n\\n    def dance(self):\\n        return \"{} is now dancing\".format(self.name)\\n\\n# instantiate the object\\nblu = Parrot(\"Blu\", 10)\\n\\n# call our instance methods\\nprint(blu.sing(\"\\'Happy\\'\"))\\nprint(blu.dance())',\n",
       "  'class Parrot:\\n    \\n    # instance attributes\\n    def __init__(self, name, age):\\n        self.name = name\\n        self.age = age\\n    \\n    # instance method\\n    def sing(self, song):\\n        return \"{} sings {}\".format(self.name, song)\\n\\n    def dance(self):\\n        return \"{} is now dancing\".format(self.name)\\n\\n# instantiate the object\\nblu = Parrot(\"Blu\", 10)\\n\\n# call our instance methods\\nprint(blu.sing(\"\\'Happy\\'\"))\\nprint(blu.dance())',\n",
       "  '조보아.dance()',\n",
       "  '앵무새 = Parrot(\"짹짹이\", 15)',\n",
       "  '앵무새.sing(\"서시\")',\n",
       "  'Parrot.sing(앵무새,\"서시\")',\n",
       "  'class Parrot:\\n    \\n    # instance attributes\\n    def __init__(self, name, age):\\n        self.name = name\\n        self.age = age\\n    \\n    # instance method\\n    def sing(self, song):\\n        return \"{} sings {}\".format(self.name, song)\\n\\n    def dance(self):\\n        return \"{} is now dancing\".format(self.name)\\n    \\n    @classmethod #decoration (=Java의 annotation)\\n    def dance2(cls): #클래스 메소드의 정의\\n        return \" is now dancing2\"',\n",
       "  '앵무새.sing(\"서시\") # instance method call',\n",
       "  'Parrot.sing(앵무새,\"서시\")',\n",
       "  'class Parrot:\\n    \\n    # instance attributes\\n    def __init__(self, name, age):\\n        self.name = name\\n        self.age = age\\n    \\n    # instance method\\n    def sing(self, song):\\n        return \"{} sings {}\".format(self.name, song)\\n\\n    def dance(self):\\n        return \"{} is now dancing\".format(self.name)\\n    \\n    @classmethod #decoration (=Java의 annotation)\\n    def dance2(cls): #클래스 메소드의 정의\\n        return \" is now dancing2\"',\n",
       "  \"a = Parrot('sun', 42)\",\n",
       "  'Parrot.dance(a)\\na.dance()',\n",
       "  'Parrot.dance2() #클래스 메소드는 클래스 이름을 대고 실행을 해야한다!!!',\n",
       "  'a.__class__.dance2() # 위와 같은 방식이다',\n",
       "  'a.dance2()',\n",
       "  '# parent class\\nclass Bird: #Java처럼 Object를 기본적으로 상속 받는다 # 파이썬에서도 추상클래스를 지원해준다.\\n#파이썬에서는 클래스가 mutable이기 때문에 자바와 달리 attribute가 없는 상태로 정의 가능\\n    def __init__(self): \\n        print(\"Bird is ready\")\\n\\n    def whoisThis(self):\\n        print(\"Bird\")\\n\\n    def swim(self):\\n        print(\"Swim faster\")\\n\\n# child class\\nclass Penguin(Bird): # Bird를 상속받은 Penguin 클래스\\n    pass\\n#     def __init__(self):\\n#         # call super() function\\n#         super().__init__()\\n#         print(\"Penguin is ready\")\\n\\n#     def whoisThis(self):\\n#         print(\"Penguin\")\\n\\n#     def run(self):\\n#         print(\"Run faster\")',\n",
       "  'peggy = Penguin()\\npeggy.whoisThis()\\npeggy.swim()\\npeggy.run()',\n",
       "  'dir(Penguin) #Bird를 상속받은 Penguin은 Bird상의 swim()과 whoisThis()를 갖고 있다.',\n",
       "  'peggy = Penguin()\\npeggy.whoisThis()\\npeggy.swim()\\n# peggy.run()',\n",
       "  'class Penguin(Bird): # Bird를 상속받은 Penguin 클래스\\n    def swim(self):\\n        print(\"I can\\'t swim\")',\n",
       "  'peggy = Penguin()\\npeggy.whoisThis()\\npeggy.swim()\\n# peggy.run()',\n",
       "  'class Penguin(Bird): # Bird를 상속받은 Penguin 클래스\\n    def swim(self):\\n        print(\"I can\\'t swim\")\\n    def run(self):\\n        print(\"Run faster\")',\n",
       "  'dir(Penguin)',\n",
       "  'class Penguin(Bird): # Bird를 상속받은 Penguin 클래스\\n    def __init__(self):\\n        # call super() function\\n        super().__init__() # 부모 클래스 super()\\n        print(\"Penguin is ready\")\\n\\n    def whoisThis(self): # Bird클래스의 whoisThis를 오버라이딩 해줌.\\n        print(\"Penguin\")\\n\\n    def run(self): # 원래 없던 run()메소드를 추가해줌.\\n        print(\"Run faster\")',\n",
       "  'peggy = Penguin() # super().__init__()으로 인해서 부모 클래스의 생성자에 있는 것을 출력 먼저 해주고 Penguin is ready를 출력해줌\\npeggy.whoisThis()\\npeggy.swim()\\n# peggy.run()',\n",
       "  'class Penguin(Bird): # Bird를 상속받은 Penguin 클래스\\n    def __init__(self):\\n        # call super() function\\n        super().__init__() # 부모 클래스 super()\\n        print(\"Penguin is ready\")\\n\\n    def whoisThis(self): # Bird클래스의 whoisThis를 오버라이딩 해줌.\\n        print(\"Penguin\")\\n\\n    def run(self): # 원래 없던 run()메소드를 추가해줌.\\n        print(\"Run faster\")',\n",
       "  'peggy = Penguin() # super().__init__()으로 인해서 부모 클래스의 생성자에 있는 것을 출력 먼저 해주고 Penguin is ready를 출력해줌\\npeggy.whoisThis()\\npeggy.swim()\\n# peggy.run()',\n",
       "  'class Penguin(Bird): # Bird를 상속받은 Penguin 클래스\\n    def __init__(self):\\n        # call super() function\\n        super(Bird).__init__() # 부모 클래스 super()\\n        # super() -> same as super(__class__, <first argument>)\\n        # super(type) -> unbound super object\\n        # super(type, obj) -> bound super object; requires isinstance(obj, type)\\n        # super(type, type2) -> bound super object; requires issubclass(type2, type)\\n        \\n        #다중상속기능을 제공하기때문에 여러 타입을 받을 수 있게 했다.\\n        print(\"Penguin is ready\")\\n        \\n\\n#     def whoisThis(self):\\n#         print(\"Penguin\")\\n\\n    def run(self):\\n        print(\"Run faster\")',\n",
       "  'peggy = Penguin() # super().__init__()으로 인해서 부모 클래스의 생성자에 있는 것을 출력 먼저 해주고 Penguin is ready를 출력해줌\\npeggy.whoisThis()\\npeggy.swim()\\n# peggy.run()',\n",
       "  'class Penguin(Bird): # Bird를 상속받은 Penguin 클래스\\n    def __init__(self):\\n        # call super() function\\n        super(Bird).__init__() # 부모 클래스 super()\\n        # super() -> same as super(__class__, <first argument>)\\n        # super(type) -> unbound super object\\n        # super(type, obj) -> bound super object; requires isinstance(obj, type)\\n        # super(type, type2) -> bound super object; requires issubclass(type2, type)\\n        \\n        #다중상속기능을 제공하기때문에 여러 타입을 받을 수 있게 했다.\\n        print(\"Penguin is ready\")\\n        \\n\\n#     def whoisThis(self):\\n#         print(\"Penguin\")\\n\\n    def run(self):\\n        print(\"Run faster\")',\n",
       "  'peggy = Penguin() # super().__init__()으로 인해서 부모 클래스의 생성자에 있는 것을 출력 먼저 해주고 Penguin is ready를 출력해줌\\npeggy.whoisThis()\\npeggy.swim()\\n# peggy.run()',\n",
       "  '# parent class\\nclass Bird: #Java처럼 Object를 기본적으로 상속 받는다 # 파이썬에서도 추상클래스를 지원해준다.\\n#파이썬에서는 클래스가 mutable이기 때문에 자바와 달리 attribute가 없는 상태로 정의 가능\\n    def __init__(self): \\n        print(\"Bird is ready\")\\n\\n    def whoisThis(self):\\n        print(\"Bird\")\\n\\n    def swim(self):\\n        print(\"Swim faster\")\\n\\n# child class\\nclass Penguin(Bird): # Bird를 상속받은 Penguin 클래스\\n    pass\\n#     def __init__(self):\\n#         # call super() function\\n#         super().__init__()\\n#         print(\"Penguin is ready\")\\n\\n#     def whoisThis(self):\\n#         print(\"Penguin\")\\n\\n#     def run(self):\\n#         print(\"Run faster\")',\n",
       "  'class Penguin(Bird): # Bird를 상속받은 Penguin 클래스\\n    def __init__(self):\\n        # call super() function\\n        super(Bird).__init__() # 부모 클래스 super()\\n        # super() -> same as super(__class__, <first argument>)\\n        # super(type) -> unbound super object\\n        # super(type, obj) -> bound super object; requires isinstance(obj, type)\\n        # super(type, type2) -> bound super object; requires issubclass(type2, type)\\n        \\n        #다중상속기능을 제공하기때문에 여러 타입을 받을 수 있게 했다.\\n        print(\"Penguin is ready\")\\n        \\n\\n#     def whoisThis(self):\\n#         print(\"Penguin\")\\n\\n    def run(self):\\n        print(\"Run faster\")',\n",
       "  'peggy = Penguin() # super().__init__()으로 인해서 부모 클래스의 생성자에 있는 것을 출력 먼저 해주고 Penguin is ready를 출력해줌\\npeggy.whoisThis()\\npeggy.swim()\\n# peggy.run()',\n",
       "  'class Penguin(Bird): # Bird를 상속받은 Penguin 클래스\\n    def __init__(self):\\n        # call super() function\\n        super().__init__() # 부모 클래스 super()\\n        # super() -> same as super(__class__, <first argument>)\\n        # super(type) -> unbound super object\\n        # super(type, obj) -> bound super object; requires isinstance(obj, type)\\n        # super(type, type2) -> bound super object; requires issubclass(type2, type)\\n        \\n        #다중상속기능을 제공하기때문에 여러 타입을 받을 수 있게 했다.\\n        print(\"Penguin is ready\")\\n        \\n\\n#     def whoisThis(self):\\n#         print(\"Penguin\")\\n\\n    def run(self):\\n        print(\"Run faster\")',\n",
       "  'peggy = Penguin() # super().__init__()으로 인해서 부모 클래스의 생성자에 있는 것을 출력 먼저 해주고 Penguin is ready를 출력해줌\\npeggy.whoisThis()\\npeggy.swim()\\n# peggy.run()',\n",
       "  'class Penguin(Bird): # Bird를 상속받은 Penguin 클래스\\n    def __init__(self):\\n        # call super() function\\n        super(Bird).__init__() # 부모 클래스 super()\\n        # super() -> same as super(__class__, <first argument>)\\n        # super(type) -> unbound super object\\n        # super(type, obj) -> bound super object; requires isinstance(obj, type)\\n        # super(type, type2) -> bound super object; requires issubclass(type2, type)\\n        \\n        #다중상속기능을 제공하기때문에 여러 타입을 받을 수 있게 했다.\\n        print(\"Penguin is ready\")\\n        \\n\\n#     def whoisThis(self):\\n#         print(\"Penguin\")\\n\\n    def run(self):\\n        print(\"Run faster\")',\n",
       "  'peggy = Penguin() # super().__init__()으로 인해서 부모 클래스의 생성자에 있는 것을 출력 먼저 해주고 Penguin is ready를 출력해줌\\npeggy.whoisThis()\\npeggy.swim()\\n# peggy.run()',\n",
       "  'peggy = Penguin() # super().__init__()으로 인해서 부모 클래스의 생성자에 있는 것을 출력 먼저 해주고 Penguin is ready를 출력해줌\\npeggy.whoisThis()\\npeggy.swim()\\n# peggy.run()',\n",
       "  'class Penguin(Bird): # Bird를 상속받은 Penguin 클래스\\n    def __init__(self):\\n        # call super() function\\n        super(Bird).__init__() # 부모 클래스 super()\\n        # super() -> same as super(__class__, <first argument>)\\n        # super(type) -> unbound(매여있지않은) super object\\n        # super(type, obj) -> bound super object; requires isinstance(obj, type)\\n        # super(type, type2) -> bound super object; requires issubclass(type2, type)\\n        \\n        #다중상속기능을 제공하기때문에 여러 타입을 받을 수 있게 했다.\\n        print(\"Penguin is ready\")\\n        \\n\\n#     def whoisThis(self):\\n#         print(\"Penguin\")\\n\\n    def run(self):\\n        print(\"Run faster\")',\n",
       "  'peggy = Penguin() # super().__init__()으로 인해서 부모 클래스의 생성자에 있는 것을 출력 먼저 해주고 Penguin is ready를 출력해줌\\npeggy.whoisThis()\\npeggy.swim()\\n# peggy.run()',\n",
       "  '# Penguin.__mro__',\n",
       "  'Penguin.__mro__',\n",
       "  'class Computer:\\n\\n    def __init__(self):\\n        self.__maxprice = 900\\n\\n    def sell(self):\\n        print(\"Selling Price: {}\".format(self.__maxprice))\\n\\n    def setMaxPrice(self, price):\\n        self.__maxprice = price\\n\\nc = Computer()\\nc.sell()\\n\\n# change the price\\nc.__maxprice = 1000 # __을 하면 private으로 접근지정을 해주지만 접근도 되며 값을 바꿀 수도 있다.\\nc.sell()\\n\\n# using setter function\\nc.setMaxPrice(1000)\\nc.sell()',\n",
       "  'class Computer:\\n\\n    def __init__(self):\\n        self.__maxprice = 900\\n\\n    def sell(self):\\n        print(\"Selling Price: {}\".format(self.__maxprice))\\n\\n    def setMaxPrice(self, price):\\n        self.__maxprice = price\\n\\nc = Computer()\\nc.sell()\\n\\n# change the price\\nc.__maxprice = 1000 # __을 하면 private으로 접근지정을 해주지만 접근도 되며 값을 바꿀 수도 있다.\\nc.sell()\\n\\n# using setter function\\nc.setMaxPrice(1000)\\nc.sell()',\n",
       "  'class Computer:\\n\\n    def __init__(self):\\n        self.__maxprice = 900\\n\\n    def sell(self):\\n        print(\"Selling Price: {}\".format(self.__maxprice))\\n\\n    def setMaxPrice(self, price):\\n        self.__maxprice = price\\n\\nc = Computer()\\nc.sell()\\n\\n# change the price\\nc.__maxprice = 1000 # __을 하면 private으로 접근지정을 해주지만 접근도 되며 값을 바꿀 수도 있다.\\nc.sell()\\n\\n# using setter function\\n# c.setMaxPrice(1000)\\n# c.sell()',\n",
       "  'class Computer:\\n\\n    def __init__(self):\\n        self.__maxprice = 900\\n\\n    def sell(self):\\n        print(\"Selling Price: {}\".format(self.__maxprice))\\n\\n    def setMaxPrice(self, price):\\n        self.__maxprice = price\\n\\nc = Computer()\\nc.sell()\\n\\n# change the price\\nc.__maxprice = 1000 # __을 하면 private으로 접근지정을 해주지만 접근도 되며 값을 바꿀 수도 있다.\\nc.__maxprice\\n\\n# using setter function\\n# c.setMaxPrice(1000)\\n# c.sell()',\n",
       "  'class Computer:\\n\\n    def __init__(self):\\n        self.__maxprice = 900\\n\\n    def sell(self):\\n        print(\"Selling Price: {}\".format(self.__maxprice))\\n\\n    def setMaxPrice(self, price):\\n        self.__maxprice = price\\n\\nc = Computer()\\nc.sell()\\n\\n# change the price\\nc.__maxprice = 1000 # __을 하면 private으로 접근지정을 해주지만 접근도 되며 값을 바꿀 수도 있다.\\nc.sell()\\n\\n# using setter function\\n# c.setMaxPrice(1000)\\n# c.sell()',\n",
       "  'class Computer:\\n\\n    def __init__(self):\\n        self.__maxprice = 900\\n\\n    def sell(self):\\n        print(\"Selling Price: {}\".format(self.__maxprice))\\n\\n    def setMaxPrice(self, price):\\n        self.__maxprice = price\\n\\nc = Computer()\\nc.sell()\\n\\n# change the price\\nc.__maxprice = 1000 # __을 하면 private으로 접근지정을 해주지만 접근도 되며 값을 바꿀 수도 있다.\\nc.sell()\\n\\n# using setter function\\nc.setMaxPrice(1000)\\nc.sell()',\n",
       "  'vars(c)',\n",
       "  'class Computer:\\n\\n    def __init__(self):\\n        self.__maxprice = 900\\n\\n    def sell(self):\\n        print(\"Selling Price: {}\".format(self.__maxprice))\\n\\n    def setMaxPrice(self, price):\\n        self.__maxprice = price\\n\\nc = Computer()\\nc.sell()\\n\\n# change the price\\nc.__maxprice = 1000 # __을 하면 private으로 접근지정을 해주지만 접근도 되며 값을 바꿀 수도 있다.\\nc.sell()\\n\\nprint(vars(c))\\n# using setter function\\nc.setMaxPrice(1000)\\nc.sell()',\n",
       "  'class Computer:\\n\\n    def __init__(self):\\n        self.__maxprice = 900\\n\\n    def sell(self):\\n        print(\"Selling Price: {}\".format(self.__maxprice))\\n\\n    def setMaxPrice(self, price):\\n        self.__maxprice = price\\n\\nc = Computer()\\nc.sell()\\nprint(vars(c))\\n\\n# change the price\\nc.__maxprice = 1000 # __을 하면 private으로 접근지정을 해주지만 접근도 되며 값을 바꿀 수도 있다.\\nc.sell()\\n\\nprint(vars(c))\\n\\n# using setter function\\nc.setMaxPrice(1000)\\nc.sell()\\nprint(vars(c))',\n",
       "  'vars(c)',\n",
       "  'dir() #dir에 인자를 안넣을 경우 현재 namespace 내에 저장된 모든 것들을 보여준다. (ipython계열에서만...) ',\n",
       "  'locals() #local 영역에 선언된 값들을 리턴',\n",
       "  'globals() #global 영역에 선언된 값들 리턴'],\n",
       " 'Out': {4: __main__.Parrot,\n",
       "  5: type,\n",
       "  6: ['__class__',\n",
       "   '__delattr__',\n",
       "   '__dict__',\n",
       "   '__dir__',\n",
       "   '__doc__',\n",
       "   '__eq__',\n",
       "   '__format__',\n",
       "   '__ge__',\n",
       "   '__getattribute__',\n",
       "   '__gt__',\n",
       "   '__hash__',\n",
       "   '__init__',\n",
       "   '__init_subclass__',\n",
       "   '__le__',\n",
       "   '__lt__',\n",
       "   '__module__',\n",
       "   '__ne__',\n",
       "   '__new__',\n",
       "   '__reduce__',\n",
       "   '__reduce_ex__',\n",
       "   '__repr__',\n",
       "   '__setattr__',\n",
       "   '__sizeof__',\n",
       "   '__str__',\n",
       "   '__subclasshook__',\n",
       "   '__weakref__',\n",
       "   'age',\n",
       "   'name',\n",
       "   'species'],\n",
       "  7: {'age': 10, 'name': 'Blu', 'species': 'bird2'},\n",
       "  8: {'age': 10, 'name': 'Blu', 'species': 'bird2'},\n",
       "  10: {'age': 10, 'name': 'Blu', 'species': 'bird2'},\n",
       "  11: {'age': 10, 'name': 'Blu', 'species': 'bird2'},\n",
       "  12: ['__class__',\n",
       "   '__delattr__',\n",
       "   '__dict__',\n",
       "   '__dir__',\n",
       "   '__doc__',\n",
       "   '__eq__',\n",
       "   '__format__',\n",
       "   '__ge__',\n",
       "   '__getattribute__',\n",
       "   '__gt__',\n",
       "   '__hash__',\n",
       "   '__init__',\n",
       "   '__init_subclass__',\n",
       "   '__le__',\n",
       "   '__lt__',\n",
       "   '__module__',\n",
       "   '__ne__',\n",
       "   '__new__',\n",
       "   '__reduce__',\n",
       "   '__reduce_ex__',\n",
       "   '__repr__',\n",
       "   '__setattr__',\n",
       "   '__sizeof__',\n",
       "   '__str__',\n",
       "   '__subclasshook__',\n",
       "   '__weakref__',\n",
       "   'age',\n",
       "   'name',\n",
       "   'species'],\n",
       "  13: 'bird',\n",
       "  14: {'age': 15, 'name': 'Woo'},\n",
       "  15: 'bird2',\n",
       "  16: 'bird',\n",
       "  23: {'age': 30, 'name': '조보아', 'species': 'bird2'},\n",
       "  24: {'age': 30, 'name': '조보아', 'species': 'bird2'},\n",
       "  25: 'bird',\n",
       "  27: 'bird2',\n",
       "  28: 'bird2',\n",
       "  30: 'bird',\n",
       "  31: __main__.Parrot,\n",
       "  37: '조보아 sings 노래',\n",
       "  52: '조보아 sings 노래',\n",
       "  53: '조보아 sings 노래',\n",
       "  54: '조보아 sings 노래',\n",
       "  57: '조보아 is now dancing',\n",
       "  59: '짹짹이 sings 서시',\n",
       "  60: '짹짹이 sings 서시',\n",
       "  62: '짹짹이 sings 서시',\n",
       "  63: '짹짹이 sings 서시',\n",
       "  66: 'sun is now dancing',\n",
       "  67: ' is now dancing2',\n",
       "  68: ' is now dancing2',\n",
       "  69: ' is now dancing2',\n",
       "  72: ['__class__',\n",
       "   '__delattr__',\n",
       "   '__dict__',\n",
       "   '__dir__',\n",
       "   '__doc__',\n",
       "   '__eq__',\n",
       "   '__format__',\n",
       "   '__ge__',\n",
       "   '__getattribute__',\n",
       "   '__gt__',\n",
       "   '__hash__',\n",
       "   '__init__',\n",
       "   '__init_subclass__',\n",
       "   '__le__',\n",
       "   '__lt__',\n",
       "   '__module__',\n",
       "   '__ne__',\n",
       "   '__new__',\n",
       "   '__reduce__',\n",
       "   '__reduce_ex__',\n",
       "   '__repr__',\n",
       "   '__setattr__',\n",
       "   '__sizeof__',\n",
       "   '__str__',\n",
       "   '__subclasshook__',\n",
       "   '__weakref__',\n",
       "   'swim',\n",
       "   'whoisThis'],\n",
       "  77: ['__class__',\n",
       "   '__delattr__',\n",
       "   '__dict__',\n",
       "   '__dir__',\n",
       "   '__doc__',\n",
       "   '__eq__',\n",
       "   '__format__',\n",
       "   '__ge__',\n",
       "   '__getattribute__',\n",
       "   '__gt__',\n",
       "   '__hash__',\n",
       "   '__init__',\n",
       "   '__init_subclass__',\n",
       "   '__le__',\n",
       "   '__lt__',\n",
       "   '__module__',\n",
       "   '__ne__',\n",
       "   '__new__',\n",
       "   '__reduce__',\n",
       "   '__reduce_ex__',\n",
       "   '__repr__',\n",
       "   '__setattr__',\n",
       "   '__sizeof__',\n",
       "   '__str__',\n",
       "   '__subclasshook__',\n",
       "   '__weakref__',\n",
       "   'run',\n",
       "   'swim',\n",
       "   'whoisThis'],\n",
       "  97: (__main__.Penguin, __main__.Bird, object),\n",
       "  101: 1000,\n",
       "  104: {'_Computer__maxprice': 1000, '__maxprice': 1000},\n",
       "  107: {'_Computer__maxprice': 1000, '__maxprice': 1000},\n",
       "  108: ['Bird',\n",
       "   'Computer',\n",
       "   'In',\n",
       "   'Out',\n",
       "   'Parrot',\n",
       "   'Penguin',\n",
       "   '_',\n",
       "   '_10',\n",
       "   '_101',\n",
       "   '_104',\n",
       "   '_107',\n",
       "   '_11',\n",
       "   '_12',\n",
       "   '_13',\n",
       "   '_14',\n",
       "   '_15',\n",
       "   '_16',\n",
       "   '_23',\n",
       "   '_24',\n",
       "   '_25',\n",
       "   '_27',\n",
       "   '_28',\n",
       "   '_30',\n",
       "   '_31',\n",
       "   '_37',\n",
       "   '_4',\n",
       "   '_5',\n",
       "   '_52',\n",
       "   '_53',\n",
       "   '_54',\n",
       "   '_57',\n",
       "   '_59',\n",
       "   '_6',\n",
       "   '_60',\n",
       "   '_62',\n",
       "   '_63',\n",
       "   '_66',\n",
       "   '_67',\n",
       "   '_68',\n",
       "   '_69',\n",
       "   '_7',\n",
       "   '_72',\n",
       "   '_77',\n",
       "   '_8',\n",
       "   '_97',\n",
       "   '__',\n",
       "   '___',\n",
       "   '__builtin__',\n",
       "   '__builtins__',\n",
       "   '__doc__',\n",
       "   '__loader__',\n",
       "   '__name__',\n",
       "   '__package__',\n",
       "   '__spec__',\n",
       "   '_dh',\n",
       "   '_i',\n",
       "   '_i1',\n",
       "   '_i10',\n",
       "   '_i100',\n",
       "   '_i101',\n",
       "   '_i102',\n",
       "   '_i103',\n",
       "   '_i104',\n",
       "   '_i105',\n",
       "   '_i106',\n",
       "   '_i107',\n",
       "   '_i108',\n",
       "   '_i11',\n",
       "   '_i12',\n",
       "   '_i13',\n",
       "   '_i14',\n",
       "   '_i15',\n",
       "   '_i16',\n",
       "   '_i17',\n",
       "   '_i18',\n",
       "   '_i19',\n",
       "   '_i2',\n",
       "   '_i20',\n",
       "   '_i21',\n",
       "   '_i22',\n",
       "   '_i23',\n",
       "   '_i24',\n",
       "   '_i25',\n",
       "   '_i26',\n",
       "   '_i27',\n",
       "   '_i28',\n",
       "   '_i29',\n",
       "   '_i3',\n",
       "   '_i30',\n",
       "   '_i31',\n",
       "   '_i32',\n",
       "   '_i33',\n",
       "   '_i34',\n",
       "   '_i35',\n",
       "   '_i36',\n",
       "   '_i37',\n",
       "   '_i38',\n",
       "   '_i39',\n",
       "   '_i4',\n",
       "   '_i40',\n",
       "   '_i41',\n",
       "   '_i42',\n",
       "   '_i43',\n",
       "   '_i44',\n",
       "   '_i45',\n",
       "   '_i46',\n",
       "   '_i47',\n",
       "   '_i48',\n",
       "   '_i49',\n",
       "   '_i5',\n",
       "   '_i50',\n",
       "   '_i51',\n",
       "   '_i52',\n",
       "   '_i53',\n",
       "   '_i54',\n",
       "   '_i55',\n",
       "   '_i56',\n",
       "   '_i57',\n",
       "   '_i58',\n",
       "   '_i59',\n",
       "   '_i6',\n",
       "   '_i60',\n",
       "   '_i61',\n",
       "   '_i62',\n",
       "   '_i63',\n",
       "   '_i64',\n",
       "   '_i65',\n",
       "   '_i66',\n",
       "   '_i67',\n",
       "   '_i68',\n",
       "   '_i69',\n",
       "   '_i7',\n",
       "   '_i70',\n",
       "   '_i71',\n",
       "   '_i72',\n",
       "   '_i73',\n",
       "   '_i74',\n",
       "   '_i75',\n",
       "   '_i76',\n",
       "   '_i77',\n",
       "   '_i78',\n",
       "   '_i79',\n",
       "   '_i8',\n",
       "   '_i80',\n",
       "   '_i81',\n",
       "   '_i82',\n",
       "   '_i83',\n",
       "   '_i84',\n",
       "   '_i85',\n",
       "   '_i86',\n",
       "   '_i87',\n",
       "   '_i88',\n",
       "   '_i89',\n",
       "   '_i9',\n",
       "   '_i90',\n",
       "   '_i91',\n",
       "   '_i92',\n",
       "   '_i93',\n",
       "   '_i94',\n",
       "   '_i95',\n",
       "   '_i96',\n",
       "   '_i97',\n",
       "   '_i98',\n",
       "   '_i99',\n",
       "   '_ih',\n",
       "   '_ii',\n",
       "   '_iii',\n",
       "   '_oh',\n",
       "   'a',\n",
       "   'blu',\n",
       "   'c',\n",
       "   'exit',\n",
       "   'get_ipython',\n",
       "   'peggy',\n",
       "   'quit',\n",
       "   'woo',\n",
       "   '앵무새',\n",
       "   '조보아'],\n",
       "  109: {...}},\n",
       " 'Parrot': __main__.Parrot,\n",
       " 'Penguin': __main__.Penguin,\n",
       " '_': {...},\n",
       " '_10': {'age': 10, 'name': 'Blu', 'species': 'bird2'},\n",
       " '_101': 1000,\n",
       " '_104': {'_Computer__maxprice': 1000, '__maxprice': 1000},\n",
       " '_107': {'_Computer__maxprice': 1000, '__maxprice': 1000},\n",
       " '_108': ['Bird',\n",
       "  'Computer',\n",
       "  'In',\n",
       "  'Out',\n",
       "  'Parrot',\n",
       "  'Penguin',\n",
       "  '_',\n",
       "  '_10',\n",
       "  '_101',\n",
       "  '_104',\n",
       "  '_107',\n",
       "  '_11',\n",
       "  '_12',\n",
       "  '_13',\n",
       "  '_14',\n",
       "  '_15',\n",
       "  '_16',\n",
       "  '_23',\n",
       "  '_24',\n",
       "  '_25',\n",
       "  '_27',\n",
       "  '_28',\n",
       "  '_30',\n",
       "  '_31',\n",
       "  '_37',\n",
       "  '_4',\n",
       "  '_5',\n",
       "  '_52',\n",
       "  '_53',\n",
       "  '_54',\n",
       "  '_57',\n",
       "  '_59',\n",
       "  '_6',\n",
       "  '_60',\n",
       "  '_62',\n",
       "  '_63',\n",
       "  '_66',\n",
       "  '_67',\n",
       "  '_68',\n",
       "  '_69',\n",
       "  '_7',\n",
       "  '_72',\n",
       "  '_77',\n",
       "  '_8',\n",
       "  '_97',\n",
       "  '__',\n",
       "  '___',\n",
       "  '__builtin__',\n",
       "  '__builtins__',\n",
       "  '__doc__',\n",
       "  '__loader__',\n",
       "  '__name__',\n",
       "  '__package__',\n",
       "  '__spec__',\n",
       "  '_dh',\n",
       "  '_i',\n",
       "  '_i1',\n",
       "  '_i10',\n",
       "  '_i100',\n",
       "  '_i101',\n",
       "  '_i102',\n",
       "  '_i103',\n",
       "  '_i104',\n",
       "  '_i105',\n",
       "  '_i106',\n",
       "  '_i107',\n",
       "  '_i108',\n",
       "  '_i11',\n",
       "  '_i12',\n",
       "  '_i13',\n",
       "  '_i14',\n",
       "  '_i15',\n",
       "  '_i16',\n",
       "  '_i17',\n",
       "  '_i18',\n",
       "  '_i19',\n",
       "  '_i2',\n",
       "  '_i20',\n",
       "  '_i21',\n",
       "  '_i22',\n",
       "  '_i23',\n",
       "  '_i24',\n",
       "  '_i25',\n",
       "  '_i26',\n",
       "  '_i27',\n",
       "  '_i28',\n",
       "  '_i29',\n",
       "  '_i3',\n",
       "  '_i30',\n",
       "  '_i31',\n",
       "  '_i32',\n",
       "  '_i33',\n",
       "  '_i34',\n",
       "  '_i35',\n",
       "  '_i36',\n",
       "  '_i37',\n",
       "  '_i38',\n",
       "  '_i39',\n",
       "  '_i4',\n",
       "  '_i40',\n",
       "  '_i41',\n",
       "  '_i42',\n",
       "  '_i43',\n",
       "  '_i44',\n",
       "  '_i45',\n",
       "  '_i46',\n",
       "  '_i47',\n",
       "  '_i48',\n",
       "  '_i49',\n",
       "  '_i5',\n",
       "  '_i50',\n",
       "  '_i51',\n",
       "  '_i52',\n",
       "  '_i53',\n",
       "  '_i54',\n",
       "  '_i55',\n",
       "  '_i56',\n",
       "  '_i57',\n",
       "  '_i58',\n",
       "  '_i59',\n",
       "  '_i6',\n",
       "  '_i60',\n",
       "  '_i61',\n",
       "  '_i62',\n",
       "  '_i63',\n",
       "  '_i64',\n",
       "  '_i65',\n",
       "  '_i66',\n",
       "  '_i67',\n",
       "  '_i68',\n",
       "  '_i69',\n",
       "  '_i7',\n",
       "  '_i70',\n",
       "  '_i71',\n",
       "  '_i72',\n",
       "  '_i73',\n",
       "  '_i74',\n",
       "  '_i75',\n",
       "  '_i76',\n",
       "  '_i77',\n",
       "  '_i78',\n",
       "  '_i79',\n",
       "  '_i8',\n",
       "  '_i80',\n",
       "  '_i81',\n",
       "  '_i82',\n",
       "  '_i83',\n",
       "  '_i84',\n",
       "  '_i85',\n",
       "  '_i86',\n",
       "  '_i87',\n",
       "  '_i88',\n",
       "  '_i89',\n",
       "  '_i9',\n",
       "  '_i90',\n",
       "  '_i91',\n",
       "  '_i92',\n",
       "  '_i93',\n",
       "  '_i94',\n",
       "  '_i95',\n",
       "  '_i96',\n",
       "  '_i97',\n",
       "  '_i98',\n",
       "  '_i99',\n",
       "  '_ih',\n",
       "  '_ii',\n",
       "  '_iii',\n",
       "  '_oh',\n",
       "  'a',\n",
       "  'blu',\n",
       "  'c',\n",
       "  'exit',\n",
       "  'get_ipython',\n",
       "  'peggy',\n",
       "  'quit',\n",
       "  'woo',\n",
       "  '앵무새',\n",
       "  '조보아'],\n",
       " '_109': {...},\n",
       " '_11': {'age': 10, 'name': 'Blu', 'species': 'bird2'},\n",
       " '_12': ['__class__',\n",
       "  '__delattr__',\n",
       "  '__dict__',\n",
       "  '__dir__',\n",
       "  '__doc__',\n",
       "  '__eq__',\n",
       "  '__format__',\n",
       "  '__ge__',\n",
       "  '__getattribute__',\n",
       "  '__gt__',\n",
       "  '__hash__',\n",
       "  '__init__',\n",
       "  '__init_subclass__',\n",
       "  '__le__',\n",
       "  '__lt__',\n",
       "  '__module__',\n",
       "  '__ne__',\n",
       "  '__new__',\n",
       "  '__reduce__',\n",
       "  '__reduce_ex__',\n",
       "  '__repr__',\n",
       "  '__setattr__',\n",
       "  '__sizeof__',\n",
       "  '__str__',\n",
       "  '__subclasshook__',\n",
       "  '__weakref__',\n",
       "  'age',\n",
       "  'name',\n",
       "  'species'],\n",
       " '_13': 'bird',\n",
       " '_14': {'age': 15, 'name': 'Woo'},\n",
       " '_15': 'bird2',\n",
       " '_16': 'bird',\n",
       " '_23': {'age': 30, 'name': '조보아', 'species': 'bird2'},\n",
       " '_24': {'age': 30, 'name': '조보아', 'species': 'bird2'},\n",
       " '_25': 'bird',\n",
       " '_27': 'bird2',\n",
       " '_28': 'bird2',\n",
       " '_30': 'bird',\n",
       " '_31': __main__.Parrot,\n",
       " '_37': '조보아 sings 노래',\n",
       " '_4': __main__.Parrot,\n",
       " '_5': type,\n",
       " '_52': '조보아 sings 노래',\n",
       " '_53': '조보아 sings 노래',\n",
       " '_54': '조보아 sings 노래',\n",
       " '_57': '조보아 is now dancing',\n",
       " '_59': '짹짹이 sings 서시',\n",
       " '_6': ['__class__',\n",
       "  '__delattr__',\n",
       "  '__dict__',\n",
       "  '__dir__',\n",
       "  '__doc__',\n",
       "  '__eq__',\n",
       "  '__format__',\n",
       "  '__ge__',\n",
       "  '__getattribute__',\n",
       "  '__gt__',\n",
       "  '__hash__',\n",
       "  '__init__',\n",
       "  '__init_subclass__',\n",
       "  '__le__',\n",
       "  '__lt__',\n",
       "  '__module__',\n",
       "  '__ne__',\n",
       "  '__new__',\n",
       "  '__reduce__',\n",
       "  '__reduce_ex__',\n",
       "  '__repr__',\n",
       "  '__setattr__',\n",
       "  '__sizeof__',\n",
       "  '__str__',\n",
       "  '__subclasshook__',\n",
       "  '__weakref__',\n",
       "  'age',\n",
       "  'name',\n",
       "  'species'],\n",
       " '_60': '짹짹이 sings 서시',\n",
       " '_62': '짹짹이 sings 서시',\n",
       " '_63': '짹짹이 sings 서시',\n",
       " '_66': 'sun is now dancing',\n",
       " '_67': ' is now dancing2',\n",
       " '_68': ' is now dancing2',\n",
       " '_69': ' is now dancing2',\n",
       " '_7': {'age': 10, 'name': 'Blu', 'species': 'bird2'},\n",
       " '_72': ['__class__',\n",
       "  '__delattr__',\n",
       "  '__dict__',\n",
       "  '__dir__',\n",
       "  '__doc__',\n",
       "  '__eq__',\n",
       "  '__format__',\n",
       "  '__ge__',\n",
       "  '__getattribute__',\n",
       "  '__gt__',\n",
       "  '__hash__',\n",
       "  '__init__',\n",
       "  '__init_subclass__',\n",
       "  '__le__',\n",
       "  '__lt__',\n",
       "  '__module__',\n",
       "  '__ne__',\n",
       "  '__new__',\n",
       "  '__reduce__',\n",
       "  '__reduce_ex__',\n",
       "  '__repr__',\n",
       "  '__setattr__',\n",
       "  '__sizeof__',\n",
       "  '__str__',\n",
       "  '__subclasshook__',\n",
       "  '__weakref__',\n",
       "  'swim',\n",
       "  'whoisThis'],\n",
       " '_77': ['__class__',\n",
       "  '__delattr__',\n",
       "  '__dict__',\n",
       "  '__dir__',\n",
       "  '__doc__',\n",
       "  '__eq__',\n",
       "  '__format__',\n",
       "  '__ge__',\n",
       "  '__getattribute__',\n",
       "  '__gt__',\n",
       "  '__hash__',\n",
       "  '__init__',\n",
       "  '__init_subclass__',\n",
       "  '__le__',\n",
       "  '__lt__',\n",
       "  '__module__',\n",
       "  '__ne__',\n",
       "  '__new__',\n",
       "  '__reduce__',\n",
       "  '__reduce_ex__',\n",
       "  '__repr__',\n",
       "  '__setattr__',\n",
       "  '__sizeof__',\n",
       "  '__str__',\n",
       "  '__subclasshook__',\n",
       "  '__weakref__',\n",
       "  'run',\n",
       "  'swim',\n",
       "  'whoisThis'],\n",
       " '_8': {'age': 10, 'name': 'Blu', 'species': 'bird2'},\n",
       " '_97': (__main__.Penguin, __main__.Bird, object),\n",
       " '__': ['Bird',\n",
       "  'Computer',\n",
       "  'In',\n",
       "  'Out',\n",
       "  'Parrot',\n",
       "  'Penguin',\n",
       "  '_',\n",
       "  '_10',\n",
       "  '_101',\n",
       "  '_104',\n",
       "  '_107',\n",
       "  '_11',\n",
       "  '_12',\n",
       "  '_13',\n",
       "  '_14',\n",
       "  '_15',\n",
       "  '_16',\n",
       "  '_23',\n",
       "  '_24',\n",
       "  '_25',\n",
       "  '_27',\n",
       "  '_28',\n",
       "  '_30',\n",
       "  '_31',\n",
       "  '_37',\n",
       "  '_4',\n",
       "  '_5',\n",
       "  '_52',\n",
       "  '_53',\n",
       "  '_54',\n",
       "  '_57',\n",
       "  '_59',\n",
       "  '_6',\n",
       "  '_60',\n",
       "  '_62',\n",
       "  '_63',\n",
       "  '_66',\n",
       "  '_67',\n",
       "  '_68',\n",
       "  '_69',\n",
       "  '_7',\n",
       "  '_72',\n",
       "  '_77',\n",
       "  '_8',\n",
       "  '_97',\n",
       "  '__',\n",
       "  '___',\n",
       "  '__builtin__',\n",
       "  '__builtins__',\n",
       "  '__doc__',\n",
       "  '__loader__',\n",
       "  '__name__',\n",
       "  '__package__',\n",
       "  '__spec__',\n",
       "  '_dh',\n",
       "  '_i',\n",
       "  '_i1',\n",
       "  '_i10',\n",
       "  '_i100',\n",
       "  '_i101',\n",
       "  '_i102',\n",
       "  '_i103',\n",
       "  '_i104',\n",
       "  '_i105',\n",
       "  '_i106',\n",
       "  '_i107',\n",
       "  '_i108',\n",
       "  '_i11',\n",
       "  '_i12',\n",
       "  '_i13',\n",
       "  '_i14',\n",
       "  '_i15',\n",
       "  '_i16',\n",
       "  '_i17',\n",
       "  '_i18',\n",
       "  '_i19',\n",
       "  '_i2',\n",
       "  '_i20',\n",
       "  '_i21',\n",
       "  '_i22',\n",
       "  '_i23',\n",
       "  '_i24',\n",
       "  '_i25',\n",
       "  '_i26',\n",
       "  '_i27',\n",
       "  '_i28',\n",
       "  '_i29',\n",
       "  '_i3',\n",
       "  '_i30',\n",
       "  '_i31',\n",
       "  '_i32',\n",
       "  '_i33',\n",
       "  '_i34',\n",
       "  '_i35',\n",
       "  '_i36',\n",
       "  '_i37',\n",
       "  '_i38',\n",
       "  '_i39',\n",
       "  '_i4',\n",
       "  '_i40',\n",
       "  '_i41',\n",
       "  '_i42',\n",
       "  '_i43',\n",
       "  '_i44',\n",
       "  '_i45',\n",
       "  '_i46',\n",
       "  '_i47',\n",
       "  '_i48',\n",
       "  '_i49',\n",
       "  '_i5',\n",
       "  '_i50',\n",
       "  '_i51',\n",
       "  '_i52',\n",
       "  '_i53',\n",
       "  '_i54',\n",
       "  '_i55',\n",
       "  '_i56',\n",
       "  '_i57',\n",
       "  '_i58',\n",
       "  '_i59',\n",
       "  '_i6',\n",
       "  '_i60',\n",
       "  '_i61',\n",
       "  '_i62',\n",
       "  '_i63',\n",
       "  '_i64',\n",
       "  '_i65',\n",
       "  '_i66',\n",
       "  '_i67',\n",
       "  '_i68',\n",
       "  '_i69',\n",
       "  '_i7',\n",
       "  '_i70',\n",
       "  '_i71',\n",
       "  '_i72',\n",
       "  '_i73',\n",
       "  '_i74',\n",
       "  '_i75',\n",
       "  '_i76',\n",
       "  '_i77',\n",
       "  '_i78',\n",
       "  '_i79',\n",
       "  '_i8',\n",
       "  '_i80',\n",
       "  '_i81',\n",
       "  '_i82',\n",
       "  '_i83',\n",
       "  '_i84',\n",
       "  '_i85',\n",
       "  '_i86',\n",
       "  '_i87',\n",
       "  '_i88',\n",
       "  '_i89',\n",
       "  '_i9',\n",
       "  '_i90',\n",
       "  '_i91',\n",
       "  '_i92',\n",
       "  '_i93',\n",
       "  '_i94',\n",
       "  '_i95',\n",
       "  '_i96',\n",
       "  '_i97',\n",
       "  '_i98',\n",
       "  '_i99',\n",
       "  '_ih',\n",
       "  '_ii',\n",
       "  '_iii',\n",
       "  '_oh',\n",
       "  'a',\n",
       "  'blu',\n",
       "  'c',\n",
       "  'exit',\n",
       "  'get_ipython',\n",
       "  'peggy',\n",
       "  'quit',\n",
       "  'woo',\n",
       "  '앵무새',\n",
       "  '조보아'],\n",
       " '___': {'_Computer__maxprice': 1000, '__maxprice': 1000},\n",
       " '__builtin__': <module 'builtins' (built-in)>,\n",
       " '__builtins__': <module 'builtins' (built-in)>,\n",
       " '__doc__': 'Automatically created module for IPython interactive environment',\n",
       " '__loader__': None,\n",
       " '__name__': '__main__',\n",
       " '__package__': None,\n",
       " '__spec__': None,\n",
       " '_dh': ['D:\\\\Study\\\\BigData\\\\JupyterNotebook\\\\Study'],\n",
       " '_i': 'locals() #local 영역에 선언된 값들을 리턴',\n",
       " '_i1': 'blu.__dict__ #여기도 instance attribute만 나온다',\n",
       " '_i10': 'blu.__dict__ # 재할당시에 다시 species가 나온다',\n",
       " '_i100': 'class Computer:\\n\\n    def __init__(self):\\n        self.__maxprice = 900\\n\\n    def sell(self):\\n        print(\"Selling Price: {}\".format(self.__maxprice))\\n\\n    def setMaxPrice(self, price):\\n        self.__maxprice = price\\n\\nc = Computer()\\nc.sell()\\n\\n# change the price\\nc.__maxprice = 1000 # __을 하면 private으로 접근지정을 해주지만 접근도 되며 값을 바꿀 수도 있다.\\nc.sell()\\n\\n# using setter function\\n# c.setMaxPrice(1000)\\n# c.sell()',\n",
       " '_i101': 'class Computer:\\n\\n    def __init__(self):\\n        self.__maxprice = 900\\n\\n    def sell(self):\\n        print(\"Selling Price: {}\".format(self.__maxprice))\\n\\n    def setMaxPrice(self, price):\\n        self.__maxprice = price\\n\\nc = Computer()\\nc.sell()\\n\\n# change the price\\nc.__maxprice = 1000 # __을 하면 private으로 접근지정을 해주지만 접근도 되며 값을 바꿀 수도 있다.\\nc.__maxprice\\n\\n# using setter function\\n# c.setMaxPrice(1000)\\n# c.sell()',\n",
       " '_i102': 'class Computer:\\n\\n    def __init__(self):\\n        self.__maxprice = 900\\n\\n    def sell(self):\\n        print(\"Selling Price: {}\".format(self.__maxprice))\\n\\n    def setMaxPrice(self, price):\\n        self.__maxprice = price\\n\\nc = Computer()\\nc.sell()\\n\\n# change the price\\nc.__maxprice = 1000 # __을 하면 private으로 접근지정을 해주지만 접근도 되며 값을 바꿀 수도 있다.\\nc.sell()\\n\\n# using setter function\\n# c.setMaxPrice(1000)\\n# c.sell()',\n",
       " '_i103': 'class Computer:\\n\\n    def __init__(self):\\n        self.__maxprice = 900\\n\\n    def sell(self):\\n        print(\"Selling Price: {}\".format(self.__maxprice))\\n\\n    def setMaxPrice(self, price):\\n        self.__maxprice = price\\n\\nc = Computer()\\nc.sell()\\n\\n# change the price\\nc.__maxprice = 1000 # __을 하면 private으로 접근지정을 해주지만 접근도 되며 값을 바꿀 수도 있다.\\nc.sell()\\n\\n# using setter function\\nc.setMaxPrice(1000)\\nc.sell()',\n",
       " '_i104': 'vars(c)',\n",
       " '_i105': 'class Computer:\\n\\n    def __init__(self):\\n        self.__maxprice = 900\\n\\n    def sell(self):\\n        print(\"Selling Price: {}\".format(self.__maxprice))\\n\\n    def setMaxPrice(self, price):\\n        self.__maxprice = price\\n\\nc = Computer()\\nc.sell()\\n\\n# change the price\\nc.__maxprice = 1000 # __을 하면 private으로 접근지정을 해주지만 접근도 되며 값을 바꿀 수도 있다.\\nc.sell()\\n\\nprint(vars(c))\\n# using setter function\\nc.setMaxPrice(1000)\\nc.sell()',\n",
       " '_i106': 'class Computer:\\n\\n    def __init__(self):\\n        self.__maxprice = 900\\n\\n    def sell(self):\\n        print(\"Selling Price: {}\".format(self.__maxprice))\\n\\n    def setMaxPrice(self, price):\\n        self.__maxprice = price\\n\\nc = Computer()\\nc.sell()\\nprint(vars(c))\\n\\n# change the price\\nc.__maxprice = 1000 # __을 하면 private으로 접근지정을 해주지만 접근도 되며 값을 바꿀 수도 있다.\\nc.sell()\\n\\nprint(vars(c))\\n\\n# using setter function\\nc.setMaxPrice(1000)\\nc.sell()\\nprint(vars(c))',\n",
       " '_i107': 'vars(c)',\n",
       " '_i108': 'dir() #dir에 인자를 안넣을 경우 현재 namespace 내에 저장된 모든 것들을 보여준다. (ipython계열에서만...) ',\n",
       " '_i109': 'locals() #local 영역에 선언된 값들을 리턴',\n",
       " '_i11': 'blu.__dict__ # 재할당을 할 경우에 다시 species가 나온다',\n",
       " '_i110': 'globals() #global 영역에 선언된 값들 리턴',\n",
       " '_i12': 'dir(woo)',\n",
       " '_i13': 'woo.species\\n# instance attribute는 생성될 때 자신이 갖고 있는 것이다. \\n# class attribute는 Java에서의 static과 비슷함',\n",
       " '_i14': 'vars(woo)',\n",
       " '_i15': 'blu.species #재할당되면서 class attribute가 instance attribute로 바뀜',\n",
       " '_i16': 'woo.species',\n",
       " '_i17': 'Parrot.name #instance attrbute\\n#instance가 생성되어야 사용할 수 있다.',\n",
       " '_i18': 'print(\"Blu is a {}\".format(blu.species)) # {} 부분을 뒤의 .format의 형태로 print해주는 것이다',\n",
       " '_i19': 'print(\"Blu is a {}\".format(blu.__class__.species)) # {} 부분을 뒤의 .format의 형태로 print해주는 것이다',\n",
       " '_i2': 'class Parrot:\\n\\n    # class attribute\\n    species = \"bird\"\\n\\n    # instance attribute\\n    def __init__(self, name, age):\\n        self.name = name\\n        self.age = age',\n",
       " '_i20': 'print(\"Blu is a {}\".format(blu.__class__)) # {} 부분을 뒤의 .format의 형태로 print해주는 것이다',\n",
       " '_i21': '# access the class attributes\\nprint(\"Blu is a {}\".format(blu.__class__.species)) # {} 부분을 뒤의 .format의 형태로 print해주는 것이다\\nprint(\"Woo is also a {}\".format(woo.__class__.species))\\n\\n# access the instance attributes\\nprint(\"{} is {} years old\".format( blu.name, blu.age))\\nprint(\"{} is {} years old\".format( woo.name, woo.age))\\n\\n## Methods',\n",
       " '_i22': \"조보아 = Parrot('조보아', 30)\",\n",
       " '_i23': 'vars(조보아)',\n",
       " '_i24': 'vars(조보아)',\n",
       " '_i25': '조보아.species',\n",
       " '_i26': \"조보아.species = 'bird2'\",\n",
       " '_i27': '조보아.species #여기의 species는 instance attrbute가 된다.(다만 class attribute는 남아있다.) ->  instance attribute가 우선 순위를 가짐',\n",
       " '_i28': '조보아.species #여기의 species는 instance attrbute가 된다.(다만 class attribute는 남아있다.) ->  instance attribute가 우선 순위를 가짐',\n",
       " '_i29': '문근영.__class__.species #여기는 class attribute에 대해 명시해서 가져옴',\n",
       " '_i3': '# instantiate the Parrot class\\nblu = Parrot(\"Blu\", 10) #인스턴스화할 때 생성자에서 name, age 2가지를 받는다.\\nwoo = Parrot(\"Woo\", 15)',\n",
       " '_i30': '조보아.__class__.species #여기는 class attribute에 대해 명시해서 가져옴',\n",
       " '_i31': '조보아.__class__ #instance의 타입을 쳤을 때랑 똑같이 출력된다',\n",
       " '_i32': 'class Parrot:\\n    \\n    # instance attributes\\n    def __init__(self, name, age):\\n        self.name = name\\n        self.age = age\\n    \\n    # instance method\\n    def sing(self, song):\\n        return \"{} sings {}\".format(self.name, song)\\n\\n    def dance(self):\\n        return \"{} is now dancing\".format(self.name)\\n\\n# instantiate the object\\nblu = Parrot(\"Blu\", 10)\\n\\n# call our instance methods\\nprint(blu.sing(\"\\'Happy\\'\"))\\nprint(blu.dance())',\n",
       " '_i33': 'class Parrot:\\n    \\n    # instance attributes\\n    def __init__(me, name, age): #self 대신 딴거 넣어도 상관없다.\\n        me.name = name\\n        me.age = age\\n    \\n    # instance method\\n    def sing(me, song):\\n        return \"{} sings {}\".format(me.name, song)\\n\\n    def dance(me):\\n        return \"{} is now dancing\".format(me.name)\\n\\n# instantiate the object\\nblu = Parrot(\"Blu\", 10)\\n\\n# call our instance methods\\nprint(blu.sing(\"\\'Happy\\'\"))\\nprint(blu.dance())',\n",
       " '_i34': \"Parrot.sing(조보아,'노래')\\n조보아.sing('노래')\",\n",
       " '_i35': 'class Parrot:\\n    \\n    # instance attributes\\n    def __init__(me, name, age): #self 대신 딴거 넣어도 상관없다.\\n        me.name = name\\n        me.age = age\\n    # 여기서 일부러 self를 me로 바꾸어보았다.\\n    \\n    # instance method\\n    def sing(me, song):\\n        return \"{} sings {}\".format(me.name, song)\\n\\n    def dance(me):\\n        return \"{} is now dancing\".format(me.name)\\n\\n# instantiate the object\\nblu = Parrot(\"Blu\", 10)\\n\\n# call our instance methods\\nprint(blu.sing(\"\\'Happy\\'\"))\\nprint(blu.dance())',\n",
       " '_i36': \"Parrot.sing(조보아,'노래')\\n조보아.sing('노래')\",\n",
       " '_i37': \"Parrot.sing(조보아,'노래')\\n#조보아.sing('노래')\",\n",
       " '_i38': \"Parrot.sing(조보아,'노래')\\n조보아.sing('노래')\",\n",
       " '_i39': \"Parrot.sing(보아,'노래')\\n보아.sing('노래')\",\n",
       " '_i4': 'type(blu) #__main__ 현재 작업하고 있는 것에서 클래스 이름이 나온다',\n",
       " '_i40': \"조보아 = Parrot.sing(조보아,'노래')\\n조보아.sing('노래')\",\n",
       " '_i41': 'class Parrot:\\n    \\n    # instance attributes\\n    def __init__(self, name, age):\\n        self.name = name\\n        self.age = age\\n    \\n    # instance method\\n    def sing(self, song):\\n        return \"{} sings {}\".format(self.name, song)\\n\\n    def dance(self):\\n        return \"{} is now dancing\".format(self.name)\\n\\n# instantiate the object\\nblu = Parrot(\"Blu\", 10)\\n\\n# call our instance methods\\nprint(blu.sing(\"\\'Happy\\'\"))\\nprint(blu.dance())',\n",
       " '_i42': 'class Parrot:\\n    \\n    # instance attributes\\n    def __init__(me, name, age): #self 대신 딴거 넣어도 상관없다.\\n        me.name = name\\n        me.age = age\\n    # 여기서 일부러 self를 me로 바꾸어보았다.\\n    \\n    # instance method\\n    def sing(me, song):\\n        return \"{} sings {}\".format(me.name, song)\\n\\n    def dance(me):\\n        return \"{} is now dancing\".format(me.name)\\n\\n# instantiate the object\\nblu = Parrot(\"Blu\", 10)\\n\\n# call our instance methods\\nprint(blu.sing(\"\\'Happy\\'\"))\\nprint(blu.dance())',\n",
       " '_i43': \"Parrot.sing(조보아,'노래')\\n조보아.sing('노래')\",\n",
       " '_i44': \"Parrot.sing(조보아,'노래')\\n조보아.sing('노래')\",\n",
       " '_i45': \"Parrot.sing(보아,'노래')\\n보아.sing('노래')\",\n",
       " '_i46': \"Parrot.sing(보아,'노래')\\n# 보아.sing('노래')\",\n",
       " '_i47': \"Parrot.sing(조보아,'노래')\\n# 보아.sing('노래')\",\n",
       " '_i48': \"Parrot.sing(조보아,'노래')\\n조보아.sing('노래')\",\n",
       " '_i49': 'class Parrot:\\n    \\n    # instance attributes\\n    def __init__(me, name, age): #self 대신 딴거 넣어도 상관없다.\\n        me.name = name\\n        me.age = age\\n    # 여기서 일부러 self를 me로 바꾸어보았다.\\n    \\n    # instance method\\n    def sing(me, song):\\n        return \"{} sings {}\".format(me.name, song)\\n\\n    def dance(me):\\n        return \"{} is now dancing\".format(me.name)\\n\\n# instantiate the object\\nblu = Parrot(\"Blu\", 10)\\n\\n# call our instance methods\\nprint(blu.sing(\"\\'Happy\\'\"))\\nprint(blu.dance())',\n",
       " '_i5': 'type(Parrot) #type쳐서 type이 나오면 class이다',\n",
       " '_i50': \"Parrot.sing(조보아,'노래')\\n조보아.sing('노래')\",\n",
       " '_i51': \"조보아 = Parrot('조보아', 30)\\n# 현재 name = '조보아', age = 30을 가지는 Parrot type instance 조보아를 생성했다.\",\n",
       " '_i52': \"Parrot.sing(조보아,'노래')\\n조보아.sing('노래')\",\n",
       " '_i53': \"Parrot.sing(조보아,'노래')\\n# 조보아.sing('노래')\",\n",
       " '_i54': \"Parrot.sing(조보아,'노래')\\n조보아.sing('노래')\",\n",
       " '_i55': 'class Parrot:\\n    \\n    # instance attributes\\n    def __init__(self, name, age):\\n        self.name = name\\n        self.age = age\\n    \\n    # instance method\\n    def sing(self, song):\\n        return \"{} sings {}\".format(self.name, song)\\n\\n    def dance(self):\\n        return \"{} is now dancing\".format(self.name)\\n\\n# instantiate the object\\nblu = Parrot(\"Blu\", 10)\\n\\n# call our instance methods\\nprint(blu.sing(\"\\'Happy\\'\"))\\nprint(blu.dance())',\n",
       " '_i56': 'class Parrot:\\n    \\n    # instance attributes\\n    def __init__(self, name, age):\\n        self.name = name\\n        self.age = age\\n    \\n    # instance method\\n    def sing(self, song):\\n        return \"{} sings {}\".format(self.name, song)\\n\\n    def dance(self):\\n        return \"{} is now dancing\".format(self.name)\\n\\n# instantiate the object\\nblu = Parrot(\"Blu\", 10)\\n\\n# call our instance methods\\nprint(blu.sing(\"\\'Happy\\'\"))\\nprint(blu.dance())',\n",
       " '_i57': '조보아.dance()',\n",
       " '_i58': '앵무새 = Parrot(\"짹짹이\", 15)',\n",
       " '_i59': '앵무새.sing(\"서시\")',\n",
       " '_i6': 'dir(blu)',\n",
       " '_i60': 'Parrot.sing(앵무새,\"서시\")',\n",
       " '_i61': 'class Parrot:\\n    \\n    # instance attributes\\n    def __init__(self, name, age):\\n        self.name = name\\n        self.age = age\\n    \\n    # instance method\\n    def sing(self, song):\\n        return \"{} sings {}\".format(self.name, song)\\n\\n    def dance(self):\\n        return \"{} is now dancing\".format(self.name)\\n    \\n    @classmethod #decoration (=Java의 annotation)\\n    def dance2(cls): #클래스 메소드의 정의\\n        return \" is now dancing2\"',\n",
       " '_i62': '앵무새.sing(\"서시\") # instance method call',\n",
       " '_i63': 'Parrot.sing(앵무새,\"서시\")',\n",
       " '_i64': 'class Parrot:\\n    \\n    # instance attributes\\n    def __init__(self, name, age):\\n        self.name = name\\n        self.age = age\\n    \\n    # instance method\\n    def sing(self, song):\\n        return \"{} sings {}\".format(self.name, song)\\n\\n    def dance(self):\\n        return \"{} is now dancing\".format(self.name)\\n    \\n    @classmethod #decoration (=Java의 annotation)\\n    def dance2(cls): #클래스 메소드의 정의\\n        return \" is now dancing2\"',\n",
       " '_i65': \"a = Parrot('sun', 42)\",\n",
       " '_i66': 'Parrot.dance(a)\\na.dance()',\n",
       " '_i67': 'Parrot.dance2() #클래스 메소드는 클래스 이름을 대고 실행을 해야한다!!!',\n",
       " '_i68': 'a.__class__.dance2() # 위와 같은 방식이다',\n",
       " '_i69': 'a.dance2()',\n",
       " '_i7': 'vars(blu) # attribute 중에 species 가 안 나온다. \\n\\n#age, name의 경우 인스턴스 attribute이다 \\n#species의 경우 클래스 attribute이다',\n",
       " '_i70': '# parent class\\nclass Bird: #Java처럼 Object를 기본적으로 상속 받는다 # 파이썬에서도 추상클래스를 지원해준다.\\n#파이썬에서는 클래스가 mutable이기 때문에 자바와 달리 attribute가 없는 상태로 정의 가능\\n    def __init__(self): \\n        print(\"Bird is ready\")\\n\\n    def whoisThis(self):\\n        print(\"Bird\")\\n\\n    def swim(self):\\n        print(\"Swim faster\")\\n\\n# child class\\nclass Penguin(Bird): # Bird를 상속받은 Penguin 클래스\\n    pass\\n#     def __init__(self):\\n#         # call super() function\\n#         super().__init__()\\n#         print(\"Penguin is ready\")\\n\\n#     def whoisThis(self):\\n#         print(\"Penguin\")\\n\\n#     def run(self):\\n#         print(\"Run faster\")',\n",
       " '_i71': 'peggy = Penguin()\\npeggy.whoisThis()\\npeggy.swim()\\npeggy.run()',\n",
       " '_i72': 'dir(Penguin) #Bird를 상속받은 Penguin은 Bird상의 swim()과 whoisThis()를 갖고 있다.',\n",
       " '_i73': 'peggy = Penguin()\\npeggy.whoisThis()\\npeggy.swim()\\n# peggy.run()',\n",
       " '_i74': 'class Penguin(Bird): # Bird를 상속받은 Penguin 클래스\\n    def swim(self):\\n        print(\"I can\\'t swim\")',\n",
       " '_i75': 'peggy = Penguin()\\npeggy.whoisThis()\\npeggy.swim()\\n# peggy.run()',\n",
       " '_i76': 'class Penguin(Bird): # Bird를 상속받은 Penguin 클래스\\n    def swim(self):\\n        print(\"I can\\'t swim\")\\n    def run(self):\\n        print(\"Run faster\")',\n",
       " '_i77': 'dir(Penguin)',\n",
       " '_i78': 'class Penguin(Bird): # Bird를 상속받은 Penguin 클래스\\n    def __init__(self):\\n        # call super() function\\n        super().__init__() # 부모 클래스 super()\\n        print(\"Penguin is ready\")\\n\\n    def whoisThis(self): # Bird클래스의 whoisThis를 오버라이딩 해줌.\\n        print(\"Penguin\")\\n\\n    def run(self): # 원래 없던 run()메소드를 추가해줌.\\n        print(\"Run faster\")',\n",
       " '_i79': 'peggy = Penguin() # super().__init__()으로 인해서 부모 클래스의 생성자에 있는 것을 출력 먼저 해주고 Penguin is ready를 출력해줌\\npeggy.whoisThis()\\npeggy.swim()\\n# peggy.run()',\n",
       " '_i8': 'blu.__dict__ #여기도 instance attribute만 나온다',\n",
       " '_i80': 'class Penguin(Bird): # Bird를 상속받은 Penguin 클래스\\n    def __init__(self):\\n        # call super() function\\n        super().__init__() # 부모 클래스 super()\\n        print(\"Penguin is ready\")\\n\\n    def whoisThis(self): # Bird클래스의 whoisThis를 오버라이딩 해줌.\\n        print(\"Penguin\")\\n\\n    def run(self): # 원래 없던 run()메소드를 추가해줌.\\n        print(\"Run faster\")',\n",
       " '_i81': 'peggy = Penguin() # super().__init__()으로 인해서 부모 클래스의 생성자에 있는 것을 출력 먼저 해주고 Penguin is ready를 출력해줌\\npeggy.whoisThis()\\npeggy.swim()\\n# peggy.run()',\n",
       " '_i82': 'class Penguin(Bird): # Bird를 상속받은 Penguin 클래스\\n    def __init__(self):\\n        # call super() function\\n        super(Bird).__init__() # 부모 클래스 super()\\n        # super() -> same as super(__class__, <first argument>)\\n        # super(type) -> unbound super object\\n        # super(type, obj) -> bound super object; requires isinstance(obj, type)\\n        # super(type, type2) -> bound super object; requires issubclass(type2, type)\\n        \\n        #다중상속기능을 제공하기때문에 여러 타입을 받을 수 있게 했다.\\n        print(\"Penguin is ready\")\\n        \\n\\n#     def whoisThis(self):\\n#         print(\"Penguin\")\\n\\n    def run(self):\\n        print(\"Run faster\")',\n",
       " '_i83': 'peggy = Penguin() # super().__init__()으로 인해서 부모 클래스의 생성자에 있는 것을 출력 먼저 해주고 Penguin is ready를 출력해줌\\npeggy.whoisThis()\\npeggy.swim()\\n# peggy.run()',\n",
       " '_i84': 'class Penguin(Bird): # Bird를 상속받은 Penguin 클래스\\n    def __init__(self):\\n        # call super() function\\n        super(Bird).__init__() # 부모 클래스 super()\\n        # super() -> same as super(__class__, <first argument>)\\n        # super(type) -> unbound super object\\n        # super(type, obj) -> bound super object; requires isinstance(obj, type)\\n        # super(type, type2) -> bound super object; requires issubclass(type2, type)\\n        \\n        #다중상속기능을 제공하기때문에 여러 타입을 받을 수 있게 했다.\\n        print(\"Penguin is ready\")\\n        \\n\\n#     def whoisThis(self):\\n#         print(\"Penguin\")\\n\\n    def run(self):\\n        print(\"Run faster\")',\n",
       " '_i85': 'peggy = Penguin() # super().__init__()으로 인해서 부모 클래스의 생성자에 있는 것을 출력 먼저 해주고 Penguin is ready를 출력해줌\\npeggy.whoisThis()\\npeggy.swim()\\n# peggy.run()',\n",
       " '_i86': '# parent class\\nclass Bird: #Java처럼 Object를 기본적으로 상속 받는다 # 파이썬에서도 추상클래스를 지원해준다.\\n#파이썬에서는 클래스가 mutable이기 때문에 자바와 달리 attribute가 없는 상태로 정의 가능\\n    def __init__(self): \\n        print(\"Bird is ready\")\\n\\n    def whoisThis(self):\\n        print(\"Bird\")\\n\\n    def swim(self):\\n        print(\"Swim faster\")\\n\\n# child class\\nclass Penguin(Bird): # Bird를 상속받은 Penguin 클래스\\n    pass\\n#     def __init__(self):\\n#         # call super() function\\n#         super().__init__()\\n#         print(\"Penguin is ready\")\\n\\n#     def whoisThis(self):\\n#         print(\"Penguin\")\\n\\n#     def run(self):\\n#         print(\"Run faster\")',\n",
       " '_i87': 'class Penguin(Bird): # Bird를 상속받은 Penguin 클래스\\n    def __init__(self):\\n        # call super() function\\n        super(Bird).__init__() # 부모 클래스 super()\\n        # super() -> same as super(__class__, <first argument>)\\n        # super(type) -> unbound super object\\n        # super(type, obj) -> bound super object; requires isinstance(obj, type)\\n        # super(type, type2) -> bound super object; requires issubclass(type2, type)\\n        \\n        #다중상속기능을 제공하기때문에 여러 타입을 받을 수 있게 했다.\\n        print(\"Penguin is ready\")\\n        \\n\\n#     def whoisThis(self):\\n#         print(\"Penguin\")\\n\\n    def run(self):\\n        print(\"Run faster\")',\n",
       " '_i88': 'peggy = Penguin() # super().__init__()으로 인해서 부모 클래스의 생성자에 있는 것을 출력 먼저 해주고 Penguin is ready를 출력해줌\\npeggy.whoisThis()\\npeggy.swim()\\n# peggy.run()',\n",
       " '_i89': 'class Penguin(Bird): # Bird를 상속받은 Penguin 클래스\\n    def __init__(self):\\n        # call super() function\\n        super().__init__() # 부모 클래스 super()\\n        # super() -> same as super(__class__, <first argument>)\\n        # super(type) -> unbound super object\\n        # super(type, obj) -> bound super object; requires isinstance(obj, type)\\n        # super(type, type2) -> bound super object; requires issubclass(type2, type)\\n        \\n        #다중상속기능을 제공하기때문에 여러 타입을 받을 수 있게 했다.\\n        print(\"Penguin is ready\")\\n        \\n\\n#     def whoisThis(self):\\n#         print(\"Penguin\")\\n\\n    def run(self):\\n        print(\"Run faster\")',\n",
       " '_i9': \"blu.species = 'bird2'\",\n",
       " '_i90': 'peggy = Penguin() # super().__init__()으로 인해서 부모 클래스의 생성자에 있는 것을 출력 먼저 해주고 Penguin is ready를 출력해줌\\npeggy.whoisThis()\\npeggy.swim()\\n# peggy.run()',\n",
       " '_i91': 'class Penguin(Bird): # Bird를 상속받은 Penguin 클래스\\n    def __init__(self):\\n        # call super() function\\n        super(Bird).__init__() # 부모 클래스 super()\\n        # super() -> same as super(__class__, <first argument>)\\n        # super(type) -> unbound super object\\n        # super(type, obj) -> bound super object; requires isinstance(obj, type)\\n        # super(type, type2) -> bound super object; requires issubclass(type2, type)\\n        \\n        #다중상속기능을 제공하기때문에 여러 타입을 받을 수 있게 했다.\\n        print(\"Penguin is ready\")\\n        \\n\\n#     def whoisThis(self):\\n#         print(\"Penguin\")\\n\\n    def run(self):\\n        print(\"Run faster\")',\n",
       " '_i92': 'peggy = Penguin() # super().__init__()으로 인해서 부모 클래스의 생성자에 있는 것을 출력 먼저 해주고 Penguin is ready를 출력해줌\\npeggy.whoisThis()\\npeggy.swim()\\n# peggy.run()',\n",
       " '_i93': 'peggy = Penguin() # super().__init__()으로 인해서 부모 클래스의 생성자에 있는 것을 출력 먼저 해주고 Penguin is ready를 출력해줌\\npeggy.whoisThis()\\npeggy.swim()\\n# peggy.run()',\n",
       " '_i94': 'class Penguin(Bird): # Bird를 상속받은 Penguin 클래스\\n    def __init__(self):\\n        # call super() function\\n        super(Bird).__init__() # 부모 클래스 super()\\n        # super() -> same as super(__class__, <first argument>)\\n        # super(type) -> unbound(매여있지않은) super object\\n        # super(type, obj) -> bound super object; requires isinstance(obj, type)\\n        # super(type, type2) -> bound super object; requires issubclass(type2, type)\\n        \\n        #다중상속기능을 제공하기때문에 여러 타입을 받을 수 있게 했다.\\n        print(\"Penguin is ready\")\\n        \\n\\n#     def whoisThis(self):\\n#         print(\"Penguin\")\\n\\n    def run(self):\\n        print(\"Run faster\")',\n",
       " '_i95': 'peggy = Penguin() # super().__init__()으로 인해서 부모 클래스의 생성자에 있는 것을 출력 먼저 해주고 Penguin is ready를 출력해줌\\npeggy.whoisThis()\\npeggy.swim()\\n# peggy.run()',\n",
       " '_i96': '# Penguin.__mro__',\n",
       " '_i97': 'Penguin.__mro__',\n",
       " '_i98': 'class Computer:\\n\\n    def __init__(self):\\n        self.__maxprice = 900\\n\\n    def sell(self):\\n        print(\"Selling Price: {}\".format(self.__maxprice))\\n\\n    def setMaxPrice(self, price):\\n        self.__maxprice = price\\n\\nc = Computer()\\nc.sell()\\n\\n# change the price\\nc.__maxprice = 1000 # __을 하면 private으로 접근지정을 해주지만 접근도 되며 값을 바꿀 수도 있다.\\nc.sell()\\n\\n# using setter function\\nc.setMaxPrice(1000)\\nc.sell()',\n",
       " '_i99': 'class Computer:\\n\\n    def __init__(self):\\n        self.__maxprice = 900\\n\\n    def sell(self):\\n        print(\"Selling Price: {}\".format(self.__maxprice))\\n\\n    def setMaxPrice(self, price):\\n        self.__maxprice = price\\n\\nc = Computer()\\nc.sell()\\n\\n# change the price\\nc.__maxprice = 1000 # __을 하면 private으로 접근지정을 해주지만 접근도 되며 값을 바꿀 수도 있다.\\nc.sell()\\n\\n# using setter function\\nc.setMaxPrice(1000)\\nc.sell()',\n",
       " '_ih': ['',\n",
       "  'blu.__dict__ #여기도 instance attribute만 나온다',\n",
       "  'class Parrot:\\n\\n    # class attribute\\n    species = \"bird\"\\n\\n    # instance attribute\\n    def __init__(self, name, age):\\n        self.name = name\\n        self.age = age',\n",
       "  '# instantiate the Parrot class\\nblu = Parrot(\"Blu\", 10) #인스턴스화할 때 생성자에서 name, age 2가지를 받는다.\\nwoo = Parrot(\"Woo\", 15)',\n",
       "  'type(blu) #__main__ 현재 작업하고 있는 것에서 클래스 이름이 나온다',\n",
       "  'type(Parrot) #type쳐서 type이 나오면 class이다',\n",
       "  'dir(blu)',\n",
       "  'vars(blu) # attribute 중에 species 가 안 나온다. \\n\\n#age, name의 경우 인스턴스 attribute이다 \\n#species의 경우 클래스 attribute이다',\n",
       "  'blu.__dict__ #여기도 instance attribute만 나온다',\n",
       "  \"blu.species = 'bird2'\",\n",
       "  'blu.__dict__ # 재할당시에 다시 species가 나온다',\n",
       "  'blu.__dict__ # 재할당을 할 경우에 다시 species가 나온다',\n",
       "  'dir(woo)',\n",
       "  'woo.species\\n# instance attribute는 생성될 때 자신이 갖고 있는 것이다. \\n# class attribute는 Java에서의 static과 비슷함',\n",
       "  'vars(woo)',\n",
       "  'blu.species #재할당되면서 class attribute가 instance attribute로 바뀜',\n",
       "  'woo.species',\n",
       "  'Parrot.name #instance attrbute\\n#instance가 생성되어야 사용할 수 있다.',\n",
       "  'print(\"Blu is a {}\".format(blu.species)) # {} 부분을 뒤의 .format의 형태로 print해주는 것이다',\n",
       "  'print(\"Blu is a {}\".format(blu.__class__.species)) # {} 부분을 뒤의 .format의 형태로 print해주는 것이다',\n",
       "  'print(\"Blu is a {}\".format(blu.__class__)) # {} 부분을 뒤의 .format의 형태로 print해주는 것이다',\n",
       "  '# access the class attributes\\nprint(\"Blu is a {}\".format(blu.__class__.species)) # {} 부분을 뒤의 .format의 형태로 print해주는 것이다\\nprint(\"Woo is also a {}\".format(woo.__class__.species))\\n\\n# access the instance attributes\\nprint(\"{} is {} years old\".format( blu.name, blu.age))\\nprint(\"{} is {} years old\".format( woo.name, woo.age))\\n\\n## Methods',\n",
       "  \"조보아 = Parrot('조보아', 30)\",\n",
       "  'vars(조보아)',\n",
       "  'vars(조보아)',\n",
       "  '조보아.species',\n",
       "  \"조보아.species = 'bird2'\",\n",
       "  '조보아.species #여기의 species는 instance attrbute가 된다.(다만 class attribute는 남아있다.) ->  instance attribute가 우선 순위를 가짐',\n",
       "  '조보아.species #여기의 species는 instance attrbute가 된다.(다만 class attribute는 남아있다.) ->  instance attribute가 우선 순위를 가짐',\n",
       "  '문근영.__class__.species #여기는 class attribute에 대해 명시해서 가져옴',\n",
       "  '조보아.__class__.species #여기는 class attribute에 대해 명시해서 가져옴',\n",
       "  '조보아.__class__ #instance의 타입을 쳤을 때랑 똑같이 출력된다',\n",
       "  'class Parrot:\\n    \\n    # instance attributes\\n    def __init__(self, name, age):\\n        self.name = name\\n        self.age = age\\n    \\n    # instance method\\n    def sing(self, song):\\n        return \"{} sings {}\".format(self.name, song)\\n\\n    def dance(self):\\n        return \"{} is now dancing\".format(self.name)\\n\\n# instantiate the object\\nblu = Parrot(\"Blu\", 10)\\n\\n# call our instance methods\\nprint(blu.sing(\"\\'Happy\\'\"))\\nprint(blu.dance())',\n",
       "  'class Parrot:\\n    \\n    # instance attributes\\n    def __init__(me, name, age): #self 대신 딴거 넣어도 상관없다.\\n        me.name = name\\n        me.age = age\\n    \\n    # instance method\\n    def sing(me, song):\\n        return \"{} sings {}\".format(me.name, song)\\n\\n    def dance(me):\\n        return \"{} is now dancing\".format(me.name)\\n\\n# instantiate the object\\nblu = Parrot(\"Blu\", 10)\\n\\n# call our instance methods\\nprint(blu.sing(\"\\'Happy\\'\"))\\nprint(blu.dance())',\n",
       "  \"Parrot.sing(조보아,'노래')\\n조보아.sing('노래')\",\n",
       "  'class Parrot:\\n    \\n    # instance attributes\\n    def __init__(me, name, age): #self 대신 딴거 넣어도 상관없다.\\n        me.name = name\\n        me.age = age\\n    # 여기서 일부러 self를 me로 바꾸어보았다.\\n    \\n    # instance method\\n    def sing(me, song):\\n        return \"{} sings {}\".format(me.name, song)\\n\\n    def dance(me):\\n        return \"{} is now dancing\".format(me.name)\\n\\n# instantiate the object\\nblu = Parrot(\"Blu\", 10)\\n\\n# call our instance methods\\nprint(blu.sing(\"\\'Happy\\'\"))\\nprint(blu.dance())',\n",
       "  \"Parrot.sing(조보아,'노래')\\n조보아.sing('노래')\",\n",
       "  \"Parrot.sing(조보아,'노래')\\n#조보아.sing('노래')\",\n",
       "  \"Parrot.sing(조보아,'노래')\\n조보아.sing('노래')\",\n",
       "  \"Parrot.sing(보아,'노래')\\n보아.sing('노래')\",\n",
       "  \"조보아 = Parrot.sing(조보아,'노래')\\n조보아.sing('노래')\",\n",
       "  'class Parrot:\\n    \\n    # instance attributes\\n    def __init__(self, name, age):\\n        self.name = name\\n        self.age = age\\n    \\n    # instance method\\n    def sing(self, song):\\n        return \"{} sings {}\".format(self.name, song)\\n\\n    def dance(self):\\n        return \"{} is now dancing\".format(self.name)\\n\\n# instantiate the object\\nblu = Parrot(\"Blu\", 10)\\n\\n# call our instance methods\\nprint(blu.sing(\"\\'Happy\\'\"))\\nprint(blu.dance())',\n",
       "  'class Parrot:\\n    \\n    # instance attributes\\n    def __init__(me, name, age): #self 대신 딴거 넣어도 상관없다.\\n        me.name = name\\n        me.age = age\\n    # 여기서 일부러 self를 me로 바꾸어보았다.\\n    \\n    # instance method\\n    def sing(me, song):\\n        return \"{} sings {}\".format(me.name, song)\\n\\n    def dance(me):\\n        return \"{} is now dancing\".format(me.name)\\n\\n# instantiate the object\\nblu = Parrot(\"Blu\", 10)\\n\\n# call our instance methods\\nprint(blu.sing(\"\\'Happy\\'\"))\\nprint(blu.dance())',\n",
       "  \"Parrot.sing(조보아,'노래')\\n조보아.sing('노래')\",\n",
       "  \"Parrot.sing(조보아,'노래')\\n조보아.sing('노래')\",\n",
       "  \"Parrot.sing(보아,'노래')\\n보아.sing('노래')\",\n",
       "  \"Parrot.sing(보아,'노래')\\n# 보아.sing('노래')\",\n",
       "  \"Parrot.sing(조보아,'노래')\\n# 보아.sing('노래')\",\n",
       "  \"Parrot.sing(조보아,'노래')\\n조보아.sing('노래')\",\n",
       "  'class Parrot:\\n    \\n    # instance attributes\\n    def __init__(me, name, age): #self 대신 딴거 넣어도 상관없다.\\n        me.name = name\\n        me.age = age\\n    # 여기서 일부러 self를 me로 바꾸어보았다.\\n    \\n    # instance method\\n    def sing(me, song):\\n        return \"{} sings {}\".format(me.name, song)\\n\\n    def dance(me):\\n        return \"{} is now dancing\".format(me.name)\\n\\n# instantiate the object\\nblu = Parrot(\"Blu\", 10)\\n\\n# call our instance methods\\nprint(blu.sing(\"\\'Happy\\'\"))\\nprint(blu.dance())',\n",
       "  \"Parrot.sing(조보아,'노래')\\n조보아.sing('노래')\",\n",
       "  \"조보아 = Parrot('조보아', 30)\\n# 현재 name = '조보아', age = 30을 가지는 Parrot type instance 조보아를 생성했다.\",\n",
       "  \"Parrot.sing(조보아,'노래')\\n조보아.sing('노래')\",\n",
       "  \"Parrot.sing(조보아,'노래')\\n# 조보아.sing('노래')\",\n",
       "  \"Parrot.sing(조보아,'노래')\\n조보아.sing('노래')\",\n",
       "  'class Parrot:\\n    \\n    # instance attributes\\n    def __init__(self, name, age):\\n        self.name = name\\n        self.age = age\\n    \\n    # instance method\\n    def sing(self, song):\\n        return \"{} sings {}\".format(self.name, song)\\n\\n    def dance(self):\\n        return \"{} is now dancing\".format(self.name)\\n\\n# instantiate the object\\nblu = Parrot(\"Blu\", 10)\\n\\n# call our instance methods\\nprint(blu.sing(\"\\'Happy\\'\"))\\nprint(blu.dance())',\n",
       "  'class Parrot:\\n    \\n    # instance attributes\\n    def __init__(self, name, age):\\n        self.name = name\\n        self.age = age\\n    \\n    # instance method\\n    def sing(self, song):\\n        return \"{} sings {}\".format(self.name, song)\\n\\n    def dance(self):\\n        return \"{} is now dancing\".format(self.name)\\n\\n# instantiate the object\\nblu = Parrot(\"Blu\", 10)\\n\\n# call our instance methods\\nprint(blu.sing(\"\\'Happy\\'\"))\\nprint(blu.dance())',\n",
       "  '조보아.dance()',\n",
       "  '앵무새 = Parrot(\"짹짹이\", 15)',\n",
       "  '앵무새.sing(\"서시\")',\n",
       "  'Parrot.sing(앵무새,\"서시\")',\n",
       "  'class Parrot:\\n    \\n    # instance attributes\\n    def __init__(self, name, age):\\n        self.name = name\\n        self.age = age\\n    \\n    # instance method\\n    def sing(self, song):\\n        return \"{} sings {}\".format(self.name, song)\\n\\n    def dance(self):\\n        return \"{} is now dancing\".format(self.name)\\n    \\n    @classmethod #decoration (=Java의 annotation)\\n    def dance2(cls): #클래스 메소드의 정의\\n        return \" is now dancing2\"',\n",
       "  '앵무새.sing(\"서시\") # instance method call',\n",
       "  'Parrot.sing(앵무새,\"서시\")',\n",
       "  'class Parrot:\\n    \\n    # instance attributes\\n    def __init__(self, name, age):\\n        self.name = name\\n        self.age = age\\n    \\n    # instance method\\n    def sing(self, song):\\n        return \"{} sings {}\".format(self.name, song)\\n\\n    def dance(self):\\n        return \"{} is now dancing\".format(self.name)\\n    \\n    @classmethod #decoration (=Java의 annotation)\\n    def dance2(cls): #클래스 메소드의 정의\\n        return \" is now dancing2\"',\n",
       "  \"a = Parrot('sun', 42)\",\n",
       "  'Parrot.dance(a)\\na.dance()',\n",
       "  'Parrot.dance2() #클래스 메소드는 클래스 이름을 대고 실행을 해야한다!!!',\n",
       "  'a.__class__.dance2() # 위와 같은 방식이다',\n",
       "  'a.dance2()',\n",
       "  '# parent class\\nclass Bird: #Java처럼 Object를 기본적으로 상속 받는다 # 파이썬에서도 추상클래스를 지원해준다.\\n#파이썬에서는 클래스가 mutable이기 때문에 자바와 달리 attribute가 없는 상태로 정의 가능\\n    def __init__(self): \\n        print(\"Bird is ready\")\\n\\n    def whoisThis(self):\\n        print(\"Bird\")\\n\\n    def swim(self):\\n        print(\"Swim faster\")\\n\\n# child class\\nclass Penguin(Bird): # Bird를 상속받은 Penguin 클래스\\n    pass\\n#     def __init__(self):\\n#         # call super() function\\n#         super().__init__()\\n#         print(\"Penguin is ready\")\\n\\n#     def whoisThis(self):\\n#         print(\"Penguin\")\\n\\n#     def run(self):\\n#         print(\"Run faster\")',\n",
       "  'peggy = Penguin()\\npeggy.whoisThis()\\npeggy.swim()\\npeggy.run()',\n",
       "  'dir(Penguin) #Bird를 상속받은 Penguin은 Bird상의 swim()과 whoisThis()를 갖고 있다.',\n",
       "  'peggy = Penguin()\\npeggy.whoisThis()\\npeggy.swim()\\n# peggy.run()',\n",
       "  'class Penguin(Bird): # Bird를 상속받은 Penguin 클래스\\n    def swim(self):\\n        print(\"I can\\'t swim\")',\n",
       "  'peggy = Penguin()\\npeggy.whoisThis()\\npeggy.swim()\\n# peggy.run()',\n",
       "  'class Penguin(Bird): # Bird를 상속받은 Penguin 클래스\\n    def swim(self):\\n        print(\"I can\\'t swim\")\\n    def run(self):\\n        print(\"Run faster\")',\n",
       "  'dir(Penguin)',\n",
       "  'class Penguin(Bird): # Bird를 상속받은 Penguin 클래스\\n    def __init__(self):\\n        # call super() function\\n        super().__init__() # 부모 클래스 super()\\n        print(\"Penguin is ready\")\\n\\n    def whoisThis(self): # Bird클래스의 whoisThis를 오버라이딩 해줌.\\n        print(\"Penguin\")\\n\\n    def run(self): # 원래 없던 run()메소드를 추가해줌.\\n        print(\"Run faster\")',\n",
       "  'peggy = Penguin() # super().__init__()으로 인해서 부모 클래스의 생성자에 있는 것을 출력 먼저 해주고 Penguin is ready를 출력해줌\\npeggy.whoisThis()\\npeggy.swim()\\n# peggy.run()',\n",
       "  'class Penguin(Bird): # Bird를 상속받은 Penguin 클래스\\n    def __init__(self):\\n        # call super() function\\n        super().__init__() # 부모 클래스 super()\\n        print(\"Penguin is ready\")\\n\\n    def whoisThis(self): # Bird클래스의 whoisThis를 오버라이딩 해줌.\\n        print(\"Penguin\")\\n\\n    def run(self): # 원래 없던 run()메소드를 추가해줌.\\n        print(\"Run faster\")',\n",
       "  'peggy = Penguin() # super().__init__()으로 인해서 부모 클래스의 생성자에 있는 것을 출력 먼저 해주고 Penguin is ready를 출력해줌\\npeggy.whoisThis()\\npeggy.swim()\\n# peggy.run()',\n",
       "  'class Penguin(Bird): # Bird를 상속받은 Penguin 클래스\\n    def __init__(self):\\n        # call super() function\\n        super(Bird).__init__() # 부모 클래스 super()\\n        # super() -> same as super(__class__, <first argument>)\\n        # super(type) -> unbound super object\\n        # super(type, obj) -> bound super object; requires isinstance(obj, type)\\n        # super(type, type2) -> bound super object; requires issubclass(type2, type)\\n        \\n        #다중상속기능을 제공하기때문에 여러 타입을 받을 수 있게 했다.\\n        print(\"Penguin is ready\")\\n        \\n\\n#     def whoisThis(self):\\n#         print(\"Penguin\")\\n\\n    def run(self):\\n        print(\"Run faster\")',\n",
       "  'peggy = Penguin() # super().__init__()으로 인해서 부모 클래스의 생성자에 있는 것을 출력 먼저 해주고 Penguin is ready를 출력해줌\\npeggy.whoisThis()\\npeggy.swim()\\n# peggy.run()',\n",
       "  'class Penguin(Bird): # Bird를 상속받은 Penguin 클래스\\n    def __init__(self):\\n        # call super() function\\n        super(Bird).__init__() # 부모 클래스 super()\\n        # super() -> same as super(__class__, <first argument>)\\n        # super(type) -> unbound super object\\n        # super(type, obj) -> bound super object; requires isinstance(obj, type)\\n        # super(type, type2) -> bound super object; requires issubclass(type2, type)\\n        \\n        #다중상속기능을 제공하기때문에 여러 타입을 받을 수 있게 했다.\\n        print(\"Penguin is ready\")\\n        \\n\\n#     def whoisThis(self):\\n#         print(\"Penguin\")\\n\\n    def run(self):\\n        print(\"Run faster\")',\n",
       "  'peggy = Penguin() # super().__init__()으로 인해서 부모 클래스의 생성자에 있는 것을 출력 먼저 해주고 Penguin is ready를 출력해줌\\npeggy.whoisThis()\\npeggy.swim()\\n# peggy.run()',\n",
       "  '# parent class\\nclass Bird: #Java처럼 Object를 기본적으로 상속 받는다 # 파이썬에서도 추상클래스를 지원해준다.\\n#파이썬에서는 클래스가 mutable이기 때문에 자바와 달리 attribute가 없는 상태로 정의 가능\\n    def __init__(self): \\n        print(\"Bird is ready\")\\n\\n    def whoisThis(self):\\n        print(\"Bird\")\\n\\n    def swim(self):\\n        print(\"Swim faster\")\\n\\n# child class\\nclass Penguin(Bird): # Bird를 상속받은 Penguin 클래스\\n    pass\\n#     def __init__(self):\\n#         # call super() function\\n#         super().__init__()\\n#         print(\"Penguin is ready\")\\n\\n#     def whoisThis(self):\\n#         print(\"Penguin\")\\n\\n#     def run(self):\\n#         print(\"Run faster\")',\n",
       "  'class Penguin(Bird): # Bird를 상속받은 Penguin 클래스\\n    def __init__(self):\\n        # call super() function\\n        super(Bird).__init__() # 부모 클래스 super()\\n        # super() -> same as super(__class__, <first argument>)\\n        # super(type) -> unbound super object\\n        # super(type, obj) -> bound super object; requires isinstance(obj, type)\\n        # super(type, type2) -> bound super object; requires issubclass(type2, type)\\n        \\n        #다중상속기능을 제공하기때문에 여러 타입을 받을 수 있게 했다.\\n        print(\"Penguin is ready\")\\n        \\n\\n#     def whoisThis(self):\\n#         print(\"Penguin\")\\n\\n    def run(self):\\n        print(\"Run faster\")',\n",
       "  'peggy = Penguin() # super().__init__()으로 인해서 부모 클래스의 생성자에 있는 것을 출력 먼저 해주고 Penguin is ready를 출력해줌\\npeggy.whoisThis()\\npeggy.swim()\\n# peggy.run()',\n",
       "  'class Penguin(Bird): # Bird를 상속받은 Penguin 클래스\\n    def __init__(self):\\n        # call super() function\\n        super().__init__() # 부모 클래스 super()\\n        # super() -> same as super(__class__, <first argument>)\\n        # super(type) -> unbound super object\\n        # super(type, obj) -> bound super object; requires isinstance(obj, type)\\n        # super(type, type2) -> bound super object; requires issubclass(type2, type)\\n        \\n        #다중상속기능을 제공하기때문에 여러 타입을 받을 수 있게 했다.\\n        print(\"Penguin is ready\")\\n        \\n\\n#     def whoisThis(self):\\n#         print(\"Penguin\")\\n\\n    def run(self):\\n        print(\"Run faster\")',\n",
       "  'peggy = Penguin() # super().__init__()으로 인해서 부모 클래스의 생성자에 있는 것을 출력 먼저 해주고 Penguin is ready를 출력해줌\\npeggy.whoisThis()\\npeggy.swim()\\n# peggy.run()',\n",
       "  'class Penguin(Bird): # Bird를 상속받은 Penguin 클래스\\n    def __init__(self):\\n        # call super() function\\n        super(Bird).__init__() # 부모 클래스 super()\\n        # super() -> same as super(__class__, <first argument>)\\n        # super(type) -> unbound super object\\n        # super(type, obj) -> bound super object; requires isinstance(obj, type)\\n        # super(type, type2) -> bound super object; requires issubclass(type2, type)\\n        \\n        #다중상속기능을 제공하기때문에 여러 타입을 받을 수 있게 했다.\\n        print(\"Penguin is ready\")\\n        \\n\\n#     def whoisThis(self):\\n#         print(\"Penguin\")\\n\\n    def run(self):\\n        print(\"Run faster\")',\n",
       "  'peggy = Penguin() # super().__init__()으로 인해서 부모 클래스의 생성자에 있는 것을 출력 먼저 해주고 Penguin is ready를 출력해줌\\npeggy.whoisThis()\\npeggy.swim()\\n# peggy.run()',\n",
       "  'peggy = Penguin() # super().__init__()으로 인해서 부모 클래스의 생성자에 있는 것을 출력 먼저 해주고 Penguin is ready를 출력해줌\\npeggy.whoisThis()\\npeggy.swim()\\n# peggy.run()',\n",
       "  'class Penguin(Bird): # Bird를 상속받은 Penguin 클래스\\n    def __init__(self):\\n        # call super() function\\n        super(Bird).__init__() # 부모 클래스 super()\\n        # super() -> same as super(__class__, <first argument>)\\n        # super(type) -> unbound(매여있지않은) super object\\n        # super(type, obj) -> bound super object; requires isinstance(obj, type)\\n        # super(type, type2) -> bound super object; requires issubclass(type2, type)\\n        \\n        #다중상속기능을 제공하기때문에 여러 타입을 받을 수 있게 했다.\\n        print(\"Penguin is ready\")\\n        \\n\\n#     def whoisThis(self):\\n#         print(\"Penguin\")\\n\\n    def run(self):\\n        print(\"Run faster\")',\n",
       "  'peggy = Penguin() # super().__init__()으로 인해서 부모 클래스의 생성자에 있는 것을 출력 먼저 해주고 Penguin is ready를 출력해줌\\npeggy.whoisThis()\\npeggy.swim()\\n# peggy.run()',\n",
       "  '# Penguin.__mro__',\n",
       "  'Penguin.__mro__',\n",
       "  'class Computer:\\n\\n    def __init__(self):\\n        self.__maxprice = 900\\n\\n    def sell(self):\\n        print(\"Selling Price: {}\".format(self.__maxprice))\\n\\n    def setMaxPrice(self, price):\\n        self.__maxprice = price\\n\\nc = Computer()\\nc.sell()\\n\\n# change the price\\nc.__maxprice = 1000 # __을 하면 private으로 접근지정을 해주지만 접근도 되며 값을 바꿀 수도 있다.\\nc.sell()\\n\\n# using setter function\\nc.setMaxPrice(1000)\\nc.sell()',\n",
       "  'class Computer:\\n\\n    def __init__(self):\\n        self.__maxprice = 900\\n\\n    def sell(self):\\n        print(\"Selling Price: {}\".format(self.__maxprice))\\n\\n    def setMaxPrice(self, price):\\n        self.__maxprice = price\\n\\nc = Computer()\\nc.sell()\\n\\n# change the price\\nc.__maxprice = 1000 # __을 하면 private으로 접근지정을 해주지만 접근도 되며 값을 바꿀 수도 있다.\\nc.sell()\\n\\n# using setter function\\nc.setMaxPrice(1000)\\nc.sell()',\n",
       "  'class Computer:\\n\\n    def __init__(self):\\n        self.__maxprice = 900\\n\\n    def sell(self):\\n        print(\"Selling Price: {}\".format(self.__maxprice))\\n\\n    def setMaxPrice(self, price):\\n        self.__maxprice = price\\n\\nc = Computer()\\nc.sell()\\n\\n# change the price\\nc.__maxprice = 1000 # __을 하면 private으로 접근지정을 해주지만 접근도 되며 값을 바꿀 수도 있다.\\nc.sell()\\n\\n# using setter function\\n# c.setMaxPrice(1000)\\n# c.sell()',\n",
       "  'class Computer:\\n\\n    def __init__(self):\\n        self.__maxprice = 900\\n\\n    def sell(self):\\n        print(\"Selling Price: {}\".format(self.__maxprice))\\n\\n    def setMaxPrice(self, price):\\n        self.__maxprice = price\\n\\nc = Computer()\\nc.sell()\\n\\n# change the price\\nc.__maxprice = 1000 # __을 하면 private으로 접근지정을 해주지만 접근도 되며 값을 바꿀 수도 있다.\\nc.__maxprice\\n\\n# using setter function\\n# c.setMaxPrice(1000)\\n# c.sell()',\n",
       "  'class Computer:\\n\\n    def __init__(self):\\n        self.__maxprice = 900\\n\\n    def sell(self):\\n        print(\"Selling Price: {}\".format(self.__maxprice))\\n\\n    def setMaxPrice(self, price):\\n        self.__maxprice = price\\n\\nc = Computer()\\nc.sell()\\n\\n# change the price\\nc.__maxprice = 1000 # __을 하면 private으로 접근지정을 해주지만 접근도 되며 값을 바꿀 수도 있다.\\nc.sell()\\n\\n# using setter function\\n# c.setMaxPrice(1000)\\n# c.sell()',\n",
       "  'class Computer:\\n\\n    def __init__(self):\\n        self.__maxprice = 900\\n\\n    def sell(self):\\n        print(\"Selling Price: {}\".format(self.__maxprice))\\n\\n    def setMaxPrice(self, price):\\n        self.__maxprice = price\\n\\nc = Computer()\\nc.sell()\\n\\n# change the price\\nc.__maxprice = 1000 # __을 하면 private으로 접근지정을 해주지만 접근도 되며 값을 바꿀 수도 있다.\\nc.sell()\\n\\n# using setter function\\nc.setMaxPrice(1000)\\nc.sell()',\n",
       "  'vars(c)',\n",
       "  'class Computer:\\n\\n    def __init__(self):\\n        self.__maxprice = 900\\n\\n    def sell(self):\\n        print(\"Selling Price: {}\".format(self.__maxprice))\\n\\n    def setMaxPrice(self, price):\\n        self.__maxprice = price\\n\\nc = Computer()\\nc.sell()\\n\\n# change the price\\nc.__maxprice = 1000 # __을 하면 private으로 접근지정을 해주지만 접근도 되며 값을 바꿀 수도 있다.\\nc.sell()\\n\\nprint(vars(c))\\n# using setter function\\nc.setMaxPrice(1000)\\nc.sell()',\n",
       "  'class Computer:\\n\\n    def __init__(self):\\n        self.__maxprice = 900\\n\\n    def sell(self):\\n        print(\"Selling Price: {}\".format(self.__maxprice))\\n\\n    def setMaxPrice(self, price):\\n        self.__maxprice = price\\n\\nc = Computer()\\nc.sell()\\nprint(vars(c))\\n\\n# change the price\\nc.__maxprice = 1000 # __을 하면 private으로 접근지정을 해주지만 접근도 되며 값을 바꿀 수도 있다.\\nc.sell()\\n\\nprint(vars(c))\\n\\n# using setter function\\nc.setMaxPrice(1000)\\nc.sell()\\nprint(vars(c))',\n",
       "  'vars(c)',\n",
       "  'dir() #dir에 인자를 안넣을 경우 현재 namespace 내에 저장된 모든 것들을 보여준다. (ipython계열에서만...) ',\n",
       "  'locals() #local 영역에 선언된 값들을 리턴',\n",
       "  'globals() #global 영역에 선언된 값들 리턴'],\n",
       " '_ii': 'dir() #dir에 인자를 안넣을 경우 현재 namespace 내에 저장된 모든 것들을 보여준다. (ipython계열에서만...) ',\n",
       " '_iii': 'vars(c)',\n",
       " '_oh': {4: __main__.Parrot,\n",
       "  5: type,\n",
       "  6: ['__class__',\n",
       "   '__delattr__',\n",
       "   '__dict__',\n",
       "   '__dir__',\n",
       "   '__doc__',\n",
       "   '__eq__',\n",
       "   '__format__',\n",
       "   '__ge__',\n",
       "   '__getattribute__',\n",
       "   '__gt__',\n",
       "   '__hash__',\n",
       "   '__init__',\n",
       "   '__init_subclass__',\n",
       "   '__le__',\n",
       "   '__lt__',\n",
       "   '__module__',\n",
       "   '__ne__',\n",
       "   '__new__',\n",
       "   '__reduce__',\n",
       "   '__reduce_ex__',\n",
       "   '__repr__',\n",
       "   '__setattr__',\n",
       "   '__sizeof__',\n",
       "   '__str__',\n",
       "   '__subclasshook__',\n",
       "   '__weakref__',\n",
       "   'age',\n",
       "   'name',\n",
       "   'species'],\n",
       "  7: {'age': 10, 'name': 'Blu', 'species': 'bird2'},\n",
       "  8: {'age': 10, 'name': 'Blu', 'species': 'bird2'},\n",
       "  10: {'age': 10, 'name': 'Blu', 'species': 'bird2'},\n",
       "  11: {'age': 10, 'name': 'Blu', 'species': 'bird2'},\n",
       "  12: ['__class__',\n",
       "   '__delattr__',\n",
       "   '__dict__',\n",
       "   '__dir__',\n",
       "   '__doc__',\n",
       "   '__eq__',\n",
       "   '__format__',\n",
       "   '__ge__',\n",
       "   '__getattribute__',\n",
       "   '__gt__',\n",
       "   '__hash__',\n",
       "   '__init__',\n",
       "   '__init_subclass__',\n",
       "   '__le__',\n",
       "   '__lt__',\n",
       "   '__module__',\n",
       "   '__ne__',\n",
       "   '__new__',\n",
       "   '__reduce__',\n",
       "   '__reduce_ex__',\n",
       "   '__repr__',\n",
       "   '__setattr__',\n",
       "   '__sizeof__',\n",
       "   '__str__',\n",
       "   '__subclasshook__',\n",
       "   '__weakref__',\n",
       "   'age',\n",
       "   'name',\n",
       "   'species'],\n",
       "  13: 'bird',\n",
       "  14: {'age': 15, 'name': 'Woo'},\n",
       "  15: 'bird2',\n",
       "  16: 'bird',\n",
       "  23: {'age': 30, 'name': '조보아', 'species': 'bird2'},\n",
       "  24: {'age': 30, 'name': '조보아', 'species': 'bird2'},\n",
       "  25: 'bird',\n",
       "  27: 'bird2',\n",
       "  28: 'bird2',\n",
       "  30: 'bird',\n",
       "  31: __main__.Parrot,\n",
       "  37: '조보아 sings 노래',\n",
       "  52: '조보아 sings 노래',\n",
       "  53: '조보아 sings 노래',\n",
       "  54: '조보아 sings 노래',\n",
       "  57: '조보아 is now dancing',\n",
       "  59: '짹짹이 sings 서시',\n",
       "  60: '짹짹이 sings 서시',\n",
       "  62: '짹짹이 sings 서시',\n",
       "  63: '짹짹이 sings 서시',\n",
       "  66: 'sun is now dancing',\n",
       "  67: ' is now dancing2',\n",
       "  68: ' is now dancing2',\n",
       "  69: ' is now dancing2',\n",
       "  72: ['__class__',\n",
       "   '__delattr__',\n",
       "   '__dict__',\n",
       "   '__dir__',\n",
       "   '__doc__',\n",
       "   '__eq__',\n",
       "   '__format__',\n",
       "   '__ge__',\n",
       "   '__getattribute__',\n",
       "   '__gt__',\n",
       "   '__hash__',\n",
       "   '__init__',\n",
       "   '__init_subclass__',\n",
       "   '__le__',\n",
       "   '__lt__',\n",
       "   '__module__',\n",
       "   '__ne__',\n",
       "   '__new__',\n",
       "   '__reduce__',\n",
       "   '__reduce_ex__',\n",
       "   '__repr__',\n",
       "   '__setattr__',\n",
       "   '__sizeof__',\n",
       "   '__str__',\n",
       "   '__subclasshook__',\n",
       "   '__weakref__',\n",
       "   'swim',\n",
       "   'whoisThis'],\n",
       "  77: ['__class__',\n",
       "   '__delattr__',\n",
       "   '__dict__',\n",
       "   '__dir__',\n",
       "   '__doc__',\n",
       "   '__eq__',\n",
       "   '__format__',\n",
       "   '__ge__',\n",
       "   '__getattribute__',\n",
       "   '__gt__',\n",
       "   '__hash__',\n",
       "   '__init__',\n",
       "   '__init_subclass__',\n",
       "   '__le__',\n",
       "   '__lt__',\n",
       "   '__module__',\n",
       "   '__ne__',\n",
       "   '__new__',\n",
       "   '__reduce__',\n",
       "   '__reduce_ex__',\n",
       "   '__repr__',\n",
       "   '__setattr__',\n",
       "   '__sizeof__',\n",
       "   '__str__',\n",
       "   '__subclasshook__',\n",
       "   '__weakref__',\n",
       "   'run',\n",
       "   'swim',\n",
       "   'whoisThis'],\n",
       "  97: (__main__.Penguin, __main__.Bird, object),\n",
       "  101: 1000,\n",
       "  104: {'_Computer__maxprice': 1000, '__maxprice': 1000},\n",
       "  107: {'_Computer__maxprice': 1000, '__maxprice': 1000},\n",
       "  108: ['Bird',\n",
       "   'Computer',\n",
       "   'In',\n",
       "   'Out',\n",
       "   'Parrot',\n",
       "   'Penguin',\n",
       "   '_',\n",
       "   '_10',\n",
       "   '_101',\n",
       "   '_104',\n",
       "   '_107',\n",
       "   '_11',\n",
       "   '_12',\n",
       "   '_13',\n",
       "   '_14',\n",
       "   '_15',\n",
       "   '_16',\n",
       "   '_23',\n",
       "   '_24',\n",
       "   '_25',\n",
       "   '_27',\n",
       "   '_28',\n",
       "   '_30',\n",
       "   '_31',\n",
       "   '_37',\n",
       "   '_4',\n",
       "   '_5',\n",
       "   '_52',\n",
       "   '_53',\n",
       "   '_54',\n",
       "   '_57',\n",
       "   '_59',\n",
       "   '_6',\n",
       "   '_60',\n",
       "   '_62',\n",
       "   '_63',\n",
       "   '_66',\n",
       "   '_67',\n",
       "   '_68',\n",
       "   '_69',\n",
       "   '_7',\n",
       "   '_72',\n",
       "   '_77',\n",
       "   '_8',\n",
       "   '_97',\n",
       "   '__',\n",
       "   '___',\n",
       "   '__builtin__',\n",
       "   '__builtins__',\n",
       "   '__doc__',\n",
       "   '__loader__',\n",
       "   '__name__',\n",
       "   '__package__',\n",
       "   '__spec__',\n",
       "   '_dh',\n",
       "   '_i',\n",
       "   '_i1',\n",
       "   '_i10',\n",
       "   '_i100',\n",
       "   '_i101',\n",
       "   '_i102',\n",
       "   '_i103',\n",
       "   '_i104',\n",
       "   '_i105',\n",
       "   '_i106',\n",
       "   '_i107',\n",
       "   '_i108',\n",
       "   '_i11',\n",
       "   '_i12',\n",
       "   '_i13',\n",
       "   '_i14',\n",
       "   '_i15',\n",
       "   '_i16',\n",
       "   '_i17',\n",
       "   '_i18',\n",
       "   '_i19',\n",
       "   '_i2',\n",
       "   '_i20',\n",
       "   '_i21',\n",
       "   '_i22',\n",
       "   '_i23',\n",
       "   '_i24',\n",
       "   '_i25',\n",
       "   '_i26',\n",
       "   '_i27',\n",
       "   '_i28',\n",
       "   '_i29',\n",
       "   '_i3',\n",
       "   '_i30',\n",
       "   '_i31',\n",
       "   '_i32',\n",
       "   '_i33',\n",
       "   '_i34',\n",
       "   '_i35',\n",
       "   '_i36',\n",
       "   '_i37',\n",
       "   '_i38',\n",
       "   '_i39',\n",
       "   '_i4',\n",
       "   '_i40',\n",
       "   '_i41',\n",
       "   '_i42',\n",
       "   '_i43',\n",
       "   '_i44',\n",
       "   '_i45',\n",
       "   '_i46',\n",
       "   '_i47',\n",
       "   '_i48',\n",
       "   '_i49',\n",
       "   '_i5',\n",
       "   '_i50',\n",
       "   '_i51',\n",
       "   '_i52',\n",
       "   '_i53',\n",
       "   '_i54',\n",
       "   '_i55',\n",
       "   '_i56',\n",
       "   '_i57',\n",
       "   '_i58',\n",
       "   '_i59',\n",
       "   '_i6',\n",
       "   '_i60',\n",
       "   '_i61',\n",
       "   '_i62',\n",
       "   '_i63',\n",
       "   '_i64',\n",
       "   '_i65',\n",
       "   '_i66',\n",
       "   '_i67',\n",
       "   '_i68',\n",
       "   '_i69',\n",
       "   '_i7',\n",
       "   '_i70',\n",
       "   '_i71',\n",
       "   '_i72',\n",
       "   '_i73',\n",
       "   '_i74',\n",
       "   '_i75',\n",
       "   '_i76',\n",
       "   '_i77',\n",
       "   '_i78',\n",
       "   '_i79',\n",
       "   '_i8',\n",
       "   '_i80',\n",
       "   '_i81',\n",
       "   '_i82',\n",
       "   '_i83',\n",
       "   '_i84',\n",
       "   '_i85',\n",
       "   '_i86',\n",
       "   '_i87',\n",
       "   '_i88',\n",
       "   '_i89',\n",
       "   '_i9',\n",
       "   '_i90',\n",
       "   '_i91',\n",
       "   '_i92',\n",
       "   '_i93',\n",
       "   '_i94',\n",
       "   '_i95',\n",
       "   '_i96',\n",
       "   '_i97',\n",
       "   '_i98',\n",
       "   '_i99',\n",
       "   '_ih',\n",
       "   '_ii',\n",
       "   '_iii',\n",
       "   '_oh',\n",
       "   'a',\n",
       "   'blu',\n",
       "   'c',\n",
       "   'exit',\n",
       "   'get_ipython',\n",
       "   'peggy',\n",
       "   'quit',\n",
       "   'woo',\n",
       "   '앵무새',\n",
       "   '조보아'],\n",
       "  109: {...}},\n",
       " 'a': <__main__.Parrot at 0x291b44f1320>,\n",
       " 'blu': <__main__.Parrot at 0x291b4494908>,\n",
       " 'c': <__main__.Computer at 0x291b4571c18>,\n",
       " 'exit': <IPython.core.autocall.ZMQExitAutocall at 0x291b3321390>,\n",
       " 'get_ipython': <bound method InteractiveShell.get_ipython of <ipykernel.zmqshell.ZMQInteractiveShell object at 0x00000291B32C2AC8>>,\n",
       " 'peggy': <__main__.Penguin at 0x291b44f1860>,\n",
       " 'quit': <IPython.core.autocall.ZMQExitAutocall at 0x291b3321390>,\n",
       " 'woo': <__main__.Parrot at 0x291b445d080>,\n",
       " '앵무새': <__main__.Parrot at 0x291b4487a20>,\n",
       " '조보아': <__main__.Parrot at 0x291b44878d0>}"
      ]
     },
     "execution_count": 110,
     "metadata": {},
     "output_type": "execute_result"
    }
   ],
   "source": [
    "globals() #global 영역에 선언된 값들 리턴"
   ]
  },
  {
   "cell_type": "markdown",
   "metadata": {},
   "source": [
    "함수 안에서 locals()를 실행하면 또 다른 값이 나온다"
   ]
  },
  {
   "cell_type": "code",
   "execution_count": 111,
   "metadata": {},
   "outputs": [
    {
     "name": "stdout",
     "output_type": "stream",
     "text": [
      "Selling Price: 900\n",
      "Selling Price: 900\n",
      "Selling Price: 1000\n"
     ]
    }
   ],
   "source": [
    "class Computer:\n",
    "\n",
    "    def __init__(self):\n",
    "        self.__maxprice = 900\n",
    "\n",
    "    def sell(self):\n",
    "        print(\"Selling Price: {}\".format(self.__maxprice))\n",
    "\n",
    "    def setMaxPrice(self, price):\n",
    "        self.__maxprice = price\n",
    "\n",
    "c = Computer()\n",
    "c.sell()\n",
    "\n",
    "# change the price\n",
    "c.__maxprice = 1000 # __을 하면 private으로 접근지정을 해주지만 접근도 되며 값을 바꿀 수도 있다.\n",
    "c.sell()\n",
    "\n",
    "# using setter function\n",
    "c.setMaxPrice(1000)\n",
    "c.sell()"
   ]
  },
  {
   "cell_type": "code",
   "execution_count": 112,
   "metadata": {
    "scrolled": true
   },
   "outputs": [
    {
     "data": {
      "text/plain": [
       "mappingproxy({'__dict__': <attribute '__dict__' of 'Computer' objects>,\n",
       "              '__doc__': None,\n",
       "              '__init__': <function __main__.Computer.__init__>,\n",
       "              '__module__': '__main__',\n",
       "              '__weakref__': <attribute '__weakref__' of 'Computer' objects>,\n",
       "              'sell': <function __main__.Computer.sell>,\n",
       "              'setMaxPrice': <function __main__.Computer.setMaxPrice>})"
      ]
     },
     "execution_count": 112,
     "metadata": {},
     "output_type": "execute_result"
    }
   ],
   "source": [
    "vars(Computer)"
   ]
  },
  {
   "cell_type": "markdown",
   "metadata": {},
   "source": [
    "앞뒤로 언더바 2개 씩 : 매직 메소드"
   ]
  },
  {
   "cell_type": "markdown",
   "metadata": {},
   "source": [
    "[Magic Method 관련 포스트(https://corikachu.github.io/articles/python/python-magic-method)](https://corikachu.github.io/articles/python/python-magic-method)"
   ]
  },
  {
   "cell_type": "markdown",
   "metadata": {},
   "source": [
    "## Polymorphism"
   ]
  },
  {
   "cell_type": "markdown",
   "metadata": {},
   "source": [
    "duck typing(덕타이핑) : 처음보는 물체가 \"꽥꽥\" 거리면 오리로 인식한다"
   ]
  },
  {
   "cell_type": "markdown",
   "metadata": {},
   "source": [
    "올바른 인터페이스를 가졌는지 판단하는데 객체의 형을 보지 않는 프로그래밍 스타일;  \n",
    "대신, 단순히 method나 attribute가 호출되거나 사용됩니다  \n",
    "(\"오리처럼 보이고 오리처럼 꽥꽥댄다면, 그것은 오리다.\")   \n",
    "특정한 형 대신에 인터페이스를 강조함으로써, 잘 설계된 코드는 다형적인 치환을 허락함으로써 유연성을 개선할 수 있습니다.  \n",
    "덕 타이핑은 type() 이나 isinstance() 을 사용한 검사를 피합니다.  \n",
    "(하지만, 덕 타이핑이 추상 베이스 클래스 로 보완될 수 있음에 유의해야 합니다.)  \n",
    "대신에, hasattr() 검사나 EAFP 프로그래밍을 씁니다."
   ]
  },
  {
   "cell_type": "markdown",
   "metadata": {},
   "source": [
    "**EAFP**(It's **E**asier to **A**sk **F**orgiveness than **P**ermission):   \n",
    "    \"허락보다 용서를 구하는 것이 쉽다\"  \n",
    "    파이썬 . 질러놓고 보자  \n",
    "    예외처리를 활용하여 검사를 수행하지 않고 일단 실행하고 예외처리를 진행하는 스타일  \n",
    "  \n",
    "**LBYL**(**L**ook **B**efore **Y**ou **L**eap):  \n",
    "    \"도약하기 전에 보아라\"  \n",
    "    C언어. 확인하고 해보자  \n",
    "    어떤 것을 실행하기전에 에러가 날만한 요소들을 조건절로 검사하고 진행하는 스타일"
   ]
  },
  {
   "cell_type": "markdown",
   "metadata": {},
   "source": [
    "Java에서는 Polymorphism 이전에 상속하는 것끼리 다르게 행동하는 것이었다."
   ]
  },
  {
   "cell_type": "code",
   "execution_count": 113,
   "metadata": {},
   "outputs": [
    {
     "name": "stdout",
     "output_type": "stream",
     "text": [
      "Parrot can fly\n",
      "Penguin can't fly\n"
     ]
    }
   ],
   "source": [
    "class Parrot:\n",
    "\n",
    "    def fly(self):\n",
    "        print(\"Parrot can fly\")\n",
    "    \n",
    "    def swim(self):\n",
    "        print(\"Parrot can't swim\")\n",
    "\n",
    "class Penguin:\n",
    "\n",
    "    def fly(self):\n",
    "        print(\"Penguin can't fly\")\n",
    "    \n",
    "    def swim(self):\n",
    "        print(\"Penguin can swim\")\n",
    "\n",
    "# common interface\n",
    "def flying_test(bird): #상속을 안 받았어도 각자 타입에 대해서 메소드를 실행해줄 수 있다.\n",
    "    bird.fly() # duck-typing, Liskov substitution principle 때문에 되는 것이다.\n",
    "    #instance가 들어가서 해당 메소드를 실행해준다 -> python 및 duck typing 지원해주는 언어에서만 가능하다.\n",
    "    \n",
    "#instantiate objects\n",
    "blu = Parrot()\n",
    "peggy = Penguin()\n",
    "\n",
    "# passing the object\n",
    "flying_test(blu)\n",
    "flying_test(peggy)"
   ]
  },
  {
   "cell_type": "markdown",
   "metadata": {},
   "source": [
    "Functional Programming할 때 Tuple형태는 Comprehension이 되지 않는다.  \n",
    "  \n",
    "Comprehension이란 iterable한 Object를 생성하기 위한 방법 중 하나이다.  \n",
    "(List, Set, Dict, Generator)  \n",
    "[Comprehension 관련 포스트 링크](https://mingrammer.com/introduce-comprehension-of-python/)"
   ]
  },
  {
   "cell_type": "code",
   "execution_count": 135,
   "metadata": {
    "collapsed": true
   },
   "outputs": [],
   "source": [
    "a = (x for x in range(3))"
   ]
  },
  {
   "cell_type": "code",
   "execution_count": 134,
   "metadata": {},
   "outputs": [
    {
     "data": {
      "text/plain": [
       "generator"
      ]
     },
     "execution_count": 134,
     "metadata": {},
     "output_type": "execute_result"
    }
   ],
   "source": [
    "type(a) # ()형태로 선언해서 tuple인줄 알았지만 generator 타입이다."
   ]
  },
  {
   "cell_type": "code",
   "execution_count": 127,
   "metadata": {},
   "outputs": [
    {
     "data": {
      "text/plain": [
       "0"
      ]
     },
     "execution_count": 127,
     "metadata": {},
     "output_type": "execute_result"
    }
   ],
   "source": [
    "next(a) # generator인데 필요한 시점마다 하나 하나씩 출력해준다. = lazy 기법"
   ]
  },
  {
   "cell_type": "code",
   "execution_count": 128,
   "metadata": {
    "scrolled": true
   },
   "outputs": [
    {
     "data": {
      "text/plain": [
       "1"
      ]
     },
     "execution_count": 128,
     "metadata": {},
     "output_type": "execute_result"
    }
   ],
   "source": [
    "next(a)"
   ]
  },
  {
   "cell_type": "code",
   "execution_count": 129,
   "metadata": {},
   "outputs": [
    {
     "data": {
      "text/plain": [
       "2"
      ]
     },
     "execution_count": 129,
     "metadata": {},
     "output_type": "execute_result"
    }
   ],
   "source": [
    "next(a)"
   ]
  },
  {
   "cell_type": "code",
   "execution_count": 130,
   "metadata": {},
   "outputs": [
    {
     "ename": "StopIteration",
     "evalue": "",
     "output_type": "error",
     "traceback": [
      "\u001b[1;31m---------------------------------------------------------------------------\u001b[0m",
      "\u001b[1;31mStopIteration\u001b[0m                             Traceback (most recent call last)",
      "\u001b[1;32m<ipython-input-130-4c1d81494a4f>\u001b[0m in \u001b[0;36m<module>\u001b[1;34m()\u001b[0m\n\u001b[1;32m----> 1\u001b[1;33m \u001b[0mnext\u001b[0m\u001b[1;33m(\u001b[0m\u001b[0ma\u001b[0m\u001b[1;33m)\u001b[0m \u001b[1;31m# 10 이상으로 가면 iteration 범위를 넘어가서 에러가 뜬다.\u001b[0m\u001b[1;33m\u001b[0m\u001b[0m\n\u001b[0m",
      "\u001b[1;31mStopIteration\u001b[0m: "
     ]
    }
   ],
   "source": [
    "next(a) # 2 이상으로 가면 iteration 범위를 넘어가서 에러가 뜬다."
   ]
  },
  {
   "cell_type": "code",
   "execution_count": 136,
   "metadata": {
    "collapsed": true
   },
   "outputs": [],
   "source": [
    "a = (x for x in range(11))"
   ]
  },
  {
   "cell_type": "code",
   "execution_count": 137,
   "metadata": {},
   "outputs": [
    {
     "data": {
      "text/plain": [
       "0"
      ]
     },
     "execution_count": 137,
     "metadata": {},
     "output_type": "execute_result"
    }
   ],
   "source": [
    "a.__next__() #위의 next()와 같은 기법이다."
   ]
  },
  {
   "cell_type": "code",
   "execution_count": 138,
   "metadata": {
    "collapsed": true
   },
   "outputs": [],
   "source": [
    "class Polygon:\n",
    "    def __init__(self, no_of_sides):\n",
    "        self.n = no_of_sides\n",
    "        self.sides = [0 for i in range(no_of_sides)] #Functional Programming (Comprehension)\n",
    "        \n",
    "    def inputSides(self):\n",
    "        self.sides = [float(input(\"Enter side \"+str(i+1)+\" : \")) for i in range(self.n)]\n",
    "\n",
    "    def dispSides(self):\n",
    "        for i in range(self.n): #여기서 i는 scope를 local로 지닌다.\n",
    "            print(\"Side\",i+1,\"is\",self.sides[i])"
   ]
  },
  {
   "cell_type": "code",
   "execution_count": 145,
   "metadata": {
    "collapsed": true
   },
   "outputs": [],
   "source": [
    "xy = Polygon(5)"
   ]
  },
  {
   "cell_type": "code",
   "execution_count": 146,
   "metadata": {
    "scrolled": true
   },
   "outputs": [
    {
     "data": {
      "text/plain": [
       "['__class__',\n",
       " '__delattr__',\n",
       " '__dict__',\n",
       " '__dir__',\n",
       " '__doc__',\n",
       " '__eq__',\n",
       " '__format__',\n",
       " '__ge__',\n",
       " '__getattribute__',\n",
       " '__gt__',\n",
       " '__hash__',\n",
       " '__init__',\n",
       " '__init_subclass__',\n",
       " '__le__',\n",
       " '__lt__',\n",
       " '__module__',\n",
       " '__ne__',\n",
       " '__new__',\n",
       " '__reduce__',\n",
       " '__reduce_ex__',\n",
       " '__repr__',\n",
       " '__setattr__',\n",
       " '__sizeof__',\n",
       " '__str__',\n",
       " '__subclasshook__',\n",
       " '__weakref__',\n",
       " 'dispSides',\n",
       " 'inputSides',\n",
       " 'n',\n",
       " 'sides']"
      ]
     },
     "execution_count": 146,
     "metadata": {},
     "output_type": "execute_result"
    }
   ],
   "source": [
    "dir(xy) #i가 보이지 않는다"
   ]
  },
  {
   "cell_type": "code",
   "execution_count": 147,
   "metadata": {},
   "outputs": [
    {
     "data": {
      "text/plain": [
       "{'n': 5, 'sides': [0, 0, 0, 0, 0]}"
      ]
     },
     "execution_count": 147,
     "metadata": {},
     "output_type": "execute_result"
    }
   ],
   "source": [
    "vars(xy)"
   ]
  },
  {
   "cell_type": "code",
   "execution_count": 148,
   "metadata": {},
   "outputs": [
    {
     "name": "stdout",
     "output_type": "stream",
     "text": [
      "0\n",
      "1\n",
      "2\n"
     ]
    }
   ],
   "source": [
    "for i in range(3):\n",
    "    print(i)"
   ]
  },
  {
   "cell_type": "code",
   "execution_count": 149,
   "metadata": {
    "scrolled": true
   },
   "outputs": [
    {
     "data": {
      "text/plain": [
       "2"
      ]
     },
     "execution_count": 149,
     "metadata": {},
     "output_type": "execute_result"
    }
   ],
   "source": [
    "i"
   ]
  },
  {
   "cell_type": "code",
   "execution_count": 150,
   "metadata": {},
   "outputs": [
    {
     "data": {
      "text/plain": [
       "[0, 1, 2, 3, 4, 5, 6, 7, 8, 9, 10]"
      ]
     },
     "execution_count": 150,
     "metadata": {},
     "output_type": "execute_result"
    }
   ],
   "source": [
    "[j for j in range(11)]"
   ]
  },
  {
   "cell_type": "code",
   "execution_count": 151,
   "metadata": {
    "scrolled": true
   },
   "outputs": [
    {
     "ename": "NameError",
     "evalue": "name 'j' is not defined",
     "output_type": "error",
     "traceback": [
      "\u001b[1;31m---------------------------------------------------------------------------\u001b[0m",
      "\u001b[1;31mNameError\u001b[0m                                 Traceback (most recent call last)",
      "\u001b[1;32m<ipython-input-151-aeef317f241e>\u001b[0m in \u001b[0;36m<module>\u001b[1;34m()\u001b[0m\n\u001b[1;32m----> 1\u001b[1;33m \u001b[0mj\u001b[0m \u001b[1;31m#여기서 j는 global 영역 으로 벗어나지 않는다. -> comprehension 방법을 쓸경우 global로 전이되지 않음!!!\u001b[0m\u001b[1;33m\u001b[0m\u001b[0m\n\u001b[0m",
      "\u001b[1;31mNameError\u001b[0m: name 'j' is not defined"
     ]
    }
   ],
   "source": [
    "j #여기서 j는 global 영역 으로 벗어나지 않는다. -> comprehension 방법을 쓸경우 global로 전이되지 않음!!!"
   ]
  },
  {
   "cell_type": "code",
   "execution_count": 152,
   "metadata": {
    "collapsed": true
   },
   "outputs": [],
   "source": [
    "class Polygon:\n",
    "    def __init__(self, no_of_sides):\n",
    "        self.n = no_of_sides\n",
    "        self.sides = [0 for i in range(no_of_sides)] #Functional Programming (Comprehension)\n",
    "        \n",
    "    def inputSides(self):\n",
    "        self.sides = [float(input(\"Enter side \"+str(i+1)+\" : \")) for i in range(self.n)]\n",
    "\n",
    "    def dispSides(self):\n",
    "        for i in range(self.n): #여기서 i는 scope를 local로 지닌다.\n",
    "            print(\"Side\",i+1,\"is\",self.sides[i])"
   ]
  },
  {
   "cell_type": "code",
   "execution_count": 154,
   "metadata": {
    "collapsed": true
   },
   "outputs": [],
   "source": [
    "xy = Polygon(5)\n",
    "yz = Polygon(3)"
   ]
  },
  {
   "cell_type": "markdown",
   "metadata": {},
   "source": [
    "클래스 타입 전체에서 갖게 하고 싶다면 class attribute  \n",
    "각각의 인스턴스마다 다르게 갖게 하고 싶다면 instance attribute  "
   ]
  },
  {
   "cell_type": "code",
   "execution_count": 155,
   "metadata": {
    "scrolled": true
   },
   "outputs": [
    {
     "name": "stdout",
     "output_type": "stream",
     "text": [
      "Enter side 1 : 3\n",
      "Enter side 2 : 3\n",
      "Enter side 3 : 2\n",
      "Enter side 4 : 2\n",
      "Enter side 5 : 1\n"
     ]
    }
   ],
   "source": [
    "xy.inputSides()"
   ]
  },
  {
   "cell_type": "code",
   "execution_count": 156,
   "metadata": {},
   "outputs": [
    {
     "data": {
      "text/plain": [
       "[3.0, 3.0, 2.0, 2.0, 1.0]"
      ]
     },
     "execution_count": 156,
     "metadata": {},
     "output_type": "execute_result"
    }
   ],
   "source": [
    "xy.sides #float라서 점이 붙음"
   ]
  },
  {
   "cell_type": "code",
   "execution_count": 157,
   "metadata": {
    "scrolled": true
   },
   "outputs": [
    {
     "name": "stdout",
     "output_type": "stream",
     "text": [
      "Side 1 is 3.0\n",
      "Side 2 is 3.0\n",
      "Side 3 is 2.0\n",
      "Side 4 is 2.0\n",
      "Side 5 is 1.0\n"
     ]
    }
   ],
   "source": [
    "xy.dispSides()"
   ]
  },
  {
   "cell_type": "markdown",
   "metadata": {},
   "source": [
    "객체지향 프로그래밍은 데이터 이름과 행동을 묶어버릴 수 있는 유용함을 준다"
   ]
  },
  {
   "cell_type": "code",
   "execution_count": 158,
   "metadata": {
    "collapsed": true
   },
   "outputs": [],
   "source": [
    "class Triangle(Polygon):\n",
    "    def __init__(self):\n",
    "        Polygon.__init__(self,3) # super().__init__(3) -> 삼각형이라 3으로 고정해버림\n",
    "        #super() 대신 슈퍼클래스의 클래스를 직접 명시해서 가져올 수 도 있다.\n",
    "        #__init__는 instance 메소드인데 예외적으로 클래스로 부를 수 있고, self도 집어넣을 수 있다.\n",
    "        \n",
    "    def findArea(self):\n",
    "        a, b, c = self.sides\n",
    "        # calculate the semi-perimeter\n",
    "        s = (a + b + c) / 2\n",
    "        area = (s*(s-a)*(s-b)*(s-c)) ** 0.5\n",
    "        print('The area of the triangle is %0.2f' %area)"
   ]
  },
  {
   "cell_type": "code",
   "execution_count": 159,
   "metadata": {},
   "outputs": [
    {
     "name": "stdout",
     "output_type": "stream",
     "text": [
      "True\n",
      "True\n",
      "True\n",
      "True\n"
     ]
    }
   ],
   "source": [
    "# Output: True\n",
    "print(issubclass(list,object))\n",
    "\n",
    "# Output: True\n",
    "print(isinstance(5.5,object))  # instance = 클래스 객체\n",
    "print(issubclass(float, object))\n",
    "\n",
    "# Output: True\n",
    "print(isinstance(\"Hello\",object))"
   ]
  },
  {
   "cell_type": "code",
   "execution_count": 160,
   "metadata": {},
   "outputs": [
    {
     "data": {
      "text/plain": [
       "True"
      ]
     },
     "execution_count": 160,
     "metadata": {},
     "output_type": "execute_result"
    }
   ],
   "source": [
    "issubclass(bool, object) #is가 붙으면 참.거짓을 판별해주는 predecate이다."
   ]
  },
  {
   "cell_type": "code",
   "execution_count": 161,
   "metadata": {},
   "outputs": [
    {
     "name": "stdout",
     "output_type": "stream",
     "text": [
      "[<class '__main__.M'>, <class '__main__.B'>, <class '__main__.A'>, <class '__main__.X'>, <class '__main__.Y'>, <class '__main__.Z'>, <class 'object'>]\n"
     ]
    }
   ],
   "source": [
    "class X: pass\n",
    "class Y: pass\n",
    "class Z: pass\n",
    "\n",
    "class A(X,Y): pass\n",
    "class B(Y,Z): pass\n",
    "\n",
    "class M(B,A,Z): pass\n",
    "\n",
    "# Output:\n",
    "# [<class '__main__.M'>, <class '__main__.B'>,\n",
    "# <class '__main__.A'>, <class '__main__.X'>,\n",
    "# <class '__main__.Y'>, <class '__main__.Z'>,\n",
    "# <class 'object'>]\n",
    " \n",
    "print(M.mro()) #mro는 다중상속 시에 상속된 순서를 알려준다!!"
   ]
  },
  {
   "cell_type": "markdown",
   "metadata": {},
   "source": [
    "B,A다음에 Z가 오지만 B가 Z를 상속받았기 때문에 혼동되어서 Z를 후순위로 밀어버린다. "
   ]
  },
  {
   "cell_type": "markdown",
   "metadata": {},
   "source": [
    "객체는 Object를 상속받기 때문에 dir하면 언더바언더바 메소드가 보인다"
   ]
  },
  {
   "cell_type": "code",
   "execution_count": 162,
   "metadata": {
    "collapsed": true
   },
   "outputs": [],
   "source": [
    "class B:\n",
    "    def __str__(self):\n",
    "        return 'aaa'\n",
    "    def __repr__(self):\n",
    "        return 'bbb'"
   ]
  },
  {
   "cell_type": "code",
   "execution_count": 163,
   "metadata": {
    "collapsed": true
   },
   "outputs": [],
   "source": [
    "abc = B()"
   ]
  },
  {
   "cell_type": "code",
   "execution_count": 164,
   "metadata": {},
   "outputs": [
    {
     "name": "stdout",
     "output_type": "stream",
     "text": [
      "aaa\n"
     ]
    }
   ],
   "source": [
    "print(abc) # __str__은 print할 때 보여주는 것"
   ]
  },
  {
   "cell_type": "code",
   "execution_count": 165,
   "metadata": {},
   "outputs": [
    {
     "data": {
      "text/plain": [
       "bbb"
      ]
     },
     "execution_count": 165,
     "metadata": {},
     "output_type": "execute_result"
    }
   ],
   "source": [
    "abc #__repr__은 변수 자체에 대해서 보여주는것 (ipython에서) 보통은 __str__ ==  __repr__"
   ]
  },
  {
   "cell_type": "code",
   "execution_count": 166,
   "metadata": {
    "scrolled": true
   },
   "outputs": [
    {
     "data": {
      "text/plain": [
       "['__abs__',\n",
       " '__add__',\n",
       " '__and__',\n",
       " '__bool__',\n",
       " '__ceil__',\n",
       " '__class__',\n",
       " '__delattr__',\n",
       " '__dir__',\n",
       " '__divmod__',\n",
       " '__doc__',\n",
       " '__eq__',\n",
       " '__float__',\n",
       " '__floor__',\n",
       " '__floordiv__',\n",
       " '__format__',\n",
       " '__ge__',\n",
       " '__getattribute__',\n",
       " '__getnewargs__',\n",
       " '__gt__',\n",
       " '__hash__',\n",
       " '__index__',\n",
       " '__init__',\n",
       " '__init_subclass__',\n",
       " '__int__',\n",
       " '__invert__',\n",
       " '__le__',\n",
       " '__lshift__',\n",
       " '__lt__',\n",
       " '__mod__',\n",
       " '__mul__',\n",
       " '__ne__',\n",
       " '__neg__',\n",
       " '__new__',\n",
       " '__or__',\n",
       " '__pos__',\n",
       " '__pow__',\n",
       " '__radd__',\n",
       " '__rand__',\n",
       " '__rdivmod__',\n",
       " '__reduce__',\n",
       " '__reduce_ex__',\n",
       " '__repr__',\n",
       " '__rfloordiv__',\n",
       " '__rlshift__',\n",
       " '__rmod__',\n",
       " '__rmul__',\n",
       " '__ror__',\n",
       " '__round__',\n",
       " '__rpow__',\n",
       " '__rrshift__',\n",
       " '__rshift__',\n",
       " '__rsub__',\n",
       " '__rtruediv__',\n",
       " '__rxor__',\n",
       " '__setattr__',\n",
       " '__sizeof__',\n",
       " '__str__',\n",
       " '__sub__',\n",
       " '__subclasshook__',\n",
       " '__truediv__',\n",
       " '__trunc__',\n",
       " '__xor__',\n",
       " 'bit_length',\n",
       " 'conjugate',\n",
       " 'denominator',\n",
       " 'from_bytes',\n",
       " 'imag',\n",
       " 'numerator',\n",
       " 'real',\n",
       " 'to_bytes']"
      ]
     },
     "execution_count": 166,
     "metadata": {},
     "output_type": "execute_result"
    }
   ],
   "source": [
    "dir(3)"
   ]
  },
  {
   "cell_type": "code",
   "execution_count": 167,
   "metadata": {
    "collapsed": true
   },
   "outputs": [],
   "source": [
    "#int를 상속받아서 나만의 int\n",
    "class My_Int(int):\n",
    "    def __add__(self, other):\n",
    "        super().__add__(other)"
   ]
  },
  {
   "cell_type": "code",
   "execution_count": 168,
   "metadata": {},
   "outputs": [
    {
     "data": {
      "text/plain": [
       "3"
      ]
     },
     "execution_count": 168,
     "metadata": {},
     "output_type": "execute_result"
    }
   ],
   "source": [
    "a = My_Int(3)\n",
    "a"
   ]
  },
  {
   "cell_type": "code",
   "execution_count": 169,
   "metadata": {},
   "outputs": [
    {
     "data": {
      "text/plain": [
       "6"
      ]
     },
     "execution_count": 169,
     "metadata": {},
     "output_type": "execute_result"
    }
   ],
   "source": [
    "b = My_Int(6)\n",
    "b"
   ]
  },
  {
   "cell_type": "code",
   "execution_count": 170,
   "metadata": {
    "scrolled": true
   },
   "outputs": [
    {
     "name": "stdout",
     "output_type": "stream",
     "text": [
      "None\n"
     ]
    }
   ],
   "source": [
    "print(a+b)"
   ]
  },
  {
   "cell_type": "code",
   "execution_count": 171,
   "metadata": {
    "collapsed": true
   },
   "outputs": [],
   "source": [
    "#int를 상속받아서 나만의 int\n",
    "class My_Int(int):\n",
    "    def __init__(self,num):\n",
    "        self.num = num\n",
    "    def __add__(self, other): #연산자 오버로딩 (객체지향 이기에 가능함. 연산자 제외하고는 오버라이딩이라고 한다.)\n",
    "        super().__add__(other)\n",
    "        return self.num +other\n",
    "    def __repr__(self):\n",
    "        return str(self.num)\n",
    "    def __str__(self):\n",
    "        return str(self.num)"
   ]
  },
  {
   "cell_type": "code",
   "execution_count": 172,
   "metadata": {},
   "outputs": [
    {
     "data": {
      "text/plain": [
       "3"
      ]
     },
     "execution_count": 172,
     "metadata": {},
     "output_type": "execute_result"
    }
   ],
   "source": [
    "a = My_Int(3)\n",
    "a"
   ]
  },
  {
   "cell_type": "code",
   "execution_count": 173,
   "metadata": {},
   "outputs": [
    {
     "data": {
      "text/plain": [
       "6"
      ]
     },
     "execution_count": 173,
     "metadata": {},
     "output_type": "execute_result"
    }
   ],
   "source": [
    "b = My_Int(6)\n",
    "b"
   ]
  },
  {
   "cell_type": "code",
   "execution_count": 174,
   "metadata": {
    "scrolled": true
   },
   "outputs": [
    {
     "name": "stdout",
     "output_type": "stream",
     "text": [
      "9\n"
     ]
    }
   ],
   "source": [
    "print(a+b)"
   ]
  },
  {
   "cell_type": "code",
   "execution_count": 175,
   "metadata": {
    "scrolled": true
   },
   "outputs": [
    {
     "data": {
      "text/plain": [
       "9"
      ]
     },
     "execution_count": 175,
     "metadata": {},
     "output_type": "execute_result"
    }
   ],
   "source": [
    "a+b"
   ]
  },
  {
   "cell_type": "code",
   "execution_count": 176,
   "metadata": {},
   "outputs": [
    {
     "data": {
      "text/plain": [
       "'3'"
      ]
     },
     "execution_count": 176,
     "metadata": {},
     "output_type": "execute_result"
    }
   ],
   "source": [
    "3 .__str__() #__str__()은 string화 해준다."
   ]
  },
  {
   "cell_type": "code",
   "execution_count": 177,
   "metadata": {
    "scrolled": true
   },
   "outputs": [
    {
     "data": {
      "text/plain": [
       "['__abs__',\n",
       " '__add__',\n",
       " '__and__',\n",
       " '__bool__',\n",
       " '__ceil__',\n",
       " '__class__',\n",
       " '__delattr__',\n",
       " '__dir__',\n",
       " '__divmod__',\n",
       " '__doc__',\n",
       " '__eq__',\n",
       " '__float__',\n",
       " '__floor__',\n",
       " '__floordiv__',\n",
       " '__format__',\n",
       " '__ge__',\n",
       " '__getattribute__',\n",
       " '__getnewargs__',\n",
       " '__gt__',\n",
       " '__hash__',\n",
       " '__index__',\n",
       " '__init__',\n",
       " '__init_subclass__',\n",
       " '__int__',\n",
       " '__invert__',\n",
       " '__le__',\n",
       " '__lshift__',\n",
       " '__lt__',\n",
       " '__mod__',\n",
       " '__mul__',\n",
       " '__ne__',\n",
       " '__neg__',\n",
       " '__new__',\n",
       " '__or__',\n",
       " '__pos__',\n",
       " '__pow__',\n",
       " '__radd__',\n",
       " '__rand__',\n",
       " '__rdivmod__',\n",
       " '__reduce__',\n",
       " '__reduce_ex__',\n",
       " '__repr__',\n",
       " '__rfloordiv__',\n",
       " '__rlshift__',\n",
       " '__rmod__',\n",
       " '__rmul__',\n",
       " '__ror__',\n",
       " '__round__',\n",
       " '__rpow__',\n",
       " '__rrshift__',\n",
       " '__rshift__',\n",
       " '__rsub__',\n",
       " '__rtruediv__',\n",
       " '__rxor__',\n",
       " '__setattr__',\n",
       " '__sizeof__',\n",
       " '__str__',\n",
       " '__sub__',\n",
       " '__subclasshook__',\n",
       " '__truediv__',\n",
       " '__trunc__',\n",
       " '__xor__',\n",
       " 'bit_length',\n",
       " 'conjugate',\n",
       " 'denominator',\n",
       " 'from_bytes',\n",
       " 'imag',\n",
       " 'numerator',\n",
       " 'real',\n",
       " 'to_bytes']"
      ]
     },
     "execution_count": 177,
     "metadata": {},
     "output_type": "execute_result"
    }
   ],
   "source": [
    "dir(int)"
   ]
  },
  {
   "cell_type": "code",
   "execution_count": 178,
   "metadata": {
    "collapsed": true
   },
   "outputs": [],
   "source": [
    "#int를 상속받아서 나만의 int\n",
    "class My_Int(int):\n",
    "    def __init__(self,num):\n",
    "        self.num = num\n",
    "    def __add__(self, other): #연산자 오버로딩 (객체지향 이기에 가능함. 연산자 제외하고는 오버라이딩이라고 한다.)\n",
    "#         super().__add__(other)\n",
    "        return self.num +other\n",
    "    def __sub__(self, other): #연산자 오버로딩 (객체지향 이기에 가능함. 연산자 제외하고는 오버라이딩이라고 한다.)\n",
    "#         super().__sub__(other)\n",
    "        return self.num -other\n",
    "    def __repr__(self):\n",
    "        return str(self.num)\n",
    "    def __str__(self):\n",
    "        return str(self.num)"
   ]
  },
  {
   "cell_type": "code",
   "execution_count": 179,
   "metadata": {},
   "outputs": [
    {
     "data": {
      "text/plain": [
       "3"
      ]
     },
     "execution_count": 179,
     "metadata": {},
     "output_type": "execute_result"
    }
   ],
   "source": [
    "a = My_Int(3)\n",
    "a"
   ]
  },
  {
   "cell_type": "code",
   "execution_count": 180,
   "metadata": {},
   "outputs": [
    {
     "data": {
      "text/plain": [
       "6"
      ]
     },
     "execution_count": 180,
     "metadata": {},
     "output_type": "execute_result"
    }
   ],
   "source": [
    "b = My_Int(6)\n",
    "b"
   ]
  },
  {
   "cell_type": "code",
   "execution_count": 181,
   "metadata": {
    "scrolled": true
   },
   "outputs": [
    {
     "name": "stdout",
     "output_type": "stream",
     "text": [
      "-3\n"
     ]
    }
   ],
   "source": [
    "print(a-b)"
   ]
  },
  {
   "cell_type": "code",
   "execution_count": 182,
   "metadata": {
    "scrolled": true
   },
   "outputs": [
    {
     "data": {
      "text/plain": [
       "-3"
      ]
     },
     "execution_count": 182,
     "metadata": {},
     "output_type": "execute_result"
    }
   ],
   "source": [
    "a-b"
   ]
  },
  {
   "cell_type": "code",
   "execution_count": 183,
   "metadata": {
    "collapsed": true
   },
   "outputs": [],
   "source": [
    "a = 2"
   ]
  },
  {
   "cell_type": "code",
   "execution_count": 184,
   "metadata": {},
   "outputs": [
    {
     "data": {
      "text/plain": [
       "<method-wrapper '__str__' of int object at 0x0000000056AE60C0>"
      ]
     },
     "execution_count": 184,
     "metadata": {},
     "output_type": "execute_result"
    }
   ],
   "source": [
    "a.__str__"
   ]
  },
  {
   "cell_type": "code",
   "execution_count": 185,
   "metadata": {
    "collapsed": true
   },
   "outputs": [],
   "source": [
    "#int를 상속받아서 나만의 int\n",
    "class My_Int(int):\n",
    "    def __init__(self,num):\n",
    "        self.num = num\n",
    "    def __add__(self, other): #연산자 오버로딩 (객체지향 이기에 가능함. 연산자 제외하고는 오버라이딩이라고 한다.)\n",
    "#         super().__add__(other)\n",
    "        return self.num +other\n",
    "    def __sub__(self, other): #연산자 오버로딩 (객체지향 이기에 가능함. 연산자 제외하고는 오버라이딩이라고 한다.)\n",
    "#         super().__sub__(other)\n",
    "        return self.num -other\n",
    "    def __repr__(self):\n",
    "        return str(self.num)\n",
    "    def __str__(self):\n",
    "        return str(self.num)\n",
    "    def __radd__(self, other):\n",
    "        return self.num + other +2"
   ]
  },
  {
   "cell_type": "code",
   "execution_count": 201,
   "metadata": {
    "collapsed": true
   },
   "outputs": [],
   "source": [
    "a = My_Int(3)"
   ]
  },
  {
   "cell_type": "code",
   "execution_count": 202,
   "metadata": {
    "collapsed": true
   },
   "outputs": [],
   "source": [
    "b = My_Int(4)"
   ]
  },
  {
   "cell_type": "code",
   "execution_count": 203,
   "metadata": {},
   "outputs": [
    {
     "data": {
      "text/plain": [
       "9"
      ]
     },
     "execution_count": 203,
     "metadata": {},
     "output_type": "execute_result"
    }
   ],
   "source": [
    "a+b # __radd__ 가 실행이 된다."
   ]
  },
  {
   "cell_type": "code",
   "execution_count": 204,
   "metadata": {},
   "outputs": [
    {
     "data": {
      "text/plain": [
       "5"
      ]
     },
     "execution_count": 204,
     "metadata": {},
     "output_type": "execute_result"
    }
   ],
   "source": [
    "My_Int(2) + My_Int(1) # __radd__ 가 실행이 됨을 알 수 있다."
   ]
  },
  {
   "cell_type": "code",
   "execution_count": 205,
   "metadata": {
    "collapsed": true
   },
   "outputs": [],
   "source": [
    "class AA:\n",
    "    pass"
   ]
  },
  {
   "cell_type": "code",
   "execution_count": 206,
   "metadata": {
    "collapsed": true
   },
   "outputs": [],
   "source": [
    "aa = AA()\n",
    "bb = AA()"
   ]
  },
  {
   "cell_type": "code",
   "execution_count": 207,
   "metadata": {
    "scrolled": true
   },
   "outputs": [
    {
     "ename": "TypeError",
     "evalue": "unsupported operand type(s) for +: 'AA' and 'AA'",
     "output_type": "error",
     "traceback": [
      "\u001b[1;31m---------------------------------------------------------------------------\u001b[0m",
      "\u001b[1;31mTypeError\u001b[0m                                 Traceback (most recent call last)",
      "\u001b[1;32m<ipython-input-207-afdfbf137626>\u001b[0m in \u001b[0;36m<module>\u001b[1;34m()\u001b[0m\n\u001b[1;32m----> 1\u001b[1;33m \u001b[0maa\u001b[0m \u001b[1;33m+\u001b[0m \u001b[0mbb\u001b[0m \u001b[1;31m#AA()에 더하기가 정의되어있지않아서 오류가 뜬다\u001b[0m\u001b[1;33m\u001b[0m\u001b[0m\n\u001b[0m",
      "\u001b[1;31mTypeError\u001b[0m: unsupported operand type(s) for +: 'AA' and 'AA'"
     ]
    }
   ],
   "source": [
    "aa + bb #AA()에 더하기가 정의되어있지않아서 오류가 뜬다"
   ]
  },
  {
   "cell_type": "code",
   "execution_count": 208,
   "metadata": {
    "collapsed": true
   },
   "outputs": [],
   "source": [
    "class AA:\n",
    "    def __init__(self,num):\n",
    "        self.num = num\n",
    "    def __add__(self, other):\n",
    "        self.num = self.num + other.num\n",
    "    def __str__(self):\n",
    "        return self.num"
   ]
  },
  {
   "cell_type": "code",
   "execution_count": 209,
   "metadata": {
    "collapsed": true
   },
   "outputs": [],
   "source": [
    "aa = AA(3)"
   ]
  },
  {
   "cell_type": "code",
   "execution_count": 210,
   "metadata": {
    "collapsed": true
   },
   "outputs": [],
   "source": [
    "bb = AA(4)"
   ]
  },
  {
   "cell_type": "code",
   "execution_count": 211,
   "metadata": {
    "collapsed": true
   },
   "outputs": [],
   "source": [
    "aa+bb # __repr__을 지정 안해줘서 안됨.. "
   ]
  },
  {
   "cell_type": "code",
   "execution_count": 213,
   "metadata": {
    "scrolled": true
   },
   "outputs": [
    {
     "name": "stdout",
     "output_type": "stream",
     "text": [
      "None\n"
     ]
    }
   ],
   "source": [
    "print(aa+bb)"
   ]
  },
  {
   "cell_type": "markdown",
   "metadata": {},
   "source": [
    "**연산자 오버로딩 시에 repr, str, init, 그리고 연산자를 다시 지정해주어야함**"
   ]
  },
  {
   "cell_type": "code",
   "execution_count": 214,
   "metadata": {
    "collapsed": true
   },
   "outputs": [],
   "source": [
    "class Point:\n",
    "    def __init__(self, x = 0, y = 0):\n",
    "        self.x = x\n",
    "        self.y = y"
   ]
  },
  {
   "cell_type": "code",
   "execution_count": 215,
   "metadata": {
    "collapsed": true
   },
   "outputs": [],
   "source": [
    "class Point:\n",
    "    def __init__(self, x = 0, y = 0):\n",
    "        self.x = x\n",
    "        self.y = y\n",
    "    \n",
    "    def __str__(self):\n",
    "        return \"({0},{1})\".format(self.x,self.y)"
   ]
  },
  {
   "cell_type": "code",
   "execution_count": 216,
   "metadata": {
    "collapsed": true
   },
   "outputs": [],
   "source": [
    "class Point:\n",
    "    def __init__(self, x = 0, y = 0):\n",
    "        self.x = x\n",
    "        self.y = y\n",
    "    \n",
    "    def __str__(self):\n",
    "        return \"({0},{1})\".format(self.x,self.y)\n",
    "    \n",
    "    def __add__(self,other):\n",
    "        x = self.x + other.x\n",
    "        y = self.y + other.y\n",
    "        return Point(x,y)"
   ]
  },
  {
   "cell_type": "code",
   "execution_count": 217,
   "metadata": {
    "collapsed": true
   },
   "outputs": [],
   "source": [
    "class Point:\n",
    "    def __init__(self, x = 0, y = 0):\n",
    "        self.x = x\n",
    "        self.y = y\n",
    "    \n",
    "    def __str__(self):\n",
    "        return \"({0},{1})\".format(self.x,self.y)\n",
    "    \n",
    "    def __lt__(self,other):\n",
    "        self_mag = (self.x ** 2) + (self.y ** 2)\n",
    "        other_mag = (other.x ** 2) + (other.y ** 2)\n",
    "        return self_mag < other_mag"
   ]
  }
 ],
 "metadata": {
  "kernelspec": {
   "display_name": "Python 3",
   "language": "python",
   "name": "python3"
  },
  "language_info": {
   "codemirror_mode": {
    "name": "ipython",
    "version": 3
   },
   "file_extension": ".py",
   "mimetype": "text/x-python",
   "name": "python",
   "nbconvert_exporter": "python",
   "pygments_lexer": "ipython3",
   "version": "3.6.3"
  }
 },
 "nbformat": 4,
 "nbformat_minor": 2
}
