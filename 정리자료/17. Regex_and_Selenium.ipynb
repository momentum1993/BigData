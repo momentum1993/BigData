{
 "cells": [
  {
   "cell_type": "markdown",
   "metadata": {},
   "source": [
    "# Regular Expression and Selenium"
   ]
  },
  {
   "cell_type": "markdown",
   "metadata": {},
   "source": [
    "## Regular Expression"
   ]
  },
  {
   "cell_type": "markdown",
   "metadata": {},
   "source": [
    "String에서 어떠한 패턴을 찾는 것"
   ]
  },
  {
   "cell_type": "code",
   "execution_count": 1,
   "metadata": {
    "collapsed": true
   },
   "outputs": [],
   "source": [
    "import re"
   ]
  },
  {
   "cell_type": "code",
   "execution_count": 2,
   "metadata": {
    "collapsed": true
   },
   "outputs": [],
   "source": [
    "content = \"Hello World\""
   ]
  },
  {
   "cell_type": "code",
   "execution_count": 3,
   "metadata": {
    "collapsed": true
   },
   "outputs": [],
   "source": [
    "dot = re.compile(\"(H..).(o..)\") #패턴을 넣는다."
   ]
  },
  {
   "cell_type": "code",
   "execution_count": 4,
   "metadata": {
    "collapsed": true
   },
   "outputs": [],
   "source": [
    "plus = re.compile(\"l+\") # l이 1개 이상 갖고 있는 패턴"
   ]
  },
  {
   "cell_type": "code",
   "execution_count": 5,
   "metadata": {
    "scrolled": true
   },
   "outputs": [
    {
     "data": {
      "text/plain": [
       "<_sre.SRE_Match object; span=(0, 7), match='Hello W'>"
      ]
     },
     "execution_count": 5,
     "metadata": {},
     "output_type": "execute_result"
    }
   ],
   "source": [
    "re.match(dot, content)"
   ]
  },
  {
   "cell_type": "code",
   "execution_count": 6,
   "metadata": {},
   "outputs": [
    {
     "data": {
      "text/plain": [
       "<_sre.SRE_Match object; span=(0, 7), match='Hello W'>"
      ]
     },
     "execution_count": 6,
     "metadata": {},
     "output_type": "execute_result"
    }
   ],
   "source": [
    "re.search(dot, content) #search는 문자열 전체에서 첫번째 찾는 것 리턴"
   ]
  },
  {
   "cell_type": "code",
   "execution_count": 7,
   "metadata": {
    "scrolled": false
   },
   "outputs": [
    {
     "data": {
      "text/plain": [
       "<_sre.SRE_Match object; span=(2, 4), match='ll'>"
      ]
     },
     "execution_count": 7,
     "metadata": {},
     "output_type": "execute_result"
    }
   ],
   "source": [
    "re.search(plus,content) "
   ]
  },
  {
   "cell_type": "code",
   "execution_count": 27,
   "metadata": {},
   "outputs": [
    {
     "data": {
      "text/plain": [
       "True"
      ]
     },
     "execution_count": 27,
     "metadata": {},
     "output_type": "execute_result"
    }
   ],
   "source": [
    "re.match(plus, content) is None  #문자열 전체를 검색해서 매치되는지 조사\n",
    "# 문자열 처음부터 H로 시작하기 때문에 ㅣ이 한 개 이상 가진 패턴과 일치하지 않는다."
   ]
  },
  {
   "cell_type": "markdown",
   "metadata": {},
   "source": [
    "match와 search가 다르다  \n",
    "\n",
    "match의 경우 문자열의 시작 부분에서 무언가를 찾고 match 객체를 반환한다.  \n",
    "search의 경우 문자열의 아무 곳이나 찾아서 일치 객체를 반환한다.  "
   ]
  },
  {
   "cell_type": "code",
   "execution_count": 9,
   "metadata": {
    "collapsed": true
   },
   "outputs": [],
   "source": [
    "result = re.findall(plus, content) #대부분의 상황에서 findall을 쓸 것이다.\n",
    "#패턴에 맞는 것 모두 리턴해준다. 리턴형도 다름"
   ]
  },
  {
   "cell_type": "code",
   "execution_count": 10,
   "metadata": {},
   "outputs": [
    {
     "data": {
      "text/plain": [
       "list"
      ]
     },
     "execution_count": 10,
     "metadata": {},
     "output_type": "execute_result"
    }
   ],
   "source": [
    "type(result)"
   ]
  },
  {
   "cell_type": "code",
   "execution_count": 11,
   "metadata": {},
   "outputs": [
    {
     "data": {
      "text/plain": [
       "['ll', 'l']"
      ]
     },
     "execution_count": 11,
     "metadata": {},
     "output_type": "execute_result"
    }
   ],
   "source": [
    "result"
   ]
  },
  {
   "cell_type": "code",
   "execution_count": 16,
   "metadata": {
    "collapsed": true
   },
   "outputs": [],
   "source": [
    "data = \"\"\"\n",
    "park 800905-1111111\n",
    "kim 900719-2111111\n",
    "\"\"\""
   ]
  },
  {
   "cell_type": "code",
   "execution_count": 17,
   "metadata": {
    "collapsed": true
   },
   "outputs": [],
   "source": [
    "pattern = re.compile(\"(\\d{6})-(\\d{7})\")\n",
    "# ()를 통해서 그룹화해주었고, \\d{6}은 정수 6개가 붙은 패턴을 찾는 것이다."
   ]
  },
  {
   "cell_type": "code",
   "execution_count": 18,
   "metadata": {},
   "outputs": [
    {
     "data": {
      "text/plain": [
       "[('800905', '1111111'), ('900719', '2111111')]"
      ]
     },
     "execution_count": 18,
     "metadata": {},
     "output_type": "execute_result"
    }
   ],
   "source": [
    "re.findall(pattern, data) # data의 내용에서 compile한 패턴과 일치하는 부분을 반환해줌."
   ]
  },
  {
   "cell_type": "markdown",
   "metadata": {},
   "source": [
    "re.sub()의 경우 어떠한 패턴과 매치되는 텍스트들을 원하는 표현에 맞게 수정 반환해줌"
   ]
  },
  {
   "cell_type": "code",
   "execution_count": 19,
   "metadata": {},
   "outputs": [
    {
     "data": {
      "text/plain": [
       "'\\npark 800905-*******\\nkim 900719-*******\\n'"
      ]
     },
     "execution_count": 19,
     "metadata": {},
     "output_type": "execute_result"
    }
   ],
   "source": [
    "pattern.sub(\"\\g<1>-*******\", data) \n",
    "# data에서 해당 패턴과 매치되는 텍스트를 위의 g<1>(첫번째그룹)과 그뒤에 별표로 기입한 패턴으로 변환해준다."
   ]
  },
  {
   "cell_type": "code",
   "execution_count": 20,
   "metadata": {},
   "outputs": [
    {
     "data": {
      "text/plain": [
       "<_sre.SRE_Match object; span=(0, 4), match='crow'>"
      ]
     },
     "execution_count": 20,
     "metadata": {},
     "output_type": "execute_result"
    }
   ],
   "source": [
    "p = re.compile(\"crow|servo\") # crow나 servo를 포함하는 패턴을 찾는다.\n",
    "re.match(p, \"crowhello\") #\"crowhello\"에서는 'crow'라는 패턴을 찾아낼 수 있다."
   ]
  },
  {
   "cell_type": "markdown",
   "metadata": {},
   "source": [
    "문자열 시작하는 위치 끝나는 위치를 찾는 것임.  \n",
    "^는 텍스트의 시작지점을 의미하는 것이다.  \n",
    "^를 붙여놓고 serarch하면 시작하는 것을 강제로 받아오기 때문에 match와 같다"
   ]
  },
  {
   "cell_type": "code",
   "execution_count": 22,
   "metadata": {},
   "outputs": [
    {
     "name": "stdout",
     "output_type": "stream",
     "text": [
      "<_sre.SRE_Match object; span=(0, 4), match='Life'>\n"
     ]
    }
   ],
   "source": [
    "print(re.search('^Life', 'Life is too short'))"
   ]
  },
  {
   "cell_type": "code",
   "execution_count": 25,
   "metadata": {},
   "outputs": [
    {
     "name": "stdout",
     "output_type": "stream",
     "text": [
      "<_sre.SRE_Match object; span=(12, 17), match='short'>\n"
     ]
    }
   ],
   "source": [
    "print(re.search('short', 'Life is too short'))"
   ]
  },
  {
   "cell_type": "markdown",
   "metadata": {},
   "source": [
    "$의 경우 텍스트의 종료지점을 의미한다."
   ]
  },
  {
   "cell_type": "code",
   "execution_count": 29,
   "metadata": {},
   "outputs": [
    {
     "data": {
      "text/plain": [
       "True"
      ]
     },
     "execution_count": 29,
     "metadata": {},
     "output_type": "execute_result"
    }
   ],
   "source": [
    "re.match(\"My$\", \"My Life\") is None\n",
    "# $는 텍스트의 종료지점을 의미하기 때문에 문자열 전체적으로 Match해보면 \n",
    "# My뒤에 문자열이 계속되기 때문에 패턴과 일치 X"
   ]
  },
  {
   "cell_type": "markdown",
   "metadata": {},
   "source": [
    "+의 경우 앞의 문자가 1개 이상 있는 패턴을 찾는 것이다."
   ]
  },
  {
   "cell_type": "code",
   "execution_count": 30,
   "metadata": {
    "collapsed": true
   },
   "outputs": [],
   "source": [
    "p = re.compile(\"(ABC)+\") # ABC, ABCABC, ..... 이러한 패턴...."
   ]
  },
  {
   "cell_type": "markdown",
   "metadata": {},
   "source": [
    "group() 메소드의 경우 패턴에 맞게 매칭된 문자열을 모두 출력해준다."
   ]
  },
  {
   "cell_type": "code",
   "execution_count": 33,
   "metadata": {},
   "outputs": [
    {
     "data": {
      "text/plain": [
       "'ABCABCABC'"
      ]
     },
     "execution_count": 33,
     "metadata": {},
     "output_type": "execute_result"
    }
   ],
   "source": [
    "re.search(p, \"ABCABCABCA\").group()\n",
    "#greedy하게 ABC패턴을 가진 끝까지 출력을 해준다."
   ]
  },
  {
   "cell_type": "code",
   "execution_count": 79,
   "metadata": {
    "collapsed": true
   },
   "outputs": [],
   "source": [
    "p = re.compile(r\"\\bclass\\b\") # class 앞뒤에 whitespace가 있어야한다.\n",
    "#escape문자를 쓰려면 r을 붙여줘야한다.\n",
    "#\\b의 경우에는 whitespace가 있어야지 인식 해준다.\n",
    "#\\B의 경우에는 문자가 있어야지 인식 해준다."
   ]
  },
  {
   "cell_type": "code",
   "execution_count": 82,
   "metadata": {},
   "outputs": [
    {
     "name": "stdout",
     "output_type": "stream",
     "text": [
      "<_sre.SRE_Match object; span=(3, 8), match='class'>\n"
     ]
    }
   ],
   "source": [
    "print(p.search(\"no class at all\"))\n",
    "# no class at에서 class앞뒤에 whitesspace가 있어 패턴을 인식"
   ]
  },
  {
   "cell_type": "code",
   "execution_count": 83,
   "metadata": {},
   "outputs": [
    {
     "name": "stdout",
     "output_type": "stream",
     "text": [
      "None\n"
     ]
    }
   ],
   "source": [
    "print(p.search(\"no subclass at all\")) \n",
    "#subclass에서 class앞에 whitespace가 없어서 인식 불가"
   ]
  },
  {
   "cell_type": "code",
   "execution_count": 85,
   "metadata": {},
   "outputs": [
    {
     "data": {
      "text/plain": [
       "re.compile(r'(\\d{6})-(\\d{7})', re.UNICODE)"
      ]
     },
     "execution_count": 85,
     "metadata": {},
     "output_type": "execute_result"
    }
   ],
   "source": [
    "pattern"
   ]
  },
  {
   "cell_type": "code",
   "execution_count": 86,
   "metadata": {},
   "outputs": [
    {
     "data": {
      "text/plain": [
       "'\\npark 800905-1111111\\nkim 900719-2111111\\n'"
      ]
     },
     "execution_count": 86,
     "metadata": {},
     "output_type": "execute_result"
    }
   ],
   "source": [
    "data"
   ]
  },
  {
   "cell_type": "code",
   "execution_count": 91,
   "metadata": {
    "collapsed": true
   },
   "outputs": [],
   "source": [
    "result = re.search(pattern, data) # 데이터에서 해당 패턴에 맞는 부분을 찾는다.\n",
    "# 800905, 1111111"
   ]
  },
  {
   "cell_type": "code",
   "execution_count": 92,
   "metadata": {},
   "outputs": [
    {
     "data": {
      "text/plain": [
       "'800905'"
      ]
     },
     "execution_count": 92,
     "metadata": {},
     "output_type": "execute_result"
    }
   ],
   "source": [
    "result.group(1) # 찾은 패턴의 첫번째 그룹 반환"
   ]
  },
  {
   "cell_type": "code",
   "execution_count": 93,
   "metadata": {},
   "outputs": [
    {
     "data": {
      "text/plain": [
       "'1111111'"
      ]
     },
     "execution_count": 93,
     "metadata": {},
     "output_type": "execute_result"
    }
   ],
   "source": [
    "result.group(2) # 찾은 패턴의 두번째 그룹 반환"
   ]
  },
  {
   "cell_type": "markdown",
   "metadata": {},
   "source": [
    "\\w 는 유니코드인 경우 숫자, 언더바를 포함하는 모든 언어의 표현 가능한 문자.  \n",
    "\\s 는 공백문자  \n",
    "\\d 는 모든 숫자.  \n",
    "[] 는 문자의 집합을 나타낸다. ex) [abcd]의 경우 a, b, c, d 중의 한 문자와 매치  \n",
    "() 는 괄호 안의 정규식을 그룹으로 만들어준다."
   ]
  },
  {
   "cell_type": "code",
   "execution_count": 95,
   "metadata": {
    "collapsed": true
   },
   "outputs": [],
   "source": [
    "p = re.compile(r\"(\\w+)\\s+\\d+[-]\\d+[-]\\d+\")\n",
    "result = re.search(p, \"park 010-0000-0000\")"
   ]
  },
  {
   "cell_type": "code",
   "execution_count": 96,
   "metadata": {},
   "outputs": [
    {
     "data": {
      "text/plain": [
       "<_sre.SRE_Match object; span=(0, 18), match='park 010-0000-0000'>"
      ]
     },
     "execution_count": 96,
     "metadata": {},
     "output_type": "execute_result"
    }
   ],
   "source": [
    "result"
   ]
  },
  {
   "cell_type": "code",
   "execution_count": 97,
   "metadata": {
    "scrolled": true
   },
   "outputs": [
    {
     "data": {
      "text/plain": [
       "'park'"
      ]
     },
     "execution_count": 97,
     "metadata": {},
     "output_type": "execute_result"
    }
   ],
   "source": [
    "result.group(1)"
   ]
  },
  {
   "cell_type": "code",
   "execution_count": 98,
   "metadata": {
    "scrolled": false
   },
   "outputs": [
    {
     "ename": "IndexError",
     "evalue": "no such group",
     "output_type": "error",
     "traceback": [
      "\u001b[1;31m---------------------------------------------------------------------------\u001b[0m",
      "\u001b[1;31mIndexError\u001b[0m                                Traceback (most recent call last)",
      "\u001b[1;32m<ipython-input-98-c0955ecf6f18>\u001b[0m in \u001b[0;36m<module>\u001b[1;34m()\u001b[0m\n\u001b[1;32m----> 1\u001b[1;33m \u001b[0mresult\u001b[0m\u001b[1;33m.\u001b[0m\u001b[0mgroup\u001b[0m\u001b[1;33m(\u001b[0m\u001b[1;36m2\u001b[0m\u001b[1;33m)\u001b[0m \u001b[1;31m#여기서 그룹은 1개만 만들어 줬기 때문에 에러 뜰 것이다.\u001b[0m\u001b[1;33m\u001b[0m\u001b[0m\n\u001b[0m",
      "\u001b[1;31mIndexError\u001b[0m: no such group"
     ]
    }
   ],
   "source": [
    "result.group(2) #여기서 그룹은 1개만 만들어 줬기 때문에 에러 뜰 것이다."
   ]
  },
  {
   "cell_type": "code",
   "execution_count": 99,
   "metadata": {
    "collapsed": true
   },
   "outputs": [],
   "source": [
    "p = re.compile(r\"(\\w+)\\s+(\\d+)[-](\\d+[-]\\d+)\")\n",
    "result = re.search(p, \"park 010-0000-0000\")"
   ]
  },
  {
   "cell_type": "code",
   "execution_count": 100,
   "metadata": {},
   "outputs": [
    {
     "data": {
      "text/plain": [
       "'park'"
      ]
     },
     "execution_count": 100,
     "metadata": {},
     "output_type": "execute_result"
    }
   ],
   "source": [
    "result.group(1)"
   ]
  },
  {
   "cell_type": "code",
   "execution_count": 101,
   "metadata": {
    "scrolled": true
   },
   "outputs": [
    {
     "data": {
      "text/plain": [
       "'010'"
      ]
     },
     "execution_count": 101,
     "metadata": {},
     "output_type": "execute_result"
    }
   ],
   "source": [
    "result.group(2)"
   ]
  },
  {
   "cell_type": "code",
   "execution_count": 102,
   "metadata": {
    "scrolled": true
   },
   "outputs": [
    {
     "data": {
      "text/plain": [
       "'0000-0000'"
      ]
     },
     "execution_count": 102,
     "metadata": {},
     "output_type": "execute_result"
    }
   ],
   "source": [
    "result.group(3)"
   ]
  },
  {
   "cell_type": "markdown",
   "metadata": {},
   "source": [
    "group은 하나 이상의 매치된 서브그룹을 리턴해준다."
   ]
  },
  {
   "cell_type": "code",
   "execution_count": 103,
   "metadata": {
    "collapsed": true
   },
   "outputs": [],
   "source": [
    "p = re.compile(r'(\\w+) (\\w+)')"
   ]
  },
  {
   "cell_type": "code",
   "execution_count": 104,
   "metadata": {
    "collapsed": true
   },
   "outputs": [],
   "source": [
    "result = re.search(p, \"Issac Newton, physicist\")"
   ]
  },
  {
   "cell_type": "code",
   "execution_count": 105,
   "metadata": {},
   "outputs": [
    {
     "data": {
      "text/plain": [
       "'Issac Newton'"
      ]
     },
     "execution_count": 105,
     "metadata": {},
     "output_type": "execute_result"
    }
   ],
   "source": [
    "result.group()"
   ]
  },
  {
   "cell_type": "code",
   "execution_count": 106,
   "metadata": {},
   "outputs": [
    {
     "data": {
      "text/plain": [
       "('Issac', 'Newton', ('Issac', 'Newton'))"
      ]
     },
     "execution_count": 106,
     "metadata": {},
     "output_type": "execute_result"
    }
   ],
   "source": [
    "result.group(1), result.group(2), result.group(1,2)"
   ]
  },
  {
   "cell_type": "markdown",
   "metadata": {},
   "source": [
    "re.sub()의 경우 어떠한 텍스트를 내가 원하는 패턴이나 표현에 맞게 변환해서 반환해줌"
   ]
  },
  {
   "cell_type": "code",
   "execution_count": 107,
   "metadata": {},
   "outputs": [
    {
     "data": {
      "text/plain": [
       "'Newton Issac, physicist'"
      ]
     },
     "execution_count": 107,
     "metadata": {},
     "output_type": "execute_result"
    }
   ],
   "source": [
    "p.sub(\"\\g<2> \\g<1>\", \"Issac Newton, physicist\") \n",
    "#grouping된 것들을 이러한 방식으로 위치를 바꿔서 출력해줄 수 있다."
   ]
  },
  {
   "cell_type": "markdown",
   "metadata": {},
   "source": [
    "{m} 은 문자가 m회 반복됨을 나타낸다.  \n",
    "{m,n} 은 문자가 m회부터 n회까지 반복되는 모든 경우를 나타낸다.  \n",
    "{m,} 은 문자가 m회 부터 무한 반복되는 모든 경우의 수를 나타낸다."
   ]
  },
  {
   "cell_type": "code",
   "execution_count": 110,
   "metadata": {
    "collapsed": true
   },
   "outputs": [],
   "source": [
    "p = re.compile('a[.]{3,}b') # a와b 사이에 점이 3개 이상 있는 패턴을 찾는다.\n",
    "result = re.search(p, \"a....b\")"
   ]
  },
  {
   "cell_type": "code",
   "execution_count": 111,
   "metadata": {},
   "outputs": [
    {
     "data": {
      "text/plain": [
       "<_sre.SRE_Match object; span=(0, 6), match='a....b'>"
      ]
     },
     "execution_count": 111,
     "metadata": {},
     "output_type": "execute_result"
    }
   ],
   "source": [
    "result"
   ]
  },
  {
   "cell_type": "code",
   "execution_count": 112,
   "metadata": {
    "collapsed": true
   },
   "outputs": [],
   "source": [
    "data = \"\"\"\n",
    "park 010-9999-9988\n",
    "kim 010-9909-7789\n",
    "lee 010-8789-7768\n",
    "\"\"\""
   ]
  },
  {
   "cell_type": "markdown",
   "metadata": {},
   "source": [
    "r' 로 표기하는 경우 \\를 escape문자로 인식하게 된다."
   ]
  },
  {
   "cell_type": "code",
   "execution_count": 121,
   "metadata": {},
   "outputs": [],
   "source": [
    "p = re.compile(r'([0-9]{3})-([0-9]{4})-([0-9]{4})')\n",
    "result = re.findall(p, data)"
   ]
  },
  {
   "cell_type": "code",
   "execution_count": 122,
   "metadata": {},
   "outputs": [
    {
     "data": {
      "text/plain": [
       "[('010', '9999', '9988'), ('010', '9909', '7789'), ('010', '8789', '7768')]"
      ]
     },
     "execution_count": 122,
     "metadata": {},
     "output_type": "execute_result"
    }
   ],
   "source": [
    "result"
   ]
  },
  {
   "cell_type": "code",
   "execution_count": 123,
   "metadata": {},
   "outputs": [
    {
     "name": "stdout",
     "output_type": "stream",
     "text": [
      "\n",
      "park 010-9999-####\n",
      "kim 010-9909-####\n",
      "lee 010-8789-####\n",
      "\n"
     ]
    }
   ],
   "source": [
    "print(p.sub(\"\\g<1>-\\g<2>-####\", data)) \n",
    "# 패턴에 대해서 해당 데이터를 원하는 표현으로 바꿔서 반환"
   ]
  },
  {
   "cell_type": "code",
   "execution_count": 124,
   "metadata": {
    "collapsed": true
   },
   "outputs": [],
   "source": [
    "data = [\n",
    "\"park@naver.com\",\n",
    "\"kim@daum.net\",\n",
    "\"lee@myhome.co.kr\"\n",
    "]\n"
   ]
  },
  {
   "cell_type": "markdown",
   "metadata": {},
   "source": [
    ". 은 개행 문자를 제외한 아무 문자 하나  \n",
    "\\* 은 앞의 문자가 0번 이상 등장  \n",
    "[.] 은 .이라는 문자패턴을 갖고있는 것  \n",
    "(com|net) 은 com이나 net의 패턴을 가지는 것이다 "
   ]
  },
  {
   "cell_type": "code",
   "execution_count": 125,
   "metadata": {
    "collapsed": true
   },
   "outputs": [],
   "source": [
    "p = re.compile(r'.*[@].*[.](com|net)') #\n",
    "result = []\n",
    "for i in data:\n",
    "    result.append(re.search(p, i))"
   ]
  },
  {
   "cell_type": "code",
   "execution_count": 127,
   "metadata": {
    "scrolled": false
   },
   "outputs": [
    {
     "data": {
      "text/plain": [
       "[<_sre.SRE_Match object; span=(0, 14), match='park@naver.com'>,\n",
       " <_sre.SRE_Match object; span=(0, 12), match='kim@daum.net'>,\n",
       " None]"
      ]
     },
     "execution_count": 127,
     "metadata": {},
     "output_type": "execute_result"
    }
   ],
   "source": [
    "result"
   ]
  },
  {
   "cell_type": "code",
   "execution_count": 128,
   "metadata": {
    "collapsed": true
   },
   "outputs": [],
   "source": [
    "data = \"정규식 너무 싫다\""
   ]
  },
  {
   "cell_type": "markdown",
   "metadata": {},
   "source": [
    "\\W 는 문자 외의 기호를 나타낸다.  \n",
    "\\w 는 숫자.알파벳.한글 등을 포함한 문자를 나타낸다."
   ]
  },
  {
   "cell_type": "code",
   "execution_count": 129,
   "metadata": {},
   "outputs": [
    {
     "data": {
      "text/plain": [
       "['정규식', '너무', '싫다']"
      ]
     },
     "execution_count": 129,
     "metadata": {},
     "output_type": "execute_result"
    }
   ],
   "source": [
    "p = re.compile(r\"\\W\")\n",
    "re.split(p, data)"
   ]
  },
  {
   "cell_type": "markdown",
   "metadata": {},
   "source": [
    "## Scraping"
   ]
  },
  {
   "cell_type": "code",
   "execution_count": 130,
   "metadata": {
    "collapsed": true
   },
   "outputs": [],
   "source": [
    "import requests"
   ]
  },
  {
   "cell_type": "code",
   "execution_count": 131,
   "metadata": {
    "collapsed": true
   },
   "outputs": [],
   "source": [
    "resp = requests.get(\"http://example.webscraping.com/places/default/search\")"
   ]
  },
  {
   "cell_type": "code",
   "execution_count": 132,
   "metadata": {
    "collapsed": true
   },
   "outputs": [],
   "source": [
    "from bs4 import BeautifulSoup"
   ]
  },
  {
   "cell_type": "code",
   "execution_count": 133,
   "metadata": {
    "collapsed": true
   },
   "outputs": [],
   "source": [
    "dom = BeautifulSoup(resp.content, \"lxml\")"
   ]
  },
  {
   "cell_type": "code",
   "execution_count": 134,
   "metadata": {
    "collapsed": true
   },
   "outputs": [],
   "source": [
    "result = dom.select(\"#results\")"
   ]
  },
  {
   "cell_type": "code",
   "execution_count": 135,
   "metadata": {},
   "outputs": [
    {
     "name": "stdout",
     "output_type": "stream",
     "text": [
      "[<div id=\"results\">\n",
      "</div>]\n"
     ]
    }
   ],
   "source": [
    "print(result)"
   ]
  },
  {
   "cell_type": "markdown",
   "metadata": {},
   "source": [
    "## selenium"
   ]
  },
  {
   "cell_type": "markdown",
   "metadata": {},
   "source": [
    "사람이 검색할 때 일일히 하는게 귀찮아서 만든것임.\n",
    "자동화 툴.. <br>\n",
    "가상으로 브라우저 띄워서 반영된 dom(html문서)을 받아올 수 있도록 함.\n"
   ]
  },
  {
   "cell_type": "code",
   "execution_count": 58,
   "metadata": {},
   "outputs": [
    {
     "name": "stdout",
     "output_type": "stream",
     "text": [
      "Requirement already satisfied: selenium in d:\\anaconda3\\lib\\site-packages (3.13.0)\n"
     ]
    }
   ],
   "source": [
    "!pip install selenium"
   ]
  },
  {
   "cell_type": "code",
   "execution_count": 136,
   "metadata": {
    "collapsed": true
   },
   "outputs": [],
   "source": [
    "from selenium import webdriver"
   ]
  },
  {
   "cell_type": "code",
   "execution_count": 156,
   "metadata": {
    "collapsed": true,
    "scrolled": true
   },
   "outputs": [],
   "source": [
    "driver = webdriver.Chrome(\"D:/chromedriver\") #웹드라이버 객체를 만들어준다."
   ]
  },
  {
   "cell_type": "code",
   "execution_count": 138,
   "metadata": {
    "collapsed": true
   },
   "outputs": [],
   "source": [
    "driver.get('http://example.webscraping.com/places/default/search')\n",
    "#셀레늄 크롬 드라이버에서 해당 주소를 get해준다.\n",
    "driver.find_element_by_id(\"search_term\").send_keys(\"korea\") \n",
    "#search_term이라는 요소를 찾아서 \"korea\"를 보낸다.\n",
    "driver.find_element_by_id(\"search\").click()\n",
    "#'search'요소를 찾아서 클릭한다."
   ]
  },
  {
   "cell_type": "code",
   "execution_count": 139,
   "metadata": {},
   "outputs": [
    {
     "data": {
      "text/plain": [
       "str"
      ]
     },
     "execution_count": 139,
     "metadata": {},
     "output_type": "execute_result"
    }
   ],
   "source": [
    "type(driver.page_source) #page_source는 string형으로 값을 리턴해준다."
   ]
  },
  {
   "cell_type": "code",
   "execution_count": 140,
   "metadata": {},
   "outputs": [
    {
     "data": {
      "text/plain": [
       "'<!--[if HTML5]><![endif]--><!DOCTYPE html><!-- paulirish.com/2008/conditional-stylesheets-vs-css-hacks-answer-neither/ --><!--[if lt IE 7]><html class=\"ie ie6 ie-lte9 ie-lte8 ie-lte7 no-js\" lang=\"en-us\"> <![endif]--><!--[if IE 7]><html class=\"ie ie7 ie-lte9 ie-lte8 ie-lte7 no-js\" lang=\"en-us\"> <![endif]--><!--[if IE 8]><html class=\"ie ie8 ie-lte9 ie-lte8 no-js\" lang=\"en-us\"> <![endif]--><!--[if IE 9]><html class=\"ie9 ie-lte9 no-js\" lang=\"en-us\"> <![endif]--><!--[if (gt IE 9)|!(IE)]><!--><html xmlns=\"http://www.w3.org/1999/xhtml\" class=\" js flexbox flexboxlegacy canvas canvastext webgl no-touch geolocation postmessage websqldatabase indexeddb hashchange history draganddrop websockets rgba hsla multiplebgs backgroundsize borderimage borderradius boxshadow textshadow opacity cssanimations csscolumns cssgradients cssreflections csstransforms csstransforms3d csstransitions fontface generatedcontent video audio localstorage sessionstorage webworkers no-applicationcache svg inlinesvg smil svgclippaths\" lang=\"en-us\" style=\"\"><!--<![endif]--><head>\\n<title>Example web scraping website</title>\\n  <!--[if !HTML5]>\\n      <meta http-equiv=\"X-UA-Compatible\" content=\"IE=edge,chrome=1\">\\n  <![endif]-->\\n  <!-- www.phpied.com/conditional-comments-block-downloads/ -->\\n  <!-- Always force latest IE rendering engine\\n       (even in intranet) & Chrome Frame\\n       Remove this if you use the .htaccess -->\\n\\t   \\n  <meta charset=\"utf-8\" />\\n\\n  <!-- http://dev.w3.org/html5/markup/meta.name.html -->\\n  <meta name=\"application-name\" content=\"places\" />\\n\\n  <!--  Mobile Viewport Fix\\n        j.mp/mobileviewport & davidbcalhoun.com/2010/viewport-metatag\\n        device-width: Occupy full width of the screen in its current orientation\\n        initial-scale = 1.0 retains dimensions instead of zooming out if page height > device height\\n        user-scalable = yes allows the user to zoom in -->\\n  <meta name=\"viewport\" content=\"width=device-width, initial-scale=1.0\" />\\n\\n  <link rel=\"shortcut icon\" href=\"/places/static/images/favicon.ico\" type=\"image/x-icon\" />\\n  <link rel=\"apple-touch-icon\" href=\"/places/static/images/favicon.png\" />\\n\\n  <!-- All JavaScript at the bottom, except for Modernizr which enables\\n       HTML5 elements & feature detects -->\\n  <script src=\"/places/static/js/modernizr.custom.js\"></script>\\n\\n  <!-- include stylesheets -->\\n  \\n\\n  <script type=\"text/javascript\">&lt;!--\\n    // These variables are used by the web2py_ajax_init function in web2py_ajax.js (which is loaded below).\\n    var w2p_ajax_confirm_message = \"Are you sure you want to delete this object?\";\\n    var w2p_ajax_disable_with_message = \"Working...\";\\n    var w2p_ajax_date_format = \"%Y-%m-%d\";\\n    var w2p_ajax_datetime_format = \"%Y-%m-%d %H:%M:%S\";\\n    var ajax_error_500 = \\'An error occured, please &lt;a href=\"/places/default/search\"&gt;reload&lt;/a&gt; the page\\'\\n    //--&gt;</script>\\n\\n<meta name=\"keywords\" content=\"web2py, python, web scraping\" />\\n<meta name=\"generator\" content=\"Web2py Web Framework\" />\\n<meta name=\"author\" content=\"Richard Penman\" />\\n<script src=\"/places/static/js/jquery.js\" type=\"text/javascript\"></script><link href=\"/places/static/css/calendar.css\" rel=\"stylesheet\" type=\"text/css\" /><script src=\"/places/static/js/calendar.js\" type=\"text/javascript\"></script><script src=\"/places/static/js/web2py.js\" type=\"text/javascript\"></script><link href=\"/places/static/css/web2py.css\" rel=\"stylesheet\" type=\"text/css\" /><link href=\"/places/static/css/bootstrap.min.css\" rel=\"stylesheet\" type=\"text/css\" /><link href=\"/places/static/css/bootstrap-responsive.min.css\" rel=\"stylesheet\" type=\"text/css\" /><link href=\"/places/static/css/style.css\" rel=\"stylesheet\" type=\"text/css\" /><link href=\"/places/static/css/web2py_bootstrap.css\" rel=\"stylesheet\" type=\"text/css\" />\\n\\n\\n  \\n\\n  <!-- uncomment here to load jquery-ui\\n       <link rel=\"stylesheet\" href=\"http://ajax.googleapis.com/ajax/libs/jqueryui/1.10.3/themes/ui-lightness/jquery-ui.css\" type=\"text/css\" media=\"all\" />\\n       <script src=\"http://ajax.googleapis.com/ajax/libs/jqueryui/1.10.3/jquery-ui.min.js\" type=\"text/javascript\"></script>\\n       uncomment to load jquery-ui //-->\\n  <noscript>&lt;link href=\"/places/static/css/web2py_bootstrap_nojs.css\" rel=\"stylesheet\" type=\"text/css\" /&gt;</noscript>\\n  \\n</head>\\n\\n<body>\\n  <!-- Navbar ================================================== -->\\n  <div class=\"navbar navbar-inverse\">\\n    <div class=\"flash\" style=\"display: none;\"></div>\\n    <div class=\"navbar-inner\">\\n      <div class=\"container\">\\n        \\n        <!-- the next tag is necessary for bootstrap menus, do not remove -->\\n        <button type=\"button\" class=\"btn btn-navbar\" data-toggle=\"collapse\" data-target=\".nav-collapse\" style=\"display:none;\">\\n          <span class=\"icon-bar\"></span>\\n          <span class=\"icon-bar\"></span>\\n          <span class=\"icon-bar\"></span>\\n        </button>\\n        \\n        <ul id=\"navbar\" class=\"nav pull-right\"><li class=\"dropdown\"><a class=\"dropdown-toggle\" data-toggle=\"dropdown\" href=\"#\" rel=\"nofollow\">Log In<b class=\"caret\"></b></a><ul class=\"dropdown-menu\"><li><a href=\"/places/default/user/register?_next=/places/default/search\" rel=\"nofollow\"><i class=\"icon icon-user glyphicon glyphicon-user\"></i> Sign Up</a></li><li class=\"divider\"></li><li><a href=\"/places/default/user/login?_next=/places/default/search\" rel=\"nofollow\"><i class=\"icon icon-off glyphicon glyphicon-off\"></i> Log In</a></li></ul></li></ul>\\n        <div class=\"nav\">\\n          \\n          <ul class=\"nav\"><li class=\"web2py-menu-first\"><a href=\"/places/default/index\">Home</a></li><li class=\"web2py-menu-last\"><a href=\"/places/default/search\">Search</a></li></ul>\\n          \\n        </div><!--/.nav-collapse -->\\n      </div>\\n    </div>\\n  </div><!--/top navbar -->\\n\\n  <div class=\"container\">\\n    <!-- Masthead ================================================== -->\\n      \\n    <header class=\"mastheader row\" id=\"header\">\\n        <div class=\"span12\">\\n            <div class=\"page-header\">\\n                <h1>\\n                    Example web scraping website\\n                    <small></small>\\n                </h1>\\n            </div>\\n        </div>\\n    </header>\\n\\t\\n\\n    <section id=\"main\" class=\"main row\">\\n        \\n\\n        <div class=\"span12\">\\n            \\n            \\n\\n<form>\\n<table>\\n    <tbody><tr>\\n        <th>Name:</th>\\n        <td><input id=\"search_term\" /></td>\\n    </tr>\\n    <tr>\\n        <th>Page size:</th>\\n        <td>\\n            <select id=\"page_size\">\\n                <option>4</option>\\n                <option selected=\"\">10</option>\\n                <option>20</option>\\n            </select>\\n        </td>\\n    </tr>\\n    <tr>\\n        <td></td>\\n        <td>\\n            <input type=\"submit\" id=\"search\" value=\"Search\" class=\"btn\" />\\n        </td>\\n    </tr>\\n</tbody></table>\\n</form>\\n\\n<div id=\"results\"><table><tbody><tr><td><div><a href=\"/places/default/view/North-Korea-165\"><img src=\"/places/static/images/flags/kp.png\" /> North Korea</a></div></td><td><div><a href=\"/places/default/view/South-Korea-211\"><img src=\"/places/static/images/flags/kr.png\" /> South Korea</a></div></td></tr></tbody></table></div>\\n<div id=\"pagination\"></div>\\n\\n<script language=\"javascript\" type=\"text/javascript\">\\nvar NUM_COLUMNS = 2;\\nvar page = 0;\\n\\n\\n$(function() {\\n    $(\"form\").submit(function() {\\n        page = 0;\\n        search();\\n        return false;\\n    });\\n\\n    load_hash();\\n    window.onhashchange = load_hash;\\n});\\n\\n\\nfunction load_hash() {\\n    // load previous state from hash string\\n    var args = window.location.hash.slice(1).split(\\'|\\')\\n    if(args.length == 3) {\\n        $(\"#search_term\").val(args[0]);\\n        $(\"#page_size\").val(args[1]);\\n        page = parseInt(args[2]);\\n        search();\\n    }\\n}\\n\\n\\nfunction previous() {\\n    page = page - 1;\\n    search();\\n}\\nfunction next() {\\n    page = page + 1;\\n    search();\\n}\\n\\nfunction search() {\\n    var data = {\\n        search_term: $(\"#search_term\").val(),\\n        page_size: parseInt($(\"#page_size\").val()),\\n        page: page,\\n    };\\n    //window.location.hash = data.search_term + \\'|\\' + data.page_size + \\'|\\' + page;\\n\\n    $.ajax({\\n        dataType: \"json\",\\n        url: \"/places/ajax/search.json?\",\\n        data: data,\\n        success: function(results) {\\n            render(results)\\n        }\\n    });\\n}\\n\\nfunction render(results) {\\n    // add resulting records\\n    var html = \"&lt;table&gt;\";\\n    for(var i=0; i &lt; results.records.length; i++) {\\n        var record = results.records[i];\\n        if(i % NUM_COLUMNS == 0) html += \"&lt;tr&gt;\";\\n        html += \"&lt;td&gt;\" + record[\"pretty_link\"] + \"&lt;/td&gt;\";\\n        if(i % NUM_COLUMNS == NUM_COLUMNS - 1) html += \"&lt;/tr&gt;\";\\n    }\\n    $(\"#results\").html(html + \"&lt;/table&gt;\");\\n\\n    // add pagination if necessary\\n    html = \"\";\\n    if(results.num_pages &gt; 1) {\\n        if(page &gt; 0) {\\n            html += \"&lt;a id=\\'previous\\' href=\\'javascript:void(0)\\' onclick=\\'previous()\\'&gt;&amp;lt; Previous&lt;/a&gt;\";\\n        } else {\\n            html += \"&amp;lt; Previous\";\\n        }\\n        html += \" | \";\\n        if(page + 1 &lt; results.num_pages) {\\n            html += \"&lt;a id=\\'next\\' href=\\'javascript:void(0)\\' onclick=\\'next()\\'&gt;Next &amp;gt;&lt;/a&gt;\";\\n        } else {\\n            html += \"Next &amp;gt;\";\\n        \\n        }\\n    }\\n    $(\"#pagination\").html(html);\\n}\\n</script>\\n\\n            \\n        </div>\\n\\n        \\n    </section><!--/main-->\\n\\n    <!-- Footer ================================================== -->\\n    <div class=\"row\">\\n        <footer class=\"footer span12\" id=\"footer\">\\n        </footer>\\n    </div>\\n\\n  </div> <!-- /container -->\\n\\n  <!-- The javascript =============================================\\n       (Placed at the end of the document so the pages load faster) -->\\n  <script src=\"/places/static/js/bootstrap.min.js\"></script>\\n  <script src=\"/places/static/js/web2py_bootstrap.js\"></script>\\n  <!--[if lt IE 7 ]>\\n      <script src=\"/places/static/js/dd_belatedpng.js\"></script>\\n      <script> DD_belatedPNG.fix(\\'img, .png_bg\\'); //fix any <img> or .png_bg background-images </script>\\n      <![endif]-->\\n\\n\\n\\n</body></html>'"
      ]
     },
     "execution_count": 140,
     "metadata": {},
     "output_type": "execute_result"
    }
   ],
   "source": [
    "driver.page_source\n",
    "# 웹드라이버 객체가 이동한 페이지에 대한 소스"
   ]
  },
  {
   "cell_type": "code",
   "execution_count": 141,
   "metadata": {},
   "outputs": [
    {
     "data": {
      "text/plain": [
       "['North Korea', 'South Korea']"
      ]
     },
     "execution_count": 141,
     "metadata": {},
     "output_type": "execute_result"
    }
   ],
   "source": [
    "driver.implicitly_wait(1) # 1초 동안 sleep\n",
    "\n",
    "links = driver.find_elements_by_css_selector(\"#results a\")\n",
    "#css selector를 통해서 anchor태그 밑의 글자를 읽어온다.\n",
    "\n",
    "[link.text for link in links] #그리고 갖고온 텍스트들을 리스트에 넣어준다."
   ]
  },
  {
   "cell_type": "code",
   "execution_count": 142,
   "metadata": {},
   "outputs": [
    {
     "name": "stdout",
     "output_type": "stream",
     "text": [
      "North Korea\n",
      "South Korea\n"
     ]
    }
   ],
   "source": [
    "for link in links:\n",
    "    print(link.text)"
   ]
  },
  {
   "cell_type": "code",
   "execution_count": 148,
   "metadata": {},
   "outputs": [
    {
     "name": "stdout",
     "output_type": "stream",
     "text": [
      "Overwriting account.json\n"
     ]
    }
   ],
   "source": [
    "#%%writefile account.json\n",
    "#{\"id\" : \"네이버 ID\", \"pw\": \"네이버 비밀번호\"}"
   ]
  },
  {
   "cell_type": "code",
   "execution_count": 163,
   "metadata": {},
   "outputs": [
    {
     "name": "stdout",
     "output_type": "stream",
     "text": [
      "Message: no such element: Unable to locate element: {\"method\":\"css selector\",\"selector\":\".btn_upload > a\"}\n",
      "  (Session info: chrome=70.0.3538.67)\n",
      "  (Driver info: chromedriver=2.40.565498 (ea082db3280dd6843ebfb08a625e3eb905c4f5ab),platform=Windows NT 10.0.17134 x86_64)\n",
      "\n",
      "(광고) 추울수록 빛나는 프리미엄 몽클레어·막스마라 아우터\n",
      "[11번가] 결제가 정상적으로 완료 되었습니다.\n",
      "본 코트, 유니클로 후리스, 타임 코트, 엠솔릭 100인, 지플리시\n",
      "10월 4주에 올라온 인턴/대외활동/공모전/직무별 공고를 한눈에!\n",
      "(광고) 올 가을 부산여행 놓치면 아쉬운 혜택!\n",
      "OK캐쉬백 상품추천서비스 광고성 정보 수신동의 안내 메일입니다.\n",
      "(광고) 흔들고!누르고!찍고! 세서미 스트리트의 쿠키 몬스터 인형을 900원에 득템 찬스\n",
      "평균연봉 7,753만원! ★동서★ 신입 채용 & 면접대비 가이드북 배포중!\n",
      "(광고) [중앙선거관리위원회] 깨알 영상&아이디어 공모전 (우수영상 TV 상영 / 우수 기획안 정규 프로그램 제작) (~11/30)\n",
      "(광고)★5일완성★ 취업을 위한 최선의 대비전략! 1주만 빡세게 공부해서 토익스피킹 끝내자!!\n",
      "초봉 4천만원!! 총00명 채용! ★신한카드★ 신입 외 오늘 뜬 공고\n",
      "(광고) 미세먼지까지 강력 흡입! 무선 청소기 다이슨 V8 \n",
      "Skype와 Microsoft 계정을 함께 사용하세요\n",
      "(광고) 강력수압, 절수 샤워기헤드 19,800원, 경기여성기업 우수상품 기획전 \n",
      "[한국영상자료원] 관객을 모으는 주술 ‘만원사례’: 명보극장 이야기\n"
     ]
    }
   ],
   "source": [
    "import json\n",
    "from selenium.common.exceptions import NoSuchElementException\n",
    "\n",
    "with open(\"account.json\", \"r\", encoding=\"utf-8\") as f:\n",
    "    account = json.load(f)\n",
    "    \n",
    "driver = webdriver.Chrome(\"D:/chromedriver\")\n",
    "driver.get(\"https://nid.naver.com/nidlogin.login?url=http%3A%2F%2Fmail.naver.com%2F\")\n",
    "\n",
    "driver.find_element_by_id(\"id\").send_keys(account[\"id\"])\n",
    "driver.find_element_by_id(\"pw\").send_keys(account[\"pw\"])\n",
    "driver.implicitly_wait(3)\n",
    "driver.find_element_by_css_selector(\".btn_global\").click()\n",
    "#이렇게 css selector를 통해서 제어하거나 누르고 싶은 곳을 찾아야 하기 때문에 중요\n",
    "\n",
    "try:\n",
    "    driver.find_element_by_css_selector(\".btn_upload > a\").click()\n",
    "    driver.find_element_by_css_selector(\".btn_maintain > a\").click()\n",
    "except NoSuchElementException as e:\n",
    "    print(e)\n",
    "finally:\n",
    "    html = BeautifulSoup(driver.page_source, \"lxml\")\n",
    "\n",
    "tempList = html.select(\".subject strong\")\n",
    "\n",
    "len(tempList)\n",
    "\n",
    "for temp in tempList:\n",
    "    print(temp.contents[1])"
   ]
  },
  {
   "cell_type": "code",
   "execution_count": 166,
   "metadata": {
    "scrolled": true
   },
   "outputs": [
    {
     "ename": "AttributeError",
     "evalue": "'WebDriver' object has no attribute 'implicitly_waitcitly_wait'",
     "output_type": "error",
     "traceback": [
      "\u001b[1;31m---------------------------------------------------------------------------\u001b[0m",
      "\u001b[1;31mAttributeError\u001b[0m                            Traceback (most recent call last)",
      "\u001b[1;32m<ipython-input-166-bec23b81faf5>\u001b[0m in \u001b[0;36m<module>\u001b[1;34m()\u001b[0m\n\u001b[0;32m     11\u001b[0m \u001b[0mdriver\u001b[0m\u001b[1;33m.\u001b[0m\u001b[0mfind_element_by_id\u001b[0m\u001b[1;33m(\u001b[0m\u001b[1;34m\"id\"\u001b[0m\u001b[1;33m)\u001b[0m\u001b[1;33m.\u001b[0m\u001b[0msend_keys\u001b[0m\u001b[1;33m(\u001b[0m\u001b[0maccount\u001b[0m\u001b[1;33m[\u001b[0m\u001b[1;34m\"id\"\u001b[0m\u001b[1;33m]\u001b[0m\u001b[1;33m)\u001b[0m\u001b[1;33m\u001b[0m\u001b[0m\n\u001b[0;32m     12\u001b[0m \u001b[0mdriver\u001b[0m\u001b[1;33m.\u001b[0m\u001b[0mfind_element_by_id\u001b[0m\u001b[1;33m(\u001b[0m\u001b[1;34m\"pw\"\u001b[0m\u001b[1;33m)\u001b[0m\u001b[1;33m.\u001b[0m\u001b[0msend_keys\u001b[0m\u001b[1;33m(\u001b[0m\u001b[0maccount\u001b[0m\u001b[1;33m[\u001b[0m\u001b[1;34m\"pw\"\u001b[0m\u001b[1;33m]\u001b[0m\u001b[1;33m)\u001b[0m\u001b[1;33m\u001b[0m\u001b[0m\n\u001b[1;32m---> 13\u001b[1;33m \u001b[0mdriver\u001b[0m\u001b[1;33m.\u001b[0m\u001b[0mimplicitly_waitcitly_wait\u001b[0m\u001b[1;33m(\u001b[0m\u001b[1;36m3\u001b[0m\u001b[1;33m)\u001b[0m\u001b[1;33m\u001b[0m\u001b[0m\n\u001b[0m\u001b[0;32m     14\u001b[0m \u001b[0mdriver\u001b[0m\u001b[1;33m.\u001b[0m\u001b[0mfind_element_by_css_selector\u001b[0m\u001b[1;33m(\u001b[0m\u001b[1;34m\".btn_global\"\u001b[0m\u001b[1;33m)\u001b[0m\u001b[1;33m.\u001b[0m\u001b[0mclick\u001b[0m\u001b[1;33m(\u001b[0m\u001b[1;33m)\u001b[0m\u001b[1;33m\u001b[0m\u001b[0m\n\u001b[0;32m     15\u001b[0m \u001b[1;31m#이렇게 css selector를 통해서 제어하거나 누르고 싶은 곳을 찾아야 하기 때문에 중요\u001b[0m\u001b[1;33m\u001b[0m\u001b[1;33m\u001b[0m\u001b[0m\n",
      "\u001b[1;31mAttributeError\u001b[0m: 'WebDriver' object has no attribute 'implicitly_waitcitly_wait'"
     ]
    }
   ],
   "source": [
    "import json\n",
    "from bs4 import BeautifulSoup \n",
    "from selenium.common.exceptions import NoSuchElementException\n",
    "\n",
    "with open(\"account.json\", \"r\", encoding=\"utf-8\") as f:\n",
    "    account = json.load(f)\n",
    "\n",
    "driver = webdriver.Chrome(\"D:/chromedriver\") #웹드라이버 객체를 만들어준다.\n",
    "driver.get(\"https://nid.naver.com/nidlogin.login?\")\n",
    "\n",
    "driver.find_element_by_id(\"id\").send_keys(account[\"id\"])\n",
    "driver.find_element_by_id(\"pw\").send_keys(account[\"pw\"])\n",
    "driver.implicitly_waitcitly_wait(3)\n",
    "driver.find_element_by_css_selector(\".btn_global\").click()\n",
    "#이렇게 css selector를 통해서 제어하거나 누르고 싶은 곳을 찾아야 하기 때문에 중요\n",
    "\n",
    "try:\n",
    "    driver.find_element_by_css_selector(\".btn_upload > a\").click() #id에 맞는 객체 클릭\n",
    "    driver.find_element_by_css_selector(\".btn_maintain > a\").click()\n",
    "except NoSuchElementException as e:\n",
    "    print(e)\n",
    "finally:\n",
    "    driver.implicitly_wait(1)\n",
    "    driver.get(\"https://sports.news.naver.com/kbaseball/index.nhn\")\n",
    "\n",
    "driver.implicitly_wait(1)\n",
    "\n",
    "driver.find_element_by_css_selector(\"ul.home_news_list li a span\").click()\n",
    "# 해당 id에 맞는 element 클릭\n",
    "\n",
    "driver.find_element_by_id(\"cbox_module__write_textarea\").send_keys(\"마 니 야구좀 단디해라\")\n",
    "driver.find_elements_by_css_selector(\"label.u_cbox_ico_social\")[1].click() #클릭하면 새 창이 뜰 것이다.\n",
    "driver.switch_to.window(driver.window_handles[1]) # 새로 열린 창의 handle이 추가 되었기 때문에 활성화 창을 전환해준다.\n",
    "driver.implicitly_wait(1)\n",
    "driver.find_element_by_css_selector(\"#footer img\").click() #새로 열린 창의 handle을 갖고 있기 때문에 열린 창의 element를 "
   ]
  },
  {
   "cell_type": "code",
   "execution_count": null,
   "metadata": {
    "collapsed": true,
    "scrolled": false
   },
   "outputs": [],
   "source": [
    "from bs4 import BeautifulSoup \n",
    "from selenium.common.exceptions import NoSuchElementException\n",
    "\n",
    "a = input(\"번역하고 싶은 문장을 입력해주세요 : \")\n",
    "driver = webdriver.Chrome(\"D:/chromedriver\") #웹드라이버 객체를 만들어준다.\n",
    "driver.get(\"https://naver.com\")\n",
    "\n",
    "\n",
    "driver.find_element_by_id(\"query\").send_keys(\"번역기\")\n",
    "driver.find_element_by_css_selector(\"span.ico_search_submit\").click()\n",
    "#이렇게 css selector를 통해서 제어하거나 누르고 싶은 곳을 찾아야 하기 때문에 중요\n",
    "driver.implicitly_wait(1)\n",
    "driver.find_element_by_css_selector(\"textarea.trans_txt._textarea\").click()\n",
    "driver.find_element_by_css_selector(\"textarea.trans_txt._textarea\").send_keys(a)\n",
    "driver.implicitly_wait(1)\n",
    "driver.find_element_by_css_selector(\"a.btn_trans._trans.on\").click()\n",
    "driver.implicitly_wait(1)\n",
    "temp = driver.find_element_by_css_selector(\"div.txt_box.rt._output.on p.trans_txt._textview\")\n",
    "print(temp.text)"
   ]
  },
  {
   "cell_type": "code",
   "execution_count": 152,
   "metadata": {},
   "outputs": [
    {
     "name": "stdout",
     "output_type": "stream",
     "text": [
      "Processing c:\\users\\태욱\\jpype1-0.6.3-cp36-cp36m-win_amd64.whl\n",
      "Installing collected packages: JPype1\n",
      "Successfully installed JPype1-0.6.3\n"
     ]
    }
   ],
   "source": [
    "!pip install JPype1-0.6.3-cp36-cp36m-win_amd64.whl"
   ]
  },
  {
   "cell_type": "code",
   "execution_count": 153,
   "metadata": {
    "scrolled": true
   },
   "outputs": [
    {
     "name": "stdout",
     "output_type": "stream",
     "text": [
      "Collecting konlpy\n",
      "  Downloading https://files.pythonhosted.org/packages/b1/41/73127de031d710fa6fc640cc4d4d399977e7a96423131fcd180b9f69627c/konlpy-0.4.4-py2.py3-none-any.whl (22.5MB)\n",
      "Installing collected packages: konlpy\n",
      "Successfully installed konlpy-0.4.4\n"
     ]
    }
   ],
   "source": [
    "!pip install konlpy"
   ]
  },
  {
   "cell_type": "markdown",
   "metadata": {},
   "source": [
    "pip의 경우 Pipy 사이트에 있다면 인터넷에서 받아오지만, 없다면 루트 디렉토리에서의 파일을 설치한다."
   ]
  },
  {
   "cell_type": "markdown",
   "metadata": {},
   "source": [
    "java에 있는 클래스를 사용할 수 있게 JPype가 도와주는 것이다."
   ]
  },
  {
   "cell_type": "code",
   "execution_count": 18,
   "metadata": {},
   "outputs": [
    {
     "name": "stdout",
     "output_type": "stream",
     "text": [
      "한나눔 : {'E': '어미', 'EC': '연결 어미', 'EF': '종결 어미', 'EP': '선어말어미', 'ET': '전성 어미', 'F': '외국어', 'I': '독립언', 'II': '감탄사', 'J': '관계언', 'JC': '격조사', 'JP': '서술격 조사', 'JX': '보조사', 'M': '수식언', 'MA': '부사', 'MM': '관형사', 'N': '체언', 'NB': '의존명사', 'NC': '보통명사', 'NN': '수사', 'NP': '대명사', 'NQ': '고유명사', 'P': '용언', 'PA': '형용사', 'PV': '동사', 'PX': '보조 용언', 'S': '기호', 'X': '접사', 'XP': '접두사', 'XS': '접미사'} \n",
      "\n",
      "트위터 : {'Adjective': '형용사', 'Adverb': '부사', 'Alpha': '알파벳', 'Conjunction': '접속사', 'Determiner': '관형사', 'Eomi': '어미', 'Exclamation': '감탄사', 'Foreign': '외국어, 한자 및 기타기호', 'Hashtag': '트위터 해쉬태그', 'Josa': '조사', 'KoreanParticle': '(ex: ㅋㅋ)', 'Noun': '명사', 'Number': '숫자', 'PreEomi': '선어말어미', 'Punctuation': '구두점', 'ScreenName': '트위터 아이디', 'Suffix': '접미사', 'Unknown': '미등록어', 'Verb': '동사'} \n",
      "\n",
      "꼬꼬마 : {'EC': '연결 어미', 'ECD': '의존적 연결 어미', 'ECE': '대등 연결 어미', 'ECS': '보조적 연결 어미', 'EF': '종결 어미', 'EFA': '청유형 종결 어미', 'EFI': '감탄형 종결 어미', 'EFN': '평서형 종결 어미', 'EFO': '명령형 종결 어미', 'EFQ': '의문형 종결 어미', 'EFR': '존칭형 종결 어미', 'EP': '선어말 어미', 'EPH': '존칭 선어말 어미', 'EPP': '공손 선어말 어미', 'EPT': '시제 선어말 어미', 'ET': '전성 어미', 'ETD': '관형형 전성 어미', 'ETN': '명사형 전성 어미', 'IC': '감탄사', 'JC': '접속 조사', 'JK': '조사', 'JKC': '보격 조사', 'JKG': '관형격 조사', 'JKI': '호격 조사', 'JKM': '부사격 조사', 'JKO': '목적격 조사', 'JKQ': '인용격 조사', 'JKS': '주격 조사', 'JX': '보조사', 'MA': '부사', 'MAC': '접속 부사', 'MAG': '일반 부사', 'MD': '관형사', 'MDN': '수 관형사', 'MDT': '일반 관형사', 'NN': '명사', 'NNB': '일반 의존 명사', 'NNG': '보통명사', 'NNM': '단위 의존 명사', 'NNP': '고유명사', 'NP': '대명사', 'NR': '수사', 'OH': '한자', 'OL': '외국어', 'ON': '숫자', 'SE': '줄임표', 'SF': '마침표, 물음표, 느낌표', 'SO': '붙임표(물결,숨김,빠짐)', 'SP': '쉼표,가운뎃점,콜론,빗금', 'SS': '따옴표,괄호표,줄표', 'SW': '기타기호 (논리수학기호,화폐기호)', 'UN': '명사추정범주', 'VA': '형용사', 'VC': '지정사', 'VCN': \"부정 지정사, 형용사 '아니다'\", 'VCP': \"긍정 지정사, 서술격 조사 '이다'\", 'VV': '동사', 'VX': '보조 용언', 'VXA': '보조 형용사', 'VXV': '보조 동사', 'XP': '접두사', 'XPN': '체언 접두사', 'XPV': '용언 접두사', 'XR': '어근', 'XSA': '형용사 파생 접미사', 'XSN': '명사파생 접미사', 'XSV': '동사 파생 접미사'} \n",
      "\n",
      "코모란 : {'EC': '연결 어미', 'EF': '종결 어미', 'EP': '선어말어미', 'ETM': '관형형 전성 어미', 'ETN': '명사형 전성 어미', 'IC': '감탄사', 'JC': '접속 조사', 'JKB': '부사격 조사', 'JKC': '보격 조사', 'JKG': '관형격 조사', 'JKO': '목적격 조사', 'JKQ': '인용격 조사', 'JKS': '주격 조사', 'JKV': '호격 조사', 'JX': '보조사', 'MAG': '일반 부사', 'MAJ': '접속 부사', 'MM': '관형사', 'NA': '분석불능범주', 'NF': '명사추정범주', 'NNB': '의존 명사', 'NNG': '일반 명사', 'NNP': '고유 명사', 'NP': '대명사', 'NR': '수사', 'NV': '용언추정범주', 'SE': '줄임표', 'SF': '마침표, 물음표, 느낌표', 'SH': '한자', 'SL': '외국어', 'SN': '숫자', 'SO': '붙임표(물결,숨김,빠짐)', 'SP': '쉼표,가운뎃점,콜론,빗금', 'SS': '따옴표,괄호표,줄표', 'SW': '기타기호 (논리수학기호,화폐기호)', 'VA': '형용사', 'VCN': '부정 지정사', 'VCP': '긍정 지정사', 'VV': '동사', 'VX': '보조 용언', 'XPN': '체언 접두사', 'XR': '어근', 'XSA': '형용사 파생 접미사', 'XSN': '명사파생 접미사', 'XSV': '동사 파생 접미사'} \n",
      "\n"
     ]
    }
   ],
   "source": [
    "from konlpy.tag import Hannanum, Twitter, Kkma, Komoran, Mecab\n",
    "kk = Hannanum()\n",
    "print(\"한나눔 :\", kk.tagset, \"\\n\")\n",
    "kk = Twitter()\n",
    "print(\"트위터 :\",kk.tagset, \"\\n\")\n",
    "kk = Kkma()\n",
    "print(\"꼬꼬마 :\",kk.tagset, \"\\n\")\n",
    "kk = Komoran()\n",
    "print(\"코모란 :\",kk.tagset, \"\\n\")"
   ]
  },
  {
   "cell_type": "markdown",
   "metadata": {},
   "source": [
    "pip로 설치시에는 opensource이기 때문에 충돌이 일어날수도 있다."
   ]
  },
  {
   "cell_type": "markdown",
   "metadata": {},
   "source": [
    "아나콘다의 경우에는 conda 명령어를 통해서 설치가 가능하다.<br>\n",
    "그러나 아나콘다 상에서 잘 돌아가는지 확인하느라 업데이트가 좀 늦다."
   ]
  }
 ],
 "metadata": {
  "kernelspec": {
   "display_name": "Python 3",
   "language": "python",
   "name": "python3"
  },
  "language_info": {
   "codemirror_mode": {
    "name": "ipython",
    "version": 3
   },
   "file_extension": ".py",
   "mimetype": "text/x-python",
   "name": "python",
   "nbconvert_exporter": "python",
   "pygments_lexer": "ipython3",
   "version": "3.6.3"
  }
 },
 "nbformat": 4,
 "nbformat_minor": 2
}
