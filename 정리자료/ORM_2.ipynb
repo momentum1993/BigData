{
 "cells": [
  {
   "cell_type": "markdown",
   "metadata": {},
   "source": [
    "# ORM_2"
   ]
  },
  {
   "cell_type": "markdown",
   "metadata": {},
   "source": [
    "SQLAlchemy Object Relational Mapper는 유저가 정의한 DB에 대해서 파이썬으로 표현할 수 있도록 해준다.\n",
    "DB에 대한 어떠한 변화가 투명하게 동기화시켜주는 시스템을 포함하고 있다.\n",
    "\n",
    "SQL문과 달리 high level로 추상적인 패턴이다."
   ]
  },
  {
   "cell_type": "code",
   "execution_count": 1,
   "metadata": {
    "collapsed": true
   },
   "outputs": [],
   "source": [
    "from sqlalchemy import create_engine"
   ]
  },
  {
   "cell_type": "code",
   "execution_count": 2,
   "metadata": {
    "collapsed": true
   },
   "outputs": [],
   "source": [
    "from sqlalchemy.ext.declarative import declarative_base #비어있는 base를 만듬"
   ]
  },
  {
   "cell_type": "code",
   "execution_count": 3,
   "metadata": {
    "collapsed": true
   },
   "outputs": [],
   "source": [
    "engine = create_engine(\"sqlite:///mydb.db\", echo=True) #이미 만들어놓은 db파일 불러옴\n",
    "# ///가 3개인 이유는 Host이기 때문...\n",
    "# echo 플래그는 SQLAlchemy의 logging의 세팅 여부이다.\n",
    "# engine을 한번 만들면 직접적으로 engine을 사용하진 않지만, ORM에 의해서 쓰일 것임."
   ]
  },
  {
   "cell_type": "code",
   "execution_count": 4,
   "metadata": {
    "collapsed": true
   },
   "outputs": [],
   "source": [
    "from sqlalchemy.ext.automap import automap_base \n",
    "#자동으로 이미 생성되어 있는 db에서 schema를 불러오는 역할을 한다."
   ]
  },
  {
   "cell_type": "code",
   "execution_count": 5,
   "metadata": {
    "collapsed": true
   },
   "outputs": [],
   "source": [
    "Base = automap_base() #자동으로 DB 불러옴\n",
    "#Base = declarative_base() #비어있는 base 만듬"
   ]
  },
  {
   "cell_type": "code",
   "execution_count": 6,
   "metadata": {
    "scrolled": true
   },
   "outputs": [
    {
     "name": "stdout",
     "output_type": "stream",
     "text": [
      "2018-10-11 15:21:03,092 INFO sqlalchemy.engine.base.Engine SELECT CAST('test plain returns' AS VARCHAR(60)) AS anon_1\n",
      "2018-10-11 15:21:03,115 INFO sqlalchemy.engine.base.Engine ()\n",
      "2018-10-11 15:21:03,119 INFO sqlalchemy.engine.base.Engine SELECT CAST('test unicode returns' AS VARCHAR(60)) AS anon_1\n",
      "2018-10-11 15:21:03,123 INFO sqlalchemy.engine.base.Engine ()\n",
      "2018-10-11 15:21:03,127 INFO sqlalchemy.engine.base.Engine SELECT name FROM sqlite_master WHERE type='table' ORDER BY name\n",
      "2018-10-11 15:21:03,130 INFO sqlalchemy.engine.base.Engine ()\n",
      "2018-10-11 15:21:03,135 INFO sqlalchemy.engine.base.Engine PRAGMA table_info(\"Album\")\n",
      "2018-10-11 15:21:03,137 INFO sqlalchemy.engine.base.Engine ()\n",
      "2018-10-11 15:21:03,142 INFO sqlalchemy.engine.base.Engine SELECT sql FROM  (SELECT * FROM sqlite_master UNION ALL   SELECT * FROM sqlite_temp_master) WHERE name = 'Album' AND type = 'table'\n",
      "2018-10-11 15:21:03,144 INFO sqlalchemy.engine.base.Engine ()\n",
      "2018-10-11 15:21:03,149 INFO sqlalchemy.engine.base.Engine PRAGMA foreign_key_list(\"Album\")\n",
      "2018-10-11 15:21:03,150 INFO sqlalchemy.engine.base.Engine ()\n",
      "2018-10-11 15:21:03,153 INFO sqlalchemy.engine.base.Engine SELECT sql FROM  (SELECT * FROM sqlite_master UNION ALL   SELECT * FROM sqlite_temp_master) WHERE name = 'Album' AND type = 'table'\n",
      "2018-10-11 15:21:03,155 INFO sqlalchemy.engine.base.Engine ()\n",
      "2018-10-11 15:21:03,161 INFO sqlalchemy.engine.base.Engine PRAGMA table_info(\"Artist\")\n",
      "2018-10-11 15:21:03,163 INFO sqlalchemy.engine.base.Engine ()\n",
      "2018-10-11 15:21:03,166 INFO sqlalchemy.engine.base.Engine SELECT sql FROM  (SELECT * FROM sqlite_master UNION ALL   SELECT * FROM sqlite_temp_master) WHERE name = 'Artist' AND type = 'table'\n",
      "2018-10-11 15:21:03,168 INFO sqlalchemy.engine.base.Engine ()\n",
      "2018-10-11 15:21:03,171 INFO sqlalchemy.engine.base.Engine PRAGMA foreign_key_list(\"Artist\")\n",
      "2018-10-11 15:21:03,175 INFO sqlalchemy.engine.base.Engine ()\n",
      "2018-10-11 15:21:03,178 INFO sqlalchemy.engine.base.Engine SELECT sql FROM  (SELECT * FROM sqlite_master UNION ALL   SELECT * FROM sqlite_temp_master) WHERE name = 'Artist' AND type = 'table'\n",
      "2018-10-11 15:21:03,181 INFO sqlalchemy.engine.base.Engine ()\n",
      "2018-10-11 15:21:03,183 INFO sqlalchemy.engine.base.Engine PRAGMA index_list(\"Artist\")\n",
      "2018-10-11 15:21:03,185 INFO sqlalchemy.engine.base.Engine ()\n",
      "2018-10-11 15:21:03,188 INFO sqlalchemy.engine.base.Engine PRAGMA index_list(\"Artist\")\n",
      "2018-10-11 15:21:03,189 INFO sqlalchemy.engine.base.Engine ()\n",
      "2018-10-11 15:21:03,193 INFO sqlalchemy.engine.base.Engine SELECT sql FROM  (SELECT * FROM sqlite_master UNION ALL   SELECT * FROM sqlite_temp_master) WHERE name = 'Artist' AND type = 'table'\n",
      "2018-10-11 15:21:03,195 INFO sqlalchemy.engine.base.Engine ()\n",
      "2018-10-11 15:21:03,202 INFO sqlalchemy.engine.base.Engine PRAGMA index_list(\"Album\")\n",
      "2018-10-11 15:21:03,204 INFO sqlalchemy.engine.base.Engine ()\n",
      "2018-10-11 15:21:03,207 INFO sqlalchemy.engine.base.Engine PRAGMA index_list(\"Album\")\n",
      "2018-10-11 15:21:03,209 INFO sqlalchemy.engine.base.Engine ()\n",
      "2018-10-11 15:21:03,212 INFO sqlalchemy.engine.base.Engine SELECT sql FROM  (SELECT * FROM sqlite_master UNION ALL   SELECT * FROM sqlite_temp_master) WHERE name = 'Album' AND type = 'table'\n",
      "2018-10-11 15:21:03,214 INFO sqlalchemy.engine.base.Engine ()\n",
      "2018-10-11 15:21:03,217 INFO sqlalchemy.engine.base.Engine PRAGMA table_info(\"Genre\")\n",
      "2018-10-11 15:21:03,219 INFO sqlalchemy.engine.base.Engine ()\n",
      "2018-10-11 15:21:03,222 INFO sqlalchemy.engine.base.Engine SELECT sql FROM  (SELECT * FROM sqlite_master UNION ALL   SELECT * FROM sqlite_temp_master) WHERE name = 'Genre' AND type = 'table'\n",
      "2018-10-11 15:21:03,224 INFO sqlalchemy.engine.base.Engine ()\n",
      "2018-10-11 15:21:03,227 INFO sqlalchemy.engine.base.Engine PRAGMA foreign_key_list(\"Genre\")\n",
      "2018-10-11 15:21:03,229 INFO sqlalchemy.engine.base.Engine ()\n",
      "2018-10-11 15:21:03,232 INFO sqlalchemy.engine.base.Engine SELECT sql FROM  (SELECT * FROM sqlite_master UNION ALL   SELECT * FROM sqlite_temp_master) WHERE name = 'Genre' AND type = 'table'\n",
      "2018-10-11 15:21:03,234 INFO sqlalchemy.engine.base.Engine ()\n",
      "2018-10-11 15:21:03,237 INFO sqlalchemy.engine.base.Engine PRAGMA index_list(\"Genre\")\n",
      "2018-10-11 15:21:03,239 INFO sqlalchemy.engine.base.Engine ()\n",
      "2018-10-11 15:21:03,242 INFO sqlalchemy.engine.base.Engine PRAGMA index_list(\"Genre\")\n",
      "2018-10-11 15:21:03,244 INFO sqlalchemy.engine.base.Engine ()\n",
      "2018-10-11 15:21:03,247 INFO sqlalchemy.engine.base.Engine SELECT sql FROM  (SELECT * FROM sqlite_master UNION ALL   SELECT * FROM sqlite_temp_master) WHERE name = 'Genre' AND type = 'table'\n",
      "2018-10-11 15:21:03,249 INFO sqlalchemy.engine.base.Engine ()\n",
      "2018-10-11 15:21:03,252 INFO sqlalchemy.engine.base.Engine PRAGMA table_info(\"Track\")\n",
      "2018-10-11 15:21:03,254 INFO sqlalchemy.engine.base.Engine ()\n",
      "2018-10-11 15:21:03,257 INFO sqlalchemy.engine.base.Engine SELECT sql FROM  (SELECT * FROM sqlite_master UNION ALL   SELECT * FROM sqlite_temp_master) WHERE name = 'Track' AND type = 'table'\n",
      "2018-10-11 15:21:03,259 INFO sqlalchemy.engine.base.Engine ()\n",
      "2018-10-11 15:21:03,262 INFO sqlalchemy.engine.base.Engine PRAGMA foreign_key_list(\"Track\")\n",
      "2018-10-11 15:21:03,264 INFO sqlalchemy.engine.base.Engine ()\n",
      "2018-10-11 15:21:03,267 INFO sqlalchemy.engine.base.Engine SELECT sql FROM  (SELECT * FROM sqlite_master UNION ALL   SELECT * FROM sqlite_temp_master) WHERE name = 'Track' AND type = 'table'\n",
      "2018-10-11 15:21:03,268 INFO sqlalchemy.engine.base.Engine ()\n",
      "2018-10-11 15:21:03,271 INFO sqlalchemy.engine.base.Engine PRAGMA index_list(\"Track\")\n",
      "2018-10-11 15:21:03,273 INFO sqlalchemy.engine.base.Engine ()\n",
      "2018-10-11 15:21:03,275 INFO sqlalchemy.engine.base.Engine PRAGMA index_list(\"Track\")\n",
      "2018-10-11 15:21:03,277 INFO sqlalchemy.engine.base.Engine ()\n",
      "2018-10-11 15:21:03,279 INFO sqlalchemy.engine.base.Engine SELECT sql FROM  (SELECT * FROM sqlite_master UNION ALL   SELECT * FROM sqlite_temp_master) WHERE name = 'Track' AND type = 'table'\n",
      "2018-10-11 15:21:03,281 INFO sqlalchemy.engine.base.Engine ()\n",
      "2018-10-11 15:21:03,284 INFO sqlalchemy.engine.base.Engine PRAGMA table_info(\"addresses\")\n",
      "2018-10-11 15:21:03,287 INFO sqlalchemy.engine.base.Engine ()\n",
      "2018-10-11 15:21:03,290 INFO sqlalchemy.engine.base.Engine SELECT sql FROM  (SELECT * FROM sqlite_master UNION ALL   SELECT * FROM sqlite_temp_master) WHERE name = 'addresses' AND type = 'table'\n",
      "2018-10-11 15:21:03,292 INFO sqlalchemy.engine.base.Engine ()\n",
      "2018-10-11 15:21:03,297 INFO sqlalchemy.engine.base.Engine PRAGMA foreign_key_list(\"addresses\")\n",
      "2018-10-11 15:21:03,299 INFO sqlalchemy.engine.base.Engine ()\n",
      "2018-10-11 15:21:03,302 INFO sqlalchemy.engine.base.Engine SELECT sql FROM  (SELECT * FROM sqlite_master UNION ALL   SELECT * FROM sqlite_temp_master) WHERE name = 'addresses' AND type = 'table'\n",
      "2018-10-11 15:21:03,303 INFO sqlalchemy.engine.base.Engine ()\n",
      "2018-10-11 15:21:03,305 INFO sqlalchemy.engine.base.Engine PRAGMA table_info(\"users\")\n",
      "2018-10-11 15:21:03,307 INFO sqlalchemy.engine.base.Engine ()\n",
      "2018-10-11 15:21:03,311 INFO sqlalchemy.engine.base.Engine SELECT sql FROM  (SELECT * FROM sqlite_master UNION ALL   SELECT * FROM sqlite_temp_master) WHERE name = 'users' AND type = 'table'\n",
      "2018-10-11 15:21:03,312 INFO sqlalchemy.engine.base.Engine ()\n",
      "2018-10-11 15:21:03,315 INFO sqlalchemy.engine.base.Engine PRAGMA foreign_key_list(\"users\")\n",
      "2018-10-11 15:21:03,316 INFO sqlalchemy.engine.base.Engine ()\n",
      "2018-10-11 15:21:03,318 INFO sqlalchemy.engine.base.Engine SELECT sql FROM  (SELECT * FROM sqlite_master UNION ALL   SELECT * FROM sqlite_temp_master) WHERE name = 'users' AND type = 'table'\n",
      "2018-10-11 15:21:03,320 INFO sqlalchemy.engine.base.Engine ()\n",
      "2018-10-11 15:21:03,322 INFO sqlalchemy.engine.base.Engine PRAGMA index_list(\"users\")\n",
      "2018-10-11 15:21:03,323 INFO sqlalchemy.engine.base.Engine ()\n",
      "2018-10-11 15:21:03,326 INFO sqlalchemy.engine.base.Engine PRAGMA index_list(\"users\")\n",
      "2018-10-11 15:21:03,328 INFO sqlalchemy.engine.base.Engine ()\n",
      "2018-10-11 15:21:03,330 INFO sqlalchemy.engine.base.Engine SELECT sql FROM  (SELECT * FROM sqlite_master UNION ALL   SELECT * FROM sqlite_temp_master) WHERE name = 'users' AND type = 'table'\n",
      "2018-10-11 15:21:03,333 INFO sqlalchemy.engine.base.Engine ()\n"
     ]
    },
    {
     "name": "stdout",
     "output_type": "stream",
     "text": [
      "2018-10-11 15:21:03,335 INFO sqlalchemy.engine.base.Engine PRAGMA index_list(\"addresses\")\n",
      "2018-10-11 15:21:03,338 INFO sqlalchemy.engine.base.Engine ()\n",
      "2018-10-11 15:21:03,342 INFO sqlalchemy.engine.base.Engine PRAGMA index_list(\"addresses\")\n",
      "2018-10-11 15:21:03,346 INFO sqlalchemy.engine.base.Engine ()\n",
      "2018-10-11 15:21:03,349 INFO sqlalchemy.engine.base.Engine SELECT sql FROM  (SELECT * FROM sqlite_master UNION ALL   SELECT * FROM sqlite_temp_master) WHERE name = 'addresses' AND type = 'table'\n",
      "2018-10-11 15:21:03,351 INFO sqlalchemy.engine.base.Engine ()\n"
     ]
    }
   ],
   "source": [
    "Base.prepare(engine, reflect = True) # reflect = true -> flag에 따라 DB 불러옴."
   ]
  },
  {
   "cell_type": "code",
   "execution_count": 7,
   "metadata": {
    "collapsed": true
   },
   "outputs": [],
   "source": [
    "from sqlalchemy.orm import sessionmaker"
   ]
  },
  {
   "cell_type": "code",
   "execution_count": 8,
   "metadata": {
    "collapsed": true
   },
   "outputs": [],
   "source": [
    "Session = sessionmaker(bind = engine) # engine binding한 세션"
   ]
  },
  {
   "cell_type": "code",
   "execution_count": 9,
   "metadata": {
    "collapsed": true
   },
   "outputs": [],
   "source": [
    "session = Session()  #세션 생성 -> DB를 수정.변경 할 수 있도록 해줌."
   ]
  },
  {
   "cell_type": "code",
   "execution_count": 10,
   "metadata": {
    "collapsed": true
   },
   "outputs": [],
   "source": [
    "artist = Base.classes.Artist # automap_base()로 불러온 db의 Artist 테이블"
   ]
  },
  {
   "cell_type": "code",
   "execution_count": 11,
   "metadata": {},
   "outputs": [
    {
     "data": {
      "text/plain": [
       "<sqlalchemy.orm.attributes.InstrumentedAttribute at 0x29f7bda5d58>"
      ]
     },
     "execution_count": 11,
     "metadata": {},
     "output_type": "execute_result"
    }
   ],
   "source": [
    "artist.name"
   ]
  },
  {
   "cell_type": "code",
   "execution_count": 12,
   "metadata": {
    "collapsed": true
   },
   "outputs": [],
   "source": [
    "result = session.query(artist) # 실행 했는데 바로 출력이 안되네??"
   ]
  },
  {
   "cell_type": "code",
   "execution_count": 13,
   "metadata": {
    "scrolled": false
   },
   "outputs": [
    {
     "data": {
      "text/plain": [
       "sqlalchemy.orm.query.Query"
      ]
     },
     "execution_count": 13,
     "metadata": {},
     "output_type": "execute_result"
    }
   ],
   "source": [
    "type(result) # Query 클래스 객체이다."
   ]
  },
  {
   "cell_type": "code",
   "execution_count": 14,
   "metadata": {},
   "outputs": [
    {
     "name": "stdout",
     "output_type": "stream",
     "text": [
      "2018-10-11 15:21:11,991 INFO sqlalchemy.engine.base.Engine BEGIN (implicit)\n",
      "2018-10-11 15:21:11,998 INFO sqlalchemy.engine.base.Engine SELECT \"Artist\".id AS \"Artist_id\", \"Artist\".name AS \"Artist_name\" \n",
      "FROM \"Artist\"\n",
      "2018-10-11 15:21:12,004 INFO sqlalchemy.engine.base.Engine ()\n",
      "<sqlalchemy.ext.automap.Artist object at 0x0000029F7BE05588>\n",
      "<sqlalchemy.ext.automap.Artist object at 0x0000029F7BE056A0>\n"
     ]
    }
   ],
   "source": [
    "for row in result:\n",
    "    print(row)\n",
    "#바로 출력이 안되는 이유는 instance로 갖고왔지만 우리가 못보는 것일뿐"
   ]
  },
  {
   "cell_type": "code",
   "execution_count": 15,
   "metadata": {
    "scrolled": true
   },
   "outputs": [
    {
     "name": "stdout",
     "output_type": "stream",
     "text": [
      "2018-10-11 15:21:12,856 INFO sqlalchemy.engine.base.Engine SELECT \"Artist\".id AS \"Artist_id\", \"Artist\".name AS \"Artist_name\" \n",
      "FROM \"Artist\"\n",
      "2018-10-11 15:21:12,862 INFO sqlalchemy.engine.base.Engine ()\n",
      "1 Led Zepplin\n",
      "2 AC/DC\n"
     ]
    }
   ],
   "source": [
    "for row in result:\n",
    "    print(row.id, row.name) #그래서 클래스 형식으로 값을 접근해서 볼 수 있다."
   ]
  },
  {
   "cell_type": "code",
   "execution_count": 44,
   "metadata": {
    "collapsed": true
   },
   "outputs": [],
   "source": [
    "from sqlalchemy.orm import relationship\n",
    "from sqlalchemy import Column, Integer, String, ForeignKey"
   ]
  },
  {
   "cell_type": "code",
   "execution_count": 45,
   "metadata": {
    "collapsed": true
   },
   "outputs": [],
   "source": [
    "engine = create_engine(\"sqlite:///test_relationship.db\", echo=True)"
   ]
  },
  {
   "cell_type": "code",
   "execution_count": 46,
   "metadata": {
    "collapsed": true
   },
   "outputs": [],
   "source": [
    "Base = declarative_base()\n",
    "#Base = declarative_base() #비어있는 base 만듬"
   ]
  },
  {
   "cell_type": "code",
   "execution_count": 47,
   "metadata": {
    "collapsed": true
   },
   "outputs": [],
   "source": [
    "class Artist(Base):\n",
    "    __tablename__ = \"artist\"\n",
    "    \n",
    "    id = Column(Integer, primary_key=True)\n",
    "    name = Column(String)\n",
    "    album = relationship(\"Album\", back_populates = \"artist\")\n",
    "    \n",
    "    def __repr__(self):\n",
    "        return \"<T'artist(name='%s')>\" % (self.name)\n",
    "    \n",
    "class Album(Base):\n",
    "    __tablename__ = \"album\"\n",
    "    \n",
    "    id = Column(Integer, primary_key=True)\n",
    "    title = Column(String)\n",
    "    artist_id = Column(Integer, ForeignKey(\"artist.id\"))\n",
    "    artist = relationship(\"Artist\", back_populates = \"album\")\n",
    "\n",
    "class Genre(Base):\n",
    "    __tablename__ = \"genre\"\n",
    "    \n",
    "    id = Column(Integer, primary_key=True)\n",
    "    name = Column(String)\n",
    "    \n",
    "class Track(Base):\n",
    "    __tablename__ = \"track\"\n",
    "    \n",
    "    id = Column(Integer, primary_key=True)\n",
    "    title = Column(String)\n",
    "    album_id = Column(Integer, ForeignKey(\"album.id\"))\n",
    "    genre_id = Column(Integer, ForeignKey(\"genre.id\"))\n",
    "    \n",
    "# relationship은  DB의 JOIN을 할 필요 없이, JOIN문 처럼 relationship을 형성할 수 있도록 해준다."
   ]
  },
  {
   "cell_type": "code",
   "execution_count": 48,
   "metadata": {
    "scrolled": true
   },
   "outputs": [
    {
     "name": "stdout",
     "output_type": "stream",
     "text": [
      "2018-10-11 15:34:40,592 INFO sqlalchemy.engine.base.Engine SELECT CAST('test plain returns' AS VARCHAR(60)) AS anon_1\n",
      "2018-10-11 15:34:40,597 INFO sqlalchemy.engine.base.Engine ()\n",
      "2018-10-11 15:34:40,605 INFO sqlalchemy.engine.base.Engine SELECT CAST('test unicode returns' AS VARCHAR(60)) AS anon_1\n",
      "2018-10-11 15:34:40,610 INFO sqlalchemy.engine.base.Engine ()\n",
      "2018-10-11 15:34:40,616 INFO sqlalchemy.engine.base.Engine PRAGMA table_info(\"artist\")\n",
      "2018-10-11 15:34:40,620 INFO sqlalchemy.engine.base.Engine ()\n",
      "2018-10-11 15:34:40,627 INFO sqlalchemy.engine.base.Engine PRAGMA table_info(\"album\")\n",
      "2018-10-11 15:34:40,630 INFO sqlalchemy.engine.base.Engine ()\n",
      "2018-10-11 15:34:40,636 INFO sqlalchemy.engine.base.Engine PRAGMA table_info(\"genre\")\n",
      "2018-10-11 15:34:40,640 INFO sqlalchemy.engine.base.Engine ()\n",
      "2018-10-11 15:34:40,643 INFO sqlalchemy.engine.base.Engine PRAGMA table_info(\"track\")\n",
      "2018-10-11 15:34:40,645 INFO sqlalchemy.engine.base.Engine ()\n",
      "2018-10-11 15:34:40,649 INFO sqlalchemy.engine.base.Engine \n",
      "CREATE TABLE artist (\n",
      "\tid INTEGER NOT NULL, \n",
      "\tname VARCHAR, \n",
      "\tPRIMARY KEY (id)\n",
      ")\n",
      "\n",
      "\n",
      "2018-10-11 15:34:40,651 INFO sqlalchemy.engine.base.Engine ()\n",
      "2018-10-11 15:34:40,667 INFO sqlalchemy.engine.base.Engine COMMIT\n",
      "2018-10-11 15:34:40,669 INFO sqlalchemy.engine.base.Engine \n",
      "CREATE TABLE genre (\n",
      "\tid INTEGER NOT NULL, \n",
      "\tname VARCHAR, \n",
      "\tPRIMARY KEY (id)\n",
      ")\n",
      "\n",
      "\n",
      "2018-10-11 15:34:40,671 INFO sqlalchemy.engine.base.Engine ()\n",
      "2018-10-11 15:34:40,683 INFO sqlalchemy.engine.base.Engine COMMIT\n",
      "2018-10-11 15:34:40,685 INFO sqlalchemy.engine.base.Engine \n",
      "CREATE TABLE album (\n",
      "\tid INTEGER NOT NULL, \n",
      "\ttitle VARCHAR, \n",
      "\tartist_id INTEGER, \n",
      "\tPRIMARY KEY (id), \n",
      "\tFOREIGN KEY(artist_id) REFERENCES artist (id)\n",
      ")\n",
      "\n",
      "\n",
      "2018-10-11 15:34:40,687 INFO sqlalchemy.engine.base.Engine ()\n",
      "2018-10-11 15:34:40,697 INFO sqlalchemy.engine.base.Engine COMMIT\n",
      "2018-10-11 15:34:40,701 INFO sqlalchemy.engine.base.Engine \n",
      "CREATE TABLE track (\n",
      "\tid INTEGER NOT NULL, \n",
      "\ttitle VARCHAR, \n",
      "\talbum_id INTEGER, \n",
      "\tgenre_id INTEGER, \n",
      "\tPRIMARY KEY (id), \n",
      "\tFOREIGN KEY(album_id) REFERENCES album (id), \n",
      "\tFOREIGN KEY(genre_id) REFERENCES genre (id)\n",
      ")\n",
      "\n",
      "\n",
      "2018-10-11 15:34:40,703 INFO sqlalchemy.engine.base.Engine ()\n",
      "2018-10-11 15:34:40,711 INFO sqlalchemy.engine.base.Engine COMMIT\n"
     ]
    }
   ],
   "source": [
    "Base.metadata.create_all(engine) \n",
    "# metadata 생성 -> engine에 데이터베이스를 연결할 수 있도록 해준다. "
   ]
  },
  {
   "cell_type": "code",
   "execution_count": 49,
   "metadata": {
    "collapsed": true
   },
   "outputs": [],
   "source": [
    "artist1 = Artist(name = 'Led zeppelin') \n",
    "artist2 = Artist(name = 'AC/DC')\n",
    "\n",
    "# Artist 테이블 객체 생성"
   ]
  },
  {
   "cell_type": "code",
   "execution_count": 50,
   "metadata": {
    "collapsed": true
   },
   "outputs": [],
   "source": [
    "artist1.album = [Album(title=\"IV\"), Album(title = \"Who Made Who\")]\n",
    "# artist1의 album attribute에 넣는다."
   ]
  },
  {
   "cell_type": "code",
   "execution_count": 51,
   "metadata": {
    "collapsed": true
   },
   "outputs": [],
   "source": [
    "Session = sessionmaker(bind = engine) # engine binding한 세션"
   ]
  },
  {
   "cell_type": "code",
   "execution_count": 52,
   "metadata": {
    "collapsed": true
   },
   "outputs": [],
   "source": [
    "session = Session()  #세션 생성 -> DB를 수정.변경 할 수 있도록 해줌. "
   ]
  },
  {
   "cell_type": "code",
   "execution_count": 53,
   "metadata": {
    "collapsed": true,
    "scrolled": true
   },
   "outputs": [],
   "source": [
    "session.add(artist1) # session에 위에서 만든 artist 객체 추가"
   ]
  },
  {
   "cell_type": "code",
   "execution_count": 54,
   "metadata": {},
   "outputs": [
    {
     "data": {
      "text/plain": [
       "<sqlalchemy.orm.session.Session at 0x29f7c20b9b0>"
      ]
     },
     "execution_count": 54,
     "metadata": {},
     "output_type": "execute_result"
    }
   ],
   "source": [
    "session"
   ]
  },
  {
   "cell_type": "code",
   "execution_count": 55,
   "metadata": {
    "scrolled": true
   },
   "outputs": [
    {
     "name": "stdout",
     "output_type": "stream",
     "text": [
      "2018-10-11 15:34:53,198 INFO sqlalchemy.engine.base.Engine BEGIN (implicit)\n",
      "2018-10-11 15:34:53,206 INFO sqlalchemy.engine.base.Engine INSERT INTO artist (name) VALUES (?)\n",
      "2018-10-11 15:34:53,211 INFO sqlalchemy.engine.base.Engine ('Led zeppelin',)\n",
      "2018-10-11 15:34:53,223 INFO sqlalchemy.engine.base.Engine INSERT INTO album (title, artist_id) VALUES (?, ?)\n",
      "2018-10-11 15:34:53,227 INFO sqlalchemy.engine.base.Engine ('IV', 1)\n",
      "2018-10-11 15:34:53,232 INFO sqlalchemy.engine.base.Engine INSERT INTO album (title, artist_id) VALUES (?, ?)\n",
      "2018-10-11 15:34:53,235 INFO sqlalchemy.engine.base.Engine ('Who Made Who', 1)\n",
      "2018-10-11 15:34:53,240 INFO sqlalchemy.engine.base.Engine SELECT artist.id AS artist_id, artist.name AS artist_name \n",
      "FROM artist\n",
      "2018-10-11 15:34:53,242 INFO sqlalchemy.engine.base.Engine ()\n",
      "Led zeppelin [<__main__.Album object at 0x0000029F77AB79E8>, <__main__.Album object at 0x0000029F7C053978>]\n"
     ]
    }
   ],
   "source": [
    "for row in session.query(Artist).all(): # 세션 내에서의 데이터를 query를 통해 도출\n",
    "    print(row.name, row.album)"
   ]
  },
  {
   "cell_type": "code",
   "execution_count": 56,
   "metadata": {
    "scrolled": false
   },
   "outputs": [
    {
     "name": "stdout",
     "output_type": "stream",
     "text": [
      "2018-10-11 15:35:33,023 INFO sqlalchemy.engine.base.Engine COMMIT\n"
     ]
    }
   ],
   "source": [
    "session.commit() # 위에서 session에 추가했던 데이터를 commit하면 실제 DB에 update해준다."
   ]
  }
 ],
 "metadata": {
  "kernelspec": {
   "display_name": "Python 3",
   "language": "python",
   "name": "python3"
  },
  "language_info": {
   "codemirror_mode": {
    "name": "ipython",
    "version": 3
   },
   "file_extension": ".py",
   "mimetype": "text/x-python",
   "name": "python",
   "nbconvert_exporter": "python",
   "pygments_lexer": "ipython3",
   "version": "3.6.3"
  }
 },
 "nbformat": 4,
 "nbformat_minor": 2
}
