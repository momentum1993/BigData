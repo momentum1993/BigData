{
 "cells": [
  {
   "cell_type": "markdown",
   "metadata": {},
   "source": [
    "\n",
    "Taxi Fare"
   ]
  },
  {
   "cell_type": "code",
   "execution_count": 10,
   "metadata": {},
   "outputs": [
    {
     "name": "stdout",
     "output_type": "stream",
     "text": [
      "택시로 운행할 거리 : 0.14\n",
      "4.25\n"
     ]
    }
   ],
   "source": [
    "\n",
    "def taxi_fare(x):\n",
    "    a = x*1000\n",
    "    cost = 4\n",
    "    cost += 0.25 * (a // 140)\n",
    "    return cost\n",
    "\n",
    "\n",
    "inp = input(\"택시로 운행할 거리 : \")\n",
    "print(taxi_fare(float(inp)))"
   ]
  },
  {
   "cell_type": "markdown",
   "metadata": {},
   "source": [
    "Median of Three Values"
   ]
  },
  {
   "cell_type": "code",
   "execution_count": 12,
   "metadata": {},
   "outputs": [
    {
     "name": "stdout",
     "output_type": "stream",
     "text": [
      "첫째 숫자: 1\n",
      "둘째 숫자: 5\n",
      "셋째 숫자: 3\n",
      "median값은  3\n"
     ]
    }
   ],
   "source": [
    "def median(a,b,c):\n",
    "    a_list = []\n",
    "    a_list.append(a)\n",
    "    a_list.append(b)\n",
    "    a_list.append(c)\n",
    "    a_list.sort()\n",
    "    return a_list[1]\n",
    "\n",
    "a = input(\"첫째 숫자: \")\n",
    "b = input(\"둘째 숫자: \")\n",
    "c = input(\"셋째 숫자: \")\n",
    "\n",
    "print(\"median값은 \",median(a,b,c))"
   ]
  },
  {
   "cell_type": "markdown",
   "metadata": {},
   "source": [
    "Convert an Integer to its Ordinal Number"
   ]
  },
  {
   "cell_type": "code",
   "execution_count": 5,
   "metadata": {},
   "outputs": [
    {
     "name": "stdout",
     "output_type": "stream",
     "text": [
      "정수를 1~12까지 입력해주세요 : 11\n",
      "eleventh\n"
     ]
    }
   ],
   "source": [
    "def ordinal_number(x):\n",
    "    a_list = [\"first\", \"second\", \"third\", \"fourth\", \"fifth\", \"sixth\", \"seventh\", \"eighth\", \"nineth\", \"tenth\", \"eleventh\", \"twelfth\"]\n",
    "    try:\n",
    "        a_list[x-1]\n",
    "    except:\n",
    "        return \"\"\n",
    "    return a_list[x-1]\n",
    "\n",
    "a = input(\"정수를 1~12까지 입력해주세요 : \")\n",
    "answer = ordinal_number(int(a))\n",
    "\n",
    "print(answer)"
   ]
  },
  {
   "cell_type": "markdown",
   "metadata": {},
   "source": [
    "Is it a Valid Triangle?"
   ]
  },
  {
   "cell_type": "code",
   "execution_count": 4,
   "metadata": {},
   "outputs": [
    {
     "name": "stdout",
     "output_type": "stream",
     "text": [
      "첫째 숫자: 1\n",
      "둘째 숫자: 3\n",
      "셋째 숫자: 5\n",
      "삼각형이 될 수 없습니다.\n"
     ]
    }
   ],
   "source": [
    "def valid_triangle(a,b,c):\n",
    "    flag = False\n",
    "    a_list = []\n",
    "    a_list.append(a)\n",
    "    a_list.append(b)\n",
    "    a_list.append(c)\n",
    "    a_list.sort()\n",
    "    if float(a_list[2]) < (float(a_list[0]) + float(a_list[1])):\n",
    "        flag = True\n",
    "    return flag\n",
    "\n",
    "a = float(input(\"첫째 숫자: \"))\n",
    "b = float(input(\"둘째 숫자: \"))\n",
    "c = float(input(\"셋째 숫자: \"))\n",
    "\n",
    "if valid_triangle(a,b,c):\n",
    "    print(\"삼각형이 될 수 있습니다.\")\n",
    "else:\n",
    "    print(\"삼각형이 될 수 없습니다.\")"
   ]
  },
  {
   "cell_type": "markdown",
   "metadata": {},
   "source": [
    "##### Is a Number Prime?"
   ]
  },
  {
   "cell_type": "code",
   "execution_count": 3,
   "metadata": {},
   "outputs": [
    {
     "name": "stdout",
     "output_type": "stream",
     "text": [
      "숫자를 입력해주세요 : 4\n",
      "소수가 아닙니다\n"
     ]
    }
   ],
   "source": [
    "def is_prime(x):\n",
    "    flag = True\n",
    "    for i in range(2,x):\n",
    "        if x % i == 0:\n",
    "            flag = False\n",
    "            break\n",
    "    return flag\n",
    "\n",
    "a = int(input(\"숫자를 입력해주세요 : \"))\n",
    "if is_prime(a):\n",
    "    print(\"소수입니다.\")\n",
    "else:\n",
    "    print(\"소수가 아닙니다\")"
   ]
  },
  {
   "cell_type": "markdown",
   "metadata": {},
   "source": [
    "The Twelve Days of Christmas"
   ]
  },
  {
   "cell_type": "code",
   "execution_count": 3,
   "metadata": {},
   "outputs": [
    {
     "name": "stdout",
     "output_type": "stream",
     "text": [
      "숫자를 입력해주세요: 2\n",
      "On the first day of Christmas \n",
      "my true love sent to me:\n",
      "A Partridge in a Pear Tree\n",
      "\n",
      "On the second day of Christmas \n",
      "my true love sent to me:\n",
      "Two Turtle Doves\n",
      "And a Partridge in a Pear Tree\n",
      "\n"
     ]
    }
   ],
   "source": [
    "def twelve_days_of_christmas(x):\n",
    "    a_list = [\"first\", \"second\", \"third\", \"fourth\", \"fifth\", \"sixth\", \"seventh\", \"eighth\", \"nineth\", \"tenth\", \"eleventh\", \"twelfth\"]\n",
    "    b_list = [\"Partridge in a Pear Tree\",\"Two Turtle Doves\", \"Three French Hens\", \"Four Calling Birds\", \"Five Golden Rings\",\n",
    "              \"Six Geese a Laying\", \"Seven Swans a Swimming\",\"Eight Maids a Milking\", \"Nine Ladies Dancing\", \"Ten Lords a Leaping\",\n",
    "              \"Eleven Pipers Piping\", \"Twelve Drummers Drumming\"]\n",
    "    lyrics = \"\"\n",
    "    lyrics += \"On the \"+ a_list[x-1] +\" day of Christmas \\nmy true love sent to me:\\n\"\n",
    "    num = x\n",
    "    while num != 0:\n",
    "        num -= 1\n",
    "        if num == 0 and x == 1:\n",
    "            lyrics += \"A \"+b_list[num] + '\\n'\n",
    "        elif num == 0 and x != 1:\n",
    "            lyrics += \"And a \" +b_list[num] + '\\n'\n",
    "        else:\n",
    "            lyrics += b_list[num] + '\\n'\n",
    "    return lyrics\n",
    "\n",
    "a = int(input(\"숫자를 입력해주세요: \"))\n",
    "for i in range(1,a+1):\n",
    "    print(twelve_days_of_christmas(i))"
   ]
  },
  {
   "cell_type": "code",
   "execution_count": null,
   "metadata": {
    "collapsed": true
   },
   "outputs": [],
   "source": []
  }
 ],
 "metadata": {
  "kernelspec": {
   "display_name": "Python 3",
   "language": "python",
   "name": "python3"
  },
  "language_info": {
   "codemirror_mode": {
    "name": "ipython",
    "version": 3
   },
   "file_extension": ".py",
   "mimetype": "text/x-python",
   "name": "python",
   "nbconvert_exporter": "python",
   "pygments_lexer": "ipython3",
   "version": "3.6.3"
  }
 },
 "nbformat": 4,
 "nbformat_minor": 2
}
