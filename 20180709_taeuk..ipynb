{
 "cells": [
  {
   "cell_type": "markdown",
   "metadata": {},
   "source": [
    "Two Dice Simulation"
   ]
  },
  {
   "cell_type": "code",
   "execution_count": 15,
   "metadata": {},
   "outputs": [
    {
     "name": "stdout",
     "output_type": "stream",
     "text": [
      "Total\t Simulated Percent\t Expected Percent\n",
      "2 \t      0.70 \t\t    2.78\n",
      "3 \t      1.70 \t\t    5.56\n",
      "4 \t      1.30 \t\t    8.33\n",
      "5 \t      2.40 \t\t    11.11\n",
      "6 \t      3.20 \t\t    13.89\n",
      "7 \t      4.60 \t\t    16.67\n",
      "8 \t      4.70 \t\t    13.89\n",
      "9 \t      5.90 \t\t    11.11\n",
      "10 \t      6.60 \t\t    8.33\n",
      "11 \t      7.30 \t\t    5.56\n",
      "12 \t      7.60 \t\t    2.78\n"
     ]
    }
   ],
   "source": [
    "from random import *\n",
    "\n",
    "def rolling_dice():\n",
    "    dice_num = {}\n",
    "    expected_per = [2.78, 5.56, 8.33, 11.11, 13.89, 16.67, 13.89, 11.11, 8.33, 5.56, 2.78]\n",
    "    \n",
    "    for i in range(1000):\n",
    "        a1 = randint(1,12)\n",
    "        b1 = randint(1,12)\n",
    "        \n",
    "        try:\n",
    "            dice_num[a1+b1]\n",
    "        except:\n",
    "            dice_num[a1+b1] = 1\n",
    "        else:\n",
    "            dice_num[a1+b1] = dice_num[a1+b1] + 1\n",
    "    \n",
    "    print(\"Total\\t Simulated Percent\\t Expected Percent\")\n",
    "    for j in range(2,13):\n",
    "        print(j,\"\\t     \", \"{0:.2f}\".format(dice_num[j]/10),\"\\t\\t   \", expected_per[j-2])\n",
    "        \n",
    "rolling_dice()\n",
    "        \n",
    "        "
   ]
  },
  {
   "cell_type": "markdown",
   "metadata": {},
   "source": [
    "Text Messaging"
   ]
  },
  {
   "cell_type": "code",
   "execution_count": 17,
   "metadata": {},
   "outputs": [
    {
     "name": "stdout",
     "output_type": "stream",
     "text": [
      "Text :hello, world!\n",
      "output:  4433555555666110966677755531111\n"
     ]
    }
   ],
   "source": [
    "a = input(\"Text :\")\n",
    "\n",
    "text_dic = {\".\":\"1\", \",\":\"11\", \"?\":\"111\", \"!\":\"1111\", \":\":\"11111\", \"A\":\"2\", \"B\":\"22\", \"C\":\"222\", \"D\":\"3\", \"E\":\"33\", \"F\":\"333\", \"G\":\"4\", \"H\":\"44\", \"I\":\"444\", \"J\":\"5\",\"K\":\"55\",\"L\":\"555\", \"M\":\"6\",\"N\":\"66\",\"O\":\"666\", \"P\":\"7\",\"Q\":\"77\", \"R\":\"777\", \"S\":\"7777\", \"T\":\"8\", \"U\":\"88\", \"V\":\"888\", \"W\":\"9\", \"X\":\"99\",\"Y\":\"999\",\"Z\":\"9999\", \" \":\"0\" }\n",
    "a = a.upper()\n",
    "b = \"\"\n",
    "for i in range(0, len(a)):\n",
    "    b += text_dic[a[i]]\n",
    "print(\"output: \", b)"
   ]
  },
  {
   "cell_type": "markdown",
   "metadata": {},
   "source": [
    "Morse Code"
   ]
  },
  {
   "cell_type": "code",
   "execution_count": 19,
   "metadata": {},
   "outputs": [
    {
     "name": "stdout",
     "output_type": "stream",
     "text": [
      "Text :Hello, World!\n",
      "output:  .... . .-.. .-.. --- .-- --- .-. .-.. -.. \n"
     ]
    }
   ],
   "source": [
    "a = input(\"Text :\")\n",
    "\n",
    "text_dic = {\"A\":\".-\", \"B\":\"-...\", \"C\":\"-.-.\", \"D\":\"-..\", \"E\":\".\", \"F\":\"..-.\", \"G\":\"--.\", \"H\":\"....\", \"I\":\"..\", \"J\":\".---\",\"K\":\"-.-\",\"L\":\".-..\", \"M\":\"--\",\"N\":\"-.\",\"O\":\"---\", \"P\":\".--.\",\"Q\":\"--.-\", \"R\":\".-.\", \"S\":\"...\", \"T\":\"-\", \"U\":\"..-\", \"V\":\"...-\", \"W\":\".--\", \"X\":\"-..-\",\"Y\":\"-.--\",\"Z\":\"--..\", \"0\":\"-----\", \"1\":\"..---\", \"2\":\"...--\", \"3\":\"...--\", \"4\":\"....-\", \"5\":\".....\", \"6\":\"-....\", \"7\":\"--...\",\"8\":\"---..\",\"9\":\"----.\" }\n",
    "a = a.upper()\n",
    "b = \"\"\n",
    "for i in range(0, len(a)):\n",
    "    try:\n",
    "        b += text_dic[a[i]] + \" \"\n",
    "    except:\n",
    "        pass\n",
    "print(\"output: \", b)"
   ]
  },
  {
   "cell_type": "markdown",
   "metadata": {},
   "source": [
    "Postal Codes"
   ]
  },
  {
   "cell_type": "code",
   "execution_count": 24,
   "metadata": {},
   "outputs": [
    {
     "name": "stdout",
     "output_type": "stream",
     "text": [
      "Text :T2N 1N4\n",
      "output:  the postal code is for an urban address in Alberta Territories\n"
     ]
    }
   ],
   "source": [
    "a = input(\"Text :\")\n",
    "\n",
    "text_dic = {\"A\":\"Newfoundland\", \"B\":\"Nova Scotia\", \"C\":\"Prince Edward Island\", \"E\":\"New Brunswick\", \"G\":\"Quebec\", \"H\":\"Quebec\", \"J\":\"Quebec\",\"K\":\"Ontario\",\"L\":\"Ontario\", \"M\":\"Ontario\",\"N\":\"Ontario\",\"P\":\"Ontario\" ,\"R\":\"Manitoba\", \"S\":\"Saskatchewan\", \"T\":\"Alberta\", \"V\":\"British Columbia\", \"X\":\"Nunavut or Northwest Territories\",\"Y\":\"Yukon\"}\n",
    "num_dic = {\"0\" : \"rural\"}\n",
    "a = a.upper()\n",
    "b = \"the postal code is for an \"\n",
    "c = \"\"\n",
    "for i in range(0, 2):\n",
    "    if i == 0:\n",
    "        try:\n",
    "            c += text_dic[a[i]] + \" Territories\"\n",
    "        except:\n",
    "            print(\"error!!!\")\n",
    "    else:\n",
    "        try:\n",
    "            b += num_dic[a[i]]\n",
    "        except:\n",
    "            b += \"urban\"\n",
    "        finally:\n",
    "            b += \" address in \"\n",
    "if C != \"\":\n",
    "    print(\"output: \", b+c) "
   ]
  },
  {
   "cell_type": "code",
   "execution_count": 27,
   "metadata": {},
   "outputs": [
    {
     "name": "stdout",
     "output_type": "stream",
     "text": [
      "Text :Z3P\n",
      "error!!!\n"
     ]
    }
   ],
   "source": [
    "a = input(\"Text :\")\n",
    "\n",
    "text_dic = {\"A\":\"Newfoundland\", \"B\":\"Nova Scotia\", \"C\":\"Prince Edward Island\", \"E\":\"New Brunswick\", \"G\":\"Quebec\", \"H\":\"Quebec\", \"J\":\"Quebec\",\"K\":\"Ontario\",\"L\":\"Ontario\", \"M\":\"Ontario\",\"N\":\"Ontario\",\"P\":\"Ontario\" ,\"R\":\"Manitoba\", \"S\":\"Saskatchewan\", \"T\":\"Alberta\", \"V\":\"British Columbia\", \"X\":\"Nunavut or Northwest Territories\",\"Y\":\"Yukon\"}\n",
    "num_dic = {\"0\" : \"rural\"}\n",
    "a = a.upper()\n",
    "b = \"the postal code is for an \"\n",
    "c = \"\"\n",
    "for i in range(0, 2):\n",
    "    if i == 0:\n",
    "        try:\n",
    "            c += text_dic[a[i]] + \" Territories\"\n",
    "        except:\n",
    "            print(\"error!!!\")\n",
    "    else:\n",
    "        try:\n",
    "            b += num_dic[a[i]]\n",
    "        except:\n",
    "            b += \"urban\"\n",
    "        finally:\n",
    "            b += \" address in \"\n",
    "if c != \"\":\n",
    "    print(\"output: \", b+c) "
   ]
  }
 ],
 "metadata": {
  "kernelspec": {
   "display_name": "Python 3",
   "language": "python",
   "name": "python3"
  },
  "language_info": {
   "codemirror_mode": {
    "name": "ipython",
    "version": 3
   },
   "file_extension": ".py",
   "mimetype": "text/x-python",
   "name": "python",
   "nbconvert_exporter": "python",
   "pygments_lexer": "ipython3",
   "version": "3.6.3"
  }
 },
 "nbformat": 4,
 "nbformat_minor": 2
}
